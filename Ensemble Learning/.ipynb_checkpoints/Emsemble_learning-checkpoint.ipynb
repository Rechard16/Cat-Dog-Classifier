{
 "cells": [
  {
   "cell_type": "code",
   "execution_count": 1,
   "metadata": {
    "pycharm": {
     "is_executing": true
    }
   },
   "outputs": [],
   "source": [
    "import keras.optimizers\n",
    "import tensorflow as tf\n",
    "from tensorflow.keras.models import Sequential\n",
    "from tensorflow.keras import layers, Model\n",
    "from tensorflow.keras.layers import Dense, Dropout, Activation, Flatten, Conv2D, MaxPooling2D, BatchNormalization, Layer,add,Input,concatenate\n",
    "from tensorflow.keras import regularizers\n",
    "from tensorflow.keras.utils import plot_model\n",
    "import pickle\n",
    "import numpy as np\n",
    "from tensorflow.keras.layers import Lambda"
   ]
  },
  {
   "cell_type": "code",
   "execution_count": 2,
   "metadata": {},
   "outputs": [],
   "source": [
    "def create_model():\n",
    "    inputl=Input(shape=(128,128,1))\n",
    "\n",
    "    x=Conv2D(96,(3,3),padding=\"same\")(inputl)\n",
    "    x=Activation(\"relu\")(x)\n",
    "    x=MaxPooling2D(pool_size=(2,2))(x)\n",
    "\n",
    "    x=Conv2D(72,(3,3),padding=\"same\")(x)\n",
    "    x=Activation(\"relu\")(x)\n",
    "    x=MaxPooling2D(pool_size=(2,2))(x)\n",
    "\n",
    "    x1=Conv2D(72,(3,3),padding=\"same\")(x)\n",
    "    x1=Activation(\"relu\")(x1)\n",
    "    x1=MaxPooling2D(pool_size=(2,2))(x1)\n",
    "\n",
    "    x2=Conv2D(32,(5,5),padding=\"same\")(x)\n",
    "    x2=Activation(\"relu\")(x2)\n",
    "    x2=MaxPooling2D(pool_size=(2,2))(x2)\n",
    "\n",
    "    x3=Conv2D(32,(7,7),padding=\"same\")(x)\n",
    "    x3=Activation(\"relu\")(x3)\n",
    "    x3=MaxPooling2D(pool_size=(2,2))(x3)\n",
    "\n",
    "    x=concatenate([x1,x2,x3],axis=3)\n",
    "\n",
    "    x=Flatten()(x)\n",
    "\n",
    "    x=Dense(84, activation=\"relu\",kernel_regularizer=regularizers.l2(l=0.001),bias_regularizer=regularizers.l2(l=0.001))(x)\n",
    "    x=Dropout(0.3)(x)\n",
    "    x=Dense(128, activation=\"relu\",kernel_regularizer=regularizers.l2(l=0.001),bias_regularizer=regularizers.l2(l=0.001))(x)\n",
    "    x=Dropout(0.5)(x)\n",
    "    x=Dense(128, activation=\"relu\",kernel_regularizer=regularizers.l2(l=0.001),bias_regularizer=regularizers.l2(l=0.001))(x)\n",
    "    x=Dropout(0.3)(x)\n",
    "    outputl=Dense(1,activation=\"sigmoid\")(x)\n",
    "    model=Model(inputs=inputl,outputs=outputl)\n",
    "    opt= tf.keras.optimizers.Adam(learning_rate=0.0002)\n",
    "    model.compile(loss=\"binary_crossentropy\",\n",
    "                  optimizer=opt,\n",
    "                  metrics=[\"accuracy\",tf.keras.metrics.AUC(name='auc'),tf.keras.metrics.Precision(name='precision'),tf.keras.metrics.Recall(name='recall')])\n",
    "    return model"
   ]
  },
  {
   "cell_type": "code",
   "execution_count": 3,
   "metadata": {},
   "outputs": [],
   "source": [
    "model0=create_model()"
   ]
  },
  {
   "cell_type": "code",
   "execution_count": 4,
   "metadata": {},
   "outputs": [],
   "source": [
    "X_train0=pickle.load(open(\"X_train_sub0\",\"rb\"))\n",
    "y_train0=pickle.load(open(\"y_train_sub0\",\"rb\"))"
   ]
  },
  {
   "cell_type": "code",
   "execution_count": 5,
   "metadata": {},
   "outputs": [],
   "source": [
    "X_train0=X_train0/255.0"
   ]
  },
  {
   "cell_type": "code",
   "execution_count": 6,
   "metadata": {},
   "outputs": [
    {
     "data": {
      "text/plain": [
       "(28976, 128, 128, 1)"
      ]
     },
     "execution_count": 6,
     "metadata": {},
     "output_type": "execute_result"
    }
   ],
   "source": [
    "X_train0.shape"
   ]
  },
  {
   "cell_type": "code",
   "execution_count": null,
   "metadata": {},
   "outputs": [
    {
     "name": "stdout",
     "output_type": "stream",
     "text": [
      "Epoch 1/50\n",
      "725/725 [==============================] - 32s 34ms/step - loss: 0.8120 - accuracy: 0.5205 - auc: 0.5261 - precision: 0.5265 - recall: 0.3245 - val_loss: 0.7207 - val_accuracy: 0.5818 - val_auc: 0.6326 - val_precision: 0.6111 - val_recall: 0.4609\n",
      "Epoch 2/50\n",
      "725/725 [==============================] - 22s 31ms/step - loss: 0.6737 - accuracy: 0.6405 - auc: 0.6898 - precision: 0.6451 - recall: 0.6105 - val_loss: 0.6143 - val_accuracy: 0.7110 - val_auc: 0.7848 - val_precision: 0.6914 - val_recall: 0.7672\n",
      "Epoch 3/50\n",
      "725/725 [==============================] - 22s 30ms/step - loss: 0.5767 - accuracy: 0.7331 - auc: 0.8048 - precision: 0.7359 - recall: 0.7200 - val_loss: 0.5166 - val_accuracy: 0.7738 - val_auc: 0.8604 - val_precision: 0.7493 - val_recall: 0.8262\n",
      "Epoch 4/50\n",
      "725/725 [==============================] - 23s 31ms/step - loss: 0.5146 - accuracy: 0.7786 - auc: 0.8541 - precision: 0.7886 - recall: 0.7560 - val_loss: 0.4873 - val_accuracy: 0.7940 - val_auc: 0.8739 - val_precision: 0.8126 - val_recall: 0.7668\n",
      "Epoch 5/50\n",
      " 35/725 [>.............................] - ETA: 18s - loss: 0.5015 - accuracy: 0.7902 - auc: 0.8681 - precision: 0.8060 - recall: 0.7673"
     ]
    }
   ],
   "source": [
    "his0=model0.fit(X_train0,y_train0,epochs=50,batch_size=32,validation_split=0.2)"
   ]
  },
  {
   "cell_type": "code",
   "execution_count": null,
   "metadata": {},
   "outputs": [],
   "source": [
    "model.save_weights(\"model0.h5\")"
   ]
  },
  {
   "cell_type": "code",
   "execution_count": null,
   "metadata": {},
   "outputs": [],
   "source": []
  }
 ],
 "metadata": {
  "kernelspec": {
   "display_name": "Python 3 (ipykernel)",
   "language": "python",
   "name": "python3"
  },
  "language_info": {
   "codemirror_mode": {
    "name": "ipython",
    "version": 3
   },
   "file_extension": ".py",
   "mimetype": "text/x-python",
   "name": "python",
   "nbconvert_exporter": "python",
   "pygments_lexer": "ipython3",
   "version": "3.9.16"
  }
 },
 "nbformat": 4,
 "nbformat_minor": 1
}
