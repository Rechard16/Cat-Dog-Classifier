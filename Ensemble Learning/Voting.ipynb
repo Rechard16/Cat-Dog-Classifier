{
 "cells": [
  {
   "cell_type": "code",
   "execution_count": 3,
   "outputs": [],
   "source": [
    "# Voting Improve"
   ],
   "metadata": {
    "collapsed": false
   }
  },
  {
   "cell_type": "code",
   "execution_count": 4,
   "outputs": [],
   "source": [
    "import pandas as pd\n",
    "import pickle\n",
    "import numpy as np\n",
    "import tensorflow as tf\n",
    "from tensorflow.keras.layers import Input,Conv2D,MaxPooling2D,Dropout,Flatten,Dense,Activation,concatenate\n",
    "from tensorflow.keras import regularizers\n",
    "from tensorflow.keras.models import Model\n",
    "from sklearn.metrics import confusion_matrix\n",
    "import matplotlib.pyplot as plt\n",
    "import seaborn as sns"
   ],
   "metadata": {
    "collapsed": false
   }
  },
  {
   "cell_type": "code",
   "execution_count": 5,
   "outputs": [],
   "source": [
    "X_train=pickle.load(open(\"X_train\",\"rb\"))\n",
    "X_test=pickle.load(open(\"X_test\",\"rb\"))\n",
    "y_train=pickle.load(open(\"y_train\",\"rb\"))\n",
    "y_test=pickle.load(open(\"y_test\",\"rb\"))"
   ],
   "metadata": {
    "collapsed": false
   }
  },
  {
   "cell_type": "code",
   "execution_count": 6,
   "outputs": [],
   "source": [
    "def create_model():\n",
    "    inputl=Input(shape=(128,128,1))\n",
    "\n",
    "    x=Conv2D(96,(3,3),padding=\"same\")(inputl)\n",
    "    x=Activation(\"relu\")(x)\n",
    "    x=MaxPooling2D(pool_size=(2,2))(x)\n",
    "    x=Dropout(0.3)(x)\n",
    "\n",
    "    x=Conv2D(72,(3,3),padding=\"same\")(x)\n",
    "    x=Activation(\"relu\")(x)\n",
    "    x=MaxPooling2D(pool_size=(2,2))(x)\n",
    "    x=Dropout(0.3)(x)\n",
    "\n",
    "    x1=Conv2D(72,(3,3),padding=\"same\")(x)\n",
    "    x1=Activation(\"relu\")(x1)\n",
    "    x1=MaxPooling2D(pool_size=(2,2))(x1)\n",
    "    x1=Dropout(0.3)(x1)\n",
    "    x2=Conv2D(32,(5,5),padding=\"same\")(x)\n",
    "    x2=Activation(\"relu\")(x2)\n",
    "    x2=MaxPooling2D(pool_size=(2,2))(x2)\n",
    "    x2=Dropout(.3)(x2)\n",
    "    x3=Conv2D(32,(7,7),padding=\"same\")(x)\n",
    "    x3=Activation(\"relu\")(x3)\n",
    "    x3=MaxPooling2D(pool_size=(2,2))(x3)\n",
    "    x3=Dropout(0.3)(x3)\n",
    "\n",
    "    x=concatenate([x1,x2,x3],axis=3)\n",
    "\n",
    "    x=Flatten()(x)\n",
    "\n",
    "    x=Dense(84, activation=\"relu\",kernel_regularizer=regularizers.l2(l=0.001),bias_regularizer=regularizers.l2(l=0.001))(x)\n",
    "    x=Dropout(0.3)(x)\n",
    "    x=Dense(128, activation=\"relu\",kernel_regularizer=regularizers.l2(l=0.001),bias_regularizer=regularizers.l2(l=0.001))(x)\n",
    "    x=Dropout(0.5)(x)\n",
    "    x=Dense(128, activation=\"relu\",kernel_regularizer=regularizers.l2(l=0.001),bias_regularizer=regularizers.l2(l=0.001))(x)\n",
    "    x=Dropout(0.3)(x)\n",
    "    outputl=Dense(1,activation=\"sigmoid\")(x)\n",
    "    model=Model(inputs=inputl,outputs=outputl)\n",
    "    opt= tf.keras.optimizers.Adam(learning_rate=0.0002)\n",
    "    model.compile(loss=\"binary_crossentropy\",\n",
    "                  optimizer=opt,\n",
    "                  metrics=[\"accuracy\",tf.keras.metrics.AUC(name='auc'),tf.keras.metrics.Precision(name='precision'),tf.keras.metrics.Recall(name='recall')])\n",
    "    return model\n",
    "model_f=create_model()"
   ],
   "metadata": {
    "collapsed": false
   }
  },
  {
   "cell_type": "code",
   "execution_count": 7,
   "outputs": [],
   "source": [
    "predict_result_train=[]\n",
    "predict_result_test=[]"
   ],
   "metadata": {
    "collapsed": false
   }
  },
  {
   "cell_type": "code",
   "execution_count": 8,
   "outputs": [],
   "source": [
    "model_f.load_weights('difker_3020e.h5')\n",
    "predict_result_train.append(model_f.predict(X_train))\n",
    "predict_result_test.append(model_f.predict(X_test))"
   ],
   "metadata": {
    "collapsed": false
   }
  },
  {
   "cell_type": "code",
   "execution_count": 9,
   "outputs": [],
   "source": [
    "def create_model():\n",
    "    inputl=Input(shape=(128,128,1))\n",
    "\n",
    "    x=Conv2D(96,(3,3),padding=\"same\")(inputl)\n",
    "    x=Activation(\"relu\")(x)\n",
    "    x=MaxPooling2D(pool_size=(2,2))(x)\n",
    "\n",
    "    x=Conv2D(72,(3,3),padding=\"same\")(x)\n",
    "    x=Activation(\"relu\")(x)\n",
    "    x=MaxPooling2D(pool_size=(2,2))(x)\n",
    "\n",
    "    x1=Conv2D(72,(3,3),padding=\"same\")(x)\n",
    "    x1=Activation(\"relu\")(x1)\n",
    "    x1=MaxPooling2D(pool_size=(2,2))(x1)\n",
    "\n",
    "    x2=Conv2D(32,(5,5),padding=\"same\")(x)\n",
    "    x2=Activation(\"relu\")(x2)\n",
    "    x2=MaxPooling2D(pool_size=(2,2))(x2)\n",
    "\n",
    "    x3=Conv2D(32,(7,7),padding=\"same\")(x)\n",
    "    x3=Activation(\"relu\")(x3)\n",
    "    x3=MaxPooling2D(pool_size=(2,2))(x3)\n",
    "\n",
    "    x=concatenate([x1,x2,x3],axis=3)\n",
    "\n",
    "    x=Flatten()(x)\n",
    "\n",
    "    x=Dense(84, activation=\"relu\",kernel_regularizer=regularizers.l2(l=0.001),bias_regularizer=regularizers.l2(l=0.001))(x)\n",
    "    x=Dropout(0.3)(x)\n",
    "    x=Dense(128, activation=\"relu\",kernel_regularizer=regularizers.l2(l=0.001),bias_regularizer=regularizers.l2(l=0.001))(x)\n",
    "    x=Dropout(0.5)(x)\n",
    "    x=Dense(128, activation=\"relu\",kernel_regularizer=regularizers.l2(l=0.001),bias_regularizer=regularizers.l2(l=0.001))(x)\n",
    "    x=Dropout(0.3)(x)\n",
    "    outputl=Dense(1,activation=\"sigmoid\")(x)\n",
    "    model=Model(inputs=inputl,outputs=outputl)\n",
    "    opt= tf.keras.optimizers.Adam(learning_rate=0.0002)\n",
    "    model.compile(loss=\"binary_crossentropy\",\n",
    "                  optimizer=opt,\n",
    "                  metrics=[\"accuracy\",tf.keras.metrics.AUC(name='auc'),tf.keras.metrics.Precision(name='precision'),tf.keras.metrics.Recall(name='recall')])\n",
    "    return model"
   ],
   "metadata": {
    "collapsed": false
   }
  },
  {
   "cell_type": "code",
   "execution_count": 10,
   "outputs": [],
   "source": [
    "for i in range(10):\n",
    "    model=create_model()\n",
    "    model.load_weights('model'+str(i)+'.h5')\n",
    "    predict_result_train.append(model.predict(X_train))\n",
    "    predict_result_test.append(model.predict(X_test))"
   ],
   "metadata": {
    "collapsed": false
   }
  },
  {
   "cell_type": "code",
   "execution_count": 11,
   "outputs": [],
   "source": [
    "predict_result_train=np.array(predict_result_train)\n",
    "predict_result_test=np.array(predict_result_test)"
   ],
   "metadata": {
    "collapsed": false
   }
  },
  {
   "cell_type": "code",
   "execution_count": 12,
   "outputs": [
    {
     "data": {
      "text/plain": "(11, 36228, 1)"
     },
     "execution_count": 12,
     "metadata": {},
     "output_type": "execute_result"
    }
   ],
   "source": [
    "predict_result_train.shape"
   ],
   "metadata": {
    "collapsed": false
   }
  },
  {
   "cell_type": "code",
   "execution_count": 13,
   "outputs": [],
   "source": [
    "predict_result_train=predict_result_train.reshape(11,36228)"
   ],
   "metadata": {
    "collapsed": false
   }
  },
  {
   "cell_type": "code",
   "execution_count": 14,
   "outputs": [
    {
     "data": {
      "text/plain": "(11, 9057, 1)"
     },
     "execution_count": 14,
     "metadata": {},
     "output_type": "execute_result"
    }
   ],
   "source": [
    "predict_result_test.shape"
   ],
   "metadata": {
    "collapsed": false
   }
  },
  {
   "cell_type": "code",
   "execution_count": 15,
   "outputs": [],
   "source": [
    "predict_result_test=predict_result_test.reshape(11,9057)"
   ],
   "metadata": {
    "collapsed": false
   }
  },
  {
   "cell_type": "code",
   "execution_count": 16,
   "outputs": [
    {
     "data": {
      "text/plain": "(36228, 11)"
     },
     "execution_count": 16,
     "metadata": {},
     "output_type": "execute_result"
    }
   ],
   "source": [
    "predict_result_train=np.transpose(predict_result_train)\n",
    "predict_result_train.shape"
   ],
   "metadata": {
    "collapsed": false
   }
  },
  {
   "cell_type": "code",
   "execution_count": 17,
   "outputs": [
    {
     "data": {
      "text/plain": "(9057, 11)"
     },
     "execution_count": 17,
     "metadata": {},
     "output_type": "execute_result"
    }
   ],
   "source": [
    "predict_result_test=np.transpose(predict_result_test)\n",
    "predict_result_test.shape"
   ],
   "metadata": {
    "collapsed": false
   }
  },
  {
   "cell_type": "code",
   "execution_count": 18,
   "outputs": [],
   "source": [
    "pickle_out=open(\"predict_result_train\",\"wb\")\n",
    "pickle.dump(predict_result_train,pickle_out)\n",
    "pickle_out.close()\n",
    "\n",
    "pickle_out=open(\"predict_result_test\",\"wb\")\n",
    "pickle.dump(predict_result_test,pickle_out)\n",
    "pickle_out.close()"
   ],
   "metadata": {
    "collapsed": false
   }
  },
  {
   "cell_type": "code",
   "execution_count": 34,
   "outputs": [],
   "source": [
    "def vote_model():\n",
    "    inputl=Input(shape=(11,))\n",
    "    x=Dense(128, activation=\"relu\",kernel_regularizer=regularizers.l2(l=0.001),bias_regularizer=regularizers.l2(l=0.001))(inputl)\n",
    "    x=Dropout(0.5)(x)\n",
    "    outputl=Dense(1,activation=\"sigmoid\")(inputl)\n",
    "    model=Model(inputs=inputl,outputs=outputl)\n",
    "    opt= tf.keras.optimizers.Adam(learning_rate=0.0002)\n",
    "    model.compile(loss=\"binary_crossentropy\",\n",
    "                  optimizer=opt,\n",
    "                  metrics=[\"accuracy\",tf.keras.metrics.AUC(name='auc'),tf.keras.metrics.Precision(name='precision'),tf.keras.metrics.Recall(name='recall')])\n",
    "    return model"
   ],
   "metadata": {
    "collapsed": false
   }
  },
  {
   "cell_type": "code",
   "execution_count": 35,
   "outputs": [],
   "source": [
    "vote=vote_model()"
   ],
   "metadata": {
    "collapsed": false
   }
  },
  {
   "cell_type": "code",
   "execution_count": 36,
   "outputs": [
    {
     "name": "stdout",
     "output_type": "stream",
     "text": [
      "Epoch 1/10\n",
      "3623/3623 [==============================] - 9s 2ms/step - loss: 0.9004 - accuracy: 0.4006 - auc: 0.4245 - precision: 0.4139 - recall: 0.5050 - val_loss: 0.6303 - val_accuracy: 0.6804 - val_auc: 0.8151 - val_precision: 0.6158 - val_recall: 0.9684\n",
      "Epoch 2/10\n",
      "3623/3623 [==============================] - 9s 2ms/step - loss: 0.4715 - accuracy: 0.7906 - auc: 0.9643 - precision: 0.7051 - recall: 0.9923 - val_loss: 0.4859 - val_accuracy: 0.7868 - val_auc: 0.9050 - val_precision: 0.7201 - val_recall: 0.9420\n",
      "Epoch 3/10\n",
      "3623/3623 [==============================] - 8s 2ms/step - loss: 0.3238 - accuracy: 0.8990 - auc: 0.9816 - precision: 0.8413 - recall: 0.9813 - val_loss: 0.4178 - val_accuracy: 0.8237 - val_auc: 0.9082 - val_precision: 0.7838 - val_recall: 0.8966\n",
      "Epoch 4/10\n",
      "3623/3623 [==============================] - 8s 2ms/step - loss: 0.2516 - accuracy: 0.9252 - auc: 0.9831 - precision: 0.8907 - recall: 0.9678 - val_loss: 0.3943 - val_accuracy: 0.8326 - val_auc: 0.9092 - val_precision: 0.8106 - val_recall: 0.8704\n",
      "Epoch 5/10\n",
      "3623/3623 [==============================] - 9s 2ms/step - loss: 0.2147 - accuracy: 0.9328 - auc: 0.9839 - precision: 0.9106 - recall: 0.9585 - val_loss: 0.3884 - val_accuracy: 0.8345 - val_auc: 0.9105 - val_precision: 0.8203 - val_recall: 0.8590\n",
      "Epoch 6/10\n",
      "3623/3623 [==============================] - 9s 2ms/step - loss: 0.1936 - accuracy: 0.9365 - auc: 0.9846 - precision: 0.9195 - recall: 0.9554 - val_loss: 0.3862 - val_accuracy: 0.8349 - val_auc: 0.9122 - val_precision: 0.8252 - val_recall: 0.8522\n",
      "Epoch 7/10\n",
      "3623/3623 [==============================] - 9s 2ms/step - loss: 0.1805 - accuracy: 0.9388 - auc: 0.9852 - precision: 0.9259 - recall: 0.9527 - val_loss: 0.3888 - val_accuracy: 0.8360 - val_auc: 0.9139 - val_precision: 0.8274 - val_recall: 0.8515\n",
      "Epoch 8/10\n",
      "3623/3623 [==============================] - 8s 2ms/step - loss: 0.1717 - accuracy: 0.9400 - auc: 0.9858 - precision: 0.9281 - recall: 0.9527 - val_loss: 0.3903 - val_accuracy: 0.8367 - val_auc: 0.9145 - val_precision: 0.8304 - val_recall: 0.8485\n",
      "Epoch 9/10\n",
      "3623/3623 [==============================] - 8s 2ms/step - loss: 0.1653 - accuracy: 0.9409 - auc: 0.9862 - precision: 0.9306 - recall: 0.9516 - val_loss: 0.3926 - val_accuracy: 0.8380 - val_auc: 0.9153 - val_precision: 0.8328 - val_recall: 0.8480\n",
      "Epoch 10/10\n",
      "3623/3623 [==============================] - 9s 2ms/step - loss: 0.1604 - accuracy: 0.9421 - auc: 0.9865 - precision: 0.9331 - recall: 0.9514 - val_loss: 0.3938 - val_accuracy: 0.8388 - val_auc: 0.9159 - val_precision: 0.8358 - val_recall: 0.8454\n"
     ]
    },
    {
     "data": {
      "text/plain": "<keras.callbacks.History at 0x2c374312970>"
     },
     "execution_count": 36,
     "metadata": {},
     "output_type": "execute_result"
    }
   ],
   "source": [
    "vote.fit(predict_result_train,y_train,epochs=10,batch_size=10,validation_data=(predict_result_test,y_test))"
   ],
   "metadata": {
    "collapsed": false
   }
  },
  {
   "cell_type": "markdown",
   "source": [
    "It seems that the neural network still does not change much.\n",
    "It may be the problem of the 10 underfitting models."
   ],
   "metadata": {
    "collapsed": false
   }
  },
  {
   "cell_type": "code",
   "execution_count": null,
   "outputs": [],
   "source": [],
   "metadata": {
    "collapsed": false
   }
  }
 ],
 "metadata": {
  "kernelspec": {
   "display_name": "Python 3",
   "language": "python",
   "name": "python3"
  },
  "language_info": {
   "codemirror_mode": {
    "name": "ipython",
    "version": 2
   },
   "file_extension": ".py",
   "mimetype": "text/x-python",
   "name": "python",
   "nbconvert_exporter": "python",
   "pygments_lexer": "ipython2",
   "version": "2.7.6"
  }
 },
 "nbformat": 4,
 "nbformat_minor": 0
}
