{
 "cells": [
  {
   "cell_type": "code",
   "execution_count": 1,
   "metadata": {},
   "outputs": [],
   "source": [
    "import keras.optimizers\n",
    "import tensorflow as tf\n",
    "from tensorflow.keras.models import Sequential\n",
    "from tensorflow.keras import layers, Model\n",
    "from tensorflow.keras.layers import Dense, Dropout, Activation, Flatten, Conv2D, MaxPooling2D, BatchNormalization, Layer,add,Input,concatenate\n",
    "from tensorflow.keras import regularizers\n",
    "from tensorflow.keras.utils import plot_model\n",
    "import pickle\n",
    "import numpy as np\n",
    "from tensorflow.keras.layers import Lambda"
   ]
  },
  {
   "cell_type": "code",
   "execution_count": 2,
   "metadata": {},
   "outputs": [],
   "source": [
    "def create_model():\n",
    "    inputl=Input(shape=(128,128,1))\n",
    "\n",
    "    x=Conv2D(96,(3,3),padding=\"same\")(inputl)\n",
    "    x=Activation(\"relu\")(x)\n",
    "    x=MaxPooling2D(pool_size=(2,2))(x)\n",
    "\n",
    "    x=Conv2D(72,(3,3),padding=\"same\")(x)\n",
    "    x=Activation(\"relu\")(x)\n",
    "    x=MaxPooling2D(pool_size=(2,2))(x)\n",
    "\n",
    "    x1=Conv2D(72,(3,3),padding=\"same\")(x)\n",
    "    x1=Activation(\"relu\")(x1)\n",
    "    x1=MaxPooling2D(pool_size=(2,2))(x1)\n",
    "\n",
    "    x2=Conv2D(32,(5,5),padding=\"same\")(x)\n",
    "    x2=Activation(\"relu\")(x2)\n",
    "    x2=MaxPooling2D(pool_size=(2,2))(x2)\n",
    "\n",
    "    x3=Conv2D(32,(7,7),padding=\"same\")(x)\n",
    "    x3=Activation(\"relu\")(x3)\n",
    "    x3=MaxPooling2D(pool_size=(2,2))(x3)\n",
    "\n",
    "    x=concatenate([x1,x2,x3],axis=3)\n",
    "\n",
    "    x=Flatten()(x)\n",
    "\n",
    "    x=Dense(84, activation=\"relu\",kernel_regularizer=regularizers.l2(l=0.001),bias_regularizer=regularizers.l2(l=0.001))(x)\n",
    "    x=Dropout(0.3)(x)\n",
    "    x=Dense(128, activation=\"relu\",kernel_regularizer=regularizers.l2(l=0.001),bias_regularizer=regularizers.l2(l=0.001))(x)\n",
    "    x=Dropout(0.5)(x)\n",
    "    x=Dense(128, activation=\"relu\",kernel_regularizer=regularizers.l2(l=0.001),bias_regularizer=regularizers.l2(l=0.001))(x)\n",
    "    x=Dropout(0.3)(x)\n",
    "    outputl=Dense(1,activation=\"sigmoid\")(x)\n",
    "    model=Model(inputs=inputl,outputs=outputl)\n",
    "    opt= tf.keras.optimizers.Adam(learning_rate=0.0002)\n",
    "    model.compile(loss=\"binary_crossentropy\",\n",
    "                  optimizer=opt,\n",
    "                  metrics=[\"accuracy\",tf.keras.metrics.AUC(name='auc'),tf.keras.metrics.Precision(name='precision'),tf.keras.metrics.Recall(name='recall')])\n",
    "    return model"
   ]
  },
  {
   "cell_type": "code",
   "execution_count": 31,
   "metadata": {},
   "outputs": [],
   "source": [
    "his=[]"
   ]
  },
  {
   "cell_type": "code",
   "execution_count": 3,
   "metadata": {},
   "outputs": [],
   "source": [
    "model0=create_model()"
   ]
  },
  {
   "cell_type": "code",
   "execution_count": 3,
   "metadata": {},
   "outputs": [],
   "source": [
    "X_train0=pickle.load(open(\"X_train_sub0\",\"rb\"))\n",
    "y_train0=pickle.load(open(\"y_train_sub0\",\"rb\"))\n",
    "X_test=pickle.load(open(\"X_test\",\"rb\"))/255.0\n",
    "y_test=pickle.load(open(\"y_test\",\"rb\"))"
   ]
  },
  {
   "cell_type": "code",
   "execution_count": 5,
   "metadata": {},
   "outputs": [],
   "source": [
    "X_train0=X_train0/255.0"
   ]
  },
  {
   "cell_type": "code",
   "execution_count": 6,
   "metadata": {},
   "outputs": [
    {
     "data": {
      "text/plain": [
       "(28976, 128, 128, 1)"
      ]
     },
     "execution_count": 6,
     "metadata": {},
     "output_type": "execute_result"
    }
   ],
   "source": [
    "X_train0.shape"
   ]
  },
  {
   "cell_type": "code",
   "execution_count": 7,
   "metadata": {},
   "outputs": [
    {
     "name": "stdout",
     "output_type": "stream",
     "text": [
      "Epoch 1/50\n",
      "725/725 [==============================] - 32s 34ms/step - loss: 0.8120 - accuracy: 0.5205 - auc: 0.5261 - precision: 0.5265 - recall: 0.3245 - val_loss: 0.7207 - val_accuracy: 0.5818 - val_auc: 0.6326 - val_precision: 0.6111 - val_recall: 0.4609\n",
      "Epoch 2/50\n",
      "725/725 [==============================] - 22s 31ms/step - loss: 0.6737 - accuracy: 0.6405 - auc: 0.6898 - precision: 0.6451 - recall: 0.6105 - val_loss: 0.6143 - val_accuracy: 0.7110 - val_auc: 0.7848 - val_precision: 0.6914 - val_recall: 0.7672\n",
      "Epoch 3/50\n",
      "725/725 [==============================] - 22s 30ms/step - loss: 0.5767 - accuracy: 0.7331 - auc: 0.8048 - precision: 0.7359 - recall: 0.7200 - val_loss: 0.5166 - val_accuracy: 0.7738 - val_auc: 0.8604 - val_precision: 0.7493 - val_recall: 0.8262\n",
      "Epoch 4/50\n",
      "725/725 [==============================] - 23s 31ms/step - loss: 0.5146 - accuracy: 0.7786 - auc: 0.8541 - precision: 0.7886 - recall: 0.7560 - val_loss: 0.4873 - val_accuracy: 0.7940 - val_auc: 0.8739 - val_precision: 0.8126 - val_recall: 0.7668\n",
      "Epoch 5/50\n",
      "725/725 [==============================] - 22s 30ms/step - loss: 0.4743 - accuracy: 0.8011 - auc: 0.8812 - precision: 0.8159 - recall: 0.7732 - val_loss: 0.4720 - val_accuracy: 0.8049 - val_auc: 0.8906 - val_precision: 0.8398 - val_recall: 0.7558\n",
      "Epoch 6/50\n",
      "725/725 [==============================] - 22s 30ms/step - loss: 0.4320 - accuracy: 0.8270 - auc: 0.9065 - precision: 0.8426 - recall: 0.8004 - val_loss: 0.4737 - val_accuracy: 0.8059 - val_auc: 0.8961 - val_precision: 0.7821 - val_recall: 0.8506\n",
      "Epoch 7/50\n",
      "725/725 [==============================] - 22s 30ms/step - loss: 0.3931 - accuracy: 0.8528 - auc: 0.9284 - precision: 0.8671 - recall: 0.8302 - val_loss: 0.4442 - val_accuracy: 0.8164 - val_auc: 0.9072 - val_precision: 0.8557 - val_recall: 0.7634\n",
      "Epoch 8/50\n",
      "725/725 [==============================] - 22s 30ms/step - loss: 0.3555 - accuracy: 0.8723 - auc: 0.9460 - precision: 0.8865 - recall: 0.8514 - val_loss: 0.5083 - val_accuracy: 0.8052 - val_auc: 0.9109 - val_precision: 0.7506 - val_recall: 0.9169\n",
      "Epoch 9/50\n",
      "725/725 [==============================] - 23s 31ms/step - loss: 0.3171 - accuracy: 0.8960 - auc: 0.9612 - precision: 0.9076 - recall: 0.8798 - val_loss: 0.4557 - val_accuracy: 0.8368 - val_auc: 0.9174 - val_precision: 0.8444 - val_recall: 0.8276\n",
      "Epoch 10/50\n",
      "725/725 [==============================] - 22s 30ms/step - loss: 0.2852 - accuracy: 0.9126 - auc: 0.9720 - precision: 0.9249 - recall: 0.8963 - val_loss: 0.4783 - val_accuracy: 0.8257 - val_auc: 0.9140 - val_precision: 0.8102 - val_recall: 0.8530\n",
      "Epoch 11/50\n",
      "725/725 [==============================] - 22s 31ms/step - loss: 0.2529 - accuracy: 0.9285 - auc: 0.9809 - precision: 0.9407 - recall: 0.9133 - val_loss: 0.5050 - val_accuracy: 0.8339 - val_auc: 0.9154 - val_precision: 0.8433 - val_recall: 0.8221\n",
      "Epoch 12/50\n",
      "725/725 [==============================] - 23s 31ms/step - loss: 0.2339 - accuracy: 0.9389 - auc: 0.9856 - precision: 0.9510 - recall: 0.9244 - val_loss: 0.5477 - val_accuracy: 0.8349 - val_auc: 0.9160 - val_precision: 0.8472 - val_recall: 0.8190\n",
      "Epoch 13/50\n",
      "725/725 [==============================] - 22s 31ms/step - loss: 0.2114 - accuracy: 0.9497 - auc: 0.9898 - precision: 0.9602 - recall: 0.9373 - val_loss: 0.5419 - val_accuracy: 0.8344 - val_auc: 0.9171 - val_precision: 0.8626 - val_recall: 0.7974\n",
      "Epoch 14/50\n",
      "725/725 [==============================] - 22s 31ms/step - loss: 0.2059 - accuracy: 0.9528 - auc: 0.9909 - precision: 0.9632 - recall: 0.9408 - val_loss: 0.6030 - val_accuracy: 0.8344 - val_auc: 0.9161 - val_precision: 0.8739 - val_recall: 0.7833\n",
      "Epoch 15/50\n",
      "725/725 [==============================] - 22s 31ms/step - loss: 0.1932 - accuracy: 0.9590 - auc: 0.9928 - precision: 0.9699 - recall: 0.9466 - val_loss: 0.6502 - val_accuracy: 0.8269 - val_auc: 0.9144 - val_precision: 0.9005 - val_recall: 0.7370\n",
      "Epoch 16/50\n",
      "725/725 [==============================] - 22s 30ms/step - loss: 0.1814 - accuracy: 0.9651 - auc: 0.9944 - precision: 0.9757 - recall: 0.9534 - val_loss: 0.6032 - val_accuracy: 0.8414 - val_auc: 0.9175 - val_precision: 0.8310 - val_recall: 0.8592\n",
      "Epoch 17/50\n",
      "725/725 [==============================] - 22s 30ms/step - loss: 0.1801 - accuracy: 0.9647 - auc: 0.9945 - precision: 0.9743 - recall: 0.9539 - val_loss: 0.6073 - val_accuracy: 0.8328 - val_auc: 0.9141 - val_precision: 0.8326 - val_recall: 0.8352\n",
      "Epoch 18/50\n",
      "725/725 [==============================] - 23s 32ms/step - loss: 0.1778 - accuracy: 0.9660 - auc: 0.9951 - precision: 0.9759 - recall: 0.9549 - val_loss: 0.5746 - val_accuracy: 0.8332 - val_auc: 0.9148 - val_precision: 0.8617 - val_recall: 0.7957\n",
      "Epoch 19/50\n",
      "725/725 [==============================] - 23s 31ms/step - loss: 0.1741 - accuracy: 0.9683 - auc: 0.9955 - precision: 0.9776 - recall: 0.9580 - val_loss: 0.6048 - val_accuracy: 0.8349 - val_auc: 0.9143 - val_precision: 0.8386 - val_recall: 0.8314\n",
      "Epoch 20/50\n",
      "725/725 [==============================] - 23s 32ms/step - loss: 0.1716 - accuracy: 0.9688 - auc: 0.9957 - precision: 0.9770 - recall: 0.9595 - val_loss: 0.6702 - val_accuracy: 0.8368 - val_auc: 0.9121 - val_precision: 0.8196 - val_recall: 0.8657\n",
      "Epoch 21/50\n",
      "725/725 [==============================] - 22s 31ms/step - loss: 0.1644 - accuracy: 0.9730 - auc: 0.9962 - precision: 0.9811 - recall: 0.9641 - val_loss: 0.6866 - val_accuracy: 0.8368 - val_auc: 0.9102 - val_precision: 0.8212 - val_recall: 0.8630\n",
      "Epoch 22/50\n",
      "725/725 [==============================] - 22s 31ms/step - loss: 0.1660 - accuracy: 0.9720 - auc: 0.9963 - precision: 0.9794 - recall: 0.9637 - val_loss: 0.6990 - val_accuracy: 0.8342 - val_auc: 0.9091 - val_precision: 0.8468 - val_recall: 0.8180\n",
      "Epoch 23/50\n",
      "725/725 [==============================] - 22s 30ms/step - loss: 0.1572 - accuracy: 0.9748 - auc: 0.9970 - precision: 0.9820 - recall: 0.9670 - val_loss: 0.6753 - val_accuracy: 0.8418 - val_auc: 0.9136 - val_precision: 0.8688 - val_recall: 0.8070\n",
      "Epoch 24/50\n",
      "725/725 [==============================] - 22s 30ms/step - loss: 0.1551 - accuracy: 0.9757 - auc: 0.9970 - precision: 0.9834 - recall: 0.9673 - val_loss: 0.6799 - val_accuracy: 0.8421 - val_auc: 0.9133 - val_precision: 0.8522 - val_recall: 0.8297\n",
      "Epoch 25/50\n",
      "725/725 [==============================] - 22s 31ms/step - loss: 0.1521 - accuracy: 0.9777 - auc: 0.9973 - precision: 0.9843 - recall: 0.9706 - val_loss: 0.6448 - val_accuracy: 0.8413 - val_auc: 0.9164 - val_precision: 0.8750 - val_recall: 0.7981\n",
      "Epoch 26/50\n",
      "725/725 [==============================] - 23s 32ms/step - loss: 0.1511 - accuracy: 0.9774 - auc: 0.9975 - precision: 0.9839 - recall: 0.9702 - val_loss: 0.6700 - val_accuracy: 0.8428 - val_auc: 0.9142 - val_precision: 0.8442 - val_recall: 0.8427\n",
      "Epoch 27/50\n",
      "725/725 [==============================] - 22s 31ms/step - loss: 0.1483 - accuracy: 0.9777 - auc: 0.9977 - precision: 0.9847 - recall: 0.9701 - val_loss: 0.6469 - val_accuracy: 0.8392 - val_auc: 0.9136 - val_precision: 0.8430 - val_recall: 0.8355\n",
      "Epoch 28/50\n",
      "725/725 [==============================] - 23s 31ms/step - loss: 0.1510 - accuracy: 0.9775 - auc: 0.9973 - precision: 0.9827 - recall: 0.9717 - val_loss: 0.6454 - val_accuracy: 0.8278 - val_auc: 0.9114 - val_precision: 0.8013 - val_recall: 0.8740\n",
      "Epoch 29/50\n",
      "725/725 [==============================] - 22s 31ms/step - loss: 0.1477 - accuracy: 0.9786 - auc: 0.9976 - precision: 0.9831 - recall: 0.9736 - val_loss: 0.6663 - val_accuracy: 0.8399 - val_auc: 0.9138 - val_precision: 0.8304 - val_recall: 0.8561\n",
      "Epoch 30/50\n",
      "725/725 [==============================] - 22s 30ms/step - loss: 0.1457 - accuracy: 0.9794 - auc: 0.9978 - precision: 0.9854 - recall: 0.9728 - val_loss: 0.6726 - val_accuracy: 0.8371 - val_auc: 0.9105 - val_precision: 0.8470 - val_recall: 0.8249\n",
      "Epoch 31/50\n",
      "725/725 [==============================] - 23s 31ms/step - loss: 0.1433 - accuracy: 0.9805 - auc: 0.9979 - precision: 0.9852 - recall: 0.9753 - val_loss: 0.6957 - val_accuracy: 0.8356 - val_auc: 0.9097 - val_precision: 0.8600 - val_recall: 0.8036\n",
      "Epoch 32/50\n",
      "725/725 [==============================] - 23s 31ms/step - loss: 0.1391 - accuracy: 0.9816 - auc: 0.9984 - precision: 0.9870 - recall: 0.9757 - val_loss: 0.7430 - val_accuracy: 0.8342 - val_auc: 0.9077 - val_precision: 0.8042 - val_recall: 0.8856\n"
     ]
    },
    {
     "name": "stdout",
     "output_type": "stream",
     "text": [
      "Epoch 33/50\n",
      "725/725 [==============================] - 22s 30ms/step - loss: 0.1354 - accuracy: 0.9827 - auc: 0.9983 - precision: 0.9873 - recall: 0.9778 - val_loss: 0.7060 - val_accuracy: 0.8395 - val_auc: 0.9105 - val_precision: 0.8279 - val_recall: 0.8592\n",
      "Epoch 34/50\n",
      "725/725 [==============================] - 22s 31ms/step - loss: 0.1335 - accuracy: 0.9830 - auc: 0.9986 - precision: 0.9868 - recall: 0.9788 - val_loss: 0.7303 - val_accuracy: 0.8440 - val_auc: 0.9069 - val_precision: 0.8356 - val_recall: 0.8585\n",
      "Epoch 35/50\n",
      "725/725 [==============================] - 22s 31ms/step - loss: 0.1337 - accuracy: 0.9825 - auc: 0.9984 - precision: 0.9865 - recall: 0.9782 - val_loss: 0.7799 - val_accuracy: 0.8297 - val_auc: 0.9039 - val_precision: 0.7948 - val_recall: 0.8911\n",
      "Epoch 36/50\n",
      "725/725 [==============================] - 22s 30ms/step - loss: 0.1349 - accuracy: 0.9817 - auc: 0.9984 - precision: 0.9863 - recall: 0.9766 - val_loss: 0.8045 - val_accuracy: 0.8354 - val_auc: 0.9001 - val_precision: 0.8075 - val_recall: 0.8829\n",
      "Epoch 37/50\n",
      "725/725 [==============================] - 23s 31ms/step - loss: 0.1337 - accuracy: 0.9817 - auc: 0.9982 - precision: 0.9859 - recall: 0.9770 - val_loss: 0.6754 - val_accuracy: 0.8411 - val_auc: 0.9134 - val_precision: 0.8403 - val_recall: 0.8441\n",
      "Epoch 38/50\n",
      "725/725 [==============================] - 23s 32ms/step - loss: 0.1269 - accuracy: 0.9850 - auc: 0.9987 - precision: 0.9891 - recall: 0.9805 - val_loss: 0.7124 - val_accuracy: 0.8366 - val_auc: 0.9081 - val_precision: 0.8401 - val_recall: 0.8334\n",
      "Epoch 39/50\n",
      "725/725 [==============================] - 22s 31ms/step - loss: 0.1263 - accuracy: 0.9847 - auc: 0.9987 - precision: 0.9893 - recall: 0.9797 - val_loss: 0.6864 - val_accuracy: 0.8295 - val_auc: 0.9085 - val_precision: 0.8411 - val_recall: 0.8146\n",
      "Epoch 40/50\n",
      "725/725 [==============================] - 22s 30ms/step - loss: 0.1258 - accuracy: 0.9851 - auc: 0.9984 - precision: 0.9896 - recall: 0.9802 - val_loss: 0.7230 - val_accuracy: 0.8399 - val_auc: 0.9071 - val_precision: 0.8240 - val_recall: 0.8664\n",
      "Epoch 41/50\n",
      "725/725 [==============================] - 22s 31ms/step - loss: 0.1238 - accuracy: 0.9860 - auc: 0.9986 - precision: 0.9893 - recall: 0.9823 - val_loss: 0.7036 - val_accuracy: 0.8380 - val_auc: 0.9106 - val_precision: 0.8289 - val_recall: 0.8537\n",
      "Epoch 42/50\n",
      "725/725 [==============================] - 22s 30ms/step - loss: 0.1242 - accuracy: 0.9852 - auc: 0.9987 - precision: 0.9883 - recall: 0.9818 - val_loss: 0.7694 - val_accuracy: 0.8357 - val_auc: 0.9016 - val_precision: 0.8157 - val_recall: 0.8695\n",
      "Epoch 43/50\n",
      "725/725 [==============================] - 22s 30ms/step - loss: 0.1196 - accuracy: 0.9872 - auc: 0.9989 - precision: 0.9893 - recall: 0.9849 - val_loss: 0.7473 - val_accuracy: 0.8425 - val_auc: 0.9085 - val_precision: 0.8633 - val_recall: 0.8156\n",
      "Epoch 44/50\n",
      "725/725 [==============================] - 23s 31ms/step - loss: 0.1227 - accuracy: 0.9865 - auc: 0.9986 - precision: 0.9893 - recall: 0.9835 - val_loss: 0.7278 - val_accuracy: 0.8409 - val_auc: 0.9092 - val_precision: 0.8645 - val_recall: 0.8104\n",
      "Epoch 45/50\n",
      "725/725 [==============================] - 22s 31ms/step - loss: 0.1230 - accuracy: 0.9862 - auc: 0.9986 - precision: 0.9890 - recall: 0.9832 - val_loss: 0.7445 - val_accuracy: 0.8414 - val_auc: 0.9059 - val_precision: 0.8601 - val_recall: 0.8173\n",
      "Epoch 46/50\n",
      "725/725 [==============================] - 23s 32ms/step - loss: 0.1203 - accuracy: 0.9862 - auc: 0.9989 - precision: 0.9891 - recall: 0.9830 - val_loss: 0.7224 - val_accuracy: 0.8411 - val_auc: 0.9083 - val_precision: 0.8441 - val_recall: 0.8386\n",
      "Epoch 47/50\n",
      "725/725 [==============================] - 23s 32ms/step - loss: 0.1159 - accuracy: 0.9875 - auc: 0.9991 - precision: 0.9908 - recall: 0.9839 - val_loss: 0.9157 - val_accuracy: 0.8211 - val_auc: 0.8906 - val_precision: 0.7757 - val_recall: 0.9059\n",
      "Epoch 48/50\n",
      "725/725 [==============================] - 22s 31ms/step - loss: 0.1156 - accuracy: 0.9892 - auc: 0.9986 - precision: 0.9913 - recall: 0.9868 - val_loss: 0.8150 - val_accuracy: 0.8389 - val_auc: 0.8993 - val_precision: 0.8763 - val_recall: 0.7909\n",
      "Epoch 49/50\n",
      "725/725 [==============================] - 22s 31ms/step - loss: 0.1141 - accuracy: 0.9882 - auc: 0.9989 - precision: 0.9907 - recall: 0.9854 - val_loss: 0.7046 - val_accuracy: 0.8395 - val_auc: 0.9070 - val_precision: 0.8549 - val_recall: 0.8197\n",
      "Epoch 50/50\n",
      "725/725 [==============================] - 22s 30ms/step - loss: 0.1131 - accuracy: 0.9880 - auc: 0.9991 - precision: 0.9903 - recall: 0.9854 - val_loss: 0.7311 - val_accuracy: 0.8394 - val_auc: 0.9072 - val_precision: 0.8494 - val_recall: 0.8269\n"
     ]
    }
   ],
   "source": [
    "his0=model0.fit(X_train0,y_train0,epochs=50,batch_size=32,validation_split=0.2)"
   ]
  },
  {
   "cell_type": "code",
   "execution_count": 9,
   "metadata": {},
   "outputs": [],
   "source": [
    "model0.save_weights(\"model0.h5\")"
   ]
  },
  {
   "cell_type": "code",
   "execution_count": 32,
   "metadata": {},
   "outputs": [],
   "source": [
    "his.append(his0)"
   ]
  },
  {
   "cell_type": "code",
   "execution_count": 6,
   "metadata": {},
   "outputs": [],
   "source": [
    "model1=create_model()"
   ]
  },
  {
   "cell_type": "code",
   "execution_count": 7,
   "metadata": {},
   "outputs": [],
   "source": [
    "X_train=pickle.load(open(\"X_train_sub1\",\"rb\"))/255.0\n",
    "y_train=pickle.load(open(\"y_train_sub1\",\"rb\"))"
   ]
  },
  {
   "cell_type": "code",
   "execution_count": 8,
   "metadata": {},
   "outputs": [
    {
     "name": "stdout",
     "output_type": "stream",
     "text": [
      "Epoch 1/50\n",
      "725/725 [==============================] - 31s 28ms/step - loss: 0.8155 - accuracy: 0.5441 - auc: 0.5625 - precision: 0.5598 - recall: 0.3703 - val_loss: 0.7061 - val_accuracy: 0.6391 - val_auc: 0.6932 - val_precision: 0.6811 - val_recall: 0.5221\n",
      "Epoch 2/50\n",
      "725/725 [==============================] - 19s 26ms/step - loss: 0.6545 - accuracy: 0.6817 - auc: 0.7384 - precision: 0.6751 - recall: 0.6881 - val_loss: 0.5910 - val_accuracy: 0.7267 - val_auc: 0.8090 - val_precision: 0.7820 - val_recall: 0.6281\n",
      "Epoch 3/50\n",
      "725/725 [==============================] - 18s 25ms/step - loss: 0.5657 - accuracy: 0.7447 - auc: 0.8202 - precision: 0.7491 - recall: 0.7282 - val_loss: 0.5190 - val_accuracy: 0.7666 - val_auc: 0.8568 - val_precision: 0.8140 - val_recall: 0.6906\n",
      "Epoch 4/50\n",
      "725/725 [==============================] - 18s 25ms/step - loss: 0.5094 - accuracy: 0.7850 - auc: 0.8606 - precision: 0.7983 - recall: 0.7569 - val_loss: 0.4850 - val_accuracy: 0.7912 - val_auc: 0.8794 - val_precision: 0.7771 - val_recall: 0.8163\n",
      "Epoch 5/50\n",
      "725/725 [==============================] - 19s 26ms/step - loss: 0.4615 - accuracy: 0.8112 - auc: 0.8893 - precision: 0.8260 - recall: 0.7837 - val_loss: 0.4675 - val_accuracy: 0.7973 - val_auc: 0.8918 - val_precision: 0.8548 - val_recall: 0.7158\n",
      "Epoch 6/50\n",
      "725/725 [==============================] - 19s 26ms/step - loss: 0.4269 - accuracy: 0.8309 - auc: 0.9093 - precision: 0.8445 - recall: 0.8071 - val_loss: 0.4458 - val_accuracy: 0.8138 - val_auc: 0.9051 - val_precision: 0.8674 - val_recall: 0.7407\n",
      "Epoch 7/50\n",
      "725/725 [==============================] - 18s 25ms/step - loss: 0.3863 - accuracy: 0.8503 - auc: 0.9292 - precision: 0.8621 - recall: 0.8305 - val_loss: 0.4200 - val_accuracy: 0.8313 - val_auc: 0.9143 - val_precision: 0.8457 - val_recall: 0.8101\n",
      "Epoch 8/50\n",
      "725/725 [==============================] - 20s 27ms/step - loss: 0.3515 - accuracy: 0.8689 - auc: 0.9445 - precision: 0.8821 - recall: 0.8485 - val_loss: 0.4579 - val_accuracy: 0.8218 - val_auc: 0.9166 - val_precision: 0.7763 - val_recall: 0.9037\n",
      "Epoch 9/50\n",
      "725/725 [==============================] - 19s 26ms/step - loss: 0.3163 - accuracy: 0.8861 - auc: 0.9582 - precision: 0.8957 - recall: 0.8715 - val_loss: 0.4407 - val_accuracy: 0.8366 - val_auc: 0.9183 - val_precision: 0.8234 - val_recall: 0.8567\n",
      "Epoch 10/50\n",
      "725/725 [==============================] - 19s 26ms/step - loss: 0.2832 - accuracy: 0.9045 - auc: 0.9696 - precision: 0.9110 - recall: 0.8946 - val_loss: 0.4358 - val_accuracy: 0.8482 - val_auc: 0.9250 - val_precision: 0.8801 - val_recall: 0.8059\n",
      "Epoch 11/50\n",
      "725/725 [==============================] - 18s 25ms/step - loss: 0.2522 - accuracy: 0.9210 - auc: 0.9785 - precision: 0.9268 - recall: 0.9125 - val_loss: 0.4599 - val_accuracy: 0.8440 - val_auc: 0.9280 - val_precision: 0.8952 - val_recall: 0.7790\n",
      "Epoch 12/50\n",
      "725/725 [==============================] - 18s 25ms/step - loss: 0.2324 - accuracy: 0.9290 - auc: 0.9836 - precision: 0.9348 - recall: 0.9208 - val_loss: 0.5049 - val_accuracy: 0.8535 - val_auc: 0.9278 - val_precision: 0.8702 - val_recall: 0.8308\n",
      "Epoch 13/50\n",
      "725/725 [==============================] - 18s 25ms/step - loss: 0.2143 - accuracy: 0.9377 - auc: 0.9874 - precision: 0.9422 - recall: 0.9312 - val_loss: 0.4440 - val_accuracy: 0.8490 - val_auc: 0.9275 - val_precision: 0.8714 - val_recall: 0.8187\n",
      "Epoch 14/50\n",
      "725/725 [==============================] - 18s 25ms/step - loss: 0.2005 - accuracy: 0.9429 - auc: 0.9898 - precision: 0.9477 - recall: 0.9364 - val_loss: 0.5034 - val_accuracy: 0.8527 - val_auc: 0.9266 - val_precision: 0.8504 - val_recall: 0.8557\n",
      "Epoch 15/50\n",
      "725/725 [==============================] - 19s 26ms/step - loss: 0.1878 - accuracy: 0.9500 - auc: 0.9920 - precision: 0.9543 - recall: 0.9441 - val_loss: 0.5245 - val_accuracy: 0.8530 - val_auc: 0.9270 - val_precision: 0.8443 - val_recall: 0.8653\n",
      "Epoch 16/50\n",
      "725/725 [==============================] - 19s 26ms/step - loss: 0.1768 - accuracy: 0.9546 - auc: 0.9936 - precision: 0.9568 - recall: 0.9512 - val_loss: 0.5570 - val_accuracy: 0.8435 - val_auc: 0.9268 - val_precision: 0.9163 - val_recall: 0.7559\n",
      "Epoch 17/50\n",
      "725/725 [==============================] - 19s 26ms/step - loss: 0.1735 - accuracy: 0.9556 - auc: 0.9941 - precision: 0.9603 - recall: 0.9495 - val_loss: 0.5301 - val_accuracy: 0.8592 - val_auc: 0.9311 - val_precision: 0.8574 - val_recall: 0.8615\n",
      "Epoch 18/50\n",
      "725/725 [==============================] - 18s 25ms/step - loss: 0.1707 - accuracy: 0.9587 - auc: 0.9943 - precision: 0.9599 - recall: 0.9564 - val_loss: 0.5647 - val_accuracy: 0.8530 - val_auc: 0.9270 - val_precision: 0.8583 - val_recall: 0.8453\n",
      "Epoch 19/50\n",
      "725/725 [==============================] - 19s 26ms/step - loss: 0.1586 - accuracy: 0.9639 - auc: 0.9958 - precision: 0.9678 - recall: 0.9590 - val_loss: 0.5953 - val_accuracy: 0.8513 - val_auc: 0.9229 - val_precision: 0.8401 - val_recall: 0.8674\n",
      "Epoch 20/50\n",
      "725/725 [==============================] - 19s 26ms/step - loss: 0.1551 - accuracy: 0.9664 - auc: 0.9961 - precision: 0.9690 - recall: 0.9629 - val_loss: 0.5668 - val_accuracy: 0.8601 - val_auc: 0.9291 - val_precision: 0.8781 - val_recall: 0.8360\n",
      "Epoch 21/50\n",
      "725/725 [==============================] - 19s 26ms/step - loss: 0.1545 - accuracy: 0.9654 - auc: 0.9961 - precision: 0.9690 - recall: 0.9608 - val_loss: 0.5551 - val_accuracy: 0.8551 - val_auc: 0.9262 - val_precision: 0.8630 - val_recall: 0.8439\n",
      "Epoch 22/50\n",
      "725/725 [==============================] - 19s 26ms/step - loss: 0.1520 - accuracy: 0.9676 - auc: 0.9965 - precision: 0.9690 - recall: 0.9656 - val_loss: 0.5808 - val_accuracy: 0.8580 - val_auc: 0.9265 - val_precision: 0.8618 - val_recall: 0.8526\n",
      "Epoch 23/50\n",
      "725/725 [==============================] - 19s 26ms/step - loss: 0.1538 - accuracy: 0.9657 - auc: 0.9963 - precision: 0.9681 - recall: 0.9625 - val_loss: 0.5702 - val_accuracy: 0.8528 - val_auc: 0.9240 - val_precision: 0.8305 - val_recall: 0.8864\n",
      "Epoch 24/50\n",
      "725/725 [==============================] - 19s 26ms/step - loss: 0.1434 - accuracy: 0.9689 - auc: 0.9973 - precision: 0.9703 - recall: 0.9667 - val_loss: 0.5923 - val_accuracy: 0.8554 - val_auc: 0.9259 - val_precision: 0.8352 - val_recall: 0.8854\n",
      "Epoch 25/50\n",
      "725/725 [==============================] - 18s 25ms/step - loss: 0.1414 - accuracy: 0.9722 - auc: 0.9973 - precision: 0.9749 - recall: 0.9688 - val_loss: 0.5951 - val_accuracy: 0.8596 - val_auc: 0.9247 - val_precision: 0.8739 - val_recall: 0.8401\n",
      "Epoch 26/50\n",
      "725/725 [==============================] - 18s 25ms/step - loss: 0.1381 - accuracy: 0.9736 - auc: 0.9975 - precision: 0.9759 - recall: 0.9706 - val_loss: 0.6084 - val_accuracy: 0.8501 - val_auc: 0.9229 - val_precision: 0.8741 - val_recall: 0.8177\n",
      "Epoch 27/50\n",
      "725/725 [==============================] - 18s 25ms/step - loss: 0.1351 - accuracy: 0.9733 - auc: 0.9977 - precision: 0.9747 - recall: 0.9712 - val_loss: 0.6290 - val_accuracy: 0.8470 - val_auc: 0.9195 - val_precision: 0.8160 - val_recall: 0.8957\n",
      "Epoch 28/50\n",
      "725/725 [==============================] - 18s 25ms/step - loss: 0.1400 - accuracy: 0.9719 - auc: 0.9974 - precision: 0.9743 - recall: 0.9687 - val_loss: 0.5980 - val_accuracy: 0.8590 - val_auc: 0.9252 - val_precision: 0.8674 - val_recall: 0.8474\n",
      "Epoch 29/50\n",
      "725/725 [==============================] - 19s 26ms/step - loss: 0.1350 - accuracy: 0.9752 - auc: 0.9976 - precision: 0.9773 - recall: 0.9725 - val_loss: 0.6359 - val_accuracy: 0.8592 - val_auc: 0.9227 - val_precision: 0.8771 - val_recall: 0.8353\n",
      "Epoch 30/50\n",
      "725/725 [==============================] - 18s 25ms/step - loss: 0.1288 - accuracy: 0.9773 - auc: 0.9982 - precision: 0.9804 - recall: 0.9735 - val_loss: 0.6031 - val_accuracy: 0.8559 - val_auc: 0.9223 - val_precision: 0.8615 - val_recall: 0.8481\n",
      "Epoch 31/50\n",
      "725/725 [==============================] - 19s 27ms/step - loss: 0.1260 - accuracy: 0.9784 - auc: 0.9981 - precision: 0.9785 - recall: 0.9778 - val_loss: 0.6078 - val_accuracy: 0.8535 - val_auc: 0.9226 - val_precision: 0.8417 - val_recall: 0.8705\n",
      "Epoch 32/50\n",
      "725/725 [==============================] - 19s 26ms/step - loss: 0.1207 - accuracy: 0.9793 - auc: 0.9986 - precision: 0.9809 - recall: 0.9772 - val_loss: 0.7135 - val_accuracy: 0.8568 - val_auc: 0.9148 - val_precision: 0.8904 - val_recall: 0.8135\n",
      "Epoch 33/50\n",
      "725/725 [==============================] - 19s 26ms/step - loss: 0.1298 - accuracy: 0.9765 - auc: 0.9978 - precision: 0.9785 - recall: 0.9740 - val_loss: 0.6461 - val_accuracy: 0.8566 - val_auc: 0.9201 - val_precision: 0.8883 - val_recall: 0.8156\n",
      "Epoch 34/50\n",
      "725/725 [==============================] - 18s 25ms/step - loss: 0.1237 - accuracy: 0.9790 - auc: 0.9983 - precision: 0.9806 - recall: 0.9770 - val_loss: 0.6596 - val_accuracy: 0.8589 - val_auc: 0.9204 - val_precision: 0.8880 - val_recall: 0.8211\n",
      "Epoch 35/50\n",
      "725/725 [==============================] - 18s 25ms/step - loss: 0.1223 - accuracy: 0.9787 - auc: 0.9983 - precision: 0.9809 - recall: 0.9760 - val_loss: 0.6789 - val_accuracy: 0.8585 - val_auc: 0.9174 - val_precision: 0.8540 - val_recall: 0.8646\n",
      "Epoch 36/50\n",
      "725/725 [==============================] - 19s 26ms/step - loss: 0.1195 - accuracy: 0.9812 - auc: 0.9983 - precision: 0.9823 - recall: 0.9797 - val_loss: 0.6959 - val_accuracy: 0.8544 - val_auc: 0.9177 - val_precision: 0.8384 - val_recall: 0.8778\n",
      "Epoch 37/50\n",
      "725/725 [==============================] - 19s 26ms/step - loss: 0.1171 - accuracy: 0.9806 - auc: 0.9986 - precision: 0.9816 - recall: 0.9792 - val_loss: 0.6770 - val_accuracy: 0.8533 - val_auc: 0.9189 - val_precision: 0.8412 - val_recall: 0.8709\n",
      "Epoch 38/50\n",
      "725/725 [==============================] - 19s 26ms/step - loss: 0.1157 - accuracy: 0.9815 - auc: 0.9988 - precision: 0.9815 - recall: 0.9812 - val_loss: 0.6801 - val_accuracy: 0.8546 - val_auc: 0.9164 - val_precision: 0.8541 - val_recall: 0.8550\n",
      "Epoch 39/50\n",
      "725/725 [==============================] - 18s 25ms/step - loss: 0.1204 - accuracy: 0.9792 - auc: 0.9984 - precision: 0.9796 - recall: 0.9785 - val_loss: 0.6089 - val_accuracy: 0.8592 - val_auc: 0.9242 - val_precision: 0.8722 - val_recall: 0.8415\n",
      "Epoch 40/50\n",
      "725/725 [==============================] - 18s 25ms/step - loss: 0.1093 - accuracy: 0.9856 - auc: 0.9990 - precision: 0.9874 - recall: 0.9835 - val_loss: 0.6565 - val_accuracy: 0.8609 - val_auc: 0.9205 - val_precision: 0.8646 - val_recall: 0.8557\n",
      "Epoch 41/50\n",
      "725/725 [==============================] - 19s 26ms/step - loss: 0.1138 - accuracy: 0.9820 - auc: 0.9987 - precision: 0.9829 - recall: 0.9807 - val_loss: 0.6708 - val_accuracy: 0.8525 - val_auc: 0.9167 - val_precision: 0.8917 - val_recall: 0.8021\n",
      "Epoch 42/50\n",
      "725/725 [==============================] - 19s 26ms/step - loss: 0.1128 - accuracy: 0.9835 - auc: 0.9986 - precision: 0.9848 - recall: 0.9819 - val_loss: 0.6188 - val_accuracy: 0.8496 - val_auc: 0.9219 - val_precision: 0.8913 - val_recall: 0.7959\n",
      "Epoch 43/50\n",
      "725/725 [==============================] - 19s 26ms/step - loss: 0.1079 - accuracy: 0.9846 - auc: 0.9989 - precision: 0.9860 - recall: 0.9829 - val_loss: 0.6268 - val_accuracy: 0.8604 - val_auc: 0.9249 - val_precision: 0.8570 - val_recall: 0.8650\n",
      "Epoch 44/50\n",
      "725/725 [==============================] - 19s 27ms/step - loss: 0.1067 - accuracy: 0.9840 - auc: 0.9990 - precision: 0.9851 - recall: 0.9825 - val_loss: 0.6965 - val_accuracy: 0.8552 - val_auc: 0.9163 - val_precision: 0.8502 - val_recall: 0.8622\n",
      "Epoch 45/50\n",
      "725/725 [==============================] - 19s 26ms/step - loss: 0.1091 - accuracy: 0.9835 - auc: 0.9988 - precision: 0.9850 - recall: 0.9816 - val_loss: 0.6247 - val_accuracy: 0.8608 - val_auc: 0.9217 - val_precision: 0.8750 - val_recall: 0.8415\n",
      "Epoch 46/50\n",
      "725/725 [==============================] - 18s 25ms/step - loss: 0.1116 - accuracy: 0.9838 - auc: 0.9987 - precision: 0.9852 - recall: 0.9820 - val_loss: 0.6562 - val_accuracy: 0.8547 - val_auc: 0.9221 - val_precision: 0.8981 - val_recall: 0.8001\n",
      "Epoch 47/50\n",
      "725/725 [==============================] - 18s 25ms/step - loss: 0.1003 - accuracy: 0.9865 - auc: 0.9993 - precision: 0.9884 - recall: 0.9843 - val_loss: 0.6084 - val_accuracy: 0.8573 - val_auc: 0.9220 - val_precision: 0.8641 - val_recall: 0.8477\n",
      "Epoch 48/50\n",
      "725/725 [==============================] - 18s 25ms/step - loss: 0.1069 - accuracy: 0.9854 - auc: 0.9987 - precision: 0.9856 - recall: 0.9849 - val_loss: 0.6300 - val_accuracy: 0.8628 - val_auc: 0.9235 - val_precision: 0.8690 - val_recall: 0.8543\n",
      "Epoch 49/50\n",
      "725/725 [==============================] - 18s 25ms/step - loss: 0.1061 - accuracy: 0.9847 - auc: 0.9989 - precision: 0.9857 - recall: 0.9834 - val_loss: 0.6750 - val_accuracy: 0.8589 - val_auc: 0.9182 - val_precision: 0.8868 - val_recall: 0.8225\n",
      "Epoch 50/50\n",
      "725/725 [==============================] - 19s 26ms/step - loss: 0.1007 - accuracy: 0.9868 - auc: 0.9989 - precision: 0.9881 - recall: 0.9852 - val_loss: 0.6122 - val_accuracy: 0.8561 - val_auc: 0.9239 - val_precision: 0.8661 - val_recall: 0.8422\n"
     ]
    }
   ],
   "source": [
    "his1=model1.fit(X_train,y_train,epochs=50,batch_size=32,validation_split=0.2)"
   ]
  },
  {
   "cell_type": "code",
   "execution_count": 1,
   "metadata": {},
   "outputs": [
    {
     "ename": "NameError",
     "evalue": "name 'model1' is not defined",
     "output_type": "error",
     "traceback": [
      "\u001b[1;31m---------------------------------------------------------------------------\u001b[0m",
      "\u001b[1;31mNameError\u001b[0m                                 Traceback (most recent call last)",
      "Cell \u001b[1;32mIn[1], line 1\u001b[0m\n\u001b[1;32m----> 1\u001b[0m \u001b[43mmodel1\u001b[49m\u001b[38;5;241m.\u001b[39msave_weights(\u001b[38;5;124m\"\u001b[39m\u001b[38;5;124mmodel1.h5\u001b[39m\u001b[38;5;124m\"\u001b[39m)\n",
      "\u001b[1;31mNameError\u001b[0m: name 'model1' is not defined"
     ]
    }
   ],
   "source": [
    "model1.save_weights(\"model1.h5\")"
   ]
  },
  {
   "cell_type": "code",
   "execution_count": 33,
   "metadata": {},
   "outputs": [],
   "source": [
    "his.append(his1)"
   ]
  },
  {
   "cell_type": "code",
   "execution_count": 4,
   "metadata": {},
   "outputs": [],
   "source": [
    "model2=create_model()"
   ]
  },
  {
   "cell_type": "code",
   "execution_count": 5,
   "metadata": {},
   "outputs": [],
   "source": [
    "X_train=pickle.load(open(\"X_train_sub2\",\"rb\"))/255.0\n",
    "y_train=pickle.load(open(\"y_train_sub2\",\"rb\"))"
   ]
  },
  {
   "cell_type": "code",
   "execution_count": 6,
   "metadata": {},
   "outputs": [
    {
     "name": "stdout",
     "output_type": "stream",
     "text": [
      "Epoch 1/50\n",
      "725/725 [==============================] - 23s 25ms/step - loss: 0.8202 - accuracy: 0.5580 - auc: 0.5886 - precision: 0.5611 - recall: 0.4830 - val_loss: 0.7080 - val_accuracy: 0.6398 - val_auc: 0.7105 - val_precision: 0.7070 - val_recall: 0.4508\n",
      "Epoch 2/50\n",
      "725/725 [==============================] - 17s 24ms/step - loss: 0.6643 - accuracy: 0.6869 - auc: 0.7466 - precision: 0.6768 - recall: 0.7009 - val_loss: 0.5793 - val_accuracy: 0.7447 - val_auc: 0.8224 - val_precision: 0.7527 - val_recall: 0.7124\n",
      "Epoch 3/50\n",
      "725/725 [==============================] - 18s 24ms/step - loss: 0.5741 - accuracy: 0.7516 - auc: 0.8241 - precision: 0.7540 - recall: 0.7376 - val_loss: 0.5219 - val_accuracy: 0.7795 - val_auc: 0.8638 - val_precision: 0.7611 - val_recall: 0.8008\n",
      "Epoch 4/50\n",
      "725/725 [==============================] - 19s 26ms/step - loss: 0.5185 - accuracy: 0.7843 - auc: 0.8626 - precision: 0.7895 - recall: 0.7683 - val_loss: 0.4976 - val_accuracy: 0.7926 - val_auc: 0.8765 - val_precision: 0.7842 - val_recall: 0.7952\n",
      "Epoch 5/50\n",
      "725/725 [==============================] - 18s 24ms/step - loss: 0.4731 - accuracy: 0.8100 - auc: 0.8906 - precision: 0.8163 - recall: 0.7940 - val_loss: 0.4739 - val_accuracy: 0.8038 - val_auc: 0.8972 - val_precision: 0.8657 - val_recall: 0.7092\n",
      "Epoch 6/50\n",
      "725/725 [==============================] - 18s 25ms/step - loss: 0.4316 - accuracy: 0.8376 - auc: 0.9136 - precision: 0.8436 - recall: 0.8239 - val_loss: 0.4600 - val_accuracy: 0.8223 - val_auc: 0.9045 - val_precision: 0.8207 - val_recall: 0.8149\n",
      "Epoch 7/50\n",
      "725/725 [==============================] - 18s 25ms/step - loss: 0.3906 - accuracy: 0.8595 - auc: 0.9343 - precision: 0.8622 - recall: 0.8517 - val_loss: 0.4547 - val_accuracy: 0.8266 - val_auc: 0.9128 - val_precision: 0.8795 - val_recall: 0.7483\n",
      "Epoch 8/50\n",
      "725/725 [==============================] - 18s 25ms/step - loss: 0.3482 - accuracy: 0.8829 - auc: 0.9533 - precision: 0.8874 - recall: 0.8739 - val_loss: 0.4511 - val_accuracy: 0.8392 - val_auc: 0.9198 - val_precision: 0.8217 - val_recall: 0.8576\n",
      "Epoch 9/50\n",
      "725/725 [==============================] - 18s 24ms/step - loss: 0.3054 - accuracy: 0.9059 - auc: 0.9689 - precision: 0.9086 - recall: 0.8999 - val_loss: 0.4494 - val_accuracy: 0.8423 - val_auc: 0.9204 - val_precision: 0.8462 - val_recall: 0.8283\n",
      "Epoch 10/50\n",
      "725/725 [==============================] - 17s 24ms/step - loss: 0.2757 - accuracy: 0.9222 - auc: 0.9783 - precision: 0.9241 - recall: 0.9179 - val_loss: 0.4975 - val_accuracy: 0.8456 - val_auc: 0.9236 - val_precision: 0.8258 - val_recall: 0.8675\n",
      "Epoch 11/50\n",
      "725/725 [==============================] - 18s 25ms/step - loss: 0.2458 - accuracy: 0.9377 - auc: 0.9857 - precision: 0.9383 - recall: 0.9353 - val_loss: 0.5249 - val_accuracy: 0.8418 - val_auc: 0.9213 - val_precision: 0.8715 - val_recall: 0.7938\n",
      "Epoch 12/50\n",
      "725/725 [==============================] - 18s 25ms/step - loss: 0.2235 - accuracy: 0.9477 - auc: 0.9902 - precision: 0.9475 - recall: 0.9466 - val_loss: 0.5555 - val_accuracy: 0.8427 - val_auc: 0.9183 - val_precision: 0.8794 - val_recall: 0.7864\n",
      "Epoch 13/50\n",
      "725/725 [==============================] - 19s 26ms/step - loss: 0.2133 - accuracy: 0.9540 - auc: 0.9920 - precision: 0.9538 - recall: 0.9529 - val_loss: 0.5513 - val_accuracy: 0.8442 - val_auc: 0.9207 - val_precision: 0.8550 - val_recall: 0.8209\n",
      "Epoch 14/50\n",
      "725/725 [==============================] - 18s 25ms/step - loss: 0.1974 - accuracy: 0.9616 - auc: 0.9942 - precision: 0.9608 - recall: 0.9616 - val_loss: 0.5901 - val_accuracy: 0.8383 - val_auc: 0.9180 - val_precision: 0.8782 - val_recall: 0.7776\n",
      "Epoch 15/50\n",
      "725/725 [==============================] - 18s 24ms/step - loss: 0.1899 - accuracy: 0.9644 - auc: 0.9952 - precision: 0.9642 - recall: 0.9637 - val_loss: 0.5973 - val_accuracy: 0.8440 - val_auc: 0.9196 - val_precision: 0.8369 - val_recall: 0.8463\n",
      "Epoch 16/50\n",
      "725/725 [==============================] - 18s 24ms/step - loss: 0.1820 - accuracy: 0.9686 - auc: 0.9960 - precision: 0.9682 - recall: 0.9682 - val_loss: 0.5799 - val_accuracy: 0.8483 - val_auc: 0.9212 - val_precision: 0.8555 - val_recall: 0.8305\n",
      "Epoch 17/50\n",
      "725/725 [==============================] - 18s 25ms/step - loss: 0.1798 - accuracy: 0.9695 - auc: 0.9962 - precision: 0.9701 - recall: 0.9680 - val_loss: 0.5970 - val_accuracy: 0.8442 - val_auc: 0.9223 - val_precision: 0.8365 - val_recall: 0.8474\n",
      "Epoch 18/50\n",
      "725/725 [==============================] - 18s 24ms/step - loss: 0.1721 - accuracy: 0.9726 - auc: 0.9969 - precision: 0.9736 - recall: 0.9709 - val_loss: 0.6378 - val_accuracy: 0.8347 - val_auc: 0.9108 - val_precision: 0.8173 - val_recall: 0.8530\n",
      "Epoch 19/50\n",
      "725/725 [==============================] - 18s 24ms/step - loss: 0.1750 - accuracy: 0.9717 - auc: 0.9968 - precision: 0.9715 - recall: 0.9712 - val_loss: 0.6554 - val_accuracy: 0.8325 - val_auc: 0.9149 - val_precision: 0.8836 - val_recall: 0.7575\n",
      "Epoch 20/50\n",
      "725/725 [==============================] - 18s 24ms/step - loss: 0.1665 - accuracy: 0.9756 - auc: 0.9974 - precision: 0.9750 - recall: 0.9756 - val_loss: 0.6601 - val_accuracy: 0.8373 - val_auc: 0.9170 - val_precision: 0.8913 - val_recall: 0.7603\n",
      "Epoch 21/50\n",
      "725/725 [==============================] - 18s 25ms/step - loss: 0.1570 - accuracy: 0.9784 - auc: 0.9981 - precision: 0.9782 - recall: 0.9782 - val_loss: 0.6254 - val_accuracy: 0.8399 - val_auc: 0.9176 - val_precision: 0.8736 - val_recall: 0.7867\n",
      "Epoch 22/50\n",
      "725/725 [==============================] - 18s 25ms/step - loss: 0.1612 - accuracy: 0.9762 - auc: 0.9977 - precision: 0.9772 - recall: 0.9746 - val_loss: 0.6254 - val_accuracy: 0.8482 - val_auc: 0.9189 - val_precision: 0.8478 - val_recall: 0.8407\n",
      "Epoch 23/50\n",
      "725/725 [==============================] - 17s 24ms/step - loss: 0.1611 - accuracy: 0.9770 - auc: 0.9977 - precision: 0.9777 - recall: 0.9756 - val_loss: 0.6122 - val_accuracy: 0.8307 - val_auc: 0.9188 - val_precision: 0.8838 - val_recall: 0.7533\n",
      "Epoch 24/50\n",
      "725/725 [==============================] - 18s 25ms/step - loss: 0.1555 - accuracy: 0.9795 - auc: 0.9982 - precision: 0.9787 - recall: 0.9798 - val_loss: 0.6767 - val_accuracy: 0.8525 - val_auc: 0.9180 - val_precision: 0.8348 - val_recall: 0.8710\n",
      "Epoch 25/50\n",
      "725/725 [==============================] - 18s 24ms/step - loss: 0.1527 - accuracy: 0.9804 - auc: 0.9981 - precision: 0.9804 - recall: 0.9799 - val_loss: 0.6212 - val_accuracy: 0.8490 - val_auc: 0.9227 - val_precision: 0.8484 - val_recall: 0.8421\n",
      "Epoch 26/50\n",
      "725/725 [==============================] - 17s 24ms/step - loss: 0.1617 - accuracy: 0.9758 - auc: 0.9974 - precision: 0.9770 - recall: 0.9740 - val_loss: 0.5756 - val_accuracy: 0.8487 - val_auc: 0.9255 - val_precision: 0.8340 - val_recall: 0.8625\n",
      "Epoch 27/50\n",
      "725/725 [==============================] - 18s 25ms/step - loss: 0.1433 - accuracy: 0.9829 - auc: 0.9987 - precision: 0.9834 - recall: 0.9820 - val_loss: 0.6799 - val_accuracy: 0.8511 - val_auc: 0.9189 - val_precision: 0.8932 - val_recall: 0.7903\n",
      "Epoch 28/50\n",
      "725/725 [==============================] - 17s 24ms/step - loss: 0.1426 - accuracy: 0.9830 - auc: 0.9987 - precision: 0.9835 - recall: 0.9821 - val_loss: 0.6834 - val_accuracy: 0.8556 - val_auc: 0.9193 - val_precision: 0.8434 - val_recall: 0.8657\n",
      "Epoch 29/50\n",
      "725/725 [==============================] - 18s 25ms/step - loss: 0.1430 - accuracy: 0.9818 - auc: 0.9986 - precision: 0.9824 - recall: 0.9808 - val_loss: 0.7045 - val_accuracy: 0.8518 - val_auc: 0.9146 - val_precision: 0.8848 - val_recall: 0.8016\n",
      "Epoch 30/50\n",
      "725/725 [==============================] - 18s 24ms/step - loss: 0.1469 - accuracy: 0.9821 - auc: 0.9981 - precision: 0.9826 - recall: 0.9811 - val_loss: 0.6618 - val_accuracy: 0.8470 - val_auc: 0.9225 - val_precision: 0.8996 - val_recall: 0.7737\n",
      "Epoch 31/50\n",
      "725/725 [==============================] - 18s 24ms/step - loss: 0.1374 - accuracy: 0.9848 - auc: 0.9986 - precision: 0.9856 - recall: 0.9836 - val_loss: 0.6531 - val_accuracy: 0.8523 - val_auc: 0.9178 - val_precision: 0.8582 - val_recall: 0.8364\n",
      "Epoch 32/50\n",
      "725/725 [==============================] - 17s 24ms/step - loss: 0.1375 - accuracy: 0.9846 - auc: 0.9985 - precision: 0.9848 - recall: 0.9839 - val_loss: 0.6680 - val_accuracy: 0.8497 - val_auc: 0.9167 - val_precision: 0.8447 - val_recall: 0.8491\n",
      "Epoch 33/50\n",
      "725/725 [==============================] - 18s 25ms/step - loss: 0.1394 - accuracy: 0.9832 - auc: 0.9985 - precision: 0.9835 - recall: 0.9825 - val_loss: 0.6663 - val_accuracy: 0.8442 - val_auc: 0.9159 - val_precision: 0.8456 - val_recall: 0.8340\n",
      "Epoch 34/50\n",
      "725/725 [==============================] - 18s 25ms/step - loss: 0.1394 - accuracy: 0.9834 - auc: 0.9984 - precision: 0.9846 - recall: 0.9817 - val_loss: 0.6396 - val_accuracy: 0.8445 - val_auc: 0.9187 - val_precision: 0.8596 - val_recall: 0.8157\n",
      "Epoch 35/50\n",
      "725/725 [==============================] - 18s 25ms/step - loss: 0.1326 - accuracy: 0.9861 - auc: 0.9989 - precision: 0.9861 - recall: 0.9857 - val_loss: 0.6639 - val_accuracy: 0.8504 - val_auc: 0.9184 - val_precision: 0.8543 - val_recall: 0.8372\n",
      "Epoch 36/50\n",
      "725/725 [==============================] - 18s 24ms/step - loss: 0.1296 - accuracy: 0.9861 - auc: 0.9990 - precision: 0.9870 - recall: 0.9849 - val_loss: 0.6648 - val_accuracy: 0.8456 - val_auc: 0.9185 - val_precision: 0.8539 - val_recall: 0.8259\n",
      "Epoch 37/50\n",
      "725/725 [==============================] - 17s 24ms/step - loss: 0.1316 - accuracy: 0.9865 - auc: 0.9986 - precision: 0.9877 - recall: 0.9848 - val_loss: 0.6334 - val_accuracy: 0.8514 - val_auc: 0.9222 - val_precision: 0.8774 - val_recall: 0.8097\n",
      "Epoch 38/50\n",
      "725/725 [==============================] - 18s 24ms/step - loss: 0.1336 - accuracy: 0.9849 - auc: 0.9985 - precision: 0.9860 - recall: 0.9833 - val_loss: 0.6564 - val_accuracy: 0.8468 - val_auc: 0.9212 - val_precision: 0.8761 - val_recall: 0.8001\n",
      "Epoch 39/50\n",
      "725/725 [==============================] - 18s 25ms/step - loss: 0.1242 - accuracy: 0.9882 - auc: 0.9990 - precision: 0.9889 - recall: 0.9872 - val_loss: 0.7103 - val_accuracy: 0.8433 - val_auc: 0.9143 - val_precision: 0.8108 - val_recall: 0.8869\n",
      "Epoch 40/50\n",
      "725/725 [==============================] - 17s 24ms/step - loss: 0.1246 - accuracy: 0.9871 - auc: 0.9990 - precision: 0.9876 - recall: 0.9863 - val_loss: 0.6806 - val_accuracy: 0.8437 - val_auc: 0.9177 - val_precision: 0.8505 - val_recall: 0.8259\n",
      "Epoch 41/50\n",
      "725/725 [==============================] - 18s 25ms/step - loss: 0.1282 - accuracy: 0.9855 - auc: 0.9987 - precision: 0.9857 - recall: 0.9851 - val_loss: 0.6961 - val_accuracy: 0.8478 - val_auc: 0.9163 - val_precision: 0.8349 - val_recall: 0.8590\n",
      "Epoch 42/50\n",
      "725/725 [==============================] - 17s 24ms/step - loss: 0.1221 - accuracy: 0.9877 - auc: 0.9990 - precision: 0.9888 - recall: 0.9863 - val_loss: 0.6854 - val_accuracy: 0.8501 - val_auc: 0.9169 - val_precision: 0.8445 - val_recall: 0.8502\n",
      "Epoch 43/50\n",
      "725/725 [==============================] - 17s 24ms/step - loss: 0.1214 - accuracy: 0.9878 - auc: 0.9990 - precision: 0.9884 - recall: 0.9870 - val_loss: 0.6830 - val_accuracy: 0.8528 - val_auc: 0.9170 - val_precision: 0.8416 - val_recall: 0.8615\n",
      "Epoch 44/50\n",
      "725/725 [==============================] - 17s 24ms/step - loss: 0.1183 - accuracy: 0.9885 - auc: 0.9993 - precision: 0.9896 - recall: 0.9871 - val_loss: 0.6524 - val_accuracy: 0.8520 - val_auc: 0.9195 - val_precision: 0.8337 - val_recall: 0.8713\n",
      "Epoch 45/50\n",
      "725/725 [==============================] - 17s 24ms/step - loss: 0.1177 - accuracy: 0.9885 - auc: 0.9992 - precision: 0.9886 - recall: 0.9882 - val_loss: 0.7751 - val_accuracy: 0.8466 - val_auc: 0.9074 - val_precision: 0.8425 - val_recall: 0.8446\n",
      "Epoch 46/50\n",
      "725/725 [==============================] - 17s 24ms/step - loss: 0.1204 - accuracy: 0.9872 - auc: 0.9992 - precision: 0.9879 - recall: 0.9861 - val_loss: 0.7220 - val_accuracy: 0.8470 - val_auc: 0.9103 - val_precision: 0.8558 - val_recall: 0.8266\n",
      "Epoch 47/50\n",
      "725/725 [==============================] - 17s 24ms/step - loss: 0.1130 - accuracy: 0.9906 - auc: 0.9994 - precision: 0.9913 - recall: 0.9897 - val_loss: 0.7587 - val_accuracy: 0.8454 - val_auc: 0.9093 - val_precision: 0.8918 - val_recall: 0.7786\n",
      "Epoch 48/50\n",
      "725/725 [==============================] - 18s 25ms/step - loss: 0.1142 - accuracy: 0.9897 - auc: 0.9990 - precision: 0.9901 - recall: 0.9891 - val_loss: 0.7238 - val_accuracy: 0.8494 - val_auc: 0.9115 - val_precision: 0.8566 - val_recall: 0.8315\n",
      "Epoch 49/50\n",
      "725/725 [==============================] - 17s 24ms/step - loss: 0.1160 - accuracy: 0.9885 - auc: 0.9990 - precision: 0.9890 - recall: 0.9878 - val_loss: 0.6345 - val_accuracy: 0.8518 - val_auc: 0.9192 - val_precision: 0.8530 - val_recall: 0.8424\n",
      "Epoch 50/50\n",
      "725/725 [==============================] - 17s 24ms/step - loss: 0.1192 - accuracy: 0.9874 - auc: 0.9991 - precision: 0.9881 - recall: 0.9865 - val_loss: 0.6727 - val_accuracy: 0.8514 - val_auc: 0.9157 - val_precision: 0.8327 - val_recall: 0.8717\n"
     ]
    }
   ],
   "source": [
    "his2=model2.fit(X_train,y_train,epochs=50,batch_size=32,validation_split=0.2)"
   ]
  },
  {
   "cell_type": "code",
   "execution_count": 8,
   "metadata": {},
   "outputs": [],
   "source": [
    "model2.save_weights(\"model2.h5\")"
   ]
  },
  {
   "cell_type": "code",
   "execution_count": 34,
   "metadata": {},
   "outputs": [],
   "source": [
    "his.append(his2)"
   ]
  },
  {
   "cell_type": "code",
   "execution_count": 9,
   "metadata": {},
   "outputs": [],
   "source": [
    "model3=create_model()"
   ]
  },
  {
   "cell_type": "code",
   "execution_count": 10,
   "metadata": {},
   "outputs": [],
   "source": [
    "X_train=pickle.load(open(\"X_train_sub3\",\"rb\"))/255.0\n",
    "y_train=pickle.load(open(\"y_train_sub3\",\"rb\"))"
   ]
  },
  {
   "cell_type": "code",
   "execution_count": 11,
   "metadata": {},
   "outputs": [
    {
     "name": "stdout",
     "output_type": "stream",
     "text": [
      "Epoch 1/50\n",
      "725/725 [==============================] - 20s 26ms/step - loss: 0.8185 - accuracy: 0.5462 - auc: 0.5743 - precision: 0.5533 - recall: 0.4087 - val_loss: 0.7133 - val_accuracy: 0.6166 - val_auc: 0.7047 - val_precision: 0.6884 - val_recall: 0.4090\n",
      "Epoch 2/50\n",
      "725/725 [==============================] - 18s 25ms/step - loss: 0.6490 - accuracy: 0.6902 - auc: 0.7535 - precision: 0.6799 - recall: 0.7011 - val_loss: 0.5568 - val_accuracy: 0.7472 - val_auc: 0.8357 - val_precision: 0.7284 - val_recall: 0.7786\n",
      "Epoch 3/50\n",
      "725/725 [==============================] - 18s 25ms/step - loss: 0.5621 - accuracy: 0.7569 - auc: 0.8292 - precision: 0.7566 - recall: 0.7465 - val_loss: 0.5544 - val_accuracy: 0.7486 - val_auc: 0.8387 - val_precision: 0.7981 - val_recall: 0.6574\n",
      "Epoch 4/50\n",
      "725/725 [==============================] - 18s 25ms/step - loss: 0.5108 - accuracy: 0.7874 - auc: 0.8649 - precision: 0.7888 - recall: 0.7764 - val_loss: 0.4839 - val_accuracy: 0.7950 - val_auc: 0.8814 - val_precision: 0.7871 - val_recall: 0.8020\n",
      "Epoch 5/50\n",
      "725/725 [==============================] - 18s 25ms/step - loss: 0.4637 - accuracy: 0.8159 - auc: 0.8939 - precision: 0.8185 - recall: 0.8048 - val_loss: 0.4681 - val_accuracy: 0.8111 - val_auc: 0.8965 - val_precision: 0.8525 - val_recall: 0.7468\n",
      "Epoch 6/50\n",
      "725/725 [==============================] - 19s 26ms/step - loss: 0.4226 - accuracy: 0.8426 - auc: 0.9168 - precision: 0.8430 - recall: 0.8363 - val_loss: 0.4652 - val_accuracy: 0.8128 - val_auc: 0.9045 - val_precision: 0.8692 - val_recall: 0.7311\n",
      "Epoch 7/50\n",
      "725/725 [==============================] - 19s 26ms/step - loss: 0.3789 - accuracy: 0.8646 - auc: 0.9389 - precision: 0.8653 - recall: 0.8588 - val_loss: 0.4471 - val_accuracy: 0.8375 - val_auc: 0.9146 - val_precision: 0.8509 - val_recall: 0.8135\n",
      "Epoch 8/50\n",
      "725/725 [==============================] - 19s 26ms/step - loss: 0.3430 - accuracy: 0.8860 - auc: 0.9544 - precision: 0.8861 - recall: 0.8819 - val_loss: 0.4447 - val_accuracy: 0.8364 - val_auc: 0.9189 - val_precision: 0.8147 - val_recall: 0.8659\n",
      "Epoch 9/50\n",
      "725/725 [==============================] - 19s 26ms/step - loss: 0.3000 - accuracy: 0.9085 - auc: 0.9696 - precision: 0.9080 - recall: 0.9060 - val_loss: 0.5064 - val_accuracy: 0.8282 - val_auc: 0.9151 - val_precision: 0.7884 - val_recall: 0.8914\n",
      "Epoch 10/50\n",
      "725/725 [==============================] - 19s 26ms/step - loss: 0.2674 - accuracy: 0.9224 - auc: 0.9790 - precision: 0.9243 - recall: 0.9176 - val_loss: 0.4841 - val_accuracy: 0.8401 - val_auc: 0.9193 - val_precision: 0.8487 - val_recall: 0.8229\n",
      "Epoch 11/50\n",
      "725/725 [==============================] - 19s 26ms/step - loss: 0.2483 - accuracy: 0.9329 - auc: 0.9841 - precision: 0.9361 - recall: 0.9270 - val_loss: 0.5339 - val_accuracy: 0.8364 - val_auc: 0.9166 - val_precision: 0.8276 - val_recall: 0.8449\n",
      "Epoch 12/50\n",
      "725/725 [==============================] - 19s 26ms/step - loss: 0.2219 - accuracy: 0.9477 - auc: 0.9896 - precision: 0.9484 - recall: 0.9452 - val_loss: 0.5187 - val_accuracy: 0.8487 - val_auc: 0.9233 - val_precision: 0.8448 - val_recall: 0.8498\n",
      "Epoch 13/50\n",
      "725/725 [==============================] - 19s 26ms/step - loss: 0.2123 - accuracy: 0.9519 - auc: 0.9913 - precision: 0.9552 - recall: 0.9468 - val_loss: 0.5804 - val_accuracy: 0.8344 - val_auc: 0.9187 - val_precision: 0.8068 - val_recall: 0.8739\n",
      "Epoch 14/50\n",
      "725/725 [==============================] - 19s 26ms/step - loss: 0.1975 - accuracy: 0.9592 - auc: 0.9935 - precision: 0.9611 - recall: 0.9559 - val_loss: 0.5141 - val_accuracy: 0.8414 - val_auc: 0.9209 - val_precision: 0.8690 - val_recall: 0.7995\n",
      "Epoch 15/50\n",
      "725/725 [==============================] - 19s 26ms/step - loss: 0.1911 - accuracy: 0.9612 - auc: 0.9944 - precision: 0.9638 - recall: 0.9573 - val_loss: 0.5684 - val_accuracy: 0.8408 - val_auc: 0.9180 - val_precision: 0.8223 - val_recall: 0.8645\n",
      "Epoch 16/50\n",
      "725/725 [==============================] - 19s 26ms/step - loss: 0.1809 - accuracy: 0.9674 - auc: 0.9958 - precision: 0.9702 - recall: 0.9635 - val_loss: 0.6292 - val_accuracy: 0.8421 - val_auc: 0.9190 - val_precision: 0.8823 - val_recall: 0.7852\n",
      "Epoch 17/50\n",
      "725/725 [==============================] - 18s 25ms/step - loss: 0.1823 - accuracy: 0.9660 - auc: 0.9955 - precision: 0.9694 - recall: 0.9614 - val_loss: 0.5744 - val_accuracy: 0.8375 - val_auc: 0.9199 - val_precision: 0.8831 - val_recall: 0.7733\n",
      "Epoch 18/50\n",
      "725/725 [==============================] - 18s 24ms/step - loss: 0.1782 - accuracy: 0.9684 - auc: 0.9960 - precision: 0.9702 - recall: 0.9655 - val_loss: 0.6013 - val_accuracy: 0.8428 - val_auc: 0.9163 - val_precision: 0.8366 - val_recall: 0.8474\n",
      "Epoch 19/50\n",
      "725/725 [==============================] - 18s 25ms/step - loss: 0.1680 - accuracy: 0.9720 - auc: 0.9969 - precision: 0.9747 - recall: 0.9684 - val_loss: 0.7526 - val_accuracy: 0.8123 - val_auc: 0.9104 - val_precision: 0.7492 - val_recall: 0.9319\n",
      "Epoch 20/50\n",
      "725/725 [==============================] - 18s 25ms/step - loss: 0.1708 - accuracy: 0.9726 - auc: 0.9968 - precision: 0.9748 - recall: 0.9693 - val_loss: 0.5819 - val_accuracy: 0.8420 - val_auc: 0.9170 - val_precision: 0.8672 - val_recall: 0.8030\n",
      "Epoch 21/50\n",
      "725/725 [==============================] - 18s 25ms/step - loss: 0.1668 - accuracy: 0.9725 - auc: 0.9968 - precision: 0.9736 - recall: 0.9705 - val_loss: 0.5943 - val_accuracy: 0.8409 - val_auc: 0.9197 - val_precision: 0.8828 - val_recall: 0.7817\n",
      "Epoch 22/50\n",
      "725/725 [==============================] - 18s 25ms/step - loss: 0.1618 - accuracy: 0.9757 - auc: 0.9973 - precision: 0.9795 - recall: 0.9710 - val_loss: 0.6112 - val_accuracy: 0.8471 - val_auc: 0.9182 - val_precision: 0.8400 - val_recall: 0.8530\n",
      "Epoch 23/50\n",
      "725/725 [==============================] - 18s 24ms/step - loss: 0.1570 - accuracy: 0.9774 - auc: 0.9976 - precision: 0.9806 - recall: 0.9733 - val_loss: 0.6494 - val_accuracy: 0.8459 - val_auc: 0.9165 - val_precision: 0.8423 - val_recall: 0.8467\n",
      "Epoch 24/50\n",
      "725/725 [==============================] - 18s 24ms/step - loss: 0.1553 - accuracy: 0.9777 - auc: 0.9978 - precision: 0.9803 - recall: 0.9743 - val_loss: 0.6752 - val_accuracy: 0.8440 - val_auc: 0.9165 - val_precision: 0.8190 - val_recall: 0.8784\n",
      "Epoch 25/50\n",
      "725/725 [==============================] - 18s 25ms/step - loss: 0.1569 - accuracy: 0.9763 - auc: 0.9976 - precision: 0.9780 - recall: 0.9737 - val_loss: 0.6937 - val_accuracy: 0.8435 - val_auc: 0.9155 - val_precision: 0.8200 - val_recall: 0.8753\n",
      "Epoch 26/50\n",
      "725/725 [==============================] - 18s 25ms/step - loss: 0.1520 - accuracy: 0.9770 - auc: 0.9979 - precision: 0.9792 - recall: 0.9741 - val_loss: 0.6851 - val_accuracy: 0.8511 - val_auc: 0.9145 - val_precision: 0.8455 - val_recall: 0.8547\n",
      "Epoch 27/50\n",
      "725/725 [==============================] - 19s 26ms/step - loss: 0.1394 - accuracy: 0.9814 - auc: 0.9987 - precision: 0.9834 - recall: 0.9787 - val_loss: 0.6751 - val_accuracy: 0.8437 - val_auc: 0.9154 - val_precision: 0.8722 - val_recall: 0.8009\n",
      "Epoch 28/50\n",
      "725/725 [==============================] - 19s 26ms/step - loss: 0.1544 - accuracy: 0.9769 - auc: 0.9977 - precision: 0.9799 - recall: 0.9730 - val_loss: 0.6443 - val_accuracy: 0.8454 - val_auc: 0.9161 - val_precision: 0.8447 - val_recall: 0.8418\n",
      "Epoch 29/50\n",
      "725/725 [==============================] - 19s 26ms/step - loss: 0.1485 - accuracy: 0.9788 - auc: 0.9979 - precision: 0.9795 - recall: 0.9773 - val_loss: 0.6808 - val_accuracy: 0.8478 - val_auc: 0.9113 - val_precision: 0.8327 - val_recall: 0.8659\n",
      "Epoch 30/50\n",
      "725/725 [==============================] - 19s 26ms/step - loss: 0.1441 - accuracy: 0.9800 - auc: 0.9982 - precision: 0.9811 - recall: 0.9782 - val_loss: 0.6496 - val_accuracy: 0.8497 - val_auc: 0.9209 - val_precision: 0.8365 - val_recall: 0.8648\n",
      "Epoch 31/50\n",
      "725/725 [==============================] - 19s 26ms/step - loss: 0.1431 - accuracy: 0.9813 - auc: 0.9982 - precision: 0.9834 - recall: 0.9786 - val_loss: 0.6835 - val_accuracy: 0.8483 - val_auc: 0.9163 - val_precision: 0.8713 - val_recall: 0.8131\n",
      "Epoch 32/50\n",
      "725/725 [==============================] - 19s 26ms/step - loss: 0.1388 - accuracy: 0.9821 - auc: 0.9986 - precision: 0.9836 - recall: 0.9799 - val_loss: 0.6544 - val_accuracy: 0.8540 - val_auc: 0.9201 - val_precision: 0.8537 - val_recall: 0.8502\n",
      "Epoch 33/50\n",
      "725/725 [==============================] - 19s 26ms/step - loss: 0.1408 - accuracy: 0.9814 - auc: 0.9985 - precision: 0.9838 - recall: 0.9783 - val_loss: 0.6426 - val_accuracy: 0.8473 - val_auc: 0.9194 - val_precision: 0.8560 - val_recall: 0.8306\n",
      "Epoch 34/50\n",
      "725/725 [==============================] - 18s 25ms/step - loss: 0.1360 - accuracy: 0.9830 - auc: 0.9987 - precision: 0.9846 - recall: 0.9809 - val_loss: 0.7306 - val_accuracy: 0.8427 - val_auc: 0.9122 - val_precision: 0.9076 - val_recall: 0.7586\n",
      "Epoch 35/50\n",
      "725/725 [==============================] - 19s 26ms/step - loss: 0.1392 - accuracy: 0.9815 - auc: 0.9983 - precision: 0.9833 - recall: 0.9792 - val_loss: 0.6816 - val_accuracy: 0.8444 - val_auc: 0.9138 - val_precision: 0.8461 - val_recall: 0.8372\n",
      "Epoch 36/50\n",
      "725/725 [==============================] - 18s 25ms/step - loss: 0.1284 - accuracy: 0.9862 - auc: 0.9988 - precision: 0.9874 - recall: 0.9845 - val_loss: 0.6892 - val_accuracy: 0.8482 - val_auc: 0.9140 - val_precision: 0.8466 - val_recall: 0.8460\n",
      "Epoch 37/50\n",
      "725/725 [==============================] - 18s 25ms/step - loss: 0.1387 - accuracy: 0.9810 - auc: 0.9982 - precision: 0.9828 - recall: 0.9785 - val_loss: 0.7415 - val_accuracy: 0.8418 - val_auc: 0.9103 - val_precision: 0.8777 - val_recall: 0.7897\n",
      "Epoch 38/50\n",
      "725/725 [==============================] - 18s 24ms/step - loss: 0.1330 - accuracy: 0.9833 - auc: 0.9987 - precision: 0.9846 - recall: 0.9813 - val_loss: 0.7380 - val_accuracy: 0.8337 - val_auc: 0.9092 - val_precision: 0.9130 - val_recall: 0.7331\n",
      "Epoch 39/50\n",
      "725/725 [==============================] - 18s 24ms/step - loss: 0.1266 - accuracy: 0.9852 - auc: 0.9989 - precision: 0.9867 - recall: 0.9831 - val_loss: 0.7114 - val_accuracy: 0.8506 - val_auc: 0.9115 - val_precision: 0.8851 - val_recall: 0.8016\n",
      "Epoch 40/50\n",
      "725/725 [==============================] - 18s 25ms/step - loss: 0.1279 - accuracy: 0.9844 - auc: 0.9989 - precision: 0.9857 - recall: 0.9826 - val_loss: 0.7793 - val_accuracy: 0.8278 - val_auc: 0.9076 - val_precision: 0.9206 - val_recall: 0.7129\n",
      "Epoch 41/50\n",
      "725/725 [==============================] - 18s 25ms/step - loss: 0.1294 - accuracy: 0.9846 - auc: 0.9985 - precision: 0.9863 - recall: 0.9824 - val_loss: 0.6682 - val_accuracy: 0.8459 - val_auc: 0.9146 - val_precision: 0.8821 - val_recall: 0.7943\n",
      "Epoch 42/50\n",
      "725/725 [==============================] - 18s 25ms/step - loss: 0.1223 - accuracy: 0.9868 - auc: 0.9989 - precision: 0.9887 - recall: 0.9845 - val_loss: 0.7680 - val_accuracy: 0.8473 - val_auc: 0.9065 - val_precision: 0.8174 - val_recall: 0.8896\n",
      "Epoch 43/50\n",
      "725/725 [==============================] - 18s 24ms/step - loss: 0.1300 - accuracy: 0.9842 - auc: 0.9985 - precision: 0.9853 - recall: 0.9825 - val_loss: 0.6978 - val_accuracy: 0.8514 - val_auc: 0.9155 - val_precision: 0.8904 - val_recall: 0.7974\n",
      "Epoch 44/50\n",
      "725/725 [==============================] - 18s 24ms/step - loss: 0.1218 - accuracy: 0.9866 - auc: 0.9990 - precision: 0.9884 - recall: 0.9843 - val_loss: 0.6903 - val_accuracy: 0.8542 - val_auc: 0.9168 - val_precision: 0.8614 - val_recall: 0.8400\n",
      "Epoch 45/50\n",
      "725/725 [==============================] - 19s 26ms/step - loss: 0.1181 - accuracy: 0.9878 - auc: 0.9991 - precision: 0.9891 - recall: 0.9862 - val_loss: 0.6178 - val_accuracy: 0.8554 - val_auc: 0.9213 - val_precision: 0.8694 - val_recall: 0.8323\n",
      "Epoch 46/50\n",
      "725/725 [==============================] - 19s 27ms/step - loss: 0.1235 - accuracy: 0.9865 - auc: 0.9986 - precision: 0.9892 - recall: 0.9834 - val_loss: 0.6573 - val_accuracy: 0.8570 - val_auc: 0.9170 - val_precision: 0.8469 - val_recall: 0.8673\n",
      "Epoch 47/50\n",
      "725/725 [==============================] - 20s 27ms/step - loss: 0.1182 - accuracy: 0.9864 - auc: 0.9992 - precision: 0.9876 - recall: 0.9847 - val_loss: 0.6932 - val_accuracy: 0.8458 - val_auc: 0.9127 - val_precision: 0.8359 - val_recall: 0.8557\n",
      "Epoch 48/50\n",
      "725/725 [==============================] - 21s 29ms/step - loss: 0.1153 - accuracy: 0.9880 - auc: 0.9990 - precision: 0.9889 - recall: 0.9868 - val_loss: 0.6565 - val_accuracy: 0.8590 - val_auc: 0.9195 - val_precision: 0.8630 - val_recall: 0.8495\n",
      "Epoch 49/50\n",
      "725/725 [==============================] - 18s 25ms/step - loss: 0.1167 - accuracy: 0.9870 - auc: 0.9991 - precision: 0.9881 - recall: 0.9854 - val_loss: 0.7314 - val_accuracy: 0.8566 - val_auc: 0.9120 - val_precision: 0.8848 - val_recall: 0.8159\n",
      "Epoch 50/50\n",
      "725/725 [==============================] - 19s 27ms/step - loss: 0.1176 - accuracy: 0.9873 - auc: 0.9989 - precision: 0.9876 - recall: 0.9865 - val_loss: 0.6320 - val_accuracy: 0.8523 - val_auc: 0.9208 - val_precision: 0.8428 - val_recall: 0.8617\n"
     ]
    }
   ],
   "source": [
    "his3=model3.fit(X_train,y_train,epochs=50,batch_size=32,validation_split=0.2)"
   ]
  },
  {
   "cell_type": "code",
   "execution_count": 12,
   "metadata": {},
   "outputs": [],
   "source": [
    "model3.save_weights(\"model3.h5\")"
   ]
  },
  {
   "cell_type": "code",
   "execution_count": 35,
   "metadata": {},
   "outputs": [],
   "source": [
    "his.append(his3)"
   ]
  },
  {
   "cell_type": "code",
   "execution_count": 3,
   "metadata": {},
   "outputs": [],
   "source": [
    "model4=create_model()"
   ]
  },
  {
   "cell_type": "code",
   "execution_count": 4,
   "metadata": {},
   "outputs": [],
   "source": [
    "X_train=pickle.load(open(\"X_train_sub4\",\"rb\"))/255.0\n",
    "y_train=pickle.load(open(\"y_train_sub4\",\"rb\"))"
   ]
  },
  {
   "cell_type": "code",
   "execution_count": 5,
   "metadata": {},
   "outputs": [
    {
     "name": "stdout",
     "output_type": "stream",
     "text": [
      "Epoch 1/50\n",
      "725/725 [==============================] - 28s 27ms/step - loss: 0.8244 - accuracy: 0.5384 - auc: 0.5543 - precision: 0.5390 - recall: 0.4477 - val_loss: 0.7262 - val_accuracy: 0.6296 - val_auc: 0.6743 - val_precision: 0.5959 - val_recall: 0.8333\n",
      "Epoch 2/50\n",
      "725/725 [==============================] - 19s 26ms/step - loss: 0.6655 - accuracy: 0.6801 - auc: 0.7347 - precision: 0.6759 - recall: 0.6763 - val_loss: 0.5861 - val_accuracy: 0.7295 - val_auc: 0.8163 - val_precision: 0.7017 - val_recall: 0.8098\n",
      "Epoch 3/50\n",
      "725/725 [==============================] - 19s 26ms/step - loss: 0.5741 - accuracy: 0.7489 - auc: 0.8216 - precision: 0.7524 - recall: 0.7323 - val_loss: 0.5336 - val_accuracy: 0.7655 - val_auc: 0.8528 - val_precision: 0.7596 - val_recall: 0.7853\n",
      "Epoch 4/50\n",
      "725/725 [==============================] - 19s 27ms/step - loss: 0.5166 - accuracy: 0.7842 - auc: 0.8607 - precision: 0.7912 - recall: 0.7646 - val_loss: 0.4891 - val_accuracy: 0.7878 - val_auc: 0.8788 - val_precision: 0.7926 - val_recall: 0.7866\n",
      "Epoch 5/50\n",
      "725/725 [==============================] - 20s 27ms/step - loss: 0.4698 - accuracy: 0.8129 - auc: 0.8905 - precision: 0.8232 - recall: 0.7907 - val_loss: 0.4877 - val_accuracy: 0.7905 - val_auc: 0.8842 - val_precision: 0.8250 - val_recall: 0.7440\n",
      "Epoch 6/50\n",
      "725/725 [==============================] - 20s 28ms/step - loss: 0.4290 - accuracy: 0.8339 - auc: 0.9139 - precision: 0.8425 - recall: 0.8159 - val_loss: 0.4509 - val_accuracy: 0.8168 - val_auc: 0.9071 - val_precision: 0.7977 - val_recall: 0.8548\n",
      "Epoch 7/50\n",
      "725/725 [==============================] - 20s 27ms/step - loss: 0.3838 - accuracy: 0.8607 - auc: 0.9366 - precision: 0.8677 - recall: 0.8470 - val_loss: 0.4520 - val_accuracy: 0.8271 - val_auc: 0.9136 - val_precision: 0.8147 - val_recall: 0.8524\n",
      "Epoch 8/50\n",
      "725/725 [==============================] - 20s 27ms/step - loss: 0.3452 - accuracy: 0.8869 - auc: 0.9533 - precision: 0.8918 - recall: 0.8774 - val_loss: 0.4471 - val_accuracy: 0.8351 - val_auc: 0.9182 - val_precision: 0.8741 - val_recall: 0.7877\n",
      "Epoch 9/50\n",
      "725/725 [==============================] - 19s 27ms/step - loss: 0.3029 - accuracy: 0.9074 - auc: 0.9686 - precision: 0.9095 - recall: 0.9022 - val_loss: 0.4509 - val_accuracy: 0.8418 - val_auc: 0.9224 - val_precision: 0.8565 - val_recall: 0.8258\n",
      "Epoch 10/50\n",
      "725/725 [==============================] - 20s 28ms/step - loss: 0.2683 - accuracy: 0.9229 - auc: 0.9789 - precision: 0.9246 - recall: 0.9186 - val_loss: 0.4875 - val_accuracy: 0.8413 - val_auc: 0.9229 - val_precision: 0.8295 - val_recall: 0.8640\n",
      "Epoch 11/50\n",
      "725/725 [==============================] - 19s 27ms/step - loss: 0.2443 - accuracy: 0.9360 - auc: 0.9850 - precision: 0.9359 - recall: 0.9343 - val_loss: 0.5073 - val_accuracy: 0.8439 - val_auc: 0.9193 - val_precision: 0.8548 - val_recall: 0.8330\n",
      "Epoch 12/50\n",
      "725/725 [==============================] - 20s 28ms/step - loss: 0.2164 - accuracy: 0.9478 - auc: 0.9905 - precision: 0.9485 - recall: 0.9456 - val_loss: 0.5664 - val_accuracy: 0.8339 - val_auc: 0.9192 - val_precision: 0.8110 - val_recall: 0.8759\n",
      "Epoch 13/50\n",
      "725/725 [==============================] - 20s 27ms/step - loss: 0.2048 - accuracy: 0.9546 - auc: 0.9925 - precision: 0.9564 - recall: 0.9514 - val_loss: 0.5710 - val_accuracy: 0.8371 - val_auc: 0.9173 - val_precision: 0.8105 - val_recall: 0.8851\n",
      "Epoch 14/50\n",
      "725/725 [==============================] - 21s 28ms/step - loss: 0.1928 - accuracy: 0.9615 - auc: 0.9942 - precision: 0.9605 - recall: 0.9615 - val_loss: 0.5823 - val_accuracy: 0.8473 - val_auc: 0.9244 - val_precision: 0.8903 - val_recall: 0.7965\n",
      "Epoch 15/50\n",
      "725/725 [==============================] - 20s 28ms/step - loss: 0.1872 - accuracy: 0.9633 - auc: 0.9948 - precision: 0.9638 - recall: 0.9617 - val_loss: 0.5784 - val_accuracy: 0.8461 - val_auc: 0.9229 - val_precision: 0.8341 - val_recall: 0.8688\n",
      "Epoch 16/50\n",
      "725/725 [==============================] - 20s 27ms/step - loss: 0.1796 - accuracy: 0.9665 - auc: 0.9959 - precision: 0.9666 - recall: 0.9656 - val_loss: 0.6182 - val_accuracy: 0.8461 - val_auc: 0.9204 - val_precision: 0.8721 - val_recall: 0.8156\n",
      "Epoch 17/50\n",
      "725/725 [==============================] - 19s 27ms/step - loss: 0.1712 - accuracy: 0.9702 - auc: 0.9965 - precision: 0.9692 - recall: 0.9705 - val_loss: 0.6078 - val_accuracy: 0.8433 - val_auc: 0.9233 - val_precision: 0.8893 - val_recall: 0.7887\n",
      "Epoch 18/50\n",
      "725/725 [==============================] - 20s 27ms/step - loss: 0.1668 - accuracy: 0.9713 - auc: 0.9969 - precision: 0.9716 - recall: 0.9703 - val_loss: 0.6793 - val_accuracy: 0.8463 - val_auc: 0.9195 - val_precision: 0.8193 - val_recall: 0.8933\n",
      "Epoch 19/50\n",
      "725/725 [==============================] - 19s 26ms/step - loss: 0.1633 - accuracy: 0.9736 - auc: 0.9973 - precision: 0.9728 - recall: 0.9737 - val_loss: 0.6188 - val_accuracy: 0.8413 - val_auc: 0.9209 - val_precision: 0.8161 - val_recall: 0.8862\n",
      "Epoch 20/50\n",
      "725/725 [==============================] - 20s 28ms/step - loss: 0.1624 - accuracy: 0.9735 - auc: 0.9972 - precision: 0.9713 - recall: 0.9752 - val_loss: 0.6553 - val_accuracy: 0.8518 - val_auc: 0.9200 - val_precision: 0.8591 - val_recall: 0.8459\n",
      "Epoch 21/50\n",
      "725/725 [==============================] - 20s 27ms/step - loss: 0.1614 - accuracy: 0.9760 - auc: 0.9970 - precision: 0.9750 - recall: 0.9765 - val_loss: 0.6459 - val_accuracy: 0.8482 - val_auc: 0.9219 - val_precision: 0.8644 - val_recall: 0.8303\n",
      "Epoch 22/50\n",
      "725/725 [==============================] - 20s 27ms/step - loss: 0.1536 - accuracy: 0.9787 - auc: 0.9978 - precision: 0.9769 - recall: 0.9800 - val_loss: 0.5917 - val_accuracy: 0.8511 - val_auc: 0.9233 - val_precision: 0.8632 - val_recall: 0.8388\n",
      "Epoch 23/50\n",
      "725/725 [==============================] - 19s 27ms/step - loss: 0.1528 - accuracy: 0.9765 - auc: 0.9979 - precision: 0.9765 - recall: 0.9759 - val_loss: 0.6558 - val_accuracy: 0.8440 - val_auc: 0.9190 - val_precision: 0.8212 - val_recall: 0.8845\n",
      "Epoch 24/50\n",
      "725/725 [==============================] - 20s 27ms/step - loss: 0.1494 - accuracy: 0.9783 - auc: 0.9980 - precision: 0.9769 - recall: 0.9791 - val_loss: 0.6787 - val_accuracy: 0.8473 - val_auc: 0.9172 - val_precision: 0.8451 - val_recall: 0.8551\n",
      "Epoch 25/50\n",
      "725/725 [==============================] - 19s 26ms/step - loss: 0.1430 - accuracy: 0.9807 - auc: 0.9984 - precision: 0.9809 - recall: 0.9800 - val_loss: 0.6252 - val_accuracy: 0.8502 - val_auc: 0.9189 - val_precision: 0.8374 - val_recall: 0.8739\n",
      "Epoch 26/50\n",
      "725/725 [==============================] - 20s 28ms/step - loss: 0.1442 - accuracy: 0.9809 - auc: 0.9982 - precision: 0.9794 - recall: 0.9820 - val_loss: 0.6392 - val_accuracy: 0.8544 - val_auc: 0.9202 - val_precision: 0.8873 - val_recall: 0.8160\n",
      "Epoch 27/50\n",
      "725/725 [==============================] - 20s 27ms/step - loss: 0.1449 - accuracy: 0.9796 - auc: 0.9980 - precision: 0.9786 - recall: 0.9800 - val_loss: 0.5996 - val_accuracy: 0.8496 - val_auc: 0.9247 - val_precision: 0.8265 - val_recall: 0.8896\n",
      "Epoch 28/50\n",
      "725/725 [==============================] - 20s 27ms/step - loss: 0.1408 - accuracy: 0.9811 - auc: 0.9985 - precision: 0.9809 - recall: 0.9808 - val_loss: 0.6328 - val_accuracy: 0.8611 - val_auc: 0.9224 - val_precision: 0.8607 - val_recall: 0.8657\n",
      "Epoch 29/50\n",
      "725/725 [==============================] - 20s 28ms/step - loss: 0.1361 - accuracy: 0.9827 - auc: 0.9986 - precision: 0.9821 - recall: 0.9829 - val_loss: 0.6254 - val_accuracy: 0.8489 - val_auc: 0.9225 - val_precision: 0.8921 - val_recall: 0.7979\n",
      "Epoch 30/50\n",
      "725/725 [==============================] - 20s 27ms/step - loss: 0.1389 - accuracy: 0.9820 - auc: 0.9984 - precision: 0.9808 - recall: 0.9828 - val_loss: 0.6479 - val_accuracy: 0.8504 - val_auc: 0.9214 - val_precision: 0.8390 - val_recall: 0.8718\n",
      "Epoch 31/50\n",
      "725/725 [==============================] - 20s 28ms/step - loss: 0.1378 - accuracy: 0.9830 - auc: 0.9985 - precision: 0.9817 - recall: 0.9840 - val_loss: 0.6549 - val_accuracy: 0.8528 - val_auc: 0.9203 - val_precision: 0.8750 - val_recall: 0.8275\n",
      "Epoch 32/50\n",
      "725/725 [==============================] - 20s 27ms/step - loss: 0.1357 - accuracy: 0.9833 - auc: 0.9985 - precision: 0.9825 - recall: 0.9837 - val_loss: 0.6628 - val_accuracy: 0.8570 - val_auc: 0.9189 - val_precision: 0.8519 - val_recall: 0.8684\n"
     ]
    },
    {
     "name": "stdout",
     "output_type": "stream",
     "text": [
      "Epoch 33/50\n",
      "725/725 [==============================] - 20s 27ms/step - loss: 0.1300 - accuracy: 0.9845 - auc: 0.9988 - precision: 0.9844 - recall: 0.9842 - val_loss: 0.6229 - val_accuracy: 0.8611 - val_auc: 0.9225 - val_precision: 0.8752 - val_recall: 0.8463\n",
      "Epoch 34/50\n",
      "725/725 [==============================] - 19s 27ms/step - loss: 0.1309 - accuracy: 0.9846 - auc: 0.9988 - precision: 0.9841 - recall: 0.9848 - val_loss: 0.6746 - val_accuracy: 0.8401 - val_auc: 0.9155 - val_precision: 0.8102 - val_recall: 0.8933\n",
      "Epoch 35/50\n",
      "725/725 [==============================] - 20s 28ms/step - loss: 0.1315 - accuracy: 0.9836 - auc: 0.9986 - precision: 0.9826 - recall: 0.9844 - val_loss: 0.6843 - val_accuracy: 0.8587 - val_auc: 0.9155 - val_precision: 0.8792 - val_recall: 0.8357\n",
      "Epoch 36/50\n",
      "725/725 [==============================] - 20s 27ms/step - loss: 0.1247 - accuracy: 0.9863 - auc: 0.9989 - precision: 0.9858 - recall: 0.9865 - val_loss: 0.6675 - val_accuracy: 0.8566 - val_auc: 0.9169 - val_precision: 0.8850 - val_recall: 0.8238\n",
      "Epoch 37/50\n",
      "725/725 [==============================] - 19s 27ms/step - loss: 0.1243 - accuracy: 0.9854 - auc: 0.9990 - precision: 0.9852 - recall: 0.9852 - val_loss: 0.6325 - val_accuracy: 0.8546 - val_auc: 0.9213 - val_precision: 0.8402 - val_recall: 0.8800\n",
      "Epoch 38/50\n",
      "725/725 [==============================] - 20s 27ms/step - loss: 0.1217 - accuracy: 0.9868 - auc: 0.9988 - precision: 0.9862 - recall: 0.9872 - val_loss: 0.6840 - val_accuracy: 0.8594 - val_auc: 0.9164 - val_precision: 0.8860 - val_recall: 0.8289\n",
      "Epoch 39/50\n",
      "725/725 [==============================] - 20s 27ms/step - loss: 0.1205 - accuracy: 0.9871 - auc: 0.9990 - precision: 0.9865 - recall: 0.9873 - val_loss: 0.6737 - val_accuracy: 0.8546 - val_auc: 0.9186 - val_precision: 0.8722 - val_recall: 0.8350\n",
      "Epoch 40/50\n",
      "725/725 [==============================] - 20s 27ms/step - loss: 0.1209 - accuracy: 0.9860 - auc: 0.9989 - precision: 0.9858 - recall: 0.9858 - val_loss: 0.6920 - val_accuracy: 0.8533 - val_auc: 0.9148 - val_precision: 0.8638 - val_recall: 0.8432\n",
      "Epoch 41/50\n",
      "725/725 [==============================] - 21s 28ms/step - loss: 0.1191 - accuracy: 0.9865 - auc: 0.9990 - precision: 0.9855 - recall: 0.9872 - val_loss: 0.6258 - val_accuracy: 0.8511 - val_auc: 0.9167 - val_precision: 0.8562 - val_recall: 0.8483\n",
      "Epoch 42/50\n",
      "725/725 [==============================] - 24s 33ms/step - loss: 0.1150 - accuracy: 0.9884 - auc: 0.9992 - precision: 0.9879 - recall: 0.9886 - val_loss: 0.7137 - val_accuracy: 0.8549 - val_auc: 0.9123 - val_precision: 0.8676 - val_recall: 0.8419\n",
      "Epoch 43/50\n",
      "725/725 [==============================] - 24s 33ms/step - loss: 0.1167 - accuracy: 0.9881 - auc: 0.9990 - precision: 0.9880 - recall: 0.9878 - val_loss: 0.6612 - val_accuracy: 0.8540 - val_auc: 0.9184 - val_precision: 0.8689 - val_recall: 0.8381\n",
      "Epoch 44/50\n",
      "725/725 [==============================] - 23s 32ms/step - loss: 0.1121 - accuracy: 0.9885 - auc: 0.9991 - precision: 0.9880 - recall: 0.9887 - val_loss: 0.7010 - val_accuracy: 0.8563 - val_auc: 0.9169 - val_precision: 0.8609 - val_recall: 0.8541\n",
      "Epoch 45/50\n",
      "725/725 [==============================] - 23s 32ms/step - loss: 0.1183 - accuracy: 0.9863 - auc: 0.9988 - precision: 0.9849 - recall: 0.9873 - val_loss: 0.6724 - val_accuracy: 0.8523 - val_auc: 0.9169 - val_precision: 0.8727 - val_recall: 0.8292\n",
      "Epoch 46/50\n",
      "725/725 [==============================] - 24s 33ms/step - loss: 0.1116 - accuracy: 0.9889 - auc: 0.9991 - precision: 0.9882 - recall: 0.9893 - val_loss: 0.7024 - val_accuracy: 0.8594 - val_auc: 0.9149 - val_precision: 0.8785 - val_recall: 0.8381\n",
      "Epoch 47/50\n",
      "725/725 [==============================] - 23s 32ms/step - loss: 0.1120 - accuracy: 0.9880 - auc: 0.9992 - precision: 0.9873 - recall: 0.9885 - val_loss: 0.7224 - val_accuracy: 0.8604 - val_auc: 0.9153 - val_precision: 0.8635 - val_recall: 0.8603\n",
      "Epoch 48/50\n",
      "725/725 [==============================] - 23s 32ms/step - loss: 0.1144 - accuracy: 0.9879 - auc: 0.9991 - precision: 0.9873 - recall: 0.9883 - val_loss: 0.6726 - val_accuracy: 0.8582 - val_auc: 0.9206 - val_precision: 0.8558 - val_recall: 0.8657\n",
      "Epoch 49/50\n",
      "725/725 [==============================] - 23s 32ms/step - loss: 0.1086 - accuracy: 0.9888 - auc: 0.9994 - precision: 0.9885 - recall: 0.9888 - val_loss: 0.6702 - val_accuracy: 0.8578 - val_auc: 0.9200 - val_precision: 0.8676 - val_recall: 0.8487\n",
      "Epoch 50/50\n",
      "725/725 [==============================] - 24s 32ms/step - loss: 0.1081 - accuracy: 0.9890 - auc: 0.9992 - precision: 0.9884 - recall: 0.9893 - val_loss: 0.7362 - val_accuracy: 0.8518 - val_auc: 0.9128 - val_precision: 0.9026 - val_recall: 0.7928\n"
     ]
    }
   ],
   "source": [
    "his4=model4.fit(X_train,y_train,epochs=50,batch_size=32,validation_split=0.2)"
   ]
  },
  {
   "cell_type": "code",
   "execution_count": 6,
   "metadata": {},
   "outputs": [],
   "source": [
    "model4.save_weights(\"model4.h5\")"
   ]
  },
  {
   "cell_type": "code",
   "execution_count": 36,
   "metadata": {},
   "outputs": [],
   "source": [
    "his.append(his4)"
   ]
  },
  {
   "cell_type": "code",
   "execution_count": 3,
   "metadata": {},
   "outputs": [],
   "source": [
    "model5=create_model()"
   ]
  },
  {
   "cell_type": "code",
   "execution_count": 4,
   "metadata": {},
   "outputs": [],
   "source": [
    "X_train=pickle.load(open(\"X_train_sub5\",\"rb\"))/255.0\n",
    "y_train=pickle.load(open(\"y_train_sub5\",\"rb\"))"
   ]
  },
  {
   "cell_type": "code",
   "execution_count": 5,
   "metadata": {
    "scrolled": false
   },
   "outputs": [
    {
     "name": "stdout",
     "output_type": "stream",
     "text": [
      "Epoch 1/50\n",
      "725/725 [==============================] - 37s 34ms/step - loss: 0.8251 - accuracy: 0.5446 - auc: 0.5759 - precision: 0.5553 - recall: 0.4088 - val_loss: 0.7118 - val_accuracy: 0.6551 - val_auc: 0.7163 - val_precision: 0.7045 - val_recall: 0.5458\n",
      "Epoch 2/50\n",
      "725/725 [==============================] - 23s 31ms/step - loss: 0.6526 - accuracy: 0.6921 - auc: 0.7532 - precision: 0.6891 - recall: 0.6906 - val_loss: 0.5843 - val_accuracy: 0.7381 - val_auc: 0.8205 - val_precision: 0.7836 - val_recall: 0.6647\n",
      "Epoch 3/50\n",
      "725/725 [==============================] - 22s 30ms/step - loss: 0.5557 - accuracy: 0.7585 - auc: 0.8342 - precision: 0.7596 - recall: 0.7504 - val_loss: 0.5309 - val_accuracy: 0.7674 - val_auc: 0.8623 - val_precision: 0.7361 - val_recall: 0.8407\n",
      "Epoch 4/50\n",
      "725/725 [==============================] - 20s 28ms/step - loss: 0.5073 - accuracy: 0.7878 - auc: 0.8666 - precision: 0.7885 - recall: 0.7817 - val_loss: 0.5097 - val_accuracy: 0.7819 - val_auc: 0.8679 - val_precision: 0.8046 - val_recall: 0.7502\n",
      "Epoch 5/50\n",
      "725/725 [==============================] - 33s 45ms/step - loss: 0.4611 - accuracy: 0.8123 - auc: 0.8944 - precision: 0.8112 - recall: 0.8099 - val_loss: 0.4654 - val_accuracy: 0.8107 - val_auc: 0.8928 - val_precision: 0.8176 - val_recall: 0.8045\n",
      "Epoch 6/50\n",
      "725/725 [==============================] - 53s 73ms/step - loss: 0.4158 - accuracy: 0.8397 - auc: 0.9195 - precision: 0.8371 - recall: 0.8402 - val_loss: 0.4949 - val_accuracy: 0.8018 - val_auc: 0.9025 - val_precision: 0.7560 - val_recall: 0.8968y: 0.8391 -\n",
      "Epoch 7/50\n",
      "725/725 [==============================] - 52s 71ms/step - loss: 0.3684 - accuracy: 0.8639 - auc: 0.9418 - precision: 0.8603 - recall: 0.8663 - val_loss: 0.4614 - val_accuracy: 0.8237 - val_auc: 0.9113 - val_precision: 0.8071 - val_recall: 0.8551\n",
      "Epoch 8/50\n",
      "725/725 [==============================] - 50s 69ms/step - loss: 0.3265 - accuracy: 0.8889 - auc: 0.9588 - precision: 0.8878 - recall: 0.8882 - val_loss: 0.4443 - val_accuracy: 0.8389 - val_auc: 0.9192 - val_precision: 0.8480 - val_recall: 0.8295\n",
      "Epoch 9/50\n",
      "725/725 [==============================] - 49s 68ms/step - loss: 0.2907 - accuracy: 0.9087 - auc: 0.9708 - precision: 0.9045 - recall: 0.9122 - val_loss: 0.4713 - val_accuracy: 0.8295 - val_auc: 0.9186 - val_precision: 0.8696 - val_recall: 0.7792\n",
      "Epoch 10/50\n",
      "725/725 [==============================] - 49s 68ms/step - loss: 0.2547 - accuracy: 0.9248 - auc: 0.9807 - precision: 0.9198 - recall: 0.9294 - val_loss: 0.4939 - val_accuracy: 0.8370 - val_auc: 0.9187 - val_precision: 0.8240 - val_recall: 0.8609\n",
      "Epoch 11/50\n",
      "725/725 [==============================] - 48s 67ms/step - loss: 0.2326 - accuracy: 0.9362 - auc: 0.9858 - precision: 0.9317 - recall: 0.9403 - val_loss: 0.5316 - val_accuracy: 0.8325 - val_auc: 0.9178 - val_precision: 0.8063 - val_recall: 0.8794\n",
      "Epoch 12/50\n",
      "725/725 [==============================] - 49s 67ms/step - loss: 0.2134 - accuracy: 0.9464 - auc: 0.9896 - precision: 0.9394 - recall: 0.9534 - val_loss: 0.5520 - val_accuracy: 0.8432 - val_auc: 0.9231 - val_precision: 0.8361 - val_recall: 0.8575\n",
      "Epoch 13/50\n",
      "725/725 [==============================] - 48s 66ms/step - loss: 0.2037 - accuracy: 0.9516 - auc: 0.9916 - precision: 0.9455 - recall: 0.9576 - val_loss: 0.5616 - val_accuracy: 0.8395 - val_auc: 0.9177 - val_precision: 0.8529 - val_recall: 0.8243\n",
      "Epoch 14/50\n",
      "725/725 [==============================] - 48s 66ms/step - loss: 0.1912 - accuracy: 0.9577 - auc: 0.9932 - precision: 0.9512 - recall: 0.9641 - val_loss: 0.5758 - val_accuracy: 0.8314 - val_auc: 0.9170 - val_precision: 0.8050 - val_recall: 0.8790\n",
      "Epoch 15/50\n",
      "725/725 [==============================] - 27s 38ms/step - loss: 0.1826 - accuracy: 0.9594 - auc: 0.9945 - precision: 0.9532 - recall: 0.9655 - val_loss: 0.6078 - val_accuracy: 0.8470 - val_auc: 0.9218 - val_precision: 0.8448 - val_recall: 0.8537\n",
      "Epoch 16/50\n",
      "725/725 [==============================] - 22s 31ms/step - loss: 0.1743 - accuracy: 0.9649 - auc: 0.9954 - precision: 0.9601 - recall: 0.9695 - val_loss: 0.5838 - val_accuracy: 0.8416 - val_auc: 0.9203 - val_precision: 0.8403 - val_recall: 0.8472\n",
      "Epoch 17/50\n",
      "725/725 [==============================] - 53s 74ms/step - loss: 0.1704 - accuracy: 0.9679 - auc: 0.9956 - precision: 0.9616 - recall: 0.9742 - val_loss: 0.5763 - val_accuracy: 0.8409 - val_auc: 0.9172 - val_precision: 0.8327 - val_recall: 0.8571\n",
      "Epoch 18/50\n",
      "725/725 [==============================] - 51s 70ms/step - loss: 0.1683 - accuracy: 0.9671 - auc: 0.9961 - precision: 0.9608 - recall: 0.9734 - val_loss: 0.6043 - val_accuracy: 0.8497 - val_auc: 0.9209 - val_precision: 0.8518 - val_recall: 0.8503\n",
      "Epoch 19/50\n",
      "725/725 [==============================] - 49s 68ms/step - loss: 0.1641 - accuracy: 0.9695 - auc: 0.9964 - precision: 0.9634 - recall: 0.9756 - val_loss: 0.6734 - val_accuracy: 0.8440 - val_auc: 0.9164 - val_precision: 0.8150 - val_recall: 0.8941\n",
      "Epoch 20/50\n",
      "725/725 [==============================] - 49s 68ms/step - loss: 0.1627 - accuracy: 0.9718 - auc: 0.9966 - precision: 0.9665 - recall: 0.9770 - val_loss: 0.6272 - val_accuracy: 0.8470 - val_auc: 0.9196 - val_precision: 0.8591 - val_recall: 0.8336\n",
      "Epoch 21/50\n",
      "725/725 [==============================] - 49s 67ms/step - loss: 0.1618 - accuracy: 0.9709 - auc: 0.9966 - precision: 0.9661 - recall: 0.9756 - val_loss: 0.6434 - val_accuracy: 0.8485 - val_auc: 0.9179 - val_precision: 0.8623 - val_recall: 0.8329\n",
      "Epoch 22/50\n",
      "725/725 [==============================] - 49s 67ms/step - loss: 0.1561 - accuracy: 0.9738 - auc: 0.9971 - precision: 0.9693 - recall: 0.9782 - val_loss: 0.6923 - val_accuracy: 0.8442 - val_auc: 0.9143 - val_precision: 0.8784 - val_recall: 0.8025\n",
      "Epoch 23/50\n",
      "725/725 [==============================] - 49s 67ms/step - loss: 0.1464 - accuracy: 0.9783 - auc: 0.9978 - precision: 0.9731 - recall: 0.9835 - val_loss: 0.6718 - val_accuracy: 0.8473 - val_auc: 0.9146 - val_precision: 0.8664 - val_recall: 0.8247\n",
      "Epoch 24/50\n",
      "725/725 [==============================] - 48s 67ms/step - loss: 0.1509 - accuracy: 0.9757 - auc: 0.9973 - precision: 0.9700 - recall: 0.9814 - val_loss: 0.6427 - val_accuracy: 0.8445 - val_auc: 0.9144 - val_precision: 0.8457 - val_recall: 0.8465\n",
      "Epoch 25/50\n",
      "725/725 [==============================] - 48s 67ms/step - loss: 0.1464 - accuracy: 0.9766 - auc: 0.9978 - precision: 0.9715 - recall: 0.9816 - val_loss: 0.7000 - val_accuracy: 0.8537 - val_auc: 0.9138 - val_precision: 0.8633 - val_recall: 0.8438\n",
      "Epoch 26/50\n",
      "725/725 [==============================] - 48s 67ms/step - loss: 0.1445 - accuracy: 0.9786 - auc: 0.9978 - precision: 0.9742 - recall: 0.9829 - val_loss: 0.5976 - val_accuracy: 0.8487 - val_auc: 0.9217 - val_precision: 0.8484 - val_recall: 0.8527\n",
      "Epoch 27/50\n",
      "725/725 [==============================] - 47s 65ms/step - loss: 0.1404 - accuracy: 0.9799 - auc: 0.9981 - precision: 0.9758 - recall: 0.9838 - val_loss: 0.6751 - val_accuracy: 0.8506 - val_auc: 0.9151 - val_precision: 0.8748 - val_recall: 0.8216\n",
      "Epoch 28/50\n",
      "725/725 [==============================] - 47s 65ms/step - loss: 0.1412 - accuracy: 0.9785 - auc: 0.9979 - precision: 0.9731 - recall: 0.9838 - val_loss: 0.6654 - val_accuracy: 0.8527 - val_auc: 0.9163 - val_precision: 0.8610 - val_recall: 0.8445\n",
      "Epoch 29/50\n",
      "725/725 [==============================] - 48s 66ms/step - loss: 0.1418 - accuracy: 0.9774 - auc: 0.9980 - precision: 0.9732 - recall: 0.9815 - val_loss: 0.7023 - val_accuracy: 0.8452 - val_auc: 0.9143 - val_precision: 0.8385 - val_recall: 0.8589\n",
      "Epoch 30/50\n",
      "725/725 [==============================] - 36s 50ms/step - loss: 0.1333 - accuracy: 0.9816 - auc: 0.9984 - precision: 0.9773 - recall: 0.9858 - val_loss: 0.6324 - val_accuracy: 0.8525 - val_auc: 0.9187 - val_precision: 0.8658 - val_recall: 0.8377\n",
      "Epoch 31/50\n",
      "725/725 [==============================] - 23s 32ms/step - loss: 0.1349 - accuracy: 0.9800 - auc: 0.9983 - precision: 0.9761 - recall: 0.9837 - val_loss: 0.7080 - val_accuracy: 0.8480 - val_auc: 0.9119 - val_precision: 0.8671 - val_recall: 0.8254\n",
      "Epoch 32/50\n",
      "725/725 [==============================] - 23s 31ms/step - loss: 0.1343 - accuracy: 0.9814 - auc: 0.9982 - precision: 0.9784 - recall: 0.9842 - val_loss: 0.6484 - val_accuracy: 0.8521 - val_auc: 0.9189 - val_precision: 0.8691 - val_recall: 0.8325\n"
     ]
    },
    {
     "name": "stdout",
     "output_type": "stream",
     "text": [
      "Epoch 33/50\n",
      "725/725 [==============================] - 23s 32ms/step - loss: 0.1306 - accuracy: 0.9816 - auc: 0.9984 - precision: 0.9781 - recall: 0.9849 - val_loss: 0.6811 - val_accuracy: 0.8418 - val_auc: 0.9166 - val_precision: 0.8188 - val_recall: 0.8817\n",
      "Epoch 34/50\n",
      "725/725 [==============================] - 25s 35ms/step - loss: 0.1303 - accuracy: 0.9820 - auc: 0.9983 - precision: 0.9782 - recall: 0.9856 - val_loss: 0.6811 - val_accuracy: 0.8509 - val_auc: 0.9177 - val_precision: 0.8396 - val_recall: 0.8712\n",
      "Epoch 35/50\n",
      "725/725 [==============================] - 52s 72ms/step - loss: 0.1256 - accuracy: 0.9833 - auc: 0.9987 - precision: 0.9797 - recall: 0.9867 - val_loss: 0.6648 - val_accuracy: 0.8487 - val_auc: 0.9152 - val_precision: 0.8367 - val_recall: 0.8701\n",
      "Epoch 36/50\n",
      "725/725 [==============================] - 52s 71ms/step - loss: 0.1257 - accuracy: 0.9840 - auc: 0.9987 - precision: 0.9806 - recall: 0.9874 - val_loss: 0.6558 - val_accuracy: 0.8445 - val_auc: 0.9177 - val_precision: 0.8299 - val_recall: 0.8705\n",
      "Epoch 37/50\n",
      "725/725 [==============================] - 50s 69ms/step - loss: 0.1220 - accuracy: 0.9849 - auc: 0.9989 - precision: 0.9812 - recall: 0.9885 - val_loss: 0.6854 - val_accuracy: 0.8521 - val_auc: 0.9133 - val_precision: 0.8427 - val_recall: 0.8694\n",
      "Epoch 38/50\n",
      "725/725 [==============================] - 50s 69ms/step - loss: 0.1200 - accuracy: 0.9863 - auc: 0.9989 - precision: 0.9833 - recall: 0.9891 - val_loss: 0.6856 - val_accuracy: 0.8525 - val_auc: 0.9169 - val_precision: 0.8407 - val_recall: 0.8732\n",
      "Epoch 39/50\n",
      "725/725 [==============================] - 49s 68ms/step - loss: 0.1188 - accuracy: 0.9851 - auc: 0.9986 - precision: 0.9825 - recall: 0.9875 - val_loss: 0.7212 - val_accuracy: 0.8471 - val_auc: 0.9123 - val_precision: 0.8826 - val_recall: 0.8042\n",
      "Epoch 40/50\n",
      "725/725 [==============================] - 49s 68ms/step - loss: 0.1231 - accuracy: 0.9833 - auc: 0.9986 - precision: 0.9808 - recall: 0.9857 - val_loss: 0.7235 - val_accuracy: 0.8480 - val_auc: 0.9107 - val_precision: 0.8498 - val_recall: 0.8489\n",
      "Epoch 41/50\n",
      "725/725 [==============================] - 49s 68ms/step - loss: 0.1218 - accuracy: 0.9847 - auc: 0.9984 - precision: 0.9822 - recall: 0.9870 - val_loss: 0.7094 - val_accuracy: 0.8514 - val_auc: 0.9120 - val_precision: 0.8729 - val_recall: 0.8260\n",
      "Epoch 42/50\n",
      "725/725 [==============================] - 50s 69ms/step - loss: 0.1181 - accuracy: 0.9863 - auc: 0.9989 - precision: 0.9833 - recall: 0.9891 - val_loss: 0.7248 - val_accuracy: 0.8440 - val_auc: 0.9075 - val_precision: 0.8577 - val_recall: 0.8284\n",
      "Epoch 43/50\n",
      "725/725 [==============================] - 50s 68ms/step - loss: 0.1211 - accuracy: 0.9849 - auc: 0.9988 - precision: 0.9824 - recall: 0.9872 - val_loss: 0.7479 - val_accuracy: 0.8494 - val_auc: 0.9077 - val_precision: 0.8448 - val_recall: 0.8595\n",
      "Epoch 44/50\n",
      "725/725 [==============================] - 50s 69ms/step - loss: 0.1187 - accuracy: 0.9846 - auc: 0.9988 - precision: 0.9819 - recall: 0.9870 - val_loss: 0.6775 - val_accuracy: 0.8521 - val_auc: 0.9149 - val_precision: 0.8440 - val_recall: 0.8674\n",
      "Epoch 45/50\n",
      "725/725 [==============================] - 47s 64ms/step - loss: 0.1140 - accuracy: 0.9859 - auc: 0.9989 - precision: 0.9835 - recall: 0.9881 - val_loss: 0.7089 - val_accuracy: 0.8496 - val_auc: 0.9126 - val_precision: 0.8732 - val_recall: 0.8213\n",
      "Epoch 46/50\n",
      "725/725 [==============================] - 46s 63ms/step - loss: 0.1136 - accuracy: 0.9877 - auc: 0.9990 - precision: 0.9856 - recall: 0.9896 - val_loss: 0.7058 - val_accuracy: 0.8528 - val_auc: 0.9098 - val_precision: 0.8656 - val_recall: 0.8387\n",
      "Epoch 47/50\n",
      "725/725 [==============================] - 47s 64ms/step - loss: 0.1125 - accuracy: 0.9873 - auc: 0.9992 - precision: 0.9860 - recall: 0.9884 - val_loss: 0.8083 - val_accuracy: 0.8442 - val_auc: 0.9012 - val_precision: 0.8373 - val_recall: 0.8582\n",
      "Epoch 48/50\n",
      "725/725 [==============================] - 49s 68ms/step - loss: 0.1141 - accuracy: 0.9868 - auc: 0.9989 - precision: 0.9847 - recall: 0.9886 - val_loss: 0.7186 - val_accuracy: 0.8480 - val_auc: 0.9101 - val_precision: 0.8479 - val_recall: 0.8517\n",
      "Epoch 49/50\n",
      "725/725 [==============================] - 46s 63ms/step - loss: 0.1083 - accuracy: 0.9887 - auc: 0.9990 - precision: 0.9865 - recall: 0.9907 - val_loss: 0.7855 - val_accuracy: 0.8444 - val_auc: 0.9044 - val_precision: 0.8309 - val_recall: 0.8684\n",
      "Epoch 50/50\n",
      "725/725 [==============================] - 49s 67ms/step - loss: 0.1064 - accuracy: 0.9890 - auc: 0.9991 - precision: 0.9878 - recall: 0.9900 - val_loss: 0.6679 - val_accuracy: 0.8404 - val_auc: 0.9107 - val_precision: 0.8475 - val_recall: 0.8339\n"
     ]
    }
   ],
   "source": [
    "his5=model5.fit(X_train,y_train,epochs=50,batch_size=32,validation_split=0.2)"
   ]
  },
  {
   "cell_type": "code",
   "execution_count": 6,
   "metadata": {},
   "outputs": [],
   "source": [
    "model5.save_weights(\"model5.h5\")"
   ]
  },
  {
   "cell_type": "code",
   "execution_count": 37,
   "metadata": {},
   "outputs": [],
   "source": [
    "his.append(his5)"
   ]
  },
  {
   "cell_type": "code",
   "execution_count": 7,
   "metadata": {},
   "outputs": [],
   "source": [
    "model6=create_model()"
   ]
  },
  {
   "cell_type": "code",
   "execution_count": 8,
   "metadata": {},
   "outputs": [],
   "source": [
    "X_train=pickle.load(open(\"X_train_sub6\",\"rb\"))/255.0\n",
    "y_train=pickle.load(open(\"y_train_sub6\",\"rb\"))"
   ]
  },
  {
   "cell_type": "code",
   "execution_count": 9,
   "metadata": {},
   "outputs": [
    {
     "name": "stdout",
     "output_type": "stream",
     "text": [
      "Epoch 1/50\n",
      "725/725 [==============================] - 49s 64ms/step - loss: 0.8202 - accuracy: 0.5398 - auc: 0.5627 - precision: 0.5416 - recall: 0.4984 - val_loss: 0.7359 - val_accuracy: 0.6354 - val_auc: 0.6796 - val_precision: 0.6103 - val_recall: 0.7011\n",
      "Epoch 2/50\n",
      "725/725 [==============================] - 46s 63ms/step - loss: 0.6690 - accuracy: 0.6769 - auc: 0.7305 - precision: 0.6673 - recall: 0.7012 - val_loss: 0.6443 - val_accuracy: 0.6844 - val_auc: 0.7955 - val_precision: 0.6251 - val_recall: 0.8837\n",
      "Epoch 3/50\n",
      "725/725 [==============================] - 45s 63ms/step - loss: 0.5775 - accuracy: 0.7441 - auc: 0.8172 - precision: 0.7408 - recall: 0.7484 - val_loss: 0.5848 - val_accuracy: 0.7295 - val_auc: 0.8403 - val_precision: 0.6694 - val_recall: 0.8813\n",
      "Epoch 4/50\n",
      "725/725 [==============================] - 46s 63ms/step - loss: 0.5226 - accuracy: 0.7783 - auc: 0.8565 - precision: 0.7820 - recall: 0.7698 - val_loss: 0.5133 - val_accuracy: 0.7783 - val_auc: 0.8637 - val_precision: 0.7566 - val_recall: 0.8049\n",
      "Epoch 5/50\n",
      "725/725 [==============================] - 46s 63ms/step - loss: 0.4822 - accuracy: 0.8006 - auc: 0.8817 - precision: 0.8044 - recall: 0.7927 - val_loss: 0.5271 - val_accuracy: 0.7762 - val_auc: 0.8756 - val_precision: 0.7268 - val_recall: 0.8678\n",
      "Epoch 6/50\n",
      "725/725 [==============================] - 45s 63ms/step - loss: 0.4489 - accuracy: 0.8223 - auc: 0.9024 - precision: 0.8232 - recall: 0.8195 - val_loss: 0.4682 - val_accuracy: 0.8083 - val_auc: 0.8937 - val_precision: 0.7940 - val_recall: 0.8201\n",
      "Epoch 7/50\n",
      "725/725 [==============================] - 45s 63ms/step - loss: 0.4050 - accuracy: 0.8469 - auc: 0.9265 - precision: 0.8463 - recall: 0.8465 - val_loss: 0.4750 - val_accuracy: 0.8050 - val_auc: 0.8951 - val_precision: 0.8274 - val_recall: 0.7590\n",
      "Epoch 8/50\n",
      "725/725 [==============================] - 46s 63ms/step - loss: 0.3629 - accuracy: 0.8748 - auc: 0.9460 - precision: 0.8727 - recall: 0.8766 - val_loss: 0.4925 - val_accuracy: 0.8211 - val_auc: 0.9055 - val_precision: 0.8565 - val_recall: 0.7611\n",
      "Epoch 9/50\n",
      "725/725 [==============================] - 46s 63ms/step - loss: 0.3221 - accuracy: 0.8953 - auc: 0.9623 - precision: 0.8959 - recall: 0.8937 - val_loss: 0.4800 - val_accuracy: 0.8287 - val_auc: 0.9113 - val_precision: 0.8567 - val_recall: 0.7795\n",
      "Epoch 10/50\n",
      "725/725 [==============================] - 46s 63ms/step - loss: 0.2852 - accuracy: 0.9155 - auc: 0.9743 - precision: 0.9176 - recall: 0.9125 - val_loss: 0.4862 - val_accuracy: 0.8359 - val_auc: 0.9154 - val_precision: 0.8476 - val_recall: 0.8095\n",
      "Epoch 11/50\n",
      "725/725 [==============================] - 46s 63ms/step - loss: 0.2595 - accuracy: 0.9295 - auc: 0.9816 - precision: 0.9307 - recall: 0.9276 - val_loss: 0.5291 - val_accuracy: 0.8349 - val_auc: 0.9172 - val_precision: 0.8598 - val_recall: 0.7908\n",
      "Epoch 12/50\n",
      "725/725 [==============================] - 46s 63ms/step - loss: 0.2349 - accuracy: 0.9397 - auc: 0.9873 - precision: 0.9404 - recall: 0.9384 - val_loss: 0.5042 - val_accuracy: 0.8390 - val_auc: 0.9188 - val_precision: 0.8455 - val_recall: 0.8201\n",
      "Epoch 13/50\n",
      "725/725 [==============================] - 46s 63ms/step - loss: 0.2190 - accuracy: 0.9488 - auc: 0.9903 - precision: 0.9505 - recall: 0.9467 - val_loss: 0.5855 - val_accuracy: 0.8311 - val_auc: 0.9156 - val_precision: 0.8057 - val_recall: 0.8618\n",
      "Epoch 14/50\n",
      "725/725 [==============================] - 46s 63ms/step - loss: 0.2059 - accuracy: 0.9547 - auc: 0.9925 - precision: 0.9544 - recall: 0.9548 - val_loss: 0.5840 - val_accuracy: 0.8385 - val_auc: 0.9138 - val_precision: 0.8421 - val_recall: 0.8237\n",
      "Epoch 15/50\n",
      "725/725 [==============================] - 46s 63ms/step - loss: 0.1966 - accuracy: 0.9606 - auc: 0.9938 - precision: 0.9615 - recall: 0.9594 - val_loss: 0.5826 - val_accuracy: 0.8418 - val_auc: 0.9196 - val_precision: 0.8417 - val_recall: 0.8325\n",
      "Epoch 16/50\n",
      "725/725 [==============================] - 46s 63ms/step - loss: 0.1867 - accuracy: 0.9629 - auc: 0.9952 - precision: 0.9641 - recall: 0.9615 - val_loss: 0.6252 - val_accuracy: 0.8326 - val_auc: 0.9132 - val_precision: 0.8172 - val_recall: 0.8466\n",
      "Epoch 17/50\n",
      "725/725 [==============================] - 4917s 7s/step - loss: 0.1851 - accuracy: 0.9651 - auc: 0.9954 - precision: 0.9657 - recall: 0.9641 - val_loss: 0.5867 - val_accuracy: 0.8366 - val_auc: 0.9148 - val_precision: 0.8252 - val_recall: 0.8442\n",
      "Epoch 18/50\n",
      "725/725 [==============================] - 50s 69ms/step - loss: 0.1818 - accuracy: 0.9676 - auc: 0.9957 - precision: 0.9691 - recall: 0.9659 - val_loss: 0.6311 - val_accuracy: 0.8404 - val_auc: 0.9157 - val_precision: 0.8685 - val_recall: 0.7933\n",
      "Epoch 19/50\n",
      "725/725 [==============================] - 44s 61ms/step - loss: 0.1743 - accuracy: 0.9695 - auc: 0.9965 - precision: 0.9697 - recall: 0.9692 - val_loss: 0.6616 - val_accuracy: 0.8414 - val_auc: 0.9150 - val_precision: 0.8267 - val_recall: 0.8544\n",
      "Epoch 20/50\n",
      "725/725 [==============================] - 46s 63ms/step - loss: 0.1701 - accuracy: 0.9706 - auc: 0.9969 - precision: 0.9728 - recall: 0.9681 - val_loss: 0.6047 - val_accuracy: 0.8392 - val_auc: 0.9167 - val_precision: 0.8384 - val_recall: 0.8307\n",
      "Epoch 21/50\n",
      "725/725 [==============================] - 48s 66ms/step - loss: 0.1640 - accuracy: 0.9740 - auc: 0.9973 - precision: 0.9751 - recall: 0.9727 - val_loss: 0.6526 - val_accuracy: 0.8420 - val_auc: 0.9144 - val_precision: 0.8552 - val_recall: 0.8141\n",
      "Epoch 22/50\n",
      "725/725 [==============================] - 48s 66ms/step - loss: 0.1591 - accuracy: 0.9742 - auc: 0.9978 - precision: 0.9754 - recall: 0.9729 - val_loss: 0.6246 - val_accuracy: 0.8430 - val_auc: 0.9184 - val_precision: 0.8402 - val_recall: 0.8378\n",
      "Epoch 23/50\n",
      "725/725 [==============================] - 49s 68ms/step - loss: 0.1631 - accuracy: 0.9729 - auc: 0.9973 - precision: 0.9724 - recall: 0.9732 - val_loss: 0.6820 - val_accuracy: 0.8351 - val_auc: 0.9109 - val_precision: 0.8130 - val_recall: 0.8601\n",
      "Epoch 24/50\n",
      "725/725 [==============================] - 49s 68ms/step - loss: 0.1608 - accuracy: 0.9750 - auc: 0.9975 - precision: 0.9758 - recall: 0.9740 - val_loss: 0.6456 - val_accuracy: 0.8304 - val_auc: 0.9103 - val_precision: 0.8333 - val_recall: 0.8159\n",
      "Epoch 25/50\n",
      "725/725 [==============================] - 49s 68ms/step - loss: 0.1564 - accuracy: 0.9764 - auc: 0.9979 - precision: 0.9777 - recall: 0.9749 - val_loss: 0.7249 - val_accuracy: 0.8416 - val_auc: 0.9104 - val_precision: 0.8779 - val_recall: 0.7848\n",
      "Epoch 26/50\n",
      "725/725 [==============================] - 50s 69ms/step - loss: 0.1546 - accuracy: 0.9777 - auc: 0.9979 - precision: 0.9775 - recall: 0.9777 - val_loss: 0.7119 - val_accuracy: 0.8440 - val_auc: 0.9115 - val_precision: 0.8425 - val_recall: 0.8371\n",
      "Epoch 27/50\n",
      "725/725 [==============================] - 50s 69ms/step - loss: 0.1570 - accuracy: 0.9764 - auc: 0.9977 - precision: 0.9783 - recall: 0.9741 - val_loss: 0.6521 - val_accuracy: 0.8444 - val_auc: 0.9169 - val_precision: 0.8397 - val_recall: 0.8420\n",
      "Epoch 28/50\n",
      "725/725 [==============================] - 50s 69ms/step - loss: 0.1506 - accuracy: 0.9784 - auc: 0.9980 - precision: 0.9786 - recall: 0.9780 - val_loss: 0.6857 - val_accuracy: 0.8470 - val_auc: 0.9149 - val_precision: 0.8698 - val_recall: 0.8074\n",
      "Epoch 29/50\n",
      "725/725 [==============================] - 50s 69ms/step - loss: 0.1500 - accuracy: 0.9790 - auc: 0.9979 - precision: 0.9789 - recall: 0.9790 - val_loss: 0.6962 - val_accuracy: 0.8416 - val_auc: 0.9116 - val_precision: 0.8303 - val_recall: 0.8491\n",
      "Epoch 30/50\n",
      "725/725 [==============================] - 53s 72ms/step - loss: 0.1472 - accuracy: 0.9795 - auc: 0.9981 - precision: 0.9807 - recall: 0.9780 - val_loss: 0.6451 - val_accuracy: 0.8452 - val_auc: 0.9162 - val_precision: 0.8498 - val_recall: 0.8297\n",
      "Epoch 31/50\n",
      "725/725 [==============================] - 49s 68ms/step - loss: 0.1423 - accuracy: 0.9799 - auc: 0.9984 - precision: 0.9798 - recall: 0.9798 - val_loss: 0.6439 - val_accuracy: 0.8401 - val_auc: 0.9145 - val_precision: 0.8429 - val_recall: 0.8265\n",
      "Epoch 32/50\n",
      "725/725 [==============================] - 50s 70ms/step - loss: 0.1407 - accuracy: 0.9814 - auc: 0.9985 - precision: 0.9820 - recall: 0.9806 - val_loss: 0.6989 - val_accuracy: 0.8413 - val_auc: 0.9105 - val_precision: 0.8823 - val_recall: 0.7788\n"
     ]
    },
    {
     "name": "stdout",
     "output_type": "stream",
     "text": [
      "Epoch 33/50\n",
      "725/725 [==============================] - 50s 70ms/step - loss: 0.1397 - accuracy: 0.9824 - auc: 0.9984 - precision: 0.9826 - recall: 0.9822 - val_loss: 0.7052 - val_accuracy: 0.8411 - val_auc: 0.9086 - val_precision: 0.8590 - val_recall: 0.8071\n",
      "Epoch 34/50\n",
      "725/725 [==============================] - 50s 70ms/step - loss: 0.1399 - accuracy: 0.9812 - auc: 0.9984 - precision: 0.9805 - recall: 0.9817 - val_loss: 0.7103 - val_accuracy: 0.8437 - val_auc: 0.9112 - val_precision: 0.8568 - val_recall: 0.8163\n",
      "Epoch 35/50\n",
      "725/725 [==============================] - 50s 69ms/step - loss: 0.1406 - accuracy: 0.9815 - auc: 0.9983 - precision: 0.9826 - recall: 0.9803 - val_loss: 0.7008 - val_accuracy: 0.8373 - val_auc: 0.9103 - val_precision: 0.8273 - val_recall: 0.8428\n",
      "Epoch 36/50\n",
      "725/725 [==============================] - 50s 69ms/step - loss: 0.1344 - accuracy: 0.9831 - auc: 0.9987 - precision: 0.9836 - recall: 0.9824 - val_loss: 0.7419 - val_accuracy: 0.8402 - val_auc: 0.9066 - val_precision: 0.8727 - val_recall: 0.7876\n",
      "Epoch 37/50\n",
      "725/725 [==============================] - 51s 70ms/step - loss: 0.1360 - accuracy: 0.9826 - auc: 0.9985 - precision: 0.9831 - recall: 0.9819 - val_loss: 0.7477 - val_accuracy: 0.8420 - val_auc: 0.9075 - val_precision: 0.8555 - val_recall: 0.8138\n",
      "Epoch 38/50\n",
      "725/725 [==============================] - 50s 70ms/step - loss: 0.1287 - accuracy: 0.9854 - auc: 0.9988 - precision: 0.9860 - recall: 0.9846 - val_loss: 0.7636 - val_accuracy: 0.8378 - val_auc: 0.9034 - val_precision: 0.8924 - val_recall: 0.7594\n",
      "Epoch 39/50\n",
      "725/725 [==============================] - 51s 71ms/step - loss: 0.1336 - accuracy: 0.9839 - auc: 0.9984 - precision: 0.9835 - recall: 0.9842 - val_loss: 0.7352 - val_accuracy: 0.8451 - val_auc: 0.9093 - val_precision: 0.8588 - val_recall: 0.8170\n",
      "Epoch 40/50\n",
      "725/725 [==============================] - 51s 71ms/step - loss: 0.1315 - accuracy: 0.9831 - auc: 0.9986 - precision: 0.9831 - recall: 0.9830 - val_loss: 0.7682 - val_accuracy: 0.8251 - val_auc: 0.9044 - val_precision: 0.7895 - val_recall: 0.8749\n",
      "Epoch 41/50\n",
      "725/725 [==============================] - 52s 72ms/step - loss: 0.1293 - accuracy: 0.9838 - auc: 0.9987 - precision: 0.9840 - recall: 0.9836 - val_loss: 0.7120 - val_accuracy: 0.8452 - val_auc: 0.9123 - val_precision: 0.8616 - val_recall: 0.8138\n",
      "Epoch 42/50\n",
      "725/725 [==============================] - 52s 71ms/step - loss: 0.1270 - accuracy: 0.9849 - auc: 0.9988 - precision: 0.9848 - recall: 0.9848 - val_loss: 0.6911 - val_accuracy: 0.8471 - val_auc: 0.9133 - val_precision: 0.8403 - val_recall: 0.8481\n",
      "Epoch 43/50\n",
      "725/725 [==============================] - 52s 72ms/step - loss: 0.1209 - accuracy: 0.9878 - auc: 0.9992 - precision: 0.9882 - recall: 0.9873 - val_loss: 0.7137 - val_accuracy: 0.8385 - val_auc: 0.9076 - val_precision: 0.8487 - val_recall: 0.8145\n",
      "Epoch 44/50\n",
      "725/725 [==============================] - 51s 70ms/step - loss: 0.1256 - accuracy: 0.9842 - auc: 0.9988 - precision: 0.9846 - recall: 0.9836 - val_loss: 0.7793 - val_accuracy: 0.8175 - val_auc: 0.8991 - val_precision: 0.7726 - val_recall: 0.8873\n",
      "Epoch 45/50\n",
      "725/725 [==============================] - 51s 70ms/step - loss: 0.1285 - accuracy: 0.9844 - auc: 0.9987 - precision: 0.9846 - recall: 0.9842 - val_loss: 0.7117 - val_accuracy: 0.8399 - val_auc: 0.9093 - val_precision: 0.8266 - val_recall: 0.8505\n",
      "Epoch 46/50\n",
      "725/725 [==============================] - 52s 71ms/step - loss: 0.1203 - accuracy: 0.9868 - auc: 0.9991 - precision: 0.9864 - recall: 0.9871 - val_loss: 0.7307 - val_accuracy: 0.8435 - val_auc: 0.9094 - val_precision: 0.8342 - val_recall: 0.8481\n",
      "Epoch 47/50\n",
      "725/725 [==============================] - 52s 72ms/step - loss: 0.1230 - accuracy: 0.9859 - auc: 0.9989 - precision: 0.9864 - recall: 0.9854 - val_loss: 0.7655 - val_accuracy: 0.8475 - val_auc: 0.9068 - val_precision: 0.8388 - val_recall: 0.8512\n",
      "Epoch 48/50\n",
      "725/725 [==============================] - 51s 71ms/step - loss: 0.1188 - accuracy: 0.9871 - auc: 0.9991 - precision: 0.9869 - recall: 0.9872 - val_loss: 0.6756 - val_accuracy: 0.8445 - val_auc: 0.9126 - val_precision: 0.8371 - val_recall: 0.8463\n",
      "Epoch 49/50\n",
      "725/725 [==============================] - 51s 70ms/step - loss: 0.1144 - accuracy: 0.9886 - auc: 0.9993 - precision: 0.9887 - recall: 0.9885 - val_loss: 0.7635 - val_accuracy: 0.8456 - val_auc: 0.9042 - val_precision: 0.8805 - val_recall: 0.7912\n",
      "Epoch 50/50\n",
      "725/725 [==============================] - 50s 69ms/step - loss: 0.1189 - accuracy: 0.9875 - auc: 0.9988 - precision: 0.9880 - recall: 0.9869 - val_loss: 0.7620 - val_accuracy: 0.8401 - val_auc: 0.9049 - val_precision: 0.8385 - val_recall: 0.8329\n"
     ]
    }
   ],
   "source": [
    "his6=model6.fit(X_train,y_train,epochs=50,batch_size=32,validation_split=0.2)"
   ]
  },
  {
   "cell_type": "code",
   "execution_count": 10,
   "metadata": {},
   "outputs": [],
   "source": [
    "model6.save_weights(\"model6.h5\")"
   ]
  },
  {
   "cell_type": "code",
   "execution_count": 42,
   "metadata": {},
   "outputs": [],
   "source": [
    "his.append(his6)"
   ]
  },
  {
   "cell_type": "code",
   "execution_count": 11,
   "metadata": {},
   "outputs": [],
   "source": [
    "model7=create_model()"
   ]
  },
  {
   "cell_type": "code",
   "execution_count": 12,
   "metadata": {},
   "outputs": [],
   "source": [
    "X_train=pickle.load(open(\"X_train_sub7\",\"rb\"))/255.0\n",
    "y_train=pickle.load(open(\"y_train_sub7\",\"rb\"))"
   ]
  },
  {
   "cell_type": "code",
   "execution_count": 13,
   "metadata": {},
   "outputs": [
    {
     "name": "stdout",
     "output_type": "stream",
     "text": [
      "Epoch 1/50\n",
      "725/725 [==============================] - 55s 70ms/step - loss: 0.8310 - accuracy: 0.5313 - auc: 0.5447 - precision: 0.5333 - recall: 0.4841 - val_loss: 0.7375 - val_accuracy: 0.6066 - val_auc: 0.6497 - val_precision: 0.5837 - val_recall: 0.6556\n",
      "Epoch 2/50\n",
      "725/725 [==============================] - 49s 68ms/step - loss: 0.6725 - accuracy: 0.6704 - auc: 0.7274 - precision: 0.6652 - recall: 0.6833 - val_loss: 0.6014 - val_accuracy: 0.7253 - val_auc: 0.7983 - val_precision: 0.7102 - val_recall: 0.7315\n",
      "Epoch 3/50\n",
      "725/725 [==============================] - 49s 68ms/step - loss: 0.5696 - accuracy: 0.7519 - auc: 0.8250 - precision: 0.7534 - recall: 0.7474 - val_loss: 0.5309 - val_accuracy: 0.7712 - val_auc: 0.8526 - val_precision: 0.7628 - val_recall: 0.7660\n",
      "Epoch 4/50\n",
      "725/725 [==============================] - 50s 69ms/step - loss: 0.5157 - accuracy: 0.7816 - auc: 0.8620 - precision: 0.7899 - recall: 0.7661 - val_loss: 0.5035 - val_accuracy: 0.7862 - val_auc: 0.8729 - val_precision: 0.7727 - val_recall: 0.7917\n",
      "Epoch 5/50\n",
      "725/725 [==============================] - 50s 69ms/step - loss: 0.4699 - accuracy: 0.8094 - auc: 0.8902 - precision: 0.8208 - recall: 0.7907 - val_loss: 0.4776 - val_accuracy: 0.8009 - val_auc: 0.8895 - val_precision: 0.8522 - val_recall: 0.7126\n",
      "Epoch 6/50\n",
      "725/725 [==============================] - 50s 69ms/step - loss: 0.4271 - accuracy: 0.8368 - auc: 0.9150 - precision: 0.8459 - recall: 0.8228 - val_loss: 0.4711 - val_accuracy: 0.8116 - val_auc: 0.8988 - val_precision: 0.8002 - val_recall: 0.81458368 - a - ETA: 2s - loss: 0.4247 - accuracy: 0.8373 - auc: 0.9161 - pre\n",
      "Epoch 7/50\n",
      "725/725 [==============================] - 50s 69ms/step - loss: 0.3858 - accuracy: 0.8613 - auc: 0.9358 - precision: 0.8705 - recall: 0.8482 - val_loss: 0.4638 - val_accuracy: 0.8304 - val_auc: 0.9081 - val_precision: 0.8549 - val_recall: 0.7828\n",
      "Epoch 8/50\n",
      "725/725 [==============================] - 50s 69ms/step - loss: 0.3369 - accuracy: 0.8862 - auc: 0.9564 - precision: 0.8937 - recall: 0.8761 - val_loss: 0.4522 - val_accuracy: 0.8380 - val_auc: 0.9163 - val_precision: 0.8429 - val_recall: 0.8180\n",
      "Epoch 9/50\n",
      "725/725 [==============================] - 50s 69ms/step - loss: 0.3011 - accuracy: 0.9087 - auc: 0.9696 - precision: 0.9143 - recall: 0.9014 - val_loss: 0.4657 - val_accuracy: 0.8287 - val_auc: 0.9172 - val_precision: 0.7955 - val_recall: 0.8700\n",
      "Epoch 10/50\n",
      "725/725 [==============================] - 51s 70ms/step - loss: 0.2641 - accuracy: 0.9261 - auc: 0.9804 - precision: 0.9283 - recall: 0.9231 - val_loss: 0.5120 - val_accuracy: 0.8290 - val_auc: 0.9157 - val_precision: 0.7939 - val_recall: 0.8739\n",
      "Epoch 11/50\n",
      "725/725 [==============================] - 51s 70ms/step - loss: 0.2370 - accuracy: 0.9398 - auc: 0.9865 - precision: 0.9412 - recall: 0.9378 - val_loss: 0.5228 - val_accuracy: 0.8413 - val_auc: 0.9219 - val_precision: 0.8779 - val_recall: 0.7810\n",
      "Epoch 12/50\n",
      "725/725 [==============================] - 50s 69ms/step - loss: 0.2177 - accuracy: 0.9482 - auc: 0.9906 - precision: 0.9495 - recall: 0.9466 - val_loss: 0.5757 - val_accuracy: 0.8411 - val_auc: 0.9201 - val_precision: 0.8749 - val_recall: 0.7842\n",
      "Epoch 13/50\n",
      "725/725 [==============================] - 50s 69ms/step - loss: 0.2004 - accuracy: 0.9574 - auc: 0.9932 - precision: 0.9574 - recall: 0.9572 - val_loss: 0.5494 - val_accuracy: 0.8487 - val_auc: 0.9231 - val_precision: 0.8454 - val_recall: 0.8415\n",
      "Epoch 14/50\n",
      " 72/725 [=>............................] - ETA: 42s - loss: 0.1746 - accuracy: 0.9727 - auc: 0.9964 - precision: 0.9717 - recall: 0.97"
     ]
    }
   ],
   "source": [
    "his7=model7.fit(X_train,y_train,epochs=50,batch_size=32,validation_split=0.2)"
   ]
  },
  {
   "cell_type": "code",
   "execution_count": 14,
   "metadata": {},
   "outputs": [],
   "source": [
    "model7.save_weights(\"model7.h5\")"
   ]
  },
  {
   "cell_type": "code",
   "execution_count": 47,
   "metadata": {},
   "outputs": [],
   "source": [
    "his.append(his7)"
   ]
  },
  {
   "cell_type": "code",
   "execution_count": 3,
   "metadata": {},
   "outputs": [],
   "source": [
    "model8=create_model()"
   ]
  },
  {
   "cell_type": "code",
   "execution_count": 4,
   "metadata": {},
   "outputs": [],
   "source": [
    "X_train=pickle.load(open(\"X_train_sub8\",\"rb\"))/255.0\n",
    "y_train=pickle.load(open(\"y_train_sub8\",\"rb\"))"
   ]
  },
  {
   "cell_type": "code",
   "execution_count": 5,
   "metadata": {
    "scrolled": false
   },
   "outputs": [
    {
     "name": "stdout",
     "output_type": "stream",
     "text": [
      "Epoch 1/50\n",
      "725/725 [==============================] - 65s 74ms/step - loss: 0.8242 - accuracy: 0.5185 - auc: 0.5318 - precision: 0.5230 - recall: 0.3354 - val_loss: 0.7369 - val_accuracy: 0.5726 - val_auc: 0.6209 - val_precision: 0.5930 - val_recall: 0.3839\n",
      "Epoch 2/50\n",
      "725/725 [==============================] - 52s 71ms/step - loss: 0.6845 - accuracy: 0.6418 - auc: 0.6910 - precision: 0.6405 - recall: 0.6340 - val_loss: 0.6065 - val_accuracy: 0.7239 - val_auc: 0.7992 - val_precision: 0.7650 - val_recall: 0.6232\n",
      "Epoch 3/50\n",
      "725/725 [==============================] - 52s 72ms/step - loss: 0.5814 - accuracy: 0.7333 - auc: 0.8066 - precision: 0.7296 - recall: 0.7351 - val_loss: 0.5417 - val_accuracy: 0.7526 - val_auc: 0.8431 - val_precision: 0.7208 - val_recall: 0.8011\n",
      "Epoch 4/50\n",
      "725/725 [==============================] - 53s 73ms/step - loss: 0.5245 - accuracy: 0.7721 - auc: 0.8503 - precision: 0.7835 - recall: 0.7473 - val_loss: 0.5047 - val_accuracy: 0.7814 - val_auc: 0.8663 - val_precision: 0.7637 - val_recall: 0.7965\n",
      "Epoch 5/50\n",
      "725/725 [==============================] - 53s 73ms/step - loss: 0.4835 - accuracy: 0.7977 - auc: 0.8773 - precision: 0.8107 - recall: 0.7726 - val_loss: 0.4765 - val_accuracy: 0.8007 - val_auc: 0.8835 - val_precision: 0.7923 - val_recall: 0.7994\n",
      "Epoch 6/50\n",
      "725/725 [==============================] - 54s 74ms/step - loss: 0.4452 - accuracy: 0.8188 - auc: 0.9008 - precision: 0.8315 - recall: 0.7960 - val_loss: 0.4809 - val_accuracy: 0.7978 - val_auc: 0.8867 - val_precision: 0.8631 - val_recall: 0.6939\n",
      "Epoch 7/50\n",
      "725/725 [==============================] - 54s 75ms/step - loss: 0.4006 - accuracy: 0.8463 - auc: 0.9253 - precision: 0.8593 - recall: 0.8254 - val_loss: 0.4839 - val_accuracy: 0.8061 - val_auc: 0.9031 - val_precision: 0.8694 - val_recall: 0.7070\n",
      "Epoch 8/50\n",
      "725/725 [==============================] - 54s 75ms/step - loss: 0.3618 - accuracy: 0.8682 - auc: 0.9438 - precision: 0.8796 - recall: 0.8509 - val_loss: 0.4476 - val_accuracy: 0.8280 - val_auc: 0.9093 - val_precision: 0.8343 - val_recall: 0.8061\n",
      "Epoch 9/50\n",
      "725/725 [==============================] - 55s 76ms/step - loss: 0.3197 - accuracy: 0.8923 - auc: 0.9601 - precision: 0.9023 - recall: 0.8780 - val_loss: 0.4492 - val_accuracy: 0.8349 - val_auc: 0.9156 - val_precision: 0.8208 - val_recall: 0.8445\n",
      "Epoch 10/50\n",
      "725/725 [==============================] - 55s 75ms/step - loss: 0.2902 - accuracy: 0.9050 - auc: 0.9703 - precision: 0.9115 - recall: 0.8955 - val_loss: 0.4782 - val_accuracy: 0.8285 - val_auc: 0.9116 - val_precision: 0.8367 - val_recall: 0.8040\n",
      "Epoch 11/50\n",
      "725/725 [==============================] - 55s 76ms/step - loss: 0.2565 - accuracy: 0.9228 - auc: 0.9799 - precision: 0.9297 - recall: 0.9136 - val_loss: 0.5449 - val_accuracy: 0.8187 - val_auc: 0.9091 - val_precision: 0.7750 - val_recall: 0.8832\n",
      "Epoch 12/50\n",
      "725/725 [==============================] - 55s 76ms/step - loss: 0.2362 - accuracy: 0.9300 - auc: 0.9846 - precision: 0.9355 - recall: 0.9225 - val_loss: 0.5545 - val_accuracy: 0.8295 - val_auc: 0.9159 - val_precision: 0.8697 - val_recall: 0.7635\n",
      "Epoch 13/50\n",
      "725/725 [==============================] - 38s 52ms/step - loss: 0.2126 - accuracy: 0.9419 - auc: 0.9894 - precision: 0.9479 - recall: 0.9342 - val_loss: 0.5907 - val_accuracy: 0.8268 - val_auc: 0.9120 - val_precision: 0.7889 - val_recall: 0.8786\n",
      "Epoch 14/50\n",
      "725/725 [==============================] - 23s 32ms/step - loss: 0.2103 - accuracy: 0.9450 - auc: 0.9901 - precision: 0.9480 - recall: 0.9408 - val_loss: 0.6375 - val_accuracy: 0.8307 - val_auc: 0.9125 - val_precision: 0.7997 - val_recall: 0.8693\n",
      "Epoch 15/50\n",
      "725/725 [==============================] - 24s 33ms/step - loss: 0.1942 - accuracy: 0.9528 - auc: 0.9925 - precision: 0.9555 - recall: 0.9491 - val_loss: 0.5568 - val_accuracy: 0.8392 - val_auc: 0.9175 - val_precision: 0.8329 - val_recall: 0.8370\n",
      "Epoch 16/50\n",
      "725/725 [==============================] - 24s 33ms/step - loss: 0.1889 - accuracy: 0.9544 - auc: 0.9934 - precision: 0.9562 - recall: 0.9517 - val_loss: 0.5976 - val_accuracy: 0.8302 - val_auc: 0.9122 - val_precision: 0.8051 - val_recall: 0.8583\n",
      "Epoch 17/50\n",
      "725/725 [==============================] - 22s 30ms/step - loss: 0.1861 - accuracy: 0.9562 - auc: 0.9938 - precision: 0.9573 - recall: 0.9544 - val_loss: 0.6187 - val_accuracy: 0.8314 - val_auc: 0.9150 - val_precision: 0.8089 - val_recall: 0.8551\n",
      "Epoch 18/50\n",
      "725/725 [==============================] - 23s 32ms/step - loss: 0.1752 - accuracy: 0.9617 - auc: 0.9953 - precision: 0.9650 - recall: 0.9576 - val_loss: 0.6236 - val_accuracy: 0.8428 - val_auc: 0.9173 - val_precision: 0.8631 - val_recall: 0.8040\n",
      "Epoch 19/50\n",
      "725/725 [==============================] - 24s 33ms/step - loss: 0.1705 - accuracy: 0.9642 - auc: 0.9956 - precision: 0.9655 - recall: 0.9622 - val_loss: 0.6289 - val_accuracy: 0.8428 - val_auc: 0.9168 - val_precision: 0.8462 - val_recall: 0.8267\n",
      "Epoch 20/50\n",
      "725/725 [==============================] - 24s 33ms/step - loss: 0.1693 - accuracy: 0.9635 - auc: 0.9958 - precision: 0.9652 - recall: 0.9610 - val_loss: 0.6187 - val_accuracy: 0.8390 - val_auc: 0.9144 - val_precision: 0.8252 - val_recall: 0.8484\n",
      "Epoch 21/50\n",
      "725/725 [==============================] - 23s 32ms/step - loss: 0.1678 - accuracy: 0.9665 - auc: 0.9960 - precision: 0.9695 - recall: 0.9629 - val_loss: 0.6348 - val_accuracy: 0.8435 - val_auc: 0.9168 - val_precision: 0.8374 - val_recall: 0.8413\n",
      "Epoch 22/50\n",
      "725/725 [==============================] - 23s 32ms/step - loss: 0.1595 - accuracy: 0.9700 - auc: 0.9967 - precision: 0.9724 - recall: 0.9670 - val_loss: 0.6856 - val_accuracy: 0.8363 - val_auc: 0.9114 - val_precision: 0.8115 - val_recall: 0.8636\n",
      "Epoch 23/50\n",
      "725/725 [==============================] - 24s 32ms/step - loss: 0.1568 - accuracy: 0.9707 - auc: 0.9969 - precision: 0.9727 - recall: 0.9680 - val_loss: 0.6891 - val_accuracy: 0.8382 - val_auc: 0.9092 - val_precision: 0.8427 - val_recall: 0.8200\n",
      "Epoch 24/50\n",
      "725/725 [==============================] - 23s 32ms/step - loss: 0.1527 - accuracy: 0.9720 - auc: 0.9973 - precision: 0.9740 - recall: 0.9695 - val_loss: 0.6762 - val_accuracy: 0.8395 - val_auc: 0.9098 - val_precision: 0.8304 - val_recall: 0.8416\n",
      "Epoch 25/50\n",
      "725/725 [==============================] - 23s 31ms/step - loss: 0.1549 - accuracy: 0.9718 - auc: 0.9971 - precision: 0.9740 - recall: 0.9690 - val_loss: 0.7028 - val_accuracy: 0.8349 - val_auc: 0.9087 - val_precision: 0.8705 - val_recall: 0.7756\n",
      "Epoch 26/50\n",
      "725/725 [==============================] - 24s 33ms/step - loss: 0.1558 - accuracy: 0.9715 - auc: 0.9971 - precision: 0.9744 - recall: 0.9680 - val_loss: 0.8245 - val_accuracy: 0.8159 - val_auc: 0.9002 - val_precision: 0.7619 - val_recall: 0.9034\n",
      "Epoch 27/50\n",
      "725/725 [==============================] - 20s 28ms/step - loss: 0.1514 - accuracy: 0.9743 - auc: 0.9975 - precision: 0.9773 - recall: 0.9707 - val_loss: 0.7133 - val_accuracy: 0.8342 - val_auc: 0.9070 - val_precision: 0.8072 - val_recall: 0.8654\n",
      "Epoch 28/50\n",
      "725/725 [==============================] - 45s 62ms/step - loss: 0.1447 - accuracy: 0.9772 - auc: 0.9979 - precision: 0.9797 - recall: 0.9742 - val_loss: 0.6552 - val_accuracy: 0.8370 - val_auc: 0.9143 - val_precision: 0.8151 - val_recall: 0.8594\n",
      "Epoch 29/50\n",
      "725/725 [==============================] - 59s 81ms/step - loss: 0.1436 - accuracy: 0.9772 - auc: 0.9979 - precision: 0.9798 - recall: 0.9742 - val_loss: 0.7289 - val_accuracy: 0.8382 - val_auc: 0.9059 - val_precision: 0.8808 - val_recall: 0.7713\n",
      "Epoch 30/50\n",
      "725/725 [==============================] - 34s 47ms/step - loss: 0.1456 - accuracy: 0.9763 - auc: 0.9978 - precision: 0.9793 - recall: 0.9729 - val_loss: 0.8052 - val_accuracy: 0.8282 - val_auc: 0.9019 - val_precision: 0.7805 - val_recall: 0.8991\n",
      "Epoch 31/50\n",
      "725/725 [==============================] - 33s 45ms/step - loss: 0.1400 - accuracy: 0.9777 - auc: 0.9982 - precision: 0.9799 - recall: 0.9750 - val_loss: 0.6818 - val_accuracy: 0.8477 - val_auc: 0.9141 - val_precision: 0.8570 - val_recall: 0.8239\n",
      "Epoch 32/50\n",
      "725/725 [==============================] - 33s 45ms/step - loss: 0.1400 - accuracy: 0.9780 - auc: 0.9980 - precision: 0.9799 - recall: 0.9757 - val_loss: 0.6793 - val_accuracy: 0.8383 - val_auc: 0.9112 - val_precision: 0.8232 - val_recall: 0.8498\n"
     ]
    },
    {
     "name": "stdout",
     "output_type": "stream",
     "text": [
      "Epoch 33/50\n",
      "725/725 [==============================] - 33s 46ms/step - loss: 0.1409 - accuracy: 0.9789 - auc: 0.9978 - precision: 0.9819 - recall: 0.9756 - val_loss: 0.7490 - val_accuracy: 0.8452 - val_auc: 0.9066 - val_precision: 0.8423 - val_recall: 0.8384\n",
      "Epoch 34/50\n",
      "725/725 [==============================] - 33s 46ms/step - loss: 0.1358 - accuracy: 0.9798 - auc: 0.9984 - precision: 0.9825 - recall: 0.9766 - val_loss: 0.6752 - val_accuracy: 0.8395 - val_auc: 0.9094 - val_precision: 0.8591 - val_recall: 0.8011\n",
      "Epoch 35/50\n",
      "725/725 [==============================] - 33s 46ms/step - loss: 0.1349 - accuracy: 0.9800 - auc: 0.9982 - precision: 0.9820 - recall: 0.9777 - val_loss: 0.7209 - val_accuracy: 0.8456 - val_auc: 0.9096 - val_precision: 0.8634 - val_recall: 0.8104\n",
      "Epoch 36/50\n",
      "725/725 [==============================] - 33s 45ms/step - loss: 0.1325 - accuracy: 0.9816 - auc: 0.9984 - precision: 0.9843 - recall: 0.9785 - val_loss: 0.6850 - val_accuracy: 0.8442 - val_auc: 0.9125 - val_precision: 0.8477 - val_recall: 0.8281\n",
      "Epoch 37/50\n",
      "725/725 [==============================] - 32s 44ms/step - loss: 0.1302 - accuracy: 0.9824 - auc: 0.9985 - precision: 0.9852 - recall: 0.9791 - val_loss: 0.7274 - val_accuracy: 0.8494 - val_auc: 0.9095 - val_precision: 0.8410 - val_recall: 0.8509\n",
      "Epoch 38/50\n",
      "725/725 [==============================] - 32s 44ms/step - loss: 0.1300 - accuracy: 0.9820 - auc: 0.9984 - precision: 0.9840 - recall: 0.9797 - val_loss: 0.7281 - val_accuracy: 0.8370 - val_auc: 0.9063 - val_precision: 0.8376 - val_recall: 0.8242\n",
      "Epoch 39/50\n",
      "725/725 [==============================] - 33s 45ms/step - loss: 0.1304 - accuracy: 0.9823 - auc: 0.9984 - precision: 0.9845 - recall: 0.9798 - val_loss: 0.8103 - val_accuracy: 0.8345 - val_auc: 0.9001 - val_precision: 0.8000 - val_recall: 0.8793\n",
      "Epoch 40/50\n",
      "725/725 [==============================] - 32s 44ms/step - loss: 0.1292 - accuracy: 0.9814 - auc: 0.9984 - precision: 0.9830 - recall: 0.9796 - val_loss: 0.7456 - val_accuracy: 0.8382 - val_auc: 0.9049 - val_precision: 0.8852 - val_recall: 0.7663\n",
      "Epoch 41/50\n",
      "725/725 [==============================] - 32s 44ms/step - loss: 0.1280 - accuracy: 0.9829 - auc: 0.9983 - precision: 0.9847 - recall: 0.9807 - val_loss: 0.6819 - val_accuracy: 0.8401 - val_auc: 0.9097 - val_precision: 0.8281 - val_recall: 0.8466\n",
      "Epoch 42/50\n",
      "725/725 [==============================] - 32s 44ms/step - loss: 0.1228 - accuracy: 0.9845 - auc: 0.9988 - precision: 0.9866 - recall: 0.9822 - val_loss: 0.7147 - val_accuracy: 0.8401 - val_auc: 0.9081 - val_precision: 0.8523 - val_recall: 0.8114\n",
      "Epoch 43/50\n",
      "725/725 [==============================] - 32s 43ms/step - loss: 0.1222 - accuracy: 0.9843 - auc: 0.9986 - precision: 0.9857 - recall: 0.9826 - val_loss: 0.7453 - val_accuracy: 0.8382 - val_auc: 0.9049 - val_precision: 0.8549 - val_recall: 0.8033\n",
      "Epoch 44/50\n",
      "725/725 [==============================] - 32s 44ms/step - loss: 0.1239 - accuracy: 0.9829 - auc: 0.9986 - precision: 0.9856 - recall: 0.9798 - val_loss: 0.7462 - val_accuracy: 0.8359 - val_auc: 0.9064 - val_precision: 0.8091 - val_recall: 0.8668\n",
      "Epoch 45/50\n",
      "725/725 [==============================] - 31s 43ms/step - loss: 0.1211 - accuracy: 0.9843 - auc: 0.9989 - precision: 0.9862 - recall: 0.9822 - val_loss: 0.7028 - val_accuracy: 0.8397 - val_auc: 0.9093 - val_precision: 0.8293 - val_recall: 0.8438\n",
      "Epoch 46/50\n",
      "725/725 [==============================] - 32s 44ms/step - loss: 0.1240 - accuracy: 0.9833 - auc: 0.9986 - precision: 0.9861 - recall: 0.9803 - val_loss: 0.7348 - val_accuracy: 0.8449 - val_auc: 0.9061 - val_precision: 0.8304 - val_recall: 0.8555\n",
      "Epoch 47/50\n",
      "725/725 [==============================] - 32s 44ms/step - loss: 0.1217 - accuracy: 0.9846 - auc: 0.9986 - precision: 0.9862 - recall: 0.9828 - val_loss: 0.7901 - val_accuracy: 0.8390 - val_auc: 0.9032 - val_precision: 0.8522 - val_recall: 0.8089\n",
      "Epoch 48/50\n",
      "725/725 [==============================] - 31s 42ms/step - loss: 0.1171 - accuracy: 0.9863 - auc: 0.9989 - precision: 0.9885 - recall: 0.9839 - val_loss: 0.6959 - val_accuracy: 0.8482 - val_auc: 0.9110 - val_precision: 0.8450 - val_recall: 0.8420\n",
      "Epoch 49/50\n",
      "725/725 [==============================] - 32s 44ms/step - loss: 0.1163 - accuracy: 0.9865 - auc: 0.9988 - precision: 0.9882 - recall: 0.9844 - val_loss: 0.7234 - val_accuracy: 0.8452 - val_auc: 0.9114 - val_precision: 0.8223 - val_recall: 0.8693\n",
      "Epoch 50/50\n",
      "725/725 [==============================] - 32s 44ms/step - loss: 0.1134 - accuracy: 0.9868 - auc: 0.9989 - precision: 0.9882 - recall: 0.9852 - val_loss: 0.7472 - val_accuracy: 0.8411 - val_auc: 0.9041 - val_precision: 0.8632 - val_recall: 0.7997\n"
     ]
    }
   ],
   "source": [
    "his8=model8.fit(X_train,y_train,epochs=50,batch_size=32,validation_split=0.2)"
   ]
  },
  {
   "cell_type": "code",
   "execution_count": 6,
   "metadata": {},
   "outputs": [],
   "source": [
    "model8.save_weights(\"model8.h5\")"
   ]
  },
  {
   "cell_type": "code",
   "execution_count": 53,
   "metadata": {},
   "outputs": [],
   "source": [
    "his.append(his8)"
   ]
  },
  {
   "cell_type": "code",
   "execution_count": 7,
   "metadata": {},
   "outputs": [],
   "source": [
    "model9=create_model()"
   ]
  },
  {
   "cell_type": "code",
   "execution_count": 8,
   "metadata": {},
   "outputs": [],
   "source": [
    "X_train=pickle.load(open(\"X_train_sub9\",\"rb\"))/255.0\n",
    "y_train=pickle.load(open(\"y_train_sub9\",\"rb\"))"
   ]
  },
  {
   "cell_type": "code",
   "execution_count": 9,
   "metadata": {},
   "outputs": [
    {
     "name": "stdout",
     "output_type": "stream",
     "text": [
      "Epoch 1/50\n",
      "725/725 [==============================] - 35s 45ms/step - loss: 0.8099 - accuracy: 0.5224 - auc: 0.5378 - precision: 0.5267 - recall: 0.3168 - val_loss: 0.7163 - val_accuracy: 0.5982 - val_auc: 0.6493 - val_precision: 0.6187 - val_recall: 0.5000\n",
      "Epoch 2/50\n",
      "725/725 [==============================] - 33s 45ms/step - loss: 0.6748 - accuracy: 0.6434 - auc: 0.6940 - precision: 0.6321 - recall: 0.6633 - val_loss: 0.5965 - val_accuracy: 0.7129 - val_auc: 0.7913 - val_precision: 0.7103 - val_recall: 0.7137\n",
      "Epoch 3/50\n",
      "725/725 [==============================] - 33s 46ms/step - loss: 0.5955 - accuracy: 0.7183 - auc: 0.7820 - precision: 0.7250 - recall: 0.6916 - val_loss: 0.5431 - val_accuracy: 0.7550 - val_auc: 0.8389 - val_precision: 0.7746 - val_recall: 0.7155\n",
      "Epoch 4/50\n",
      "725/725 [==============================] - 32s 45ms/step - loss: 0.5495 - accuracy: 0.7503 - auc: 0.8204 - precision: 0.7651 - recall: 0.7127 - val_loss: 0.5037 - val_accuracy: 0.7719 - val_auc: 0.8592 - val_precision: 0.7961 - val_recall: 0.7276\n",
      "Epoch 5/50\n",
      "725/725 [==============================] - 33s 46ms/step - loss: 0.5143 - accuracy: 0.7760 - auc: 0.8462 - precision: 0.7960 - recall: 0.7342 - val_loss: 0.4811 - val_accuracy: 0.7938 - val_auc: 0.8721 - val_precision: 0.7940 - val_recall: 0.7904\n",
      "Epoch 6/50\n",
      "725/725 [==============================] - 32s 44ms/step - loss: 0.4839 - accuracy: 0.7947 - auc: 0.8685 - precision: 0.8133 - recall: 0.7579 - val_loss: 0.4716 - val_accuracy: 0.7985 - val_auc: 0.8844 - val_precision: 0.8094 - val_recall: 0.7779\n",
      "Epoch 7/50\n",
      "725/725 [==============================] - 30s 42ms/step - loss: 0.4525 - accuracy: 0.8157 - auc: 0.8900 - precision: 0.8362 - recall: 0.7791 - val_loss: 0.4444 - val_accuracy: 0.8173 - val_auc: 0.8969 - val_precision: 0.8343 - val_recall: 0.7894\n",
      "Epoch 8/50\n",
      "725/725 [==============================] - 30s 41ms/step - loss: 0.4158 - accuracy: 0.8360 - auc: 0.9103 - precision: 0.8623 - recall: 0.7946 - val_loss: 0.4382 - val_accuracy: 0.8230 - val_auc: 0.9069 - val_precision: 0.8003 - val_recall: 0.8581\n",
      "Epoch 9/50\n",
      "725/725 [==============================] - 30s 41ms/step - loss: 0.3845 - accuracy: 0.8545 - auc: 0.9278 - precision: 0.8793 - recall: 0.8175 - val_loss: 0.4330 - val_accuracy: 0.8263 - val_auc: 0.9126 - val_precision: 0.8095 - val_recall: 0.8508\n",
      "Epoch 10/50\n",
      "725/725 [==============================] - 30s 41ms/step - loss: 0.3435 - accuracy: 0.8769 - auc: 0.9455 - precision: 0.9018 - recall: 0.8423 - val_loss: 0.4340 - val_accuracy: 0.8299 - val_auc: 0.9146 - val_precision: 0.8183 - val_recall: 0.8456\n",
      "Epoch 11/50\n",
      "725/725 [==============================] - 30s 42ms/step - loss: 0.3119 - accuracy: 0.8946 - auc: 0.9573 - precision: 0.9189 - recall: 0.8626 - val_loss: 0.4479 - val_accuracy: 0.8364 - val_auc: 0.9184 - val_precision: 0.8521 - val_recall: 0.8119\n",
      "Epoch 12/50\n",
      "725/725 [==============================] - 30s 42ms/step - loss: 0.2871 - accuracy: 0.9076 - auc: 0.9659 - precision: 0.9324 - recall: 0.8763 - val_loss: 0.4445 - val_accuracy: 0.8364 - val_auc: 0.9172 - val_precision: 0.8521 - val_recall: 0.8119\n",
      "Epoch 13/50\n",
      "725/725 [==============================] - 33s 45ms/step - loss: 0.2670 - accuracy: 0.9184 - auc: 0.9721 - precision: 0.9418 - recall: 0.8897 - val_loss: 0.4683 - val_accuracy: 0.8394 - val_auc: 0.9186 - val_precision: 0.8842 - val_recall: 0.7790\n",
      "Epoch 14/50\n",
      "725/725 [==============================] - 31s 42ms/step - loss: 0.2387 - accuracy: 0.9327 - auc: 0.9791 - precision: 0.9561 - recall: 0.9053 - val_loss: 0.4736 - val_accuracy: 0.8402 - val_auc: 0.9178 - val_precision: 0.8776 - val_recall: 0.7887\n",
      "Epoch 15/50\n",
      "725/725 [==============================] - 29s 41ms/step - loss: 0.2309 - accuracy: 0.9346 - auc: 0.9815 - precision: 0.9570 - recall: 0.9083 - val_loss: 0.4763 - val_accuracy: 0.8330 - val_auc: 0.9211 - val_precision: 0.9018 - val_recall: 0.7453\n",
      "Epoch 16/50\n",
      "725/725 [==============================] - 30s 41ms/step - loss: 0.2176 - accuracy: 0.9402 - auc: 0.9843 - precision: 0.9637 - recall: 0.9132 - val_loss: 0.5052 - val_accuracy: 0.8390 - val_auc: 0.9208 - val_precision: 0.8287 - val_recall: 0.8525\n",
      "Epoch 17/50\n",
      "725/725 [==============================] - 30s 41ms/step - loss: 0.2063 - accuracy: 0.9457 - auc: 0.9868 - precision: 0.9679 - recall: 0.9204 - val_loss: 0.5500 - val_accuracy: 0.8414 - val_auc: 0.9172 - val_precision: 0.8722 - val_recall: 0.7981\n",
      "Epoch 18/50\n",
      "725/725 [==============================] - 30s 41ms/step - loss: 0.2004 - accuracy: 0.9493 - auc: 0.9882 - precision: 0.9711 - recall: 0.9247 - val_loss: 0.5522 - val_accuracy: 0.8447 - val_auc: 0.9171 - val_precision: 0.8519 - val_recall: 0.8324\n",
      "Epoch 19/50\n",
      "725/725 [==============================] - 29s 41ms/step - loss: 0.1869 - accuracy: 0.9558 - auc: 0.9909 - precision: 0.9749 - recall: 0.9344 - val_loss: 0.5950 - val_accuracy: 0.8375 - val_auc: 0.9114 - val_precision: 0.8606 - val_recall: 0.8033\n",
      "Epoch 20/50\n",
      "725/725 [==============================] - 29s 40ms/step - loss: 0.1925 - accuracy: 0.9547 - auc: 0.9900 - precision: 0.9741 - recall: 0.9329 - val_loss: 0.5590 - val_accuracy: 0.8402 - val_auc: 0.9144 - val_precision: 0.8515 - val_recall: 0.8220\n",
      "Epoch 21/50\n",
      "725/725 [==============================] - 29s 41ms/step - loss: 0.1815 - accuracy: 0.9597 - auc: 0.9920 - precision: 0.9758 - recall: 0.9416 - val_loss: 0.5880 - val_accuracy: 0.8352 - val_auc: 0.9159 - val_precision: 0.8780 - val_recall: 0.7765\n",
      "Epoch 22/50\n",
      "725/725 [==============================] - 30s 41ms/step - loss: 0.1751 - accuracy: 0.9638 - auc: 0.9929 - precision: 0.9786 - recall: 0.9473 - val_loss: 0.6568 - val_accuracy: 0.8439 - val_auc: 0.9144 - val_precision: 0.8276 - val_recall: 0.8664\n",
      "Epoch 23/50\n",
      "725/725 [==============================] - 30s 41ms/step - loss: 0.1740 - accuracy: 0.9648 - auc: 0.9932 - precision: 0.9797 - recall: 0.9483 - val_loss: 0.6413 - val_accuracy: 0.8423 - val_auc: 0.9142 - val_precision: 0.8293 - val_recall: 0.8598\n",
      "Epoch 24/50\n",
      "725/725 [==============================] - 30s 42ms/step - loss: 0.1751 - accuracy: 0.9638 - auc: 0.9930 - precision: 0.9792 - recall: 0.9468 - val_loss: 0.6262 - val_accuracy: 0.8425 - val_auc: 0.9159 - val_precision: 0.8150 - val_recall: 0.8838\n",
      "Epoch 25/50\n",
      "725/725 [==============================] - 30s 41ms/step - loss: 0.1637 - accuracy: 0.9680 - auc: 0.9943 - precision: 0.9823 - recall: 0.9524 - val_loss: 0.6360 - val_accuracy: 0.8475 - val_auc: 0.9146 - val_precision: 0.8525 - val_recall: 0.8383\n",
      "Epoch 26/50\n",
      "725/725 [==============================] - 30s 41ms/step - loss: 0.1602 - accuracy: 0.9720 - auc: 0.9949 - precision: 0.9852 - recall: 0.9577 - val_loss: 0.7297 - val_accuracy: 0.8440 - val_auc: 0.9094 - val_precision: 0.8232 - val_recall: 0.8740\n",
      "Epoch 27/50\n",
      "725/725 [==============================] - 30s 41ms/step - loss: 0.1604 - accuracy: 0.9705 - auc: 0.9950 - precision: 0.9834 - recall: 0.9565 - val_loss: 0.6393 - val_accuracy: 0.8471 - val_auc: 0.9160 - val_precision: 0.8514 - val_recall: 0.8390\n",
      "Epoch 28/50\n",
      "725/725 [==============================] - 29s 40ms/step - loss: 0.1614 - accuracy: 0.9709 - auc: 0.9948 - precision: 0.9826 - recall: 0.9580 - val_loss: 0.7075 - val_accuracy: 0.8344 - val_auc: 0.9104 - val_precision: 0.8001 - val_recall: 0.8890\n",
      "Epoch 29/50\n",
      "725/725 [==============================] - 30s 41ms/step - loss: 0.1557 - accuracy: 0.9737 - auc: 0.9956 - precision: 0.9843 - recall: 0.9621 - val_loss: 0.6405 - val_accuracy: 0.8499 - val_auc: 0.9190 - val_precision: 0.8583 - val_recall: 0.8362\n",
      "Epoch 30/50\n",
      "725/725 [==============================] - 30s 41ms/step - loss: 0.1492 - accuracy: 0.9759 - auc: 0.9963 - precision: 0.9855 - recall: 0.9655 - val_loss: 0.6627 - val_accuracy: 0.8449 - val_auc: 0.9167 - val_precision: 0.8374 - val_recall: 0.8539\n",
      "Epoch 31/50\n",
      "725/725 [==============================] - 30s 41ms/step - loss: 0.1493 - accuracy: 0.9761 - auc: 0.9963 - precision: 0.9845 - recall: 0.9669 - val_loss: 0.6371 - val_accuracy: 0.8454 - val_auc: 0.9176 - val_precision: 0.8509 - val_recall: 0.8355\n",
      "Epoch 32/50\n",
      "725/725 [==============================] - 30s 41ms/step - loss: 0.1494 - accuracy: 0.9756 - auc: 0.9959 - precision: 0.9866 - recall: 0.9636 - val_loss: 0.6843 - val_accuracy: 0.8316 - val_auc: 0.9125 - val_precision: 0.7938 - val_recall: 0.8935\n"
     ]
    },
    {
     "name": "stdout",
     "output_type": "stream",
     "text": [
      "Epoch 33/50\n",
      "725/725 [==============================] - 30s 41ms/step - loss: 0.1443 - accuracy: 0.9783 - auc: 0.9967 - precision: 0.9869 - recall: 0.9689 - val_loss: 0.6326 - val_accuracy: 0.8471 - val_auc: 0.9171 - val_precision: 0.8360 - val_recall: 0.8616\n",
      "Epoch 34/50\n",
      "725/725 [==============================] - 29s 41ms/step - loss: 0.1479 - accuracy: 0.9760 - auc: 0.9964 - precision: 0.9850 - recall: 0.9660 - val_loss: 0.6518 - val_accuracy: 0.8439 - val_auc: 0.9169 - val_precision: 0.8732 - val_recall: 0.8026\n",
      "Epoch 35/50\n",
      "725/725 [==============================] - 30s 41ms/step - loss: 0.1416 - accuracy: 0.9793 - auc: 0.9969 - precision: 0.9876 - recall: 0.9702 - val_loss: 0.6423 - val_accuracy: 0.8452 - val_auc: 0.9173 - val_precision: 0.8464 - val_recall: 0.8414\n",
      "Epoch 36/50\n",
      "725/725 [==============================] - 30s 41ms/step - loss: 0.1435 - accuracy: 0.9779 - auc: 0.9967 - precision: 0.9865 - recall: 0.9685 - val_loss: 0.6629 - val_accuracy: 0.8516 - val_auc: 0.9184 - val_precision: 0.8692 - val_recall: 0.8258\n",
      "Epoch 37/50\n",
      "725/725 [==============================] - 30s 41ms/step - loss: 0.1341 - accuracy: 0.9808 - auc: 0.9977 - precision: 0.9885 - recall: 0.9724 - val_loss: 0.7244 - val_accuracy: 0.8470 - val_auc: 0.9116 - val_precision: 0.8246 - val_recall: 0.8793\n",
      "Epoch 38/50\n",
      "725/725 [==============================] - 30s 41ms/step - loss: 0.1399 - accuracy: 0.9794 - auc: 0.9970 - precision: 0.9866 - recall: 0.9714 - val_loss: 0.7319 - val_accuracy: 0.8442 - val_auc: 0.9101 - val_precision: 0.8216 - val_recall: 0.8772\n",
      "Epoch 39/50\n",
      "725/725 [==============================] - 30s 41ms/step - loss: 0.1350 - accuracy: 0.9812 - auc: 0.9973 - precision: 0.9886 - recall: 0.9732 - val_loss: 0.6955 - val_accuracy: 0.8414 - val_auc: 0.9148 - val_precision: 0.8225 - val_recall: 0.8685\n",
      "Epoch 40/50\n",
      "725/725 [==============================] - 30s 41ms/step - loss: 0.1340 - accuracy: 0.9812 - auc: 0.9973 - precision: 0.9885 - recall: 0.9732 - val_loss: 0.7519 - val_accuracy: 0.8430 - val_auc: 0.9103 - val_precision: 0.8164 - val_recall: 0.8827\n",
      "Epoch 41/50\n",
      "725/725 [==============================] - 30s 41ms/step - loss: 0.1309 - accuracy: 0.9819 - auc: 0.9975 - precision: 0.9883 - recall: 0.9748 - val_loss: 0.7257 - val_accuracy: 0.8458 - val_auc: 0.9101 - val_precision: 0.8806 - val_recall: 0.7981\n",
      "Epoch 42/50\n",
      "725/725 [==============================] - 29s 40ms/step - loss: 0.1309 - accuracy: 0.9826 - auc: 0.9977 - precision: 0.9887 - recall: 0.9760 - val_loss: 0.7071 - val_accuracy: 0.8425 - val_auc: 0.9121 - val_precision: 0.8389 - val_recall: 0.8456\n",
      "Epoch 43/50\n",
      "725/725 [==============================] - 40628s 56s/step - loss: 0.1246 - accuracy: 0.9845 - auc: 0.9981 - precision: 0.9897 - recall: 0.9787 - val_loss: 0.7213 - val_accuracy: 0.8483 - val_auc: 0.9105 - val_precision: 0.8528 - val_recall: 0.8400\n",
      "Epoch 44/50\n",
      "725/725 [==============================] - 23s 31ms/step - loss: 0.1228 - accuracy: 0.9856 - auc: 0.9982 - precision: 0.9912 - recall: 0.9795 - val_loss: 0.6589 - val_accuracy: 0.8454 - val_auc: 0.9143 - val_precision: 0.8611 - val_recall: 0.8217\n",
      "Epoch 45/50\n",
      "725/725 [==============================] - 24s 33ms/step - loss: 0.1250 - accuracy: 0.9839 - auc: 0.9979 - precision: 0.9901 - recall: 0.9772 - val_loss: 0.8704 - val_accuracy: 0.8257 - val_auc: 0.8959 - val_precision: 0.7884 - val_recall: 0.8879\n",
      "Epoch 46/50\n",
      "725/725 [==============================] - 18s 25ms/step - loss: 0.1319 - accuracy: 0.9824 - auc: 0.9973 - precision: 0.9885 - recall: 0.9757 - val_loss: 0.6978 - val_accuracy: 0.8445 - val_auc: 0.9124 - val_precision: 0.8546 - val_recall: 0.8282\n",
      "Epoch 47/50\n",
      "725/725 [==============================] - 19s 26ms/step - loss: 0.1206 - accuracy: 0.9865 - auc: 0.9984 - precision: 0.9916 - recall: 0.9809 - val_loss: 0.7520 - val_accuracy: 0.8378 - val_auc: 0.9067 - val_precision: 0.8179 - val_recall: 0.8668\n",
      "Epoch 48/50\n",
      "725/725 [==============================] - 18s 26ms/step - loss: 0.1311 - accuracy: 0.9817 - auc: 0.9977 - precision: 0.9879 - recall: 0.9749 - val_loss: 0.7020 - val_accuracy: 0.8428 - val_auc: 0.9101 - val_precision: 0.8340 - val_recall: 0.8539\n",
      "Epoch 49/50\n",
      "725/725 [==============================] - 18s 25ms/step - loss: 0.1190 - accuracy: 0.9858 - auc: 0.9985 - precision: 0.9907 - recall: 0.9804 - val_loss: 0.7398 - val_accuracy: 0.8471 - val_auc: 0.9084 - val_precision: 0.8392 - val_recall: 0.8567\n",
      "Epoch 50/50\n",
      "725/725 [==============================] - 18s 25ms/step - loss: 0.1220 - accuracy: 0.9858 - auc: 0.9982 - precision: 0.9912 - recall: 0.9800 - val_loss: 0.8031 - val_accuracy: 0.8418 - val_auc: 0.9015 - val_precision: 0.8239 - val_recall: 0.8671\n"
     ]
    }
   ],
   "source": [
    "his9=model9.fit(X_train,y_train,epochs=50,batch_size=32,validation_split=0.2)"
   ]
  },
  {
   "cell_type": "code",
   "execution_count": 11,
   "metadata": {},
   "outputs": [],
   "source": [
    "model9.save_weights(\"model9.h5\")"
   ]
  },
  {
   "cell_type": "code",
   "execution_count": 58,
   "metadata": {},
   "outputs": [],
   "source": [
    "his.append(his9)"
   ]
  },
  {
   "cell_type": "code",
   "execution_count": 60,
   "metadata": {},
   "outputs": [
    {
     "ename": "AttributeError",
     "evalue": "Can't pickle local object 'Layer.add_loss.<locals>._tag_callable'",
     "output_type": "error",
     "traceback": [
      "\u001b[1;31m---------------------------------------------------------------------------\u001b[0m",
      "\u001b[1;31mAttributeError\u001b[0m                            Traceback (most recent call last)",
      "Cell \u001b[1;32mIn[60], line 2\u001b[0m\n\u001b[0;32m      1\u001b[0m pickle_out\u001b[38;5;241m=\u001b[39m\u001b[38;5;28mopen\u001b[39m(\u001b[38;5;124m\"\u001b[39m\u001b[38;5;124mhis\u001b[39m\u001b[38;5;124m\"\u001b[39m,\u001b[38;5;124m\"\u001b[39m\u001b[38;5;124mwb\u001b[39m\u001b[38;5;124m\"\u001b[39m)\n\u001b[1;32m----> 2\u001b[0m \u001b[43mpickle\u001b[49m\u001b[38;5;241;43m.\u001b[39;49m\u001b[43mdump\u001b[49m\u001b[43m(\u001b[49m\u001b[43mhis\u001b[49m\u001b[43m,\u001b[49m\u001b[43m \u001b[49m\u001b[43mpickle_out\u001b[49m\u001b[43m)\u001b[49m\n\u001b[0;32m      3\u001b[0m pickle_out\u001b[38;5;241m.\u001b[39mclose()\n",
      "\u001b[1;31mAttributeError\u001b[0m: Can't pickle local object 'Layer.add_loss.<locals>._tag_callable'"
     ]
    }
   ],
   "source": [
    "pickle_out=open(\"his\",\"wb\")\n",
    "pickle.dump(his, pickle_out)\n",
    "pickle_out.close()"
   ]
  },
  {
   "cell_type": "code",
   "execution_count": null,
   "metadata": {},
   "outputs": [],
   "source": []
  }
 ],
 "metadata": {
  "kernelspec": {
   "display_name": "Python 3 (ipykernel)",
   "language": "python",
   "name": "python3"
  },
  "language_info": {
   "codemirror_mode": {
    "name": "ipython",
    "version": 3
   },
   "file_extension": ".py",
   "mimetype": "text/x-python",
   "name": "python",
   "nbconvert_exporter": "python",
   "pygments_lexer": "ipython3",
   "version": "3.9.16"
  }
 },
 "nbformat": 4,
 "nbformat_minor": 1
}
