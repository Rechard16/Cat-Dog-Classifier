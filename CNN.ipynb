{
 "cells": [
  {
   "cell_type": "code",
   "execution_count": 1,
   "id": "014d3953",
   "metadata": {},
   "outputs": [],
   "source": [
    "import tensorflow as tf\n",
    "from tensorflow.keras.models import Sequential \n",
    "from tensorflow.keras.layers import Dense, Dropout, Activation, Flatten, Conv2D, MaxPooling2D\n",
    "import pickle\n",
    "import numpy as np"
   ]
  },
  {
   "cell_type": "code",
   "execution_count": 2,
   "id": "17eb882d",
   "metadata": {},
   "outputs": [],
   "source": [
    "X= pickle.load(open(\"X.pickle\",\"rb\"))\n",
    "y= pickle.load(open(\"y.pickle\",\"rb\"))"
   ]
  },
  {
   "cell_type": "markdown",
   "id": "814cbf07",
   "metadata": {},
   "source": [
    "We want to normalise the data. In the grayscale image is min is 0 and max is 255."
   ]
  },
  {
   "cell_type": "code",
   "execution_count": 3,
   "id": "46fa9621",
   "metadata": {},
   "outputs": [],
   "source": [
    "X=X/255.0"
   ]
  },
  {
   "cell_type": "code",
   "execution_count": 4,
   "id": "aeb8e15c",
   "metadata": {},
   "outputs": [],
   "source": [
    "X = np.array(X)\n",
    "y = np.array(y)"
   ]
  },
  {
   "cell_type": "code",
   "execution_count": 5,
   "id": "3398e7e7",
   "metadata": {},
   "outputs": [],
   "source": [
    "model = Sequential()\n",
    "\n",
    "#3 layers\n",
    "\n",
    "model.add(Conv2D(64,(3,3),input_shape= X.shape[1:]))\n",
    "model.add(Activation(\"relu\"))\n",
    "model.add(MaxPooling2D(pool_size=(2,2)))\n",
    "\n",
    "model.add(Conv2D(64,(3,3)))\n",
    "model.add(Activation(\"relu\"))\n",
    "model.add(MaxPooling2D(pool_size=(2,2)))\n",
    "\n",
    "model.add(Conv2D(64,(3,3)))\n",
    "model.add(Activation(\"relu\"))\n",
    "model.add(MaxPooling2D(pool_size=(2,2)))\n",
    "\n",
    "model.add(Flatten())\n",
    "model.add(Dense(64))\n",
    "\n",
    "#output \n",
    "model.add(Dense(1))\n",
    "model.add(Activation('sigmoid'))\n",
    "\n",
    "model.compile(loss=\"binary_crossentropy\", \n",
    "              optimizer='adam', \n",
    "              metrics=[\"accuracy\"])\n",
    "\n",
    "\n"
   ]
  },
  {
   "cell_type": "code",
   "execution_count": 7,
   "id": "35602502",
   "metadata": {},
   "outputs": [
    {
     "name": "stdout",
     "output_type": "stream",
     "text": [
      "Epoch 1/10\n",
      "571/571 [==============================] - 9s 15ms/step - loss: 0.5826 - accuracy: 0.6875 - val_loss: 0.5619 - val_accuracy: 0.7028\n",
      "Epoch 2/10\n",
      "571/571 [==============================] - 8s 14ms/step - loss: 0.5293 - accuracy: 0.7295 - val_loss: 0.5209 - val_accuracy: 0.7383\n",
      "Epoch 3/10\n",
      "571/571 [==============================] - 8s 14ms/step - loss: 0.4879 - accuracy: 0.7621 - val_loss: 0.5006 - val_accuracy: 0.7491\n",
      "Epoch 4/10\n",
      "571/571 [==============================] - 8s 15ms/step - loss: 0.4541 - accuracy: 0.7778 - val_loss: 0.4916 - val_accuracy: 0.7590\n",
      "Epoch 5/10\n",
      "571/571 [==============================] - 8s 14ms/step - loss: 0.4217 - accuracy: 0.7989 - val_loss: 0.5008 - val_accuracy: 0.7644\n",
      "Epoch 6/10\n",
      "571/571 [==============================] - 8s 14ms/step - loss: 0.3976 - accuracy: 0.8137 - val_loss: 0.5054 - val_accuracy: 0.7629\n",
      "Epoch 7/10\n",
      "571/571 [==============================] - 8s 15ms/step - loss: 0.3694 - accuracy: 0.8308 - val_loss: 0.4952 - val_accuracy: 0.7689\n",
      "Epoch 8/10\n",
      "571/571 [==============================] - 8s 15ms/step - loss: 0.3377 - accuracy: 0.8493 - val_loss: 0.5063 - val_accuracy: 0.7733\n",
      "Epoch 9/10\n",
      "571/571 [==============================] - 8s 15ms/step - loss: 0.3157 - accuracy: 0.8579 - val_loss: 0.5620 - val_accuracy: 0.7698\n",
      "Epoch 10/10\n",
      "571/571 [==============================] - 8s 14ms/step - loss: 0.2872 - accuracy: 0.8759 - val_loss: 0.5597 - val_accuracy: 0.7738\n"
     ]
    },
    {
     "data": {
      "text/plain": [
       "<tensorflow.python.keras.callbacks.History at 0x173c7d3dee0>"
      ]
     },
     "execution_count": 7,
     "metadata": {},
     "output_type": "execute_result"
    }
   ],
   "source": [
    "model.fit(X, y, batch_size=32,epochs=10,validation_split=0.1)"
   ]
  },
  {
   "cell_type": "markdown",
   "id": "07c9ebb1",
   "metadata": {},
   "source": [
    "The loss is the difference between the predicted probability distribution and the true probability distribution. The model has good accuracy but very high val_loss."
   ]
  },
  {
   "cell_type": "code",
   "execution_count": null,
   "id": "bbc0c88a",
   "metadata": {},
   "outputs": [],
   "source": []
  }
 ],
 "metadata": {
  "kernelspec": {
   "display_name": "Python 3 (ipykernel)",
   "language": "python",
   "name": "python3"
  },
  "language_info": {
   "codemirror_mode": {
    "name": "ipython",
    "version": 3
   },
   "file_extension": ".py",
   "mimetype": "text/x-python",
   "name": "python",
   "nbconvert_exporter": "python",
   "pygments_lexer": "ipython3",
   "version": "3.9.16"
  }
 },
 "nbformat": 4,
 "nbformat_minor": 5
}
