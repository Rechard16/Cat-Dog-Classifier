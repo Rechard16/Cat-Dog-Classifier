{
 "cells": [
  {
   "cell_type": "code",
   "execution_count": 1,
   "id": "014d3953",
   "metadata": {},
   "outputs": [],
   "source": [
    "import tensorflow as tf\n",
    "from tensorflow.keras.models import Sequential \n",
    "from tensorflow.keras.layers import Dense, Dropout, Activation, Flatten, Conv2D, MaxPooling2D\n",
    "import pickle\n",
    "import numpy as np"
   ]
  },
  {
   "cell_type": "code",
   "execution_count": 2,
   "id": "17eb882d",
   "metadata": {},
   "outputs": [],
   "source": [
    "X= pickle.load(open(\"X\",\"rb\"))\n",
    "y= pickle.load(open(\"y\",\"rb\"))\n"
   ]
  },
  {
   "cell_type": "markdown",
   "id": "814cbf07",
   "metadata": {},
   "source": [
    "We want to normalise the data. In the grayscale image is min is 0 and max is 255."
   ]
  },
  {
   "cell_type": "code",
   "execution_count": 3,
   "id": "46fa9621",
   "metadata": {},
   "outputs": [],
   "source": [
    "X=X/255.0"
   ]
  },
  {
   "cell_type": "code",
   "execution_count": 4,
   "id": "3398e7e7",
   "metadata": {},
   "outputs": [],
   "source": [
    "model = Sequential()\n",
    "\n",
    "#3 layers\n",
    "\n",
    "model.add(Conv2D(96,(3,3),input_shape= X.shape[1:]))\n",
    "model.add(Activation(\"relu\"))\n",
    "model.add(MaxPooling2D(pool_size=(2,2)))\n",
    "\n",
    "model.add(Conv2D(64,(3,3)))\n",
    "model.add(Activation(\"relu\"))\n",
    "model.add(MaxPooling2D(pool_size=(2,2)))\n",
    "\n",
    "model.add(Conv2D(64,(3,3)))\n",
    "model.add(Activation(\"relu\"))\n",
    "model.add(MaxPooling2D(pool_size=(2,2)))\n",
    "\n",
    "model.add(Flatten())\n",
    "#model.add(Dense(64,Activation=\"relu\"))\n",
    "model.add(Dense(64, activation=\"relu\"))\n",
    "model.add(Dropout(0.3))\n",
    "\n",
    "\n",
    "#output \n",
    "model.add(Dense(1))\n",
    "model.add(Activation('sigmoid'))\n",
    "\n",
    "model.compile(loss=\"binary_crossentropy\", \n",
    "              optimizer='adam', \n",
    "              metrics=[\"accuracy\"])\n"
   ]
  },
  {
   "cell_type": "markdown",
   "id": "2ee61e92",
   "metadata": {},
   "source": [
    "Resize vs no resize"
   ]
  },
  {
   "cell_type": "code",
   "execution_count": 5,
   "id": "35602502",
   "metadata": {},
   "outputs": [
    {
     "name": "stdout",
     "output_type": "stream",
     "text": [
      "Epoch 1/10\n",
      "571/571 [==============================] - 7s 6ms/step - loss: 0.6843 - accuracy: 0.5502 - val_loss: 0.6735 - val_accuracy: 0.5702\n",
      "Epoch 2/10\n",
      "571/571 [==============================] - 3s 5ms/step - loss: 0.6368 - accuracy: 0.6384 - val_loss: 0.6121 - val_accuracy: 0.6644\n",
      "Epoch 3/10\n",
      "571/571 [==============================] - 3s 5ms/step - loss: 0.5819 - accuracy: 0.6914 - val_loss: 0.5639 - val_accuracy: 0.6994\n",
      "Epoch 4/10\n",
      "571/571 [==============================] - 3s 6ms/step - loss: 0.5269 - accuracy: 0.7350 - val_loss: 0.5267 - val_accuracy: 0.7398\n",
      "Epoch 5/10\n",
      "571/571 [==============================] - 3s 5ms/step - loss: 0.4848 - accuracy: 0.7664 - val_loss: 0.5112 - val_accuracy: 0.7472\n",
      "Epoch 6/10\n",
      "571/571 [==============================] - 3s 5ms/step - loss: 0.4464 - accuracy: 0.7891 - val_loss: 0.5030 - val_accuracy: 0.7491\n",
      "Epoch 7/10\n",
      "571/571 [==============================] - 3s 5ms/step - loss: 0.4169 - accuracy: 0.8091 - val_loss: 0.4950 - val_accuracy: 0.7639\n",
      "Epoch 8/10\n",
      "571/571 [==============================] - 3s 5ms/step - loss: 0.3852 - accuracy: 0.8275 - val_loss: 0.4971 - val_accuracy: 0.7698\n",
      "Epoch 9/10\n",
      "571/571 [==============================] - 3s 5ms/step - loss: 0.3631 - accuracy: 0.8387 - val_loss: 0.5132 - val_accuracy: 0.7634\n",
      "Epoch 10/10\n",
      "571/571 [==============================] - 3s 6ms/step - loss: 0.3402 - accuracy: 0.8497 - val_loss: 0.4693 - val_accuracy: 0.7817\n"
     ]
    },
    {
     "data": {
      "text/plain": [
       "<tensorflow.python.keras.callbacks.History at 0x25af5274460>"
      ]
     },
     "execution_count": 5,
     "metadata": {},
     "output_type": "execute_result"
    }
   ],
   "source": [
    "model.fit(X, y, batch_size=32,epochs=10,validation_split=0.1)"
   ]
  }
 ],
 "metadata": {
  "kernelspec": {
   "display_name": "Python 3 (ipykernel)",
   "language": "python",
   "name": "python3"
  },
  "language_info": {
   "codemirror_mode": {
    "name": "ipython",
    "version": 3
   },
   "file_extension": ".py",
   "mimetype": "text/x-python",
   "name": "python",
   "nbconvert_exporter": "python",
   "pygments_lexer": "ipython3",
   "version": "3.9.16"
  }
 },
 "nbformat": 4,
 "nbformat_minor": 5
}
