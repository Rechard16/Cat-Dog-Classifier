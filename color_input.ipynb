{
 "cells": [
  {
   "cell_type": "code",
   "execution_count": 10,
   "metadata": {
    "collapsed": true
   },
   "outputs": [],
   "source": [
    "import numpy as np\n",
    "import matplotlib.pyplot as plt\n",
    "import os\n",
    "import cv2\n",
    "import random\n",
    "import pickle\n",
    "from sklearn.model_selection import train_test_split"
   ]
  },
  {
   "cell_type": "code",
   "execution_count": 11,
   "outputs": [],
   "source": [
    "dest='./data'\n",
    "Types=['dog','cat']\n",
    "IMG_SIZE=128"
   ],
   "metadata": {
    "collapsed": false
   }
  },
  {
   "cell_type": "code",
   "execution_count": 12,
   "outputs": [],
   "source": [
    "training_data=[]\n",
    "\n",
    "def create_training_data():\n",
    "    for types in Types:\n",
    "        path=os.path.join(dest,types)\n",
    "        class_num=Types.index(types)\n",
    "        for img in os.listdir(path):\n",
    "            try:\n",
    "                img_array =cv2.imread(os.path.join(path,img))\n",
    "                new_array=cv2.resize(img_array,(IMG_SIZE,IMG_SIZE))\n",
    "                training_data.append([new_array,class_num])\n",
    "            except:\n",
    "                continue\n",
    "\n",
    "create_training_data()"
   ],
   "metadata": {
    "collapsed": false
   }
  },
  {
   "cell_type": "code",
   "execution_count": 13,
   "outputs": [],
   "source": [
    "random.shuffle(training_data)\n"
   ],
   "metadata": {
    "collapsed": false
   }
  },
  {
   "cell_type": "code",
   "execution_count": 14,
   "outputs": [
    {
     "name": "stdout",
     "output_type": "stream",
     "text": [
      "[array([[[117, 125, 124],\n",
      "        [124, 132, 131],\n",
      "        [130, 138, 137],\n",
      "        ...,\n",
      "        [146, 148, 142],\n",
      "        [157, 161, 155],\n",
      "        [168, 172, 166]],\n",
      "\n",
      "       [[119, 127, 126],\n",
      "        [126, 134, 133],\n",
      "        [132, 140, 139],\n",
      "        ...,\n",
      "        [144, 146, 140],\n",
      "        [157, 161, 155],\n",
      "        [169, 173, 167]],\n",
      "\n",
      "       [[117, 128, 126],\n",
      "        [123, 134, 132],\n",
      "        [131, 139, 138],\n",
      "        ...,\n",
      "        [140, 142, 136],\n",
      "        [156, 160, 154],\n",
      "        [168, 175, 168]],\n",
      "\n",
      "       ...,\n",
      "\n",
      "       [[ 32,  26,  27],\n",
      "        [ 33,  27,  28],\n",
      "        [ 34,  29,  28],\n",
      "        ...,\n",
      "        [115, 131, 113],\n",
      "        [104, 127,  89],\n",
      "        [ 95, 121,  73]],\n",
      "\n",
      "       [[ 32,  26,  27],\n",
      "        [ 33,  27,  28],\n",
      "        [ 33,  28,  27],\n",
      "        ...,\n",
      "        [116, 125, 112],\n",
      "        [103, 119,  88],\n",
      "        [ 94, 114,  72]],\n",
      "\n",
      "       [[ 32,  26,  27],\n",
      "        [ 32,  26,  27],\n",
      "        [ 33,  28,  27],\n",
      "        ...,\n",
      "        [114, 120, 109],\n",
      "        [ 99, 113,  85],\n",
      "        [ 90, 107,  70]]], dtype=uint8), 1]\n"
     ]
    }
   ],
   "source": [
    "print(training_data[0])"
   ],
   "metadata": {
    "collapsed": false
   }
  },
  {
   "cell_type": "code",
   "execution_count": 15,
   "outputs": [],
   "source": [
    "cX=[]\n",
    "cy=[]\n",
    "for features,label in training_data:\n",
    "    cX.append(features)\n",
    "    cy.append(label)\n",
    "cX=np.array(cX).reshape(-1,IMG_SIZE,IMG_SIZE,3)\n",
    "cy=np.array(cy)"
   ],
   "metadata": {
    "collapsed": false
   }
  },
  {
   "cell_type": "code",
   "execution_count": 16,
   "outputs": [],
   "source": [
    "cX_train,cX_test,cy_train,cy_test=train_test_split(cX,cy,test_size=0.2)"
   ],
   "metadata": {
    "collapsed": false
   }
  },
  {
   "cell_type": "code",
   "execution_count": 17,
   "outputs": [],
   "source": [
    "#cut training data into 10 parts\n",
    "total=len(cX_train)\n",
    "part=total//40\n",
    "for i in range(40):\n",
    "    pickle_out=open('cX_ctrain'+str(i),'wb')\n",
    "    pickle.dump(cX_train[i*part:(i+1)*part]/255.0,pickle_out)\n",
    "    pickle_out.close()\n",
    "\n",
    "    pickle_out=open('cy_ctrain'+str(i),'wb')\n",
    "    pickle.dump(cy_train[i*part:(i+1)*part],pickle_out)\n",
    "    pickle_out.close()"
   ],
   "metadata": {
    "collapsed": false
   }
  },
  {
   "cell_type": "code",
   "execution_count": 9,
   "outputs": [],
   "source": [
    "pickle_out=open('cX_ctest','wb')\n",
    "pickle.dump(cX_test,pickle_out)\n",
    "pickle_out.close()\n",
    "\n",
    "pickle_out=open('cy_ctest','wb')\n",
    "pickle.dump(cy_test,pickle_out)\n",
    "pickle_out.close()\n"
   ],
   "metadata": {
    "collapsed": false
   }
  },
  {
   "cell_type": "code",
   "execution_count": 9,
   "outputs": [],
   "source": [],
   "metadata": {
    "collapsed": false
   }
  }
 ],
 "metadata": {
  "kernelspec": {
   "display_name": "Python 3",
   "language": "python",
   "name": "python3"
  },
  "language_info": {
   "codemirror_mode": {
    "name": "ipython",
    "version": 2
   },
   "file_extension": ".py",
   "mimetype": "text/x-python",
   "name": "python",
   "nbconvert_exporter": "python",
   "pygments_lexer": "ipython2",
   "version": "2.7.6"
  }
 },
 "nbformat": 4,
 "nbformat_minor": 0
}
