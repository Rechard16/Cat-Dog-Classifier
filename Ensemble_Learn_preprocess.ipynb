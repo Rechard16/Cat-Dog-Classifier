{
 "cells": [
  {
   "cell_type": "markdown",
   "metadata": {},
   "source": [
    "# Ensemble Learning Preprocess\n",
    "We split the data into 80% train and 20% test.\n",
    "And split the training set into 10 subset.\n",
    "Then divide them to 10 bags each have 8 subset."
   ]
  },
  {
   "cell_type": "code",
   "execution_count": 1,
   "metadata": {},
   "outputs": [],
   "source": [
    "import pandas as pd\n",
    "import numpy as np\n",
    "from sklearn.model_selection import train_test_split\n",
    "import pickle\n",
    "import os"
   ]
  },
  {
   "cell_type": "code",
   "execution_count": 2,
   "metadata": {},
   "outputs": [],
   "source": [
    "# Load train data\n",
    "X_train=pickle.load(open('X_train','rb'))\n",
    "y_train=pickle.load(open('y_train','rb'))"
   ]
  },
  {
   "cell_type": "code",
   "execution_count": 3,
   "metadata": {},
   "outputs": [
    {
     "data": {
      "text/plain": [
       "(36228, 128, 128, 1)"
      ]
     },
     "execution_count": 3,
     "metadata": {},
     "output_type": "execute_result"
    }
   ],
   "source": [
    "X_train.shape"
   ]
  },
  {
   "cell_type": "code",
   "execution_count": 4,
   "metadata": {},
   "outputs": [],
   "source": [
    "#Split train data into 10 subset"
   ]
  },
  {
   "cell_type": "code",
   "execution_count": 5,
   "metadata": {},
   "outputs": [],
   "source": [
    "X_trains=[]\n",
    "y_trains=[]\n",
    "pack_size=X_train.shape[0]//10\n",
    "for i in range(10):\n",
    "    X_trains.append(X_train[i*pack_size:(i+1)*pack_size])\n",
    "    y_trains.append(y_train[i*pack_size:(i+1)*pack_size])"
   ]
  },
  {
   "cell_type": "code",
   "execution_count": 6,
   "metadata": {},
   "outputs": [],
   "source": [
    "#choose 8 subset to train each bag\n",
    "for i in range(10):\n",
    "    X_train_sub=[]\n",
    "    y_train_sub=[]\n",
    "    for j in range(8):\n",
    "        X_train_sub.append(X_trains[(i+j)%10])\n",
    "        y_train_sub.append(y_trains[(i+j)%10])\n",
    "    X_train_sub=np.concatenate(X_train_sub)\n",
    "    y_train_sub=np.concatenate(y_train_sub)\n",
    "    pickle.dump(X_train_sub,open('X_train_sub'+str(i),'wb'))\n",
    "    pickle.dump(y_train_sub,open('y_train_sub'+str(i),'wb'))\n"
   ]
  },
  {
   "cell_type": "code",
   "execution_count": null,
   "metadata": {},
   "outputs": [],
   "source": []
  }
 ],
 "metadata": {
  "kernelspec": {
   "display_name": "Python 3 (ipykernel)",
   "language": "python",
   "name": "python3"
  },
  "language_info": {
   "codemirror_mode": {
    "name": "ipython",
    "version": 3
   },
   "file_extension": ".py",
   "mimetype": "text/x-python",
   "name": "python",
   "nbconvert_exporter": "python",
   "pygments_lexer": "ipython3",
   "version": "3.10.9"
  }
 },
 "nbformat": 4,
 "nbformat_minor": 1
}
