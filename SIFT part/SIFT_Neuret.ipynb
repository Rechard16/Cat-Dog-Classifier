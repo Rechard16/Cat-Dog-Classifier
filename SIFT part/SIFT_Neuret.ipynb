{
 "cells": [
  {
   "cell_type": "code",
   "execution_count": 1,
   "metadata": {},
   "outputs": [],
   "source": [
    "import tensorflow as tf\n",
    "from tensorflow.keras.models import Sequential\n",
    "from tensorflow.keras.layers import Dense, Dropout, Activation, Flatten, Conv2D, MaxPooling2D\n",
    "from tensorflow.keras import regularizers\n",
    "from tensorflow.keras.utils import plot_model\n",
    "import pickle\n",
    "import numpy as np"
   ]
  },
  {
   "cell_type": "code",
   "execution_count": 2,
   "metadata": {},
   "outputs": [],
   "source": [
    "X_train=pickle.load(open(\"X_train_descriptors\",\"rb\"))\n",
    "y_train=pickle.load(open(\"y_train_labels\",\"rb\"))\n",
    "X_test=pickle.load(open(\"X_test_descriptors\",\"rb\"))\n",
    "y_test=pickle.load(open(\"y_test_labels\",\"rb\"))"
   ]
  },
  {
   "cell_type": "code",
   "execution_count": 3,
   "metadata": {},
   "outputs": [
    {
     "data": {
      "text/plain": [
       "(297335, 128)"
      ]
     },
     "execution_count": 3,
     "metadata": {},
     "output_type": "execute_result"
    }
   ],
   "source": [
    "X_train.shape"
   ]
  },
  {
   "cell_type": "code",
   "execution_count": 4,
   "metadata": {},
   "outputs": [
    {
     "data": {
      "text/plain": [
       "(297335,)"
      ]
     },
     "execution_count": 4,
     "metadata": {},
     "output_type": "execute_result"
    }
   ],
   "source": [
    "y_train.shape"
   ]
  },
  {
   "cell_type": "code",
   "execution_count": 21,
   "metadata": {},
   "outputs": [],
   "source": [
    "def create_model():\n",
    "    model = Sequential()\n",
    "    model.add(Dense(1024, activation='relu', input_shape=(X_train.shape[1],)))\n",
    "    #model.add(Dropout(0.2))\n",
    "    model.add(Dense(512, activation='relu'))\n",
    "    model.add(Dense(512, activation='relu'))\n",
    "    model.add(Dense(512, activation='relu'))\n",
    "    #model.add(Dropout(0.2))\n",
    "    model.add(Dense(1024, activation='relu'))\n",
    "    model.add(Dropout(0.2))\n",
    "    model.add(Dense(1, activation='sigmoid'))\n",
    "    model.compile(loss='binary_crossentropy', optimizer='adam', metrics=['accuracy'])\n",
    "    return model"
   ]
  },
  {
   "cell_type": "code",
   "execution_count": 22,
   "metadata": {},
   "outputs": [],
   "source": [
    "model=create_model()"
   ]
  },
  {
   "cell_type": "code",
   "execution_count": 23,
   "metadata": {
    "pycharm": {
     "is_executing": true
    }
   },
   "outputs": [
    {
     "name": "stdout",
     "output_type": "stream",
     "text": [
      "Epoch 1/30\n",
      "4646/4646 [==============================] - 9s 2ms/step - loss: 0.6906 - accuracy: 0.5325 - val_loss: 0.6907 - val_accuracy: 0.5268\n",
      "Epoch 2/30\n",
      "4646/4646 [==============================] - 8s 2ms/step - loss: 0.6879 - accuracy: 0.5441 - val_loss: 0.6874 - val_accuracy: 0.5449\n",
      "Epoch 3/30\n",
      "4646/4646 [==============================] - 8s 2ms/step - loss: 0.6858 - accuracy: 0.5498 - val_loss: 0.6911 - val_accuracy: 0.5364\n",
      "Epoch 4/30\n",
      "4646/4646 [==============================] - 8s 2ms/step - loss: 0.6837 - accuracy: 0.5552 - val_loss: 0.6874 - val_accuracy: 0.5409\n",
      "Epoch 5/30\n",
      "4646/4646 [==============================] - 8s 2ms/step - loss: 0.6817 - accuracy: 0.5593 - val_loss: 0.6849 - val_accuracy: 0.5481\n",
      "Epoch 6/30\n",
      "4646/4646 [==============================] - 8s 2ms/step - loss: 0.6794 - accuracy: 0.5648 - val_loss: 0.6852 - val_accuracy: 0.5496\n",
      "Epoch 7/30\n",
      "4646/4646 [==============================] - 9s 2ms/step - loss: 0.6771 - accuracy: 0.5695 - val_loss: 0.6899 - val_accuracy: 0.5508\n",
      "Epoch 8/30\n",
      "4646/4646 [==============================] - 9s 2ms/step - loss: 0.6740 - accuracy: 0.5751 - val_loss: 0.6870 - val_accuracy: 0.5479\n",
      "Epoch 9/30\n",
      "4646/4646 [==============================] - 8s 2ms/step - loss: 0.6705 - accuracy: 0.5819 - val_loss: 0.6881 - val_accuracy: 0.5453\n",
      "Epoch 10/30\n",
      "4646/4646 [==============================] - 8s 2ms/step - loss: 0.6667 - accuracy: 0.5890 - val_loss: 0.6867 - val_accuracy: 0.5490\n",
      "Epoch 11/30\n",
      "4646/4646 [==============================] - 8s 2ms/step - loss: 0.6625 - accuracy: 0.5952 - val_loss: 0.6933 - val_accuracy: 0.5500\n",
      "Epoch 12/30\n",
      "4646/4646 [==============================] - 8s 2ms/step - loss: 0.6574 - accuracy: 0.6036 - val_loss: 0.7004 - val_accuracy: 0.5468\n",
      "Epoch 13/30\n",
      "4646/4646 [==============================] - 8s 2ms/step - loss: 0.6514 - accuracy: 0.6106 - val_loss: 0.7024 - val_accuracy: 0.5425\n",
      "Epoch 14/30\n",
      "4646/4646 [==============================] - 8s 2ms/step - loss: 0.6450 - accuracy: 0.6186 - val_loss: 0.7079 - val_accuracy: 0.5443\n",
      "Epoch 15/30\n",
      "4646/4646 [==============================] - 8s 2ms/step - loss: 0.6385 - accuracy: 0.6276 - val_loss: 0.7066 - val_accuracy: 0.5453\n",
      "Epoch 16/30\n",
      "4646/4646 [==============================] - 8s 2ms/step - loss: 0.6304 - accuracy: 0.6364 - val_loss: 0.7169 - val_accuracy: 0.5439\n",
      "Epoch 17/30\n",
      "4646/4646 [==============================] - 8s 2ms/step - loss: 0.6229 - accuracy: 0.6449 - val_loss: 0.7318 - val_accuracy: 0.5414\n",
      "Epoch 18/30\n",
      "4646/4646 [==============================] - 8s 2ms/step - loss: 0.6141 - accuracy: 0.6528 - val_loss: 0.7446 - val_accuracy: 0.5369\n",
      "Epoch 19/30\n",
      "4646/4646 [==============================] - 8s 2ms/step - loss: 0.6051 - accuracy: 0.6611 - val_loss: 0.7440 - val_accuracy: 0.5378\n",
      "Epoch 20/30\n",
      "4646/4646 [==============================] - 8s 2ms/step - loss: 0.5955 - accuracy: 0.6697 - val_loss: 0.7641 - val_accuracy: 0.5379\n",
      "Epoch 21/30\n",
      "4646/4646 [==============================] - 8s 2ms/step - loss: 0.5865 - accuracy: 0.6777 - val_loss: 0.7837 - val_accuracy: 0.5374\n",
      "Epoch 22/30\n",
      "4646/4646 [==============================] - 8s 2ms/step - loss: 0.5760 - accuracy: 0.6853 - val_loss: 0.8109 - val_accuracy: 0.5365\n",
      "Epoch 23/30\n",
      "4646/4646 [==============================] - 8s 2ms/step - loss: 0.5667 - accuracy: 0.6935 - val_loss: 0.8184 - val_accuracy: 0.5377\n",
      "Epoch 24/30\n",
      "4646/4646 [==============================] - 8s 2ms/step - loss: 0.5563 - accuracy: 0.7012 - val_loss: 0.8406 - val_accuracy: 0.5353\n",
      "Epoch 25/30\n",
      "4646/4646 [==============================] - 8s 2ms/step - loss: 0.5470 - accuracy: 0.7089 - val_loss: 0.8646 - val_accuracy: 0.5320\n",
      "Epoch 26/30\n",
      "4646/4646 [==============================] - 8s 2ms/step - loss: 0.5363 - accuracy: 0.7166 - val_loss: 0.8721 - val_accuracy: 0.5309\n",
      "Epoch 27/30\n",
      "4646/4646 [==============================] - 8s 2ms/step - loss: 0.5263 - accuracy: 0.7229 - val_loss: 0.9112 - val_accuracy: 0.5333\n",
      "Epoch 28/30\n",
      "4646/4646 [==============================] - 8s 2ms/step - loss: 0.5157 - accuracy: 0.7307 - val_loss: 0.9731 - val_accuracy: 0.5323\n",
      "Epoch 29/30\n",
      "4646/4646 [==============================] - 8s 2ms/step - loss: 0.5069 - accuracy: 0.7358 - val_loss: 0.9553 - val_accuracy: 0.5314\n",
      "Epoch 30/30\n",
      "4646/4646 [==============================] - 8s 2ms/step - loss: 0.4975 - accuracy: 0.7430 - val_loss: 0.9652 - val_accuracy: 0.5276\n"
     ]
    },
    {
     "data": {
      "text/plain": [
       "<keras.callbacks.History at 0x21a4efec8b0>"
      ]
     },
     "execution_count": 23,
     "metadata": {},
     "output_type": "execute_result"
    }
   ],
   "source": [
    "model.fit(X_train,y_train,batch_size=64,epochs=30,validation_data=(X_test,y_test))"
   ]
  },
  {
   "cell_type": "markdown",
   "metadata": {},
   "source": [
    "After many times tries of change network, the accuracy does not reach 55%.\n"
   ]
  }
 ],
 "metadata": {
  "kernelspec": {
   "display_name": "Python 3 (ipykernel)",
   "language": "python",
   "name": "python3"
  },
  "language_info": {
   "codemirror_mode": {
    "name": "ipython",
    "version": 3
   },
   "file_extension": ".py",
   "mimetype": "text/x-python",
   "name": "python",
   "nbconvert_exporter": "python",
   "pygments_lexer": "ipython3",
   "version": "3.9.16"
  }
 },
 "nbformat": 4,
 "nbformat_minor": 1
}
