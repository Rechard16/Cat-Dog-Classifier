{
 "cells": [
  {
   "cell_type": "code",
   "execution_count": 1,
   "metadata": {},
   "outputs": [],
   "source": [
    "import tensorflow as tf\n",
    "from tensorflow.keras.models import Sequential\n",
    "from tensorflow.keras.layers import Dense, Dropout, Activation, Flatten, Conv2D, MaxPooling2D\n",
    "from tensorflow.keras import regularizers\n",
    "from tensorflow.keras.utils import plot_model\n",
    "import pickle\n",
    "import numpy as np"
   ]
  },
  {
   "cell_type": "code",
   "execution_count": 2,
   "metadata": {},
   "outputs": [],
   "source": [
    "X_train=pickle.load(open(\"X_train_descriptors\",\"rb\"))\n",
    "y_train=pickle.load(open(\"y_train_labels\",\"rb\"))\n",
    "X_test=pickle.load(open(\"X_test_descriptors\",\"rb\"))\n",
    "y_test=pickle.load(open(\"y_test_labels\",\"rb\"))"
   ]
  },
  {
   "cell_type": "code",
   "execution_count": 3,
   "metadata": {},
   "outputs": [
    {
     "data": {
      "text/plain": [
       "(297335, 128)"
      ]
     },
     "execution_count": 3,
     "metadata": {},
     "output_type": "execute_result"
    }
   ],
   "source": [
    "X_train.shape"
   ]
  },
  {
   "cell_type": "code",
   "execution_count": 4,
   "metadata": {},
   "outputs": [
    {
     "data": {
      "text/plain": [
       "(297335,)"
      ]
     },
     "execution_count": 4,
     "metadata": {},
     "output_type": "execute_result"
    }
   ],
   "source": [
    "y_train.shape"
   ]
  },
  {
   "cell_type": "code",
   "execution_count": 5,
   "metadata": {},
   "outputs": [],
   "source": [
    "def create_model():\n",
    "    model = Sequential()\n",
    "    model.add(Dense(1024, activation='relu', input_shape=(X_train.shape[1],)))\n",
    "    #model.add(Dropout(0.2))\n",
    "    model.add(Dense(512, activation='relu'))\n",
    "    #model.add(Dropout(0.2))\n",
    "    model.add(Dense(512, activation='relu'))\n",
    "    #model.add(Dropout(0.2))\n",
    "    model.add(Dense(1, activation='sigmoid'))\n",
    "    model.compile(loss='binary_crossentropy', optimizer='adam', metrics=['accuracy'])\n",
    "    return model"
   ]
  },
  {
   "cell_type": "code",
   "execution_count": 6,
   "metadata": {},
   "outputs": [],
   "source": [
    "model=create_model()"
   ]
  },
  {
   "cell_type": "code",
   "execution_count": null,
   "metadata": {
    "pycharm": {
     "is_executing": true
    }
   },
   "outputs": [
    {
     "name": "stdout",
     "output_type": "stream",
     "text": [
      "Epoch 1/30\n",
      "4646/4646 [==============================] - 8s 2ms/step - loss: 0.6897 - accuracy: 0.5354 - val_loss: 0.6895 - val_accuracy: 0.5331\n",
      "Epoch 2/30\n",
      "4646/4646 [==============================] - 7s 2ms/step - loss: 0.6870 - accuracy: 0.5459 - val_loss: 0.6876 - val_accuracy: 0.5458\n",
      "Epoch 3/30\n",
      "4646/4646 [==============================] - 7s 1ms/step - loss: 0.6849 - accuracy: 0.5515 - val_loss: 0.6881 - val_accuracy: 0.5422\n",
      "Epoch 4/30\n",
      "4646/4646 [==============================] - 7s 1ms/step - loss: 0.6828 - accuracy: 0.5571 - val_loss: 0.6846 - val_accuracy: 0.5490\n",
      "Epoch 5/30\n",
      "4646/4646 [==============================] - 7s 2ms/step - loss: 0.6804 - accuracy: 0.5623 - val_loss: 0.6848 - val_accuracy: 0.5473\n",
      "Epoch 6/30\n",
      "4646/4646 [==============================] - 7s 1ms/step - loss: 0.6777 - accuracy: 0.5685 - val_loss: 0.6850 - val_accuracy: 0.5473\n",
      "Epoch 7/30\n",
      "4646/4646 [==============================] - 7s 2ms/step - loss: 0.6749 - accuracy: 0.5746 - val_loss: 0.6899 - val_accuracy: 0.5498\n",
      "Epoch 8/30\n",
      "4646/4646 [==============================] - 7s 1ms/step - loss: 0.6714 - accuracy: 0.5808 - val_loss: 0.6879 - val_accuracy: 0.5441\n",
      "Epoch 9/30\n",
      "4646/4646 [==============================] - 7s 1ms/step - loss: 0.6676 - accuracy: 0.5869 - val_loss: 0.6905 - val_accuracy: 0.5516\n",
      "Epoch 10/30\n",
      "4646/4646 [==============================] - 7s 1ms/step - loss: 0.6629 - accuracy: 0.5954 - val_loss: 0.6952 - val_accuracy: 0.5475\n",
      "Epoch 11/30\n",
      "1601/4646 [=========>....................] - ETA: 4s - loss: 0.6550 - accuracy: 0.6056"
     ]
    }
   ],
   "source": [
    "model.fit(X_train,y_train,batch_size=64,epochs=30,validation_data=(X_test,y_test))"
   ]
  },
  {
   "cell_type": "code",
   "execution_count": null,
   "metadata": {},
   "outputs": [],
   "source": []
  }
 ],
 "metadata": {
  "kernelspec": {
   "display_name": "Python 3 (ipykernel)",
   "language": "python",
   "name": "python3"
  },
  "language_info": {
   "codemirror_mode": {
    "name": "ipython",
    "version": 3
   },
   "file_extension": ".py",
   "mimetype": "text/x-python",
   "name": "python",
   "nbconvert_exporter": "python",
   "pygments_lexer": "ipython3",
   "version": "3.9.16"
  }
 },
 "nbformat": 4,
 "nbformat_minor": 1
}
