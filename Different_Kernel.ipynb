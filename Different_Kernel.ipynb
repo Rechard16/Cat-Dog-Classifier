{
 "cells": [
  {
   "cell_type": "markdown",
   "source": [
    "# Different kernels\n",
    " this part, we will use different kernels to improve the result of the previous naive CNN model.\n",
    "Input:128\\*128\\*1\n"
   ],
   "metadata": {
    "collapsed": false
   }
  },
  {
   "cell_type": "code",
   "execution_count": 1,
   "outputs": [],
   "source": [
    "import keras.optimizers\n",
    "import tensorflow as tf\n",
    "from tensorflow.keras.models import Sequential\n",
    "from tensorflow.keras import layers, Model\n",
    "from tensorflow.keras.layers import Dense, Dropout, Activation, Flatten, Conv2D, MaxPooling2D, BatchNormalization, Layer,add,Input,concatenate\n",
    "from tensorflow.keras import regularizers\n",
    "from tensorflow.keras.utils import plot_model\n",
    "import pickle\n",
    "import numpy as np\n",
    "from tensorflow.keras.layers import Lambda"
   ],
   "metadata": {
    "collapsed": false
   }
  },
  {
   "cell_type": "code",
   "execution_count": 2,
   "outputs": [],
   "source": [
    "X_train= pickle.load(open(\"X_train\",\"rb\"))\n",
    "y_train= pickle.load(open(\"y_train\",\"rb\"))\n",
    "X_test= pickle.load(open(\"X_test\",\"rb\"))\n",
    "y_test= pickle.load(open(\"y_test\",\"rb\"))"
   ],
   "metadata": {
    "collapsed": false
   }
  },
  {
   "cell_type": "code",
   "execution_count": 3,
   "outputs": [],
   "source": [
    "X_train=X_train/255.0\n",
    "X_test=X_test/255.0"
   ],
   "metadata": {
    "collapsed": false
   }
  },
  {
   "cell_type": "code",
   "execution_count": 4,
   "outputs": [
    {
     "data": {
      "text/plain": "(9057, 128, 128, 1)"
     },
     "execution_count": 4,
     "metadata": {},
     "output_type": "execute_result"
    }
   ],
   "source": [
    "X_test.shape"
   ],
   "metadata": {
    "collapsed": false
   }
  },
  {
   "cell_type": "code",
   "execution_count": 2,
   "outputs": [],
   "source": [
    "def create_model():\n",
    "    inputl=Input(shape=(128,128,1))\n",
    "\n",
    "    x=Conv2D(96,(3,3),padding=\"same\")(inputl)\n",
    "    x=Activation(\"relu\")(x)\n",
    "    x=MaxPooling2D(pool_size=(2,2))(x)\n",
    "    x=Dropout(0.3)(x)\n",
    "\n",
    "    x=Conv2D(72,(3,3),padding=\"same\")(x)\n",
    "    x=Activation(\"relu\")(x)\n",
    "    x=MaxPooling2D(pool_size=(2,2))(x)\n",
    "    x=Dropout(0.3)(x)\n",
    "\n",
    "    x1=Conv2D(72,(3,3),padding=\"same\")(x)\n",
    "    x1=Activation(\"relu\")(x1)\n",
    "    x1=MaxPooling2D(pool_size=(2,2))(x1)\n",
    "    x1=Dropout(0.3)(x1)\n",
    "    x2=Conv2D(32,(5,5),padding=\"same\")(x)\n",
    "    x2=Activation(\"relu\")(x2)\n",
    "    x2=MaxPooling2D(pool_size=(2,2))(x2)\n",
    "    x2=Dropout(.3)(x2)\n",
    "    x3=Conv2D(32,(7,7),padding=\"same\")(x)\n",
    "    x3=Activation(\"relu\")(x3)\n",
    "    x3=MaxPooling2D(pool_size=(2,2))(x3)\n",
    "    x3=Dropout(0.3)(x3)\n",
    "\n",
    "    x=concatenate([x1,x2,x3],axis=3)\n",
    "\n",
    "    x=Flatten()(x)\n",
    "\n",
    "    x=Dense(84, activation=\"relu\",kernel_regularizer=regularizers.l2(l=0.001),bias_regularizer=regularizers.l2(l=0.001))(x)\n",
    "    x=Dropout(0.3)(x)\n",
    "    x=Dense(128, activation=\"relu\",kernel_regularizer=regularizers.l2(l=0.001),bias_regularizer=regularizers.l2(l=0.001))(x)\n",
    "    x=Dropout(0.3)(x)\n",
    "    x=Dense(128, activation=\"relu\",kernel_regularizer=regularizers.l2(l=0.001),bias_regularizer=regularizers.l2(l=0.001))(x)\n",
    "    x=Dropout(0.1)(x)\n",
    "    outputl=Dense(1,activation=\"sigmoid\")(x)\n",
    "    model=Model(inputs=inputl,outputs=outputl)\n",
    "    model.compile(loss=\"binary_crossentropy\",\n",
    "              optimizer='adam',\n",
    "              metrics=[\"accuracy\"])\n",
    "    return model\n"
   ],
   "metadata": {
    "collapsed": false
   }
  },
  {
   "cell_type": "code",
   "execution_count": 3,
   "outputs": [],
   "source": [
    "model=create_model()"
   ],
   "metadata": {
    "collapsed": false
   }
  },
  {
   "cell_type": "code",
   "execution_count": null,
   "outputs": [
    {
     "name": "stdout",
     "output_type": "stream",
     "text": [
      "Epoch 1/45\n",
      " 154/1133 [===>..........................] - ETA: 23s - loss: 0.8801 - accuracy: 0.4927"
     ]
    }
   ],
   "source": [
    "model.fit(X_train, y_train, batch_size=32,epochs=45, validation_data=(X_test, y_test))"
   ],
   "metadata": {
    "collapsed": false
   }
  },
  {
   "cell_type": "code",
   "execution_count": null,
   "outputs": [],
   "source": [
    "model.save(\"difker_45e.h5\")"
   ],
   "metadata": {
    "collapsed": false
   }
  },
  {
   "cell_type": "code",
   "execution_count": 7,
   "outputs": [],
   "source": [
    "model.load_weights(\"difker_45e.h5\")"
   ],
   "metadata": {
    "collapsed": false
   }
  },
  {
   "cell_type": "code",
   "execution_count": 8,
   "outputs": [
    {
     "name": "stdout",
     "output_type": "stream",
     "text": [
      "Epoch 1/5\n",
      "1133/1133 [==============================] - 60s 43ms/step - loss: 0.3833 - accuracy: 0.8805 - val_loss: 0.3690 - val_accuracy: 0.8953\n",
      "Epoch 2/5\n",
      "1133/1133 [==============================] - 34s 30ms/step - loss: 0.3920 - accuracy: 0.8838 - val_loss: 0.3904 - val_accuracy: 0.8885\n",
      "Epoch 3/5\n",
      "1133/1133 [==============================] - 34s 30ms/step - loss: 0.3979 - accuracy: 0.8837 - val_loss: 0.3811 - val_accuracy: 0.8930\n",
      "Epoch 4/5\n",
      "1133/1133 [==============================] - 34s 30ms/step - loss: 0.3908 - accuracy: 0.8854 - val_loss: 0.3668 - val_accuracy: 0.8953\n",
      "Epoch 5/5\n",
      "1133/1133 [==============================] - 34s 30ms/step - loss: 0.3921 - accuracy: 0.8844 - val_loss: 0.3728 - val_accuracy: 0.8970\n"
     ]
    },
    {
     "data": {
      "text/plain": "<keras.callbacks.History at 0x26943e96fa0>"
     },
     "execution_count": 8,
     "metadata": {},
     "output_type": "execute_result"
    }
   ],
   "source": [
    "model.fit(X_train, y_train, batch_size=32,epochs=5, validation_data=(X_test, y_test))"
   ],
   "metadata": {
    "collapsed": false
   }
  },
  {
   "cell_type": "code",
   "execution_count": 9,
   "outputs": [],
   "source": [
    "model.save(\"difker_50e.h5\")"
   ],
   "metadata": {
    "collapsed": false
   }
  },
  {
   "cell_type": "code",
   "execution_count": 11,
   "outputs": [
    {
     "name": "stdout",
     "output_type": "stream",
     "text": [
      "Epoch 1/10\n",
      "1133/1133 [==============================] - 34s 30ms/step - loss: 0.3909 - accuracy: 0.8888 - val_loss: 0.4013 - val_accuracy: 0.8817\n",
      "Epoch 2/10\n",
      "1133/1133 [==============================] - 34s 30ms/step - loss: 0.3899 - accuracy: 0.8890 - val_loss: 0.3620 - val_accuracy: 0.8995\n",
      "Epoch 3/10\n",
      "1133/1133 [==============================] - 34s 30ms/step - loss: 0.3875 - accuracy: 0.8899 - val_loss: 0.3694 - val_accuracy: 0.8943\n",
      "Epoch 4/10\n",
      "1133/1133 [==============================] - 34s 30ms/step - loss: 0.3860 - accuracy: 0.8879 - val_loss: 0.3663 - val_accuracy: 0.8973\n",
      "Epoch 5/10\n",
      "1133/1133 [==============================] - 34s 30ms/step - loss: 0.3896 - accuracy: 0.8912 - val_loss: 0.3881 - val_accuracy: 0.8957\n",
      "Epoch 6/10\n",
      "1133/1133 [==============================] - 34s 30ms/step - loss: 0.3861 - accuracy: 0.8915 - val_loss: 0.3511 - val_accuracy: 0.8999\n",
      "Epoch 7/10\n",
      "1133/1133 [==============================] - 34s 30ms/step - loss: 0.3885 - accuracy: 0.8922 - val_loss: 0.3709 - val_accuracy: 0.9000\n",
      "Epoch 8/10\n",
      "1133/1133 [==============================] - 34s 30ms/step - loss: 0.3886 - accuracy: 0.8930 - val_loss: 0.3515 - val_accuracy: 0.9036\n",
      "Epoch 9/10\n",
      "1133/1133 [==============================] - 34s 30ms/step - loss: 0.3842 - accuracy: 0.8919 - val_loss: 0.3549 - val_accuracy: 0.9004\n",
      "Epoch 10/10\n",
      "1133/1133 [==============================] - 34s 30ms/step - loss: 0.3859 - accuracy: 0.8918 - val_loss: 0.3682 - val_accuracy: 0.8971\n"
     ]
    },
    {
     "ename": "InternalError",
     "evalue": "Failed copying input tensor from /job:localhost/replica:0/task:0/device:GPU:0 to /job:localhost/replica:0/task:0/device:CPU:0 in order to run TensorDataset: Dst tensor is not initialized. [Op:TensorDataset]",
     "output_type": "error",
     "traceback": [
      "\u001B[1;31m---------------------------------------------------------------------------\u001B[0m",
      "\u001B[1;31mInternalError\u001B[0m                             Traceback (most recent call last)",
      "Cell \u001B[1;32mIn[11], line 2\u001B[0m\n\u001B[0;32m      1\u001B[0m \u001B[38;5;28;01mfor\u001B[39;00m i \u001B[38;5;129;01min\u001B[39;00m \u001B[38;5;28mrange\u001B[39m(\u001B[38;5;241m10\u001B[39m):\n\u001B[1;32m----> 2\u001B[0m     \u001B[43mmodel\u001B[49m\u001B[38;5;241;43m.\u001B[39;49m\u001B[43mfit\u001B[49m\u001B[43m(\u001B[49m\u001B[43mX_train\u001B[49m\u001B[43m,\u001B[49m\u001B[43m \u001B[49m\u001B[43my_train\u001B[49m\u001B[43m,\u001B[49m\u001B[43m \u001B[49m\u001B[43mbatch_size\u001B[49m\u001B[38;5;241;43m=\u001B[39;49m\u001B[38;5;241;43m32\u001B[39;49m\u001B[43m,\u001B[49m\u001B[43mepochs\u001B[49m\u001B[38;5;241;43m=\u001B[39;49m\u001B[38;5;241;43m10\u001B[39;49m\u001B[43m,\u001B[49m\u001B[43m \u001B[49m\u001B[43mvalidation_data\u001B[49m\u001B[38;5;241;43m=\u001B[39;49m\u001B[43m(\u001B[49m\u001B[43mX_test\u001B[49m\u001B[43m,\u001B[49m\u001B[43m \u001B[49m\u001B[43my_test\u001B[49m\u001B[43m)\u001B[49m\u001B[43m)\u001B[49m\n\u001B[0;32m      3\u001B[0m     model\u001B[38;5;241m.\u001B[39msave(\u001B[38;5;124m\"\u001B[39m\u001B[38;5;124mdifker_\u001B[39m\u001B[38;5;124m\"\u001B[39m\u001B[38;5;241m+\u001B[39m\u001B[38;5;28mstr\u001B[39m(\u001B[38;5;241m50\u001B[39m\u001B[38;5;241m+\u001B[39m\u001B[38;5;241m10\u001B[39m\u001B[38;5;241m*\u001B[39m(i\u001B[38;5;241m+\u001B[39m\u001B[38;5;241m1\u001B[39m))\u001B[38;5;241m+\u001B[39m\u001B[38;5;124m\"\u001B[39m\u001B[38;5;124me.h5\u001B[39m\u001B[38;5;124m\"\u001B[39m)\n",
      "File \u001B[1;32mD:\\anaconda\\envs\\gpu\\lib\\site-packages\\keras\\engine\\training.py:1134\u001B[0m, in \u001B[0;36mModel.fit\u001B[1;34m(self, x, y, batch_size, epochs, verbose, callbacks, validation_split, validation_data, shuffle, class_weight, sample_weight, initial_epoch, steps_per_epoch, validation_steps, validation_batch_size, validation_freq, max_queue_size, workers, use_multiprocessing)\u001B[0m\n\u001B[0;32m   1128\u001B[0m   \u001B[38;5;28mself\u001B[39m\u001B[38;5;241m.\u001B[39m_cluster_coordinator \u001B[38;5;241m=\u001B[39m tf\u001B[38;5;241m.\u001B[39mdistribute\u001B[38;5;241m.\u001B[39mexperimental\u001B[38;5;241m.\u001B[39mcoordinator\u001B[38;5;241m.\u001B[39mClusterCoordinator(\n\u001B[0;32m   1129\u001B[0m       \u001B[38;5;28mself\u001B[39m\u001B[38;5;241m.\u001B[39mdistribute_strategy)\n\u001B[0;32m   1131\u001B[0m \u001B[38;5;28;01mwith\u001B[39;00m \u001B[38;5;28mself\u001B[39m\u001B[38;5;241m.\u001B[39mdistribute_strategy\u001B[38;5;241m.\u001B[39mscope(), \\\n\u001B[0;32m   1132\u001B[0m      training_utils\u001B[38;5;241m.\u001B[39mRespectCompiledTrainableState(\u001B[38;5;28mself\u001B[39m):\n\u001B[0;32m   1133\u001B[0m   \u001B[38;5;66;03m# Creates a `tf.data.Dataset` and handles batch and epoch iteration.\u001B[39;00m\n\u001B[1;32m-> 1134\u001B[0m   data_handler \u001B[38;5;241m=\u001B[39m \u001B[43mdata_adapter\u001B[49m\u001B[38;5;241;43m.\u001B[39;49m\u001B[43mget_data_handler\u001B[49m\u001B[43m(\u001B[49m\n\u001B[0;32m   1135\u001B[0m \u001B[43m      \u001B[49m\u001B[43mx\u001B[49m\u001B[38;5;241;43m=\u001B[39;49m\u001B[43mx\u001B[49m\u001B[43m,\u001B[49m\n\u001B[0;32m   1136\u001B[0m \u001B[43m      \u001B[49m\u001B[43my\u001B[49m\u001B[38;5;241;43m=\u001B[39;49m\u001B[43my\u001B[49m\u001B[43m,\u001B[49m\n\u001B[0;32m   1137\u001B[0m \u001B[43m      \u001B[49m\u001B[43msample_weight\u001B[49m\u001B[38;5;241;43m=\u001B[39;49m\u001B[43msample_weight\u001B[49m\u001B[43m,\u001B[49m\n\u001B[0;32m   1138\u001B[0m \u001B[43m      \u001B[49m\u001B[43mbatch_size\u001B[49m\u001B[38;5;241;43m=\u001B[39;49m\u001B[43mbatch_size\u001B[49m\u001B[43m,\u001B[49m\n\u001B[0;32m   1139\u001B[0m \u001B[43m      \u001B[49m\u001B[43msteps_per_epoch\u001B[49m\u001B[38;5;241;43m=\u001B[39;49m\u001B[43msteps_per_epoch\u001B[49m\u001B[43m,\u001B[49m\n\u001B[0;32m   1140\u001B[0m \u001B[43m      \u001B[49m\u001B[43minitial_epoch\u001B[49m\u001B[38;5;241;43m=\u001B[39;49m\u001B[43minitial_epoch\u001B[49m\u001B[43m,\u001B[49m\n\u001B[0;32m   1141\u001B[0m \u001B[43m      \u001B[49m\u001B[43mepochs\u001B[49m\u001B[38;5;241;43m=\u001B[39;49m\u001B[43mepochs\u001B[49m\u001B[43m,\u001B[49m\n\u001B[0;32m   1142\u001B[0m \u001B[43m      \u001B[49m\u001B[43mshuffle\u001B[49m\u001B[38;5;241;43m=\u001B[39;49m\u001B[43mshuffle\u001B[49m\u001B[43m,\u001B[49m\n\u001B[0;32m   1143\u001B[0m \u001B[43m      \u001B[49m\u001B[43mclass_weight\u001B[49m\u001B[38;5;241;43m=\u001B[39;49m\u001B[43mclass_weight\u001B[49m\u001B[43m,\u001B[49m\n\u001B[0;32m   1144\u001B[0m \u001B[43m      \u001B[49m\u001B[43mmax_queue_size\u001B[49m\u001B[38;5;241;43m=\u001B[39;49m\u001B[43mmax_queue_size\u001B[49m\u001B[43m,\u001B[49m\n\u001B[0;32m   1145\u001B[0m \u001B[43m      \u001B[49m\u001B[43mworkers\u001B[49m\u001B[38;5;241;43m=\u001B[39;49m\u001B[43mworkers\u001B[49m\u001B[43m,\u001B[49m\n\u001B[0;32m   1146\u001B[0m \u001B[43m      \u001B[49m\u001B[43muse_multiprocessing\u001B[49m\u001B[38;5;241;43m=\u001B[39;49m\u001B[43muse_multiprocessing\u001B[49m\u001B[43m,\u001B[49m\n\u001B[0;32m   1147\u001B[0m \u001B[43m      \u001B[49m\u001B[43mmodel\u001B[49m\u001B[38;5;241;43m=\u001B[39;49m\u001B[38;5;28;43mself\u001B[39;49m\u001B[43m,\u001B[49m\n\u001B[0;32m   1148\u001B[0m \u001B[43m      \u001B[49m\u001B[43msteps_per_execution\u001B[49m\u001B[38;5;241;43m=\u001B[39;49m\u001B[38;5;28;43mself\u001B[39;49m\u001B[38;5;241;43m.\u001B[39;49m\u001B[43m_steps_per_execution\u001B[49m\u001B[43m)\u001B[49m\n\u001B[0;32m   1150\u001B[0m   \u001B[38;5;66;03m# Container that configures and calls `tf.keras.Callback`s.\u001B[39;00m\n\u001B[0;32m   1151\u001B[0m   \u001B[38;5;28;01mif\u001B[39;00m \u001B[38;5;129;01mnot\u001B[39;00m \u001B[38;5;28misinstance\u001B[39m(callbacks, callbacks_module\u001B[38;5;241m.\u001B[39mCallbackList):\n",
      "File \u001B[1;32mD:\\anaconda\\envs\\gpu\\lib\\site-packages\\keras\\engine\\data_adapter.py:1383\u001B[0m, in \u001B[0;36mget_data_handler\u001B[1;34m(*args, **kwargs)\u001B[0m\n\u001B[0;32m   1381\u001B[0m \u001B[38;5;28;01mif\u001B[39;00m \u001B[38;5;28mgetattr\u001B[39m(kwargs[\u001B[38;5;124m\"\u001B[39m\u001B[38;5;124mmodel\u001B[39m\u001B[38;5;124m\"\u001B[39m], \u001B[38;5;124m\"\u001B[39m\u001B[38;5;124m_cluster_coordinator\u001B[39m\u001B[38;5;124m\"\u001B[39m, \u001B[38;5;28;01mNone\u001B[39;00m):\n\u001B[0;32m   1382\u001B[0m   \u001B[38;5;28;01mreturn\u001B[39;00m _ClusterCoordinatorDataHandler(\u001B[38;5;241m*\u001B[39margs, \u001B[38;5;241m*\u001B[39m\u001B[38;5;241m*\u001B[39mkwargs)\n\u001B[1;32m-> 1383\u001B[0m \u001B[38;5;28;01mreturn\u001B[39;00m DataHandler(\u001B[38;5;241m*\u001B[39margs, \u001B[38;5;241m*\u001B[39m\u001B[38;5;241m*\u001B[39mkwargs)\n",
      "File \u001B[1;32mD:\\anaconda\\envs\\gpu\\lib\\site-packages\\keras\\engine\\data_adapter.py:1138\u001B[0m, in \u001B[0;36mDataHandler.__init__\u001B[1;34m(self, x, y, sample_weight, batch_size, steps_per_epoch, initial_epoch, epochs, shuffle, class_weight, max_queue_size, workers, use_multiprocessing, model, steps_per_execution, distribute)\u001B[0m\n\u001B[0;32m   1135\u001B[0m   \u001B[38;5;28mself\u001B[39m\u001B[38;5;241m.\u001B[39m_steps_per_execution_value \u001B[38;5;241m=\u001B[39m steps_per_execution\u001B[38;5;241m.\u001B[39mnumpy()\u001B[38;5;241m.\u001B[39mitem()\n\u001B[0;32m   1137\u001B[0m adapter_cls \u001B[38;5;241m=\u001B[39m select_data_adapter(x, y)\n\u001B[1;32m-> 1138\u001B[0m \u001B[38;5;28mself\u001B[39m\u001B[38;5;241m.\u001B[39m_adapter \u001B[38;5;241m=\u001B[39m \u001B[43madapter_cls\u001B[49m\u001B[43m(\u001B[49m\n\u001B[0;32m   1139\u001B[0m \u001B[43m    \u001B[49m\u001B[43mx\u001B[49m\u001B[43m,\u001B[49m\n\u001B[0;32m   1140\u001B[0m \u001B[43m    \u001B[49m\u001B[43my\u001B[49m\u001B[43m,\u001B[49m\n\u001B[0;32m   1141\u001B[0m \u001B[43m    \u001B[49m\u001B[43mbatch_size\u001B[49m\u001B[38;5;241;43m=\u001B[39;49m\u001B[43mbatch_size\u001B[49m\u001B[43m,\u001B[49m\n\u001B[0;32m   1142\u001B[0m \u001B[43m    \u001B[49m\u001B[43msteps\u001B[49m\u001B[38;5;241;43m=\u001B[39;49m\u001B[43msteps_per_epoch\u001B[49m\u001B[43m,\u001B[49m\n\u001B[0;32m   1143\u001B[0m \u001B[43m    \u001B[49m\u001B[43mepochs\u001B[49m\u001B[38;5;241;43m=\u001B[39;49m\u001B[43mepochs\u001B[49m\u001B[43m \u001B[49m\u001B[38;5;241;43m-\u001B[39;49m\u001B[43m \u001B[49m\u001B[43minitial_epoch\u001B[49m\u001B[43m,\u001B[49m\n\u001B[0;32m   1144\u001B[0m \u001B[43m    \u001B[49m\u001B[43msample_weights\u001B[49m\u001B[38;5;241;43m=\u001B[39;49m\u001B[43msample_weight\u001B[49m\u001B[43m,\u001B[49m\n\u001B[0;32m   1145\u001B[0m \u001B[43m    \u001B[49m\u001B[43mshuffle\u001B[49m\u001B[38;5;241;43m=\u001B[39;49m\u001B[43mshuffle\u001B[49m\u001B[43m,\u001B[49m\n\u001B[0;32m   1146\u001B[0m \u001B[43m    \u001B[49m\u001B[43mmax_queue_size\u001B[49m\u001B[38;5;241;43m=\u001B[39;49m\u001B[43mmax_queue_size\u001B[49m\u001B[43m,\u001B[49m\n\u001B[0;32m   1147\u001B[0m \u001B[43m    \u001B[49m\u001B[43mworkers\u001B[49m\u001B[38;5;241;43m=\u001B[39;49m\u001B[43mworkers\u001B[49m\u001B[43m,\u001B[49m\n\u001B[0;32m   1148\u001B[0m \u001B[43m    \u001B[49m\u001B[43muse_multiprocessing\u001B[49m\u001B[38;5;241;43m=\u001B[39;49m\u001B[43muse_multiprocessing\u001B[49m\u001B[43m,\u001B[49m\n\u001B[0;32m   1149\u001B[0m \u001B[43m    \u001B[49m\u001B[43mdistribution_strategy\u001B[49m\u001B[38;5;241;43m=\u001B[39;49m\u001B[43mtf\u001B[49m\u001B[38;5;241;43m.\u001B[39;49m\u001B[43mdistribute\u001B[49m\u001B[38;5;241;43m.\u001B[39;49m\u001B[43mget_strategy\u001B[49m\u001B[43m(\u001B[49m\u001B[43m)\u001B[49m\u001B[43m,\u001B[49m\n\u001B[0;32m   1150\u001B[0m \u001B[43m    \u001B[49m\u001B[43mmodel\u001B[49m\u001B[38;5;241;43m=\u001B[39;49m\u001B[43mmodel\u001B[49m\u001B[43m)\u001B[49m\n\u001B[0;32m   1152\u001B[0m strategy \u001B[38;5;241m=\u001B[39m tf\u001B[38;5;241m.\u001B[39mdistribute\u001B[38;5;241m.\u001B[39mget_strategy()\n\u001B[0;32m   1154\u001B[0m \u001B[38;5;28mself\u001B[39m\u001B[38;5;241m.\u001B[39m_current_step \u001B[38;5;241m=\u001B[39m \u001B[38;5;241m0\u001B[39m\n",
      "File \u001B[1;32mD:\\anaconda\\envs\\gpu\\lib\\site-packages\\keras\\engine\\data_adapter.py:322\u001B[0m, in \u001B[0;36mTensorLikeDataAdapter.__init__\u001B[1;34m(self, x, y, sample_weights, sample_weight_modes, batch_size, epochs, steps, shuffle, **kwargs)\u001B[0m\n\u001B[0;32m    318\u001B[0m   \u001B[38;5;28;01mreturn\u001B[39;00m flat_dataset\n\u001B[0;32m    320\u001B[0m indices_dataset \u001B[38;5;241m=\u001B[39m indices_dataset\u001B[38;5;241m.\u001B[39mflat_map(slice_batch_indices)\n\u001B[1;32m--> 322\u001B[0m dataset \u001B[38;5;241m=\u001B[39m \u001B[38;5;28;43mself\u001B[39;49m\u001B[38;5;241;43m.\u001B[39;49m\u001B[43mslice_inputs\u001B[49m\u001B[43m(\u001B[49m\u001B[43mindices_dataset\u001B[49m\u001B[43m,\u001B[49m\u001B[43m \u001B[49m\u001B[43minputs\u001B[49m\u001B[43m)\u001B[49m\n\u001B[0;32m    324\u001B[0m \u001B[38;5;28;01mif\u001B[39;00m shuffle \u001B[38;5;241m==\u001B[39m \u001B[38;5;124m\"\u001B[39m\u001B[38;5;124mbatch\u001B[39m\u001B[38;5;124m\"\u001B[39m:\n\u001B[0;32m    325\u001B[0m   \u001B[38;5;28;01mdef\u001B[39;00m \u001B[38;5;21mshuffle_batch\u001B[39m(\u001B[38;5;241m*\u001B[39mbatch):\n",
      "File \u001B[1;32mD:\\anaconda\\envs\\gpu\\lib\\site-packages\\keras\\engine\\data_adapter.py:348\u001B[0m, in \u001B[0;36mTensorLikeDataAdapter.slice_inputs\u001B[1;34m(self, indices_dataset, inputs)\u001B[0m\n\u001B[0;32m    331\u001B[0m \u001B[38;5;28;01mdef\u001B[39;00m \u001B[38;5;21mslice_inputs\u001B[39m(\u001B[38;5;28mself\u001B[39m, indices_dataset, inputs):\n\u001B[0;32m    332\u001B[0m \u001B[38;5;250m  \u001B[39m\u001B[38;5;124;03m\"\"\"Slice inputs into a Dataset of batches.\u001B[39;00m\n\u001B[0;32m    333\u001B[0m \n\u001B[0;32m    334\u001B[0m \u001B[38;5;124;03m  Given a Dataset of batch indices and the unsliced inputs,\u001B[39;00m\n\u001B[1;32m   (...)\u001B[0m\n\u001B[0;32m    344\u001B[0m \u001B[38;5;124;03m    A Dataset of input batches matching the batch indices.\u001B[39;00m\n\u001B[0;32m    345\u001B[0m \u001B[38;5;124;03m  \"\"\"\u001B[39;00m\n\u001B[0;32m    346\u001B[0m   dataset \u001B[38;5;241m=\u001B[39m tf\u001B[38;5;241m.\u001B[39mdata\u001B[38;5;241m.\u001B[39mDataset\u001B[38;5;241m.\u001B[39mzip((\n\u001B[0;32m    347\u001B[0m       indices_dataset,\n\u001B[1;32m--> 348\u001B[0m       \u001B[43mtf\u001B[49m\u001B[38;5;241;43m.\u001B[39;49m\u001B[43mdata\u001B[49m\u001B[38;5;241;43m.\u001B[39;49m\u001B[43mDataset\u001B[49m\u001B[38;5;241;43m.\u001B[39;49m\u001B[43mfrom_tensors\u001B[49m\u001B[43m(\u001B[49m\u001B[43minputs\u001B[49m\u001B[43m)\u001B[49m\u001B[38;5;241m.\u001B[39mrepeat()\n\u001B[0;32m    349\u001B[0m   ))\n\u001B[0;32m    351\u001B[0m   \u001B[38;5;28;01mdef\u001B[39;00m \u001B[38;5;21mgrab_batch\u001B[39m(i, data):\n\u001B[0;32m    352\u001B[0m     \u001B[38;5;28;01mreturn\u001B[39;00m tf\u001B[38;5;241m.\u001B[39mnest\u001B[38;5;241m.\u001B[39mmap_structure(\u001B[38;5;28;01mlambda\u001B[39;00m d: tf\u001B[38;5;241m.\u001B[39mgather(d, i, axis\u001B[38;5;241m=\u001B[39m\u001B[38;5;241m0\u001B[39m), data)\n",
      "File \u001B[1;32mD:\\anaconda\\envs\\gpu\\lib\\site-packages\\tensorflow\\python\\data\\ops\\dataset_ops.py:606\u001B[0m, in \u001B[0;36mDatasetV2.from_tensors\u001B[1;34m(tensors)\u001B[0m\n\u001B[0;32m    570\u001B[0m \u001B[38;5;129m@staticmethod\u001B[39m\n\u001B[0;32m    571\u001B[0m \u001B[38;5;28;01mdef\u001B[39;00m \u001B[38;5;21mfrom_tensors\u001B[39m(tensors):\n\u001B[0;32m    572\u001B[0m \u001B[38;5;250m  \u001B[39m\u001B[38;5;124;03m\"\"\"Creates a `Dataset` with a single element, comprising the given tensors.\u001B[39;00m\n\u001B[0;32m    573\u001B[0m \n\u001B[0;32m    574\u001B[0m \u001B[38;5;124;03m  `from_tensors` produces a dataset containing only a single element. To slice\u001B[39;00m\n\u001B[1;32m   (...)\u001B[0m\n\u001B[0;32m    604\u001B[0m \u001B[38;5;124;03m    Dataset: A `Dataset`.\u001B[39;00m\n\u001B[0;32m    605\u001B[0m \u001B[38;5;124;03m  \"\"\"\u001B[39;00m\n\u001B[1;32m--> 606\u001B[0m   \u001B[38;5;28;01mreturn\u001B[39;00m \u001B[43mTensorDataset\u001B[49m\u001B[43m(\u001B[49m\u001B[43mtensors\u001B[49m\u001B[43m)\u001B[49m\n",
      "File \u001B[1;32mD:\\anaconda\\envs\\gpu\\lib\\site-packages\\tensorflow\\python\\data\\ops\\dataset_ops.py:3829\u001B[0m, in \u001B[0;36mTensorDataset.__init__\u001B[1;34m(self, element)\u001B[0m\n\u001B[0;32m   3826\u001B[0m \u001B[38;5;28mself\u001B[39m\u001B[38;5;241m.\u001B[39m_structure \u001B[38;5;241m=\u001B[39m structure\u001B[38;5;241m.\u001B[39mtype_spec_from_value(element)\n\u001B[0;32m   3827\u001B[0m \u001B[38;5;28mself\u001B[39m\u001B[38;5;241m.\u001B[39m_tensors \u001B[38;5;241m=\u001B[39m structure\u001B[38;5;241m.\u001B[39mto_tensor_list(\u001B[38;5;28mself\u001B[39m\u001B[38;5;241m.\u001B[39m_structure, element)\n\u001B[1;32m-> 3829\u001B[0m variant_tensor \u001B[38;5;241m=\u001B[39m \u001B[43mgen_dataset_ops\u001B[49m\u001B[38;5;241;43m.\u001B[39;49m\u001B[43mtensor_dataset\u001B[49m\u001B[43m(\u001B[49m\n\u001B[0;32m   3830\u001B[0m \u001B[43m    \u001B[49m\u001B[38;5;28;43mself\u001B[39;49m\u001B[38;5;241;43m.\u001B[39;49m\u001B[43m_tensors\u001B[49m\u001B[43m,\u001B[49m\n\u001B[0;32m   3831\u001B[0m \u001B[43m    \u001B[49m\u001B[43moutput_shapes\u001B[49m\u001B[38;5;241;43m=\u001B[39;49m\u001B[43mstructure\u001B[49m\u001B[38;5;241;43m.\u001B[39;49m\u001B[43mget_flat_tensor_shapes\u001B[49m\u001B[43m(\u001B[49m\u001B[38;5;28;43mself\u001B[39;49m\u001B[38;5;241;43m.\u001B[39;49m\u001B[43m_structure\u001B[49m\u001B[43m)\u001B[49m\u001B[43m)\u001B[49m\n\u001B[0;32m   3832\u001B[0m \u001B[38;5;28msuper\u001B[39m(TensorDataset, \u001B[38;5;28mself\u001B[39m)\u001B[38;5;241m.\u001B[39m\u001B[38;5;21m__init__\u001B[39m(variant_tensor)\n",
      "File \u001B[1;32mD:\\anaconda\\envs\\gpu\\lib\\site-packages\\tensorflow\\python\\ops\\gen_dataset_ops.py:7043\u001B[0m, in \u001B[0;36mtensor_dataset\u001B[1;34m(components, output_shapes, name)\u001B[0m\n\u001B[0;32m   7041\u001B[0m   \u001B[38;5;28;01mreturn\u001B[39;00m _result\n\u001B[0;32m   7042\u001B[0m \u001B[38;5;28;01mexcept\u001B[39;00m _core\u001B[38;5;241m.\u001B[39m_NotOkStatusException \u001B[38;5;28;01mas\u001B[39;00m e:\n\u001B[1;32m-> 7043\u001B[0m   \u001B[43m_ops\u001B[49m\u001B[38;5;241;43m.\u001B[39;49m\u001B[43mraise_from_not_ok_status\u001B[49m\u001B[43m(\u001B[49m\u001B[43me\u001B[49m\u001B[43m,\u001B[49m\u001B[43m \u001B[49m\u001B[43mname\u001B[49m\u001B[43m)\u001B[49m\n\u001B[0;32m   7044\u001B[0m \u001B[38;5;28;01mexcept\u001B[39;00m _core\u001B[38;5;241m.\u001B[39m_FallbackException:\n\u001B[0;32m   7045\u001B[0m   \u001B[38;5;28;01mpass\u001B[39;00m\n",
      "File \u001B[1;32mD:\\anaconda\\envs\\gpu\\lib\\site-packages\\tensorflow\\python\\framework\\ops.py:6941\u001B[0m, in \u001B[0;36mraise_from_not_ok_status\u001B[1;34m(e, name)\u001B[0m\n\u001B[0;32m   6939\u001B[0m message \u001B[38;5;241m=\u001B[39m e\u001B[38;5;241m.\u001B[39mmessage \u001B[38;5;241m+\u001B[39m (\u001B[38;5;124m\"\u001B[39m\u001B[38;5;124m name: \u001B[39m\u001B[38;5;124m\"\u001B[39m \u001B[38;5;241m+\u001B[39m name \u001B[38;5;28;01mif\u001B[39;00m name \u001B[38;5;129;01mis\u001B[39;00m \u001B[38;5;129;01mnot\u001B[39;00m \u001B[38;5;28;01mNone\u001B[39;00m \u001B[38;5;28;01melse\u001B[39;00m \u001B[38;5;124m\"\u001B[39m\u001B[38;5;124m\"\u001B[39m)\n\u001B[0;32m   6940\u001B[0m \u001B[38;5;66;03m# pylint: disable=protected-access\u001B[39;00m\n\u001B[1;32m-> 6941\u001B[0m \u001B[43msix\u001B[49m\u001B[38;5;241;43m.\u001B[39;49m\u001B[43mraise_from\u001B[49m\u001B[43m(\u001B[49m\u001B[43mcore\u001B[49m\u001B[38;5;241;43m.\u001B[39;49m\u001B[43m_status_to_exception\u001B[49m\u001B[43m(\u001B[49m\u001B[43me\u001B[49m\u001B[38;5;241;43m.\u001B[39;49m\u001B[43mcode\u001B[49m\u001B[43m,\u001B[49m\u001B[43m \u001B[49m\u001B[43mmessage\u001B[49m\u001B[43m)\u001B[49m\u001B[43m,\u001B[49m\u001B[43m \u001B[49m\u001B[38;5;28;43;01mNone\u001B[39;49;00m\u001B[43m)\u001B[49m\n",
      "File \u001B[1;32m<string>:3\u001B[0m, in \u001B[0;36mraise_from\u001B[1;34m(value, from_value)\u001B[0m\n",
      "\u001B[1;31mInternalError\u001B[0m: Failed copying input tensor from /job:localhost/replica:0/task:0/device:GPU:0 to /job:localhost/replica:0/task:0/device:CPU:0 in order to run TensorDataset: Dst tensor is not initialized. [Op:TensorDataset]"
     ]
    }
   ],
   "source": [
    "model.fit(X_train, y_train, batch_size=32,epochs=10, validation_data=(X_test, y_test))"
   ],
   "metadata": {
    "collapsed": false
   }
  },
  {
   "cell_type": "code",
   "execution_count": 12,
   "outputs": [],
   "source": [
    "model.save(\"difker_60e.h5\")"
   ],
   "metadata": {
    "collapsed": false
   }
  },
  {
   "cell_type": "code",
   "execution_count": 7,
   "outputs": [],
   "source": [
    "model.load_weights(\"difker_60e.h5\")"
   ],
   "metadata": {
    "collapsed": false
   }
  },
  {
   "cell_type": "code",
   "execution_count": 8,
   "outputs": [
    {
     "name": "stdout",
     "output_type": "stream",
     "text": [
      "Epoch 1/10\n",
      "1133/1133 [==============================] - 54s 36ms/step - loss: 0.3684 - accuracy: 0.8917 - val_loss: 0.3528 - val_accuracy: 0.9037\n",
      "Epoch 2/10\n",
      "1133/1133 [==============================] - 38s 34ms/step - loss: 0.3765 - accuracy: 0.8954 - val_loss: 0.3559 - val_accuracy: 0.9041\n",
      "Epoch 3/10\n",
      "1133/1133 [==============================] - 43s 38ms/step - loss: 0.3783 - accuracy: 0.8960 - val_loss: 0.4004 - val_accuracy: 0.8804\n",
      "Epoch 4/10\n",
      "1133/1133 [==============================] - 35s 31ms/step - loss: 0.3775 - accuracy: 0.8947 - val_loss: 0.3444 - val_accuracy: 0.9068\n",
      "Epoch 5/10\n",
      "1133/1133 [==============================] - 35s 31ms/step - loss: 0.3699 - accuracy: 0.8984 - val_loss: 0.3425 - val_accuracy: 0.9058\n",
      "Epoch 6/10\n",
      "1133/1133 [==============================] - 35s 31ms/step - loss: 0.3828 - accuracy: 0.8939 - val_loss: 0.3643 - val_accuracy: 0.9042\n",
      "Epoch 7/10\n",
      "1133/1133 [==============================] - 35s 31ms/step - loss: 0.3804 - accuracy: 0.8973 - val_loss: 0.3747 - val_accuracy: 0.8925\n",
      "Epoch 8/10\n",
      "1133/1133 [==============================] - 35s 31ms/step - loss: 0.3821 - accuracy: 0.8935 - val_loss: 0.3595 - val_accuracy: 0.9061\n",
      "Epoch 9/10\n",
      "1133/1133 [==============================] - 35s 31ms/step - loss: 0.3693 - accuracy: 0.8980 - val_loss: 0.3486 - val_accuracy: 0.9034\n",
      "Epoch 10/10\n",
      "1133/1133 [==============================] - 35s 31ms/step - loss: 0.3726 - accuracy: 0.8965 - val_loss: 0.3614 - val_accuracy: 0.9043\n"
     ]
    },
    {
     "data": {
      "text/plain": "<keras.callbacks.History at 0x1dbb2b13eb0>"
     },
     "execution_count": 8,
     "metadata": {},
     "output_type": "execute_result"
    }
   ],
   "source": [
    "model.fit(X_train, y_train, batch_size=32,epochs=10, validation_data=(X_test, y_test))"
   ],
   "metadata": {
    "collapsed": false
   }
  },
  {
   "cell_type": "code",
   "execution_count": 9,
   "outputs": [],
   "source": [
    "model.save(\"difker_70e.h5\")"
   ],
   "metadata": {
    "collapsed": false
   }
  },
  {
   "cell_type": "code",
   "execution_count": 7,
   "outputs": [],
   "source": [
    "model.load_weights(\"difker_70e.h5\")"
   ],
   "metadata": {
    "collapsed": false
   }
  },
  {
   "cell_type": "code",
   "execution_count": 8,
   "outputs": [
    {
     "name": "stdout",
     "output_type": "stream",
     "text": [
      "Epoch 1/10\n",
      "1133/1133 [==============================] - 42s 31ms/step - loss: 0.3655 - accuracy: 0.8940 - val_loss: 0.3479 - val_accuracy: 0.9010\n",
      "Epoch 2/10\n",
      "1133/1133 [==============================] - 34s 30ms/step - loss: 0.3722 - accuracy: 0.8981 - val_loss: 0.3564 - val_accuracy: 0.9041\n",
      "Epoch 3/10\n",
      "1133/1133 [==============================] - 33s 29ms/step - loss: 0.3775 - accuracy: 0.8954 - val_loss: 0.3657 - val_accuracy: 0.9003\n",
      "Epoch 4/10\n",
      "1133/1133 [==============================] - 33s 29ms/step - loss: 0.3683 - accuracy: 0.8982 - val_loss: 0.3507 - val_accuracy: 0.9060\n",
      "Epoch 5/10\n",
      "1133/1133 [==============================] - 33s 29ms/step - loss: 0.3775 - accuracy: 0.8975 - val_loss: 0.3601 - val_accuracy: 0.9078\n",
      "Epoch 6/10\n",
      "1133/1133 [==============================] - 33s 29ms/step - loss: 0.3705 - accuracy: 0.8994 - val_loss: 0.3490 - val_accuracy: 0.9063\n",
      "Epoch 7/10\n",
      "1133/1133 [==============================] - 32s 29ms/step - loss: 0.3714 - accuracy: 0.8999 - val_loss: 0.3643 - val_accuracy: 0.9034\n",
      "Epoch 8/10\n",
      "1133/1133 [==============================] - 33s 29ms/step - loss: 0.3724 - accuracy: 0.9007 - val_loss: 0.3495 - val_accuracy: 0.9069\n",
      "Epoch 9/10\n",
      "1133/1133 [==============================] - 33s 29ms/step - loss: 0.3692 - accuracy: 0.9019 - val_loss: 0.3664 - val_accuracy: 0.9039\n",
      "Epoch 10/10\n",
      "1133/1133 [==============================] - 33s 29ms/step - loss: 0.3678 - accuracy: 0.9039 - val_loss: 0.3523 - val_accuracy: 0.9092\n"
     ]
    },
    {
     "data": {
      "text/plain": "<keras.callbacks.History at 0x199b0c1ffa0>"
     },
     "execution_count": 8,
     "metadata": {},
     "output_type": "execute_result"
    }
   ],
   "source": [
    "model.fit(X_train, y_train, batch_size=32,epochs=10, validation_data=(X_test, y_test))"
   ],
   "metadata": {
    "collapsed": false
   }
  },
  {
   "cell_type": "code",
   "execution_count": 9,
   "outputs": [],
   "source": [
    "model.save(\"difker_80e.h5\")"
   ],
   "metadata": {
    "collapsed": false
   }
  },
  {
   "cell_type": "code",
   "execution_count": 10,
   "outputs": [
    {
     "name": "stdout",
     "output_type": "stream",
     "text": [
      "Epoch 1/10\n",
      "1133/1133 [==============================] - 33s 29ms/step - loss: 0.3722 - accuracy: 0.9013 - val_loss: 0.3489 - val_accuracy: 0.9079\n",
      "Epoch 2/10\n",
      "1133/1133 [==============================] - 33s 29ms/step - loss: 0.3744 - accuracy: 0.9028 - val_loss: 0.3599 - val_accuracy: 0.9033\n",
      "Epoch 3/10\n",
      "1133/1133 [==============================] - 33s 29ms/step - loss: 0.3704 - accuracy: 0.9037 - val_loss: 0.3485 - val_accuracy: 0.9099\n",
      "Epoch 4/10\n",
      "1133/1133 [==============================] - 33s 29ms/step - loss: 0.3627 - accuracy: 0.9007 - val_loss: 0.3549 - val_accuracy: 0.9099\n",
      "Epoch 5/10\n",
      "1133/1133 [==============================] - 33s 29ms/step - loss: 0.3677 - accuracy: 0.9042 - val_loss: 0.3697 - val_accuracy: 0.8976\n",
      "Epoch 6/10\n",
      "1133/1133 [==============================] - 33s 29ms/step - loss: 0.3759 - accuracy: 0.9018 - val_loss: 0.3555 - val_accuracy: 0.9061\n",
      "Epoch 7/10\n",
      "1133/1133 [==============================] - 33s 29ms/step - loss: 0.3696 - accuracy: 0.9050 - val_loss: 0.3581 - val_accuracy: 0.9114\n",
      "Epoch 8/10\n",
      "1133/1133 [==============================] - 33s 29ms/step - loss: 0.3600 - accuracy: 0.9058 - val_loss: 0.3509 - val_accuracy: 0.9002\n",
      "Epoch 9/10\n",
      "1133/1133 [==============================] - 33s 29ms/step - loss: 0.3620 - accuracy: 0.9077 - val_loss: 0.3535 - val_accuracy: 0.9092\n",
      "Epoch 10/10\n",
      "1133/1133 [==============================] - 33s 29ms/step - loss: 0.3714 - accuracy: 0.9042 - val_loss: 0.3608 - val_accuracy: 0.9112\n"
     ]
    },
    {
     "data": {
      "text/plain": "<keras.callbacks.History at 0x1992502cd90>"
     },
     "execution_count": 10,
     "metadata": {},
     "output_type": "execute_result"
    }
   ],
   "source": [
    "model.fit(X_train, y_train, batch_size=32,epochs=10, validation_data=(X_test, y_test))"
   ],
   "metadata": {
    "collapsed": false
   }
  },
  {
   "cell_type": "code",
   "execution_count": 11,
   "outputs": [],
   "source": [
    "model.save(\"difker_90e.h5\")"
   ],
   "metadata": {
    "collapsed": false
   }
  },
  {
   "cell_type": "code",
   "execution_count": 13,
   "outputs": [],
   "source": [
    "model.load_weights(\"difker_90e.h5\")"
   ],
   "metadata": {
    "collapsed": false
   }
  },
  {
   "cell_type": "code",
   "execution_count": 14,
   "outputs": [
    {
     "name": "stdout",
     "output_type": "stream",
     "text": [
      "Epoch 1/10\n",
      "1133/1133 [==============================] - 33s 29ms/step - loss: 0.3706 - accuracy: 0.9054 - val_loss: 0.3497 - val_accuracy: 0.9052\n",
      "Epoch 2/10\n",
      "1133/1133 [==============================] - 33s 29ms/step - loss: 0.3618 - accuracy: 0.9063 - val_loss: 0.3435 - val_accuracy: 0.9092\n",
      "Epoch 3/10\n",
      "1133/1133 [==============================] - 33s 29ms/step - loss: 0.3599 - accuracy: 0.9059 - val_loss: 0.3759 - val_accuracy: 0.8988\n",
      "Epoch 4/10\n",
      "1133/1133 [==============================] - 33s 29ms/step - loss: 0.3660 - accuracy: 0.9061 - val_loss: 0.3686 - val_accuracy: 0.8961\n",
      "Epoch 5/10\n",
      "1133/1133 [==============================] - 33s 29ms/step - loss: 0.3635 - accuracy: 0.9045 - val_loss: 0.3494 - val_accuracy: 0.9094\n",
      "Epoch 6/10\n",
      "1133/1133 [==============================] - 33s 29ms/step - loss: 0.3570 - accuracy: 0.9082 - val_loss: 0.3417 - val_accuracy: 0.9094\n",
      "Epoch 7/10\n",
      "1133/1133 [==============================] - 33s 29ms/step - loss: 0.3635 - accuracy: 0.9043 - val_loss: 0.3410 - val_accuracy: 0.9124\n",
      "Epoch 8/10\n",
      "1133/1133 [==============================] - 33s 29ms/step - loss: 0.3552 - accuracy: 0.9066 - val_loss: 0.3454 - val_accuracy: 0.9155\n",
      "Epoch 9/10\n",
      "1133/1133 [==============================] - 33s 29ms/step - loss: 0.3629 - accuracy: 0.9060 - val_loss: 0.3454 - val_accuracy: 0.9106\n",
      "Epoch 10/10\n",
      "1133/1133 [==============================] - 33s 29ms/step - loss: 0.3510 - accuracy: 0.9090 - val_loss: 0.3353 - val_accuracy: 0.9116\n"
     ]
    },
    {
     "data": {
      "text/plain": "<keras.callbacks.History at 0x199b11919a0>"
     },
     "execution_count": 14,
     "metadata": {},
     "output_type": "execute_result"
    }
   ],
   "source": [
    "model.fit(X_train, y_train, batch_size=32,epochs=10, validation_data=(X_test, y_test))"
   ],
   "metadata": {
    "collapsed": false
   }
  },
  {
   "cell_type": "code",
   "execution_count": 16,
   "outputs": [],
   "source": [
    "model.save(\"difker_100e.h5\")"
   ],
   "metadata": {
    "collapsed": false
   }
  },
  {
   "cell_type": "code",
   "execution_count": 7,
   "outputs": [],
   "source": [
    "model.load_weights(\"difker_100e.h5\")"
   ],
   "metadata": {
    "collapsed": false
   }
  },
  {
   "cell_type": "code",
   "execution_count": 8,
   "outputs": [
    {
     "name": "stdout",
     "output_type": "stream",
     "text": [
      "Epoch 1/10\n",
      "1133/1133 [==============================] - 41s 30ms/step - loss: 0.3368 - accuracy: 0.9066 - val_loss: 0.3474 - val_accuracy: 0.9086\n",
      "Epoch 2/10\n",
      "1133/1133 [==============================] - 33s 29ms/step - loss: 0.3498 - accuracy: 0.9093 - val_loss: 0.3374 - val_accuracy: 0.9096\n",
      "Epoch 3/10\n",
      "1133/1133 [==============================] - 33s 29ms/step - loss: 0.3558 - accuracy: 0.9078 - val_loss: 0.3571 - val_accuracy: 0.9073\n",
      "Epoch 4/10\n",
      "1133/1133 [==============================] - 33s 29ms/step - loss: 0.3517 - accuracy: 0.9081 - val_loss: 0.3408 - val_accuracy: 0.9143\n",
      "Epoch 5/10\n",
      "1133/1133 [==============================] - 33s 29ms/step - loss: 0.3561 - accuracy: 0.9080 - val_loss: 0.3430 - val_accuracy: 0.9129\n",
      "Epoch 6/10\n",
      "1133/1133 [==============================] - 33s 29ms/step - loss: 0.3619 - accuracy: 0.9090 - val_loss: 0.3604 - val_accuracy: 0.9116\n",
      "Epoch 7/10\n",
      "1133/1133 [==============================] - 33s 29ms/step - loss: 0.3630 - accuracy: 0.9050 - val_loss: 0.3446 - val_accuracy: 0.9150\n",
      "Epoch 8/10\n",
      "1133/1133 [==============================] - 33s 29ms/step - loss: 0.3593 - accuracy: 0.9093 - val_loss: 0.3409 - val_accuracy: 0.9145\n",
      "Epoch 9/10\n",
      "1133/1133 [==============================] - 33s 29ms/step - loss: 0.3632 - accuracy: 0.9097 - val_loss: 0.3476 - val_accuracy: 0.9139\n",
      "Epoch 10/10\n",
      "1133/1133 [==============================] - 33s 29ms/step - loss: 0.3552 - accuracy: 0.9112 - val_loss: 0.3490 - val_accuracy: 0.9105\n"
     ]
    },
    {
     "data": {
      "text/plain": "<keras.callbacks.History at 0x1bb7602efa0>"
     },
     "execution_count": 8,
     "metadata": {},
     "output_type": "execute_result"
    }
   ],
   "source": [
    "model.fit(X_train, y_train, batch_size=32,epochs=10, validation_data=(X_test, y_test))"
   ],
   "metadata": {
    "collapsed": false
   }
  },
  {
   "cell_type": "code",
   "execution_count": 9,
   "outputs": [],
   "source": [
    "model.save(\"difker_110e.h5\")"
   ],
   "metadata": {
    "collapsed": false
   }
  },
  {
   "cell_type": "code",
   "execution_count": 10,
   "outputs": [
    {
     "name": "stdout",
     "output_type": "stream",
     "text": [
      "Epoch 1/10\n",
      "1133/1133 [==============================] - 34s 30ms/step - loss: 0.3552 - accuracy: 0.9103 - val_loss: 0.3507 - val_accuracy: 0.9109\n",
      "Epoch 2/10\n",
      "1133/1133 [==============================] - 33s 29ms/step - loss: 0.3630 - accuracy: 0.9084 - val_loss: 0.3420 - val_accuracy: 0.9137\n",
      "Epoch 3/10\n",
      "1133/1133 [==============================] - 33s 29ms/step - loss: 0.3541 - accuracy: 0.9100 - val_loss: 0.3490 - val_accuracy: 0.9133\n",
      "Epoch 4/10\n",
      "1133/1133 [==============================] - 33s 29ms/step - loss: 0.3532 - accuracy: 0.9107 - val_loss: 0.3488 - val_accuracy: 0.9126\n",
      "Epoch 5/10\n",
      "1133/1133 [==============================] - 33s 29ms/step - loss: 0.3616 - accuracy: 0.9114 - val_loss: 0.3563 - val_accuracy: 0.9107\n",
      "Epoch 6/10\n",
      "1133/1133 [==============================] - 33s 29ms/step - loss: 0.3529 - accuracy: 0.9116 - val_loss: 0.3352 - val_accuracy: 0.9153\n",
      "Epoch 7/10\n",
      "1133/1133 [==============================] - 33s 29ms/step - loss: 0.3527 - accuracy: 0.9111 - val_loss: 0.3457 - val_accuracy: 0.9152\n",
      "Epoch 8/10\n",
      "1133/1133 [==============================] - 33s 29ms/step - loss: 0.3500 - accuracy: 0.9136 - val_loss: 0.3330 - val_accuracy: 0.9165\n",
      "Epoch 9/10\n",
      "1133/1133 [==============================] - 33s 29ms/step - loss: 0.3558 - accuracy: 0.9129 - val_loss: 0.3455 - val_accuracy: 0.9182\n",
      "Epoch 10/10\n",
      "1133/1133 [==============================] - 33s 29ms/step - loss: 0.3555 - accuracy: 0.9101 - val_loss: 0.3398 - val_accuracy: 0.9152\n"
     ]
    },
    {
     "data": {
      "text/plain": "<keras.callbacks.History at 0x1bb75fe76d0>"
     },
     "execution_count": 10,
     "metadata": {},
     "output_type": "execute_result"
    }
   ],
   "source": [
    "model.fit(X_train, y_train, batch_size=32,epochs=10, validation_data=(X_test, y_test))"
   ],
   "metadata": {
    "collapsed": false
   }
  },
  {
   "cell_type": "code",
   "execution_count": 11,
   "outputs": [],
   "source": [
    "model.save(\"difker_120e.h5\")"
   ],
   "metadata": {
    "collapsed": false
   }
  },
  {
   "cell_type": "code",
   "execution_count": 7,
   "outputs": [],
   "source": [
    "model.load_weights(\"difker_120e.h5\")"
   ],
   "metadata": {
    "collapsed": false
   }
  },
  {
   "cell_type": "code",
   "execution_count": 8,
   "outputs": [
    {
     "name": "stdout",
     "output_type": "stream",
     "text": [
      "Epoch 1/10\n",
      "1133/1133 [==============================] - 39s 31ms/step - loss: 0.3325 - accuracy: 0.9092 - val_loss: 0.3296 - val_accuracy: 0.9135\n",
      "Epoch 2/10\n",
      "1133/1133 [==============================] - 34s 30ms/step - loss: 0.3466 - accuracy: 0.9117 - val_loss: 0.3363 - val_accuracy: 0.9140\n",
      "Epoch 3/10\n",
      "1133/1133 [==============================] - 33s 29ms/step - loss: 0.3424 - accuracy: 0.9115 - val_loss: 0.3200 - val_accuracy: 0.9166\n",
      "Epoch 4/10\n",
      "1133/1133 [==============================] - 33s 29ms/step - loss: 0.3492 - accuracy: 0.9120 - val_loss: 0.3541 - val_accuracy: 0.9056\n",
      "Epoch 5/10\n",
      "1133/1133 [==============================] - 33s 29ms/step - loss: 0.3547 - accuracy: 0.9110 - val_loss: 0.3385 - val_accuracy: 0.9138\n",
      "Epoch 6/10\n",
      "1133/1133 [==============================] - 33s 29ms/step - loss: 0.3471 - accuracy: 0.9149 - val_loss: 0.3390 - val_accuracy: 0.9181\n",
      "Epoch 7/10\n",
      "1133/1133 [==============================] - 33s 29ms/step - loss: 0.3458 - accuracy: 0.9139 - val_loss: 0.3391 - val_accuracy: 0.9173\n",
      "Epoch 8/10\n",
      "1133/1133 [==============================] - 33s 29ms/step - loss: 0.3444 - accuracy: 0.9134 - val_loss: 0.3615 - val_accuracy: 0.9113\n",
      "Epoch 9/10\n",
      "1133/1133 [==============================] - 33s 29ms/step - loss: 0.3481 - accuracy: 0.9132 - val_loss: 0.3478 - val_accuracy: 0.9120\n",
      "Epoch 10/10\n",
      "1133/1133 [==============================] - 33s 29ms/step - loss: 0.3444 - accuracy: 0.9151 - val_loss: 0.3399 - val_accuracy: 0.9108\n"
     ]
    },
    {
     "data": {
      "text/plain": "<keras.callbacks.History at 0x281b21fffa0>"
     },
     "execution_count": 8,
     "metadata": {},
     "output_type": "execute_result"
    }
   ],
   "source": [
    "model.fit(X_train, y_train, batch_size=32,epochs=10, validation_data=(X_test, y_test))"
   ],
   "metadata": {
    "collapsed": false
   }
  },
  {
   "cell_type": "code",
   "execution_count": 9,
   "outputs": [],
   "source": [
    "model.save(\"difker_130e.h5\")"
   ],
   "metadata": {
    "collapsed": false
   }
  },
  {
   "cell_type": "code",
   "execution_count": null,
   "outputs": [
    {
     "name": "stdout",
     "output_type": "stream",
     "text": [
      "Epoch 1/10\n",
      "1133/1133 [==============================] - 34s 30ms/step - loss: 0.3512 - accuracy: 0.9128 - val_loss: 0.3473 - val_accuracy: 0.9123\n",
      "Epoch 2/10\n",
      "1133/1133 [==============================] - 33s 29ms/step - loss: 0.3534 - accuracy: 0.9136 - val_loss: 0.3475 - val_accuracy: 0.9143\n",
      "Epoch 3/10\n",
      "1133/1133 [==============================] - 33s 30ms/step - loss: 0.3445 - accuracy: 0.9167 - val_loss: 0.3383 - val_accuracy: 0.9143\n",
      "Epoch 4/10\n",
      "1133/1133 [==============================] - 33s 29ms/step - loss: 0.3543 - accuracy: 0.9135 - val_loss: 0.3430 - val_accuracy: 0.9154\n",
      "Epoch 5/10\n",
      "1133/1133 [==============================] - 33s 29ms/step - loss: 0.3451 - accuracy: 0.9140 - val_loss: 0.3395 - val_accuracy: 0.9163\n",
      "Epoch 6/10\n",
      "1133/1133 [==============================] - 33s 29ms/step - loss: 0.3511 - accuracy: 0.9129 - val_loss: 0.3499 - val_accuracy: 0.9162\n",
      "Epoch 7/10\n",
      "1133/1133 [==============================] - 33s 30ms/step - loss: 0.3457 - accuracy: 0.9144 - val_loss: 0.3352 - val_accuracy: 0.9197\n",
      "Epoch 8/10\n",
      "1133/1133 [==============================] - 33s 29ms/step - loss: 0.3526 - accuracy: 0.9138 - val_loss: 0.3405 - val_accuracy: 0.9170\n",
      "Epoch 9/10\n",
      "1133/1133 [==============================] - 33s 29ms/step - loss: 0.3486 - accuracy: 0.9127 - val_loss: 0.3312 - val_accuracy: 0.9162\n",
      "Epoch 10/10\n",
      " 445/1133 [==========>...................] - ETA: 18s - loss: 0.3503 - accuracy: 0.9144"
     ]
    }
   ],
   "source": [
    "model.fit(X_train, y_train, batch_size=32,epochs=10, validation_data=(X_test, y_test))"
   ],
   "metadata": {
    "collapsed": false
   }
  },
  {
   "cell_type": "code",
   "execution_count": null,
   "outputs": [],
   "source": [
    "model.save(\"difker_140e.h5\")"
   ],
   "metadata": {
    "collapsed": false
   }
  },
  {
   "cell_type": "code",
   "execution_count": 7,
   "outputs": [],
   "source": [
    "model.load_weights(\"difker_140e.h5\")"
   ],
   "metadata": {
    "collapsed": false
   }
  },
  {
   "cell_type": "code",
   "execution_count": 8,
   "outputs": [
    {
     "name": "stdout",
     "output_type": "stream",
     "text": [
      "Epoch 1/10\n",
      "1133/1133 [==============================] - 50s 33ms/step - loss: 0.3294 - accuracy: 0.9148 - val_loss: 0.3314 - val_accuracy: 0.9164\n",
      "Epoch 2/10\n",
      "1133/1133 [==============================] - 36s 31ms/step - loss: 0.3437 - accuracy: 0.9147 - val_loss: 0.3751 - val_accuracy: 0.9088\n",
      "Epoch 3/10\n",
      "1133/1133 [==============================] - 36s 32ms/step - loss: 0.3560 - accuracy: 0.9148 - val_loss: 0.3460 - val_accuracy: 0.9181\n",
      "Epoch 4/10\n",
      "1133/1133 [==============================] - 40s 35ms/step - loss: 0.3440 - accuracy: 0.9165 - val_loss: 0.3342 - val_accuracy: 0.9182\n",
      "Epoch 5/10\n",
      "1133/1133 [==============================] - 33s 29ms/step - loss: 0.3512 - accuracy: 0.9155 - val_loss: 0.3503 - val_accuracy: 0.9176\n",
      "Epoch 6/10\n",
      "1133/1133 [==============================] - 34s 30ms/step - loss: 0.3561 - accuracy: 0.9135 - val_loss: 0.3482 - val_accuracy: 0.9161\n",
      "Epoch 7/10\n",
      "1133/1133 [==============================] - 34s 30ms/step - loss: 0.3444 - accuracy: 0.9179 - val_loss: 0.3268 - val_accuracy: 0.9203\n",
      "Epoch 8/10\n",
      "1133/1133 [==============================] - 34s 30ms/step - loss: 0.3441 - accuracy: 0.9167 - val_loss: 0.3512 - val_accuracy: 0.9143\n",
      "Epoch 9/10\n",
      "1133/1133 [==============================] - 34s 30ms/step - loss: 0.3638 - accuracy: 0.9143 - val_loss: 0.3554 - val_accuracy: 0.9172\n",
      "Epoch 10/10\n",
      "1133/1133 [==============================] - 34s 30ms/step - loss: 0.3466 - accuracy: 0.9178 - val_loss: 0.3506 - val_accuracy: 0.9158\n"
     ]
    },
    {
     "data": {
      "text/plain": "<keras.callbacks.History at 0x1b752639fa0>"
     },
     "execution_count": 8,
     "metadata": {},
     "output_type": "execute_result"
    }
   ],
   "source": [
    "model.fit(X_train, y_train, batch_size=32,epochs=10, validation_data=(X_test, y_test))"
   ],
   "metadata": {
    "collapsed": false
   }
  },
  {
   "cell_type": "code",
   "execution_count": 9,
   "outputs": [],
   "source": [
    "model.save(\"difker_150e.h5\")"
   ],
   "metadata": {
    "collapsed": false
   }
  },
  {
   "cell_type": "code",
   "execution_count": 7,
   "outputs": [],
   "source": [
    "model.load_weights(\"difker_150e.h5\")"
   ],
   "metadata": {
    "collapsed": false
   }
  },
  {
   "cell_type": "code",
   "execution_count": 8,
   "outputs": [
    {
     "name": "stdout",
     "output_type": "stream",
     "text": [
      "Epoch 1/10\n",
      "1133/1133 [==============================] - 40s 30ms/step - loss: 0.3259 - accuracy: 0.9137 - val_loss: 0.3353 - val_accuracy: 0.9170\n",
      "Epoch 2/10\n",
      "1133/1133 [==============================] - 34s 30ms/step - loss: 0.3411 - accuracy: 0.9159 - val_loss: 0.3410 - val_accuracy: 0.9118\n",
      "Epoch 3/10\n",
      "1133/1133 [==============================] - 34s 30ms/step - loss: 0.3391 - accuracy: 0.9156 - val_loss: 0.3461 - val_accuracy: 0.9119\n",
      "Epoch 4/10\n",
      "1133/1133 [==============================] - 33s 29ms/step - loss: 0.3352 - accuracy: 0.9154 - val_loss: 0.3223 - val_accuracy: 0.9179\n",
      "Epoch 5/10\n",
      "1133/1133 [==============================] - 33s 29ms/step - loss: 0.3428 - accuracy: 0.9158 - val_loss: 0.3269 - val_accuracy: 0.9198\n",
      "Epoch 6/10\n",
      "1133/1133 [==============================] - 33s 29ms/step - loss: 0.3365 - accuracy: 0.9191 - val_loss: 0.3351 - val_accuracy: 0.9174\n",
      "Epoch 7/10\n",
      "1133/1133 [==============================] - 34s 30ms/step - loss: 0.3456 - accuracy: 0.9188 - val_loss: 0.3449 - val_accuracy: 0.9191\n",
      "Epoch 8/10\n",
      "1133/1133 [==============================] - 34s 30ms/step - loss: 0.3475 - accuracy: 0.9172 - val_loss: 0.3471 - val_accuracy: 0.9177\n",
      "Epoch 9/10\n",
      "1133/1133 [==============================] - 33s 29ms/step - loss: 0.3445 - accuracy: 0.9173 - val_loss: 0.3341 - val_accuracy: 0.9183\n",
      "Epoch 10/10\n",
      "1133/1133 [==============================] - 33s 30ms/step - loss: 0.3415 - accuracy: 0.9160 - val_loss: 0.3420 - val_accuracy: 0.9141\n"
     ]
    },
    {
     "data": {
      "text/plain": "<keras.callbacks.History at 0x17cb3160fa0>"
     },
     "execution_count": 8,
     "metadata": {},
     "output_type": "execute_result"
    }
   ],
   "source": [
    "model.fit(X_train, y_train, batch_size=32,epochs=10, validation_data=(X_test, y_test))"
   ],
   "metadata": {
    "collapsed": false
   }
  },
  {
   "cell_type": "code",
   "execution_count": 10,
   "outputs": [],
   "source": [
    "model.save(\"difker_160e.h5\")"
   ],
   "metadata": {
    "collapsed": false
   }
  },
  {
   "cell_type": "code",
   "execution_count": 11,
   "outputs": [
    {
     "name": "stdout",
     "output_type": "stream",
     "text": [
      "Epoch 1/10\n",
      "1133/1133 [==============================] - 33s 30ms/step - loss: 0.3439 - accuracy: 0.9163 - val_loss: 0.3457 - val_accuracy: 0.9147\n",
      "Epoch 2/10\n",
      "1133/1133 [==============================] - 33s 29ms/step - loss: 0.3381 - accuracy: 0.9209 - val_loss: 0.3310 - val_accuracy: 0.9180\n",
      "Epoch 3/10\n",
      "1133/1133 [==============================] - 33s 29ms/step - loss: 0.3363 - accuracy: 0.9195 - val_loss: 0.3387 - val_accuracy: 0.9151\n",
      "Epoch 4/10\n",
      "1133/1133 [==============================] - 33s 29ms/step - loss: 0.3431 - accuracy: 0.9194 - val_loss: 0.3420 - val_accuracy: 0.9163\n",
      "Epoch 5/10\n",
      "1133/1133 [==============================] - 33s 29ms/step - loss: 0.3345 - accuracy: 0.9209 - val_loss: 0.3472 - val_accuracy: 0.9172\n",
      "Epoch 6/10\n",
      "1133/1133 [==============================] - 33s 29ms/step - loss: 0.3457 - accuracy: 0.9195 - val_loss: 0.3244 - val_accuracy: 0.9216\n",
      "Epoch 7/10\n",
      "1133/1133 [==============================] - 33s 29ms/step - loss: 0.3344 - accuracy: 0.9183 - val_loss: 0.3448 - val_accuracy: 0.9164\n",
      "Epoch 8/10\n",
      "1133/1133 [==============================] - 33s 29ms/step - loss: 0.3375 - accuracy: 0.9181 - val_loss: 0.3255 - val_accuracy: 0.9215\n",
      "Epoch 9/10\n",
      "1133/1133 [==============================] - 33s 29ms/step - loss: 0.3362 - accuracy: 0.9195 - val_loss: 0.3513 - val_accuracy: 0.9117\n",
      "Epoch 10/10\n",
      "1133/1133 [==============================] - 33s 29ms/step - loss: 0.3365 - accuracy: 0.9201 - val_loss: 0.3484 - val_accuracy: 0.9163\n"
     ]
    },
    {
     "data": {
      "text/plain": "<keras.callbacks.History at 0x177363f64c0>"
     },
     "execution_count": 11,
     "metadata": {},
     "output_type": "execute_result"
    }
   ],
   "source": [
    "model.fit(X_train, y_train, batch_size=32,epochs=10, validation_data=(X_test, y_test))"
   ],
   "metadata": {
    "collapsed": false
   }
  },
  {
   "cell_type": "code",
   "execution_count": 12,
   "outputs": [],
   "source": [
    "model.save(\"difker_170e.h5\")"
   ],
   "metadata": {
    "collapsed": false
   }
  },
  {
   "cell_type": "code",
   "execution_count": 7,
   "outputs": [],
   "source": [
    "model.load_weights(\"difker_170e.h5\")"
   ],
   "metadata": {
    "collapsed": false
   }
  },
  {
   "cell_type": "code",
   "execution_count": 8,
   "outputs": [
    {
     "name": "stdout",
     "output_type": "stream",
     "text": [
      "Epoch 1/10\n",
      "1133/1133 [==============================] - 40s 31ms/step - loss: 0.3235 - accuracy: 0.9172 - val_loss: 0.3336 - val_accuracy: 0.9155\n",
      "Epoch 2/10\n",
      "1133/1133 [==============================] - 33s 30ms/step - loss: 0.3317 - accuracy: 0.9164 - val_loss: 0.3233 - val_accuracy: 0.9207\n",
      "Epoch 3/10\n",
      "1133/1133 [==============================] - 34s 30ms/step - loss: 0.3376 - accuracy: 0.9191 - val_loss: 0.3576 - val_accuracy: 0.9092\n",
      "Epoch 4/10\n",
      "1133/1133 [==============================] - 34s 30ms/step - loss: 0.3361 - accuracy: 0.9187 - val_loss: 0.3199 - val_accuracy: 0.9215\n",
      "Epoch 5/10\n",
      "1133/1133 [==============================] - 34s 30ms/step - loss: 0.3394 - accuracy: 0.9191 - val_loss: 0.3339 - val_accuracy: 0.9191\n",
      "Epoch 6/10\n",
      "1133/1133 [==============================] - 34s 30ms/step - loss: 0.3378 - accuracy: 0.9207 - val_loss: 0.3229 - val_accuracy: 0.9198\n",
      "Epoch 7/10\n",
      "1133/1133 [==============================] - 34s 30ms/step - loss: 0.3445 - accuracy: 0.9195 - val_loss: 0.3262 - val_accuracy: 0.9227\n",
      "Epoch 8/10\n",
      "1133/1133 [==============================] - 34s 30ms/step - loss: 0.3331 - accuracy: 0.9195 - val_loss: 0.3303 - val_accuracy: 0.9169\n",
      "Epoch 9/10\n",
      "1133/1133 [==============================] - 34s 30ms/step - loss: 0.3356 - accuracy: 0.9208 - val_loss: 0.3261 - val_accuracy: 0.9213\n",
      "Epoch 10/10\n",
      "1133/1133 [==============================] - 33s 29ms/step - loss: 0.3333 - accuracy: 0.9204 - val_loss: 0.3350 - val_accuracy: 0.9150\n"
     ]
    },
    {
     "data": {
      "text/plain": "<keras.callbacks.History at 0x21c34aedfa0>"
     },
     "execution_count": 8,
     "metadata": {},
     "output_type": "execute_result"
    }
   ],
   "source": [
    "model.fit(X_train, y_train, batch_size=32,epochs=10, validation_data=(X_test, y_test))"
   ],
   "metadata": {
    "collapsed": false
   }
  },
  {
   "cell_type": "code",
   "execution_count": 10,
   "outputs": [],
   "source": [
    "model.save(\"difker_180e.h5\")"
   ],
   "metadata": {
    "collapsed": false
   }
  },
  {
   "cell_type": "code",
   "execution_count": 11,
   "outputs": [
    {
     "name": "stdout",
     "output_type": "stream",
     "text": [
      "Epoch 1/10\n",
      "1133/1133 [==============================] - 34s 30ms/step - loss: 0.3391 - accuracy: 0.9185 - val_loss: 0.3393 - val_accuracy: 0.9150\n",
      "Epoch 2/10\n",
      "1133/1133 [==============================] - 34s 30ms/step - loss: 0.3372 - accuracy: 0.9193 - val_loss: 0.3346 - val_accuracy: 0.9179\n",
      "Epoch 3/10\n",
      "1133/1133 [==============================] - 36s 32ms/step - loss: 0.3350 - accuracy: 0.9218 - val_loss: 0.3298 - val_accuracy: 0.9197\n",
      "Epoch 4/10\n",
      "1133/1133 [==============================] - 37s 33ms/step - loss: 0.3366 - accuracy: 0.9185 - val_loss: 0.3365 - val_accuracy: 0.9185\n",
      "Epoch 5/10\n",
      "1133/1133 [==============================] - 37s 33ms/step - loss: 0.3401 - accuracy: 0.9186 - val_loss: 0.3282 - val_accuracy: 0.9209\n",
      "Epoch 6/10\n",
      "1133/1133 [==============================] - 37s 33ms/step - loss: 0.3380 - accuracy: 0.9212 - val_loss: 0.3191 - val_accuracy: 0.9195\n",
      "Epoch 7/10\n",
      "1133/1133 [==============================] - 37s 33ms/step - loss: 0.3334 - accuracy: 0.9207 - val_loss: 0.3306 - val_accuracy: 0.9174\n",
      "Epoch 8/10\n",
      "1133/1133 [==============================] - 37s 33ms/step - loss: 0.3321 - accuracy: 0.9214 - val_loss: 0.3190 - val_accuracy: 0.9208\n",
      "Epoch 9/10\n",
      "1133/1133 [==============================] - 37s 33ms/step - loss: 0.3340 - accuracy: 0.9203 - val_loss: 0.3217 - val_accuracy: 0.9212\n",
      "Epoch 10/10\n",
      "1133/1133 [==============================] - 36s 32ms/step - loss: 0.3258 - accuracy: 0.9220 - val_loss: 0.3312 - val_accuracy: 0.9213\n"
     ]
    },
    {
     "data": {
      "text/plain": "<keras.callbacks.History at 0x21fa531ed90>"
     },
     "execution_count": 11,
     "metadata": {},
     "output_type": "execute_result"
    }
   ],
   "source": [
    "model.fit(X_train, y_train, batch_size=32,epochs=10, validation_data=(X_test, y_test))"
   ],
   "metadata": {
    "collapsed": false
   }
  },
  {
   "cell_type": "code",
   "execution_count": 12,
   "outputs": [],
   "source": [
    "model.save(\"difker_190e.h5\")"
   ],
   "metadata": {
    "collapsed": false
   }
  },
  {
   "cell_type": "code",
   "execution_count": 7,
   "outputs": [],
   "source": [
    "model.load_weights(\"difker_190e.h5\")"
   ],
   "metadata": {
    "collapsed": false
   }
  },
  {
   "cell_type": "code",
   "execution_count": 8,
   "outputs": [
    {
     "name": "stdout",
     "output_type": "stream",
     "text": [
      "Epoch 1/10\n",
      "1133/1133 [==============================] - 39s 30ms/step - loss: 0.3165 - accuracy: 0.9187 - val_loss: 0.3240 - val_accuracy: 0.9181\n",
      "Epoch 2/10\n",
      "1133/1133 [==============================] - 33s 29ms/step - loss: 0.3344 - accuracy: 0.9174 - val_loss: 0.3104 - val_accuracy: 0.9202\n",
      "Epoch 3/10\n",
      "1133/1133 [==============================] - 33s 29ms/step - loss: 0.3285 - accuracy: 0.9211 - val_loss: 0.3300 - val_accuracy: 0.9234\n",
      "Epoch 4/10\n",
      "1133/1133 [==============================] - 33s 29ms/step - loss: 0.3293 - accuracy: 0.9225 - val_loss: 0.3212 - val_accuracy: 0.9213\n",
      "Epoch 5/10\n",
      "1133/1133 [==============================] - 33s 29ms/step - loss: 0.3308 - accuracy: 0.9196 - val_loss: 0.3212 - val_accuracy: 0.9239\n",
      "Epoch 6/10\n",
      "1133/1133 [==============================] - 33s 29ms/step - loss: 0.3294 - accuracy: 0.9211 - val_loss: 0.3161 - val_accuracy: 0.9250\n",
      "Epoch 7/10\n",
      "1133/1133 [==============================] - 33s 29ms/step - loss: 0.3327 - accuracy: 0.9213 - val_loss: 0.3221 - val_accuracy: 0.9195\n",
      "Epoch 8/10\n",
      "1133/1133 [==============================] - 33s 29ms/step - loss: 0.3349 - accuracy: 0.9199 - val_loss: 0.3355 - val_accuracy: 0.9224\n",
      "Epoch 9/10\n",
      "1133/1133 [==============================] - 33s 29ms/step - loss: 0.3344 - accuracy: 0.9241 - val_loss: 0.3345 - val_accuracy: 0.9194\n",
      "Epoch 10/10\n",
      "1133/1133 [==============================] - 33s 29ms/step - loss: 0.3278 - accuracy: 0.9212 - val_loss: 0.3218 - val_accuracy: 0.9213\n"
     ]
    },
    {
     "data": {
      "text/plain": "<keras.callbacks.History at 0x23eb5a9ffa0>"
     },
     "execution_count": 8,
     "metadata": {},
     "output_type": "execute_result"
    }
   ],
   "source": [
    "model.fit(X_train, y_train, batch_size=32,epochs=10, validation_data=(X_test, y_test))"
   ],
   "metadata": {
    "collapsed": false
   }
  },
  {
   "cell_type": "code",
   "execution_count": 10,
   "outputs": [],
   "source": [
    "model.save(\"difker_200e.h5\")"
   ],
   "metadata": {
    "collapsed": false
   }
  },
  {
   "cell_type": "code",
   "execution_count": 11,
   "outputs": [
    {
     "name": "stdout",
     "output_type": "stream",
     "text": [
      "Epoch 1/10\n",
      "1133/1133 [==============================] - 34s 30ms/step - loss: 0.3256 - accuracy: 0.9222 - val_loss: 0.3354 - val_accuracy: 0.9176\n",
      "Epoch 2/10\n",
      "1133/1133 [==============================] - 33s 30ms/step - loss: 0.3365 - accuracy: 0.9203 - val_loss: 0.3387 - val_accuracy: 0.9209\n",
      "Epoch 3/10\n",
      "1133/1133 [==============================] - 33s 29ms/step - loss: 0.3349 - accuracy: 0.9236 - val_loss: 0.3420 - val_accuracy: 0.9170\n",
      "Epoch 4/10\n",
      "1133/1133 [==============================] - 33s 29ms/step - loss: 0.3268 - accuracy: 0.9222 - val_loss: 0.3350 - val_accuracy: 0.9225\n",
      "Epoch 5/10\n",
      "1133/1133 [==============================] - 34s 30ms/step - loss: 0.3245 - accuracy: 0.9232 - val_loss: 0.3318 - val_accuracy: 0.9143\n",
      "Epoch 6/10\n",
      "1133/1133 [==============================] - 33s 29ms/step - loss: 0.3328 - accuracy: 0.9217 - val_loss: 0.3263 - val_accuracy: 0.9251\n",
      "Epoch 7/10\n",
      "1133/1133 [==============================] - 33s 29ms/step - loss: 0.3424 - accuracy: 0.9212 - val_loss: 0.3273 - val_accuracy: 0.9216\n",
      "Epoch 8/10\n",
      "1133/1133 [==============================] - 33s 29ms/step - loss: 0.3291 - accuracy: 0.9226 - val_loss: 0.3363 - val_accuracy: 0.9226\n",
      "Epoch 9/10\n",
      "1133/1133 [==============================] - 33s 29ms/step - loss: 0.3310 - accuracy: 0.9239 - val_loss: 0.3410 - val_accuracy: 0.9193\n",
      "Epoch 10/10\n",
      "1133/1133 [==============================] - 33s 29ms/step - loss: 0.3299 - accuracy: 0.9227 - val_loss: 0.3462 - val_accuracy: 0.9186\n"
     ]
    },
    {
     "data": {
      "text/plain": "<keras.callbacks.History at 0x23e29bcb820>"
     },
     "execution_count": 11,
     "metadata": {},
     "output_type": "execute_result"
    }
   ],
   "source": [
    "model.fit(X_train, y_train, batch_size=32,epochs=10, validation_data=(X_test, y_test))"
   ],
   "metadata": {
    "collapsed": false
   }
  },
  {
   "cell_type": "code",
   "execution_count": 12,
   "outputs": [],
   "source": [
    "model.save(\"difker_210e.h5\")"
   ],
   "metadata": {
    "collapsed": false
   }
  },
  {
   "cell_type": "code",
   "execution_count": 13,
   "outputs": [
    {
     "name": "stdout",
     "output_type": "stream",
     "text": [
      "Epoch 1/10\n",
      "1133/1133 [==============================] - 33s 30ms/step - loss: 0.3270 - accuracy: 0.9225 - val_loss: 0.3254 - val_accuracy: 0.9232\n",
      "Epoch 2/10\n",
      "1133/1133 [==============================] - 34s 30ms/step - loss: 0.3241 - accuracy: 0.9218 - val_loss: 0.3280 - val_accuracy: 0.9211\n",
      "Epoch 3/10\n",
      "1133/1133 [==============================] - 33s 29ms/step - loss: 0.3259 - accuracy: 0.9246 - val_loss: 0.3432 - val_accuracy: 0.9187\n",
      "Epoch 4/10\n",
      "1133/1133 [==============================] - 33s 29ms/step - loss: 0.3355 - accuracy: 0.9220 - val_loss: 0.3497 - val_accuracy: 0.9156\n",
      "Epoch 5/10\n",
      "1133/1133 [==============================] - 33s 29ms/step - loss: 0.3229 - accuracy: 0.9245 - val_loss: 0.3310 - val_accuracy: 0.9222\n",
      "Epoch 6/10\n",
      "1133/1133 [==============================] - 33s 29ms/step - loss: 0.3259 - accuracy: 0.9257 - val_loss: 0.3317 - val_accuracy: 0.9194\n",
      "Epoch 7/10\n",
      "1133/1133 [==============================] - 33s 29ms/step - loss: 0.3283 - accuracy: 0.9220 - val_loss: 0.3239 - val_accuracy: 0.9200\n",
      "Epoch 8/10\n",
      "1133/1133 [==============================] - 33s 29ms/step - loss: 0.3255 - accuracy: 0.9241 - val_loss: 0.3264 - val_accuracy: 0.9184\n",
      "Epoch 9/10\n",
      "1133/1133 [==============================] - 33s 29ms/step - loss: 0.3238 - accuracy: 0.9243 - val_loss: 0.3189 - val_accuracy: 0.9248\n",
      "Epoch 10/10\n",
      "1133/1133 [==============================] - 35s 31ms/step - loss: 0.3234 - accuracy: 0.9239 - val_loss: 0.3242 - val_accuracy: 0.9258\n"
     ]
    },
    {
     "data": {
      "text/plain": "<keras.callbacks.History at 0x23e298af880>"
     },
     "execution_count": 13,
     "metadata": {},
     "output_type": "execute_result"
    }
   ],
   "source": [
    "model.fit(X_train, y_train, batch_size=32,epochs=10, validation_data=(X_test, y_test))"
   ],
   "metadata": {
    "collapsed": false
   }
  },
  {
   "cell_type": "code",
   "execution_count": 14,
   "outputs": [],
   "source": [
    "model.save(\"difker_220e.h5\")"
   ],
   "metadata": {
    "collapsed": false
   }
  },
  {
   "cell_type": "code",
   "execution_count": 7,
   "outputs": [],
   "source": [
    "model.load_weights(\"difker_220e.h5\")"
   ],
   "metadata": {
    "collapsed": false
   }
  },
  {
   "cell_type": "code",
   "execution_count": 8,
   "outputs": [
    {
     "name": "stdout",
     "output_type": "stream",
     "text": [
      "Epoch 1/10\n",
      "1133/1133 [==============================] - 39s 30ms/step - loss: 0.3063 - accuracy: 0.9197 - val_loss: 0.3228 - val_accuracy: 0.9204\n",
      "Epoch 2/10\n",
      "1133/1133 [==============================] - 34s 30ms/step - loss: 0.3277 - accuracy: 0.9238 - val_loss: 0.3384 - val_accuracy: 0.9150\n",
      "Epoch 3/10\n",
      "1133/1133 [==============================] - 34s 30ms/step - loss: 0.3289 - accuracy: 0.9222 - val_loss: 0.3267 - val_accuracy: 0.9216\n",
      "Epoch 4/10\n",
      "1133/1133 [==============================] - 34s 30ms/step - loss: 0.3267 - accuracy: 0.9235 - val_loss: 0.3234 - val_accuracy: 0.9219\n",
      "Epoch 5/10\n",
      "1133/1133 [==============================] - 33s 30ms/step - loss: 0.3185 - accuracy: 0.9232 - val_loss: 0.3180 - val_accuracy: 0.9244\n",
      "Epoch 6/10\n",
      "1133/1133 [==============================] - 33s 29ms/step - loss: 0.3287 - accuracy: 0.9211 - val_loss: 0.3524 - val_accuracy: 0.9180\n",
      "Epoch 7/10\n",
      "1133/1133 [==============================] - 33s 29ms/step - loss: 0.3268 - accuracy: 0.9230 - val_loss: 0.3194 - val_accuracy: 0.9241\n",
      "Epoch 8/10\n",
      "1133/1133 [==============================] - 34s 30ms/step - loss: 0.3191 - accuracy: 0.9249 - val_loss: 0.3256 - val_accuracy: 0.9216\n",
      "Epoch 9/10\n",
      "1133/1133 [==============================] - 34s 30ms/step - loss: 0.3204 - accuracy: 0.9253 - val_loss: 0.3279 - val_accuracy: 0.9187\n",
      "Epoch 10/10\n",
      "1133/1133 [==============================] - 34s 30ms/step - loss: 0.3224 - accuracy: 0.9230 - val_loss: 0.3192 - val_accuracy: 0.9256\n"
     ]
    },
    {
     "data": {
      "text/plain": "<keras.callbacks.History at 0x1ac58dbefa0>"
     },
     "execution_count": 8,
     "metadata": {},
     "output_type": "execute_result"
    }
   ],
   "source": [
    "model.fit(X_train, y_train, batch_size=32,epochs=10, validation_data=(X_test, y_test))"
   ],
   "metadata": {
    "collapsed": false
   }
  },
  {
   "cell_type": "code",
   "execution_count": 9,
   "outputs": [],
   "source": [
    "model.save(\"difker_230e.h5\")"
   ],
   "metadata": {
    "collapsed": false
   }
  },
  {
   "cell_type": "code",
   "execution_count": 7,
   "outputs": [],
   "source": [
    "model.load_weights(\"difker_230e.h5\")"
   ],
   "metadata": {
    "collapsed": false
   }
  },
  {
   "cell_type": "code",
   "execution_count": 8,
   "outputs": [
    {
     "name": "stdout",
     "output_type": "stream",
     "text": [
      "Epoch 1/10\n",
      "1133/1133 [==============================] - 40s 30ms/step - loss: 0.3020 - accuracy: 0.9244 - val_loss: 0.3241 - val_accuracy: 0.9238\n",
      "Epoch 2/10\n",
      "1133/1133 [==============================] - 34s 30ms/step - loss: 0.3261 - accuracy: 0.9234 - val_loss: 0.3448 - val_accuracy: 0.9225\n",
      "Epoch 3/10\n",
      "1133/1133 [==============================] - 34s 30ms/step - loss: 0.3159 - accuracy: 0.9257 - val_loss: 0.3255 - val_accuracy: 0.9236\n",
      "Epoch 4/10\n",
      "1133/1133 [==============================] - 34s 30ms/step - loss: 0.3247 - accuracy: 0.9256 - val_loss: 0.3250 - val_accuracy: 0.9234\n",
      "Epoch 5/10\n",
      "1133/1133 [==============================] - 34s 30ms/step - loss: 0.3237 - accuracy: 0.9247 - val_loss: 0.3224 - val_accuracy: 0.9246\n",
      "Epoch 6/10\n",
      "1133/1133 [==============================] - 34s 30ms/step - loss: 0.3231 - accuracy: 0.9265 - val_loss: 0.3365 - val_accuracy: 0.9200\n",
      "Epoch 7/10\n",
      "1133/1133 [==============================] - 34s 30ms/step - loss: 0.3313 - accuracy: 0.9241 - val_loss: 0.3417 - val_accuracy: 0.9216\n",
      "Epoch 8/10\n",
      "1133/1133 [==============================] - 34s 30ms/step - loss: 0.3219 - accuracy: 0.9250 - val_loss: 0.3195 - val_accuracy: 0.9235\n",
      "Epoch 9/10\n",
      "1133/1133 [==============================] - 34s 30ms/step - loss: 0.3233 - accuracy: 0.9255 - val_loss: 0.3415 - val_accuracy: 0.9208\n",
      "Epoch 10/10\n",
      "1133/1133 [==============================] - 34s 30ms/step - loss: 0.3203 - accuracy: 0.9270 - val_loss: 0.3123 - val_accuracy: 0.9228\n"
     ]
    },
    {
     "data": {
      "text/plain": "<keras.callbacks.History at 0x25430b9cfa0>"
     },
     "execution_count": 8,
     "metadata": {},
     "output_type": "execute_result"
    }
   ],
   "source": [
    "model.fit(X_train, y_train, batch_size=32,epochs=10, validation_data=(X_test, y_test))"
   ],
   "metadata": {
    "collapsed": false
   }
  },
  {
   "cell_type": "code",
   "execution_count": 9,
   "outputs": [],
   "source": [
    "model.save(\"difker_240e.h5\")"
   ],
   "metadata": {
    "collapsed": false
   }
  },
  {
   "cell_type": "code",
   "execution_count": 7,
   "outputs": [],
   "source": [
    "model.load_weights(\"difker_240e.h5\")"
   ],
   "metadata": {
    "collapsed": false
   }
  },
  {
   "cell_type": "code",
   "execution_count": 8,
   "outputs": [
    {
     "name": "stdout",
     "output_type": "stream",
     "text": [
      "Epoch 1/10\n",
      "1133/1133 [==============================] - 41s 30ms/step - loss: 0.3058 - accuracy: 0.9211 - val_loss: 0.3352 - val_accuracy: 0.9182\n",
      "Epoch 2/10\n",
      "1133/1133 [==============================] - 33s 30ms/step - loss: 0.3222 - accuracy: 0.9245 - val_loss: 0.3172 - val_accuracy: 0.9218\n",
      "Epoch 3/10\n",
      "1133/1133 [==============================] - 33s 29ms/step - loss: 0.3245 - accuracy: 0.9241 - val_loss: 0.3209 - val_accuracy: 0.9265\n",
      "Epoch 4/10\n",
      "1133/1133 [==============================] - 33s 29ms/step - loss: 0.3188 - accuracy: 0.9261 - val_loss: 0.3324 - val_accuracy: 0.9162\n",
      "Epoch 5/10\n",
      "1133/1133 [==============================] - 34s 30ms/step - loss: 0.3195 - accuracy: 0.9246 - val_loss: 0.3189 - val_accuracy: 0.9241\n",
      "Epoch 6/10\n",
      "1133/1133 [==============================] - 34s 30ms/step - loss: 0.3220 - accuracy: 0.9242 - val_loss: 0.3137 - val_accuracy: 0.9255\n",
      "Epoch 7/10\n",
      "1133/1133 [==============================] - 33s 29ms/step - loss: 0.3194 - accuracy: 0.9271 - val_loss: 0.3477 - val_accuracy: 0.9182\n",
      "Epoch 8/10\n",
      "1133/1133 [==============================] - 33s 29ms/step - loss: 0.3214 - accuracy: 0.9254 - val_loss: 0.3252 - val_accuracy: 0.9216\n",
      "Epoch 9/10\n",
      "1133/1133 [==============================] - 33s 29ms/step - loss: 0.3202 - accuracy: 0.9270 - val_loss: 0.3244 - val_accuracy: 0.9208\n",
      "Epoch 10/10\n",
      "1133/1133 [==============================] - 33s 29ms/step - loss: 0.3196 - accuracy: 0.9241 - val_loss: 0.3047 - val_accuracy: 0.9266\n"
     ]
    },
    {
     "data": {
      "text/plain": "<keras.callbacks.History at 0x297c931efa0>"
     },
     "execution_count": 8,
     "metadata": {},
     "output_type": "execute_result"
    }
   ],
   "source": [
    "model.fit(X_train, y_train, batch_size=32,epochs=10, validation_data=(X_test, y_test))"
   ],
   "metadata": {
    "collapsed": false
   }
  },
  {
   "cell_type": "code",
   "execution_count": 9,
   "outputs": [],
   "source": [
    "model.save(\"difker_250e.h5\")"
   ],
   "metadata": {
    "collapsed": false
   }
  },
  {
   "cell_type": "code",
   "execution_count": 7,
   "outputs": [],
   "source": [
    "model.load_weights(\"difker_250e.h5\")"
   ],
   "metadata": {
    "collapsed": false
   }
  },
  {
   "cell_type": "code",
   "execution_count": 8,
   "outputs": [
    {
     "name": "stdout",
     "output_type": "stream",
     "text": [
      "Epoch 1/50\n",
      "1133/1133 [==============================] - 40s 30ms/step - loss: 0.2961 - accuracy: 0.9239 - val_loss: 0.3223 - val_accuracy: 0.9188\n",
      "Epoch 2/50\n",
      "1133/1133 [==============================] - 34s 30ms/step - loss: 0.3128 - accuracy: 0.9243 - val_loss: 0.3066 - val_accuracy: 0.9234\n",
      "Epoch 3/50\n",
      "1133/1133 [==============================] - 33s 29ms/step - loss: 0.3125 - accuracy: 0.9258 - val_loss: 0.3113 - val_accuracy: 0.9227\n",
      "Epoch 4/50\n",
      "1133/1133 [==============================] - 33s 29ms/step - loss: 0.3159 - accuracy: 0.9267 - val_loss: 0.3227 - val_accuracy: 0.9223\n",
      "Epoch 5/50\n",
      "1133/1133 [==============================] - 34s 30ms/step - loss: 0.3223 - accuracy: 0.9251 - val_loss: 0.3182 - val_accuracy: 0.9234\n",
      "Epoch 6/50\n",
      "1133/1133 [==============================] - 33s 29ms/step - loss: 0.3150 - accuracy: 0.9293 - val_loss: 0.3333 - val_accuracy: 0.9225\n",
      "Epoch 7/50\n",
      "1133/1133 [==============================] - 33s 29ms/step - loss: 0.3123 - accuracy: 0.9275 - val_loss: 0.3329 - val_accuracy: 0.9207\n",
      "Epoch 8/50\n",
      "1133/1133 [==============================] - 33s 29ms/step - loss: 0.3207 - accuracy: 0.9278 - val_loss: 0.3468 - val_accuracy: 0.9174\n",
      "Epoch 9/50\n",
      "1133/1133 [==============================] - 33s 29ms/step - loss: 0.3165 - accuracy: 0.9273 - val_loss: 0.3076 - val_accuracy: 0.9183\n",
      "Epoch 10/50\n",
      "1133/1133 [==============================] - 33s 29ms/step - loss: 0.3180 - accuracy: 0.9269 - val_loss: 0.3320 - val_accuracy: 0.9220\n",
      "Epoch 11/50\n",
      "1133/1133 [==============================] - 33s 29ms/step - loss: 0.3198 - accuracy: 0.9264 - val_loss: 0.3140 - val_accuracy: 0.9224\n",
      "Epoch 12/50\n",
      "1133/1133 [==============================] - 33s 29ms/step - loss: 0.3139 - accuracy: 0.9273 - val_loss: 0.3152 - val_accuracy: 0.9216\n",
      "Epoch 13/50\n",
      "1133/1133 [==============================] - 33s 29ms/step - loss: 0.3167 - accuracy: 0.9252 - val_loss: 0.3270 - val_accuracy: 0.9238\n",
      "Epoch 14/50\n",
      "1133/1133 [==============================] - 33s 29ms/step - loss: 0.3202 - accuracy: 0.9268 - val_loss: 0.3348 - val_accuracy: 0.9208\n",
      "Epoch 15/50\n",
      "1133/1133 [==============================] - 33s 29ms/step - loss: 0.3171 - accuracy: 0.9270 - val_loss: 0.3389 - val_accuracy: 0.9225\n",
      "Epoch 16/50\n",
      "1133/1133 [==============================] - 33s 29ms/step - loss: 0.3145 - accuracy: 0.9281 - val_loss: 0.3232 - val_accuracy: 0.9213\n",
      "Epoch 17/50\n",
      "1133/1133 [==============================] - 33s 29ms/step - loss: 0.3162 - accuracy: 0.9276 - val_loss: 0.3354 - val_accuracy: 0.9241\n",
      "Epoch 18/50\n",
      "1133/1133 [==============================] - 33s 30ms/step - loss: 0.3201 - accuracy: 0.9257 - val_loss: 0.3389 - val_accuracy: 0.9132\n",
      "Epoch 19/50\n",
      "1133/1133 [==============================] - 33s 29ms/step - loss: 0.3146 - accuracy: 0.9279 - val_loss: 0.3375 - val_accuracy: 0.9262\n",
      "Epoch 20/50\n",
      "1133/1133 [==============================] - 34s 30ms/step - loss: 0.3151 - accuracy: 0.9285 - val_loss: 0.3149 - val_accuracy: 0.9224\n",
      "Epoch 21/50\n",
      "1133/1133 [==============================] - 33s 29ms/step - loss: 0.3172 - accuracy: 0.9277 - val_loss: 0.3244 - val_accuracy: 0.9206\n",
      "Epoch 22/50\n",
      "1133/1133 [==============================] - 33s 30ms/step - loss: 0.3227 - accuracy: 0.9258 - val_loss: 0.3221 - val_accuracy: 0.9234\n",
      "Epoch 23/50\n",
      "1133/1133 [==============================] - 33s 29ms/step - loss: 0.3270 - accuracy: 0.9259 - val_loss: 0.3261 - val_accuracy: 0.9214\n",
      "Epoch 24/50\n",
      "1133/1133 [==============================] - 33s 29ms/step - loss: 0.3140 - accuracy: 0.9274 - val_loss: 0.3106 - val_accuracy: 0.9279\n",
      "Epoch 25/50\n",
      "1133/1133 [==============================] - 34s 30ms/step - loss: 0.3169 - accuracy: 0.9277 - val_loss: 0.3186 - val_accuracy: 0.9248\n",
      "Epoch 26/50\n",
      "1133/1133 [==============================] - 33s 30ms/step - loss: 0.3172 - accuracy: 0.9269 - val_loss: 0.3301 - val_accuracy: 0.9248\n",
      "Epoch 27/50\n",
      "1133/1133 [==============================] - 33s 29ms/step - loss: 0.3206 - accuracy: 0.9276 - val_loss: 0.3286 - val_accuracy: 0.9224\n",
      "Epoch 28/50\n",
      "1133/1133 [==============================] - 34s 30ms/step - loss: 0.3181 - accuracy: 0.9287 - val_loss: 0.3275 - val_accuracy: 0.9233\n",
      "Epoch 29/50\n",
      "1133/1133 [==============================] - 33s 30ms/step - loss: 0.3239 - accuracy: 0.9259 - val_loss: 0.3243 - val_accuracy: 0.9197\n",
      "Epoch 30/50\n",
      "1133/1133 [==============================] - 34s 30ms/step - loss: 0.3163 - accuracy: 0.9286 - val_loss: 0.3103 - val_accuracy: 0.9259\n",
      "Epoch 31/50\n",
      "1133/1133 [==============================] - 34s 30ms/step - loss: 0.3114 - accuracy: 0.9296 - val_loss: 0.3154 - val_accuracy: 0.9255\n",
      "Epoch 32/50\n",
      "1133/1133 [==============================] - 33s 29ms/step - loss: 0.3128 - accuracy: 0.9294 - val_loss: 0.3278 - val_accuracy: 0.9195\n",
      "Epoch 33/50\n",
      "1133/1133 [==============================] - 33s 29ms/step - loss: 0.3111 - accuracy: 0.9293 - val_loss: 0.3288 - val_accuracy: 0.9224\n",
      "Epoch 34/50\n",
      "1133/1133 [==============================] - 33s 29ms/step - loss: 0.3139 - accuracy: 0.9277 - val_loss: 0.3084 - val_accuracy: 0.9218\n",
      "Epoch 35/50\n",
      "1133/1133 [==============================] - 33s 29ms/step - loss: 0.3154 - accuracy: 0.9287 - val_loss: 0.3131 - val_accuracy: 0.9209\n",
      "Epoch 36/50\n",
      "1133/1133 [==============================] - 33s 29ms/step - loss: 0.3124 - accuracy: 0.9277 - val_loss: 0.3383 - val_accuracy: 0.9163\n",
      "Epoch 37/50\n",
      "1133/1133 [==============================] - 33s 29ms/step - loss: 0.3183 - accuracy: 0.9272 - val_loss: 0.3193 - val_accuracy: 0.9235\n",
      "Epoch 38/50\n",
      "1133/1133 [==============================] - 33s 29ms/step - loss: 0.3120 - accuracy: 0.9313 - val_loss: 0.3187 - val_accuracy: 0.9247\n",
      "Epoch 39/50\n",
      "1133/1133 [==============================] - 33s 29ms/step - loss: 0.3140 - accuracy: 0.9283 - val_loss: 0.3233 - val_accuracy: 0.9227\n",
      "Epoch 40/50\n",
      "1133/1133 [==============================] - 33s 29ms/step - loss: 0.3169 - accuracy: 0.9271 - val_loss: 0.3213 - val_accuracy: 0.9219\n",
      "Epoch 41/50\n",
      "1133/1133 [==============================] - 33s 29ms/step - loss: 0.3188 - accuracy: 0.9271 - val_loss: 0.3138 - val_accuracy: 0.9272\n",
      "Epoch 42/50\n",
      "1133/1133 [==============================] - 33s 29ms/step - loss: 0.3118 - accuracy: 0.9286 - val_loss: 0.3111 - val_accuracy: 0.9238\n",
      "Epoch 43/50\n",
      "1133/1133 [==============================] - 34s 30ms/step - loss: 0.3033 - accuracy: 0.9309 - val_loss: 0.3248 - val_accuracy: 0.9223\n",
      "Epoch 44/50\n",
      "1133/1133 [==============================] - 33s 29ms/step - loss: 0.3085 - accuracy: 0.9284 - val_loss: 0.3161 - val_accuracy: 0.9254\n",
      "Epoch 45/50\n",
      "1133/1133 [==============================] - 33s 29ms/step - loss: 0.3139 - accuracy: 0.9279 - val_loss: 0.3451 - val_accuracy: 0.9184\n",
      "Epoch 46/50\n",
      "1133/1133 [==============================] - 33s 29ms/step - loss: 0.3150 - accuracy: 0.9295 - val_loss: 0.3118 - val_accuracy: 0.9233\n",
      "Epoch 47/50\n",
      "1133/1133 [==============================] - 33s 29ms/step - loss: 0.3114 - accuracy: 0.9307 - val_loss: 0.3207 - val_accuracy: 0.9233\n",
      "Epoch 48/50\n",
      "1133/1133 [==============================] - 33s 29ms/step - loss: 0.3124 - accuracy: 0.9302 - val_loss: 0.3158 - val_accuracy: 0.9286\n",
      "Epoch 49/50\n",
      "1133/1133 [==============================] - 33s 30ms/step - loss: 0.3127 - accuracy: 0.9311 - val_loss: 0.3136 - val_accuracy: 0.9245\n",
      "Epoch 50/50\n",
      "1133/1133 [==============================] - 33s 29ms/step - loss: 0.3053 - accuracy: 0.9310 - val_loss: 0.3096 - val_accuracy: 0.9253\n"
     ]
    },
    {
     "data": {
      "text/plain": "<keras.callbacks.History at 0x248b2940fa0>"
     },
     "execution_count": 8,
     "metadata": {},
     "output_type": "execute_result"
    }
   ],
   "source": [
    "model.fit(X_train, y_train, batch_size=32,epochs=50, validation_data=(X_test, y_test))"
   ],
   "metadata": {
    "collapsed": false
   }
  },
  {
   "cell_type": "code",
   "execution_count": 9,
   "outputs": [],
   "source": [
    "model.save(\"difker_300e.h5\")"
   ],
   "metadata": {
    "collapsed": false
   }
  },
  {
   "cell_type": "code",
   "execution_count": 11,
   "outputs": [],
   "source": [
    "model.load_weights(\"difker_300e.h5\")"
   ],
   "metadata": {
    "collapsed": false
   }
  },
  {
   "cell_type": "code",
   "execution_count": 12,
   "outputs": [],
   "source": [
    "model.fit(X_train, y_train, batch_size=32,epochs=50, validation_data=(X_test, y_test))"
   ],
   "metadata": {
    "collapsed": false
   }
  },
  {
   "cell_type": "code",
   "execution_count": null,
   "outputs": [],
   "source": [
    "model.save(\"difker_350e.h5\")"
   ],
   "metadata": {
    "collapsed": false
   }
  },
  {
   "cell_type": "code",
   "execution_count": 7,
   "outputs": [],
   "source": [
    "model.load_weights(\"difker_350e.h5\")"
   ],
   "metadata": {
    "collapsed": false
   }
  },
  {
   "cell_type": "code",
   "execution_count": 8,
   "outputs": [
    {
     "name": "stdout",
     "output_type": "stream",
     "text": [
      "Epoch 1/50\n",
      "1133/1133 [==============================] - 75s 49ms/step - loss: 0.2853 - accuracy: 0.9301 - val_loss: 0.3126 - val_accuracy: 0.9245\n",
      "Epoch 2/50\n",
      "1133/1133 [==============================] - 53s 47ms/step - loss: 0.3021 - accuracy: 0.9316 - val_loss: 0.3195 - val_accuracy: 0.9241\n",
      "Epoch 3/50\n",
      "1133/1133 [==============================] - 53s 47ms/step - loss: 0.3074 - accuracy: 0.9326 - val_loss: 0.3022 - val_accuracy: 0.9268\n",
      "Epoch 4/50\n",
      "1133/1133 [==============================] - 54s 48ms/step - loss: 0.3043 - accuracy: 0.9311 - val_loss: 0.3227 - val_accuracy: 0.9238\n",
      "Epoch 5/50\n",
      "1133/1133 [==============================] - 53s 47ms/step - loss: 0.3093 - accuracy: 0.9312 - val_loss: 0.3117 - val_accuracy: 0.9281\n",
      "Epoch 6/50\n",
      "1133/1133 [==============================] - 54s 47ms/step - loss: 0.3059 - accuracy: 0.9328 - val_loss: 0.3104 - val_accuracy: 0.9281\n",
      "Epoch 7/50\n",
      "1133/1133 [==============================] - 54s 47ms/step - loss: 0.3061 - accuracy: 0.9308 - val_loss: 0.3168 - val_accuracy: 0.9237\n",
      "Epoch 8/50\n",
      "1133/1133 [==============================] - 53s 47ms/step - loss: 0.3091 - accuracy: 0.9334 - val_loss: 0.3132 - val_accuracy: 0.9246\n",
      "Epoch 9/50\n",
      "1133/1133 [==============================] - 53s 47ms/step - loss: 0.3005 - accuracy: 0.9339 - val_loss: 0.3126 - val_accuracy: 0.9243\n",
      "Epoch 10/50\n",
      "1133/1133 [==============================] - 53s 47ms/step - loss: 0.3035 - accuracy: 0.9328 - val_loss: 0.3103 - val_accuracy: 0.9234\n",
      "Epoch 11/50\n",
      "1133/1133 [==============================] - 54s 47ms/step - loss: 0.3108 - accuracy: 0.9316 - val_loss: 0.3272 - val_accuracy: 0.9219\n",
      "Epoch 12/50\n",
      "1133/1133 [==============================] - 54s 48ms/step - loss: 0.3118 - accuracy: 0.9322 - val_loss: 0.3160 - val_accuracy: 0.9262\n",
      "Epoch 13/50\n",
      "1133/1133 [==============================] - 53s 47ms/step - loss: 0.3048 - accuracy: 0.9330 - val_loss: 0.3265 - val_accuracy: 0.9236\n",
      "Epoch 14/50\n",
      "1133/1133 [==============================] - 54s 47ms/step - loss: 0.3085 - accuracy: 0.9328 - val_loss: 0.3154 - val_accuracy: 0.9260\n",
      "Epoch 15/50\n",
      "1133/1133 [==============================] - 53s 47ms/step - loss: 0.3027 - accuracy: 0.9334 - val_loss: 0.3357 - val_accuracy: 0.9227\n",
      "Epoch 16/50\n",
      "1133/1133 [==============================] - 53s 47ms/step - loss: 0.3026 - accuracy: 0.9314 - val_loss: 0.3161 - val_accuracy: 0.9246\n",
      "Epoch 17/50\n",
      "1133/1133 [==============================] - 53s 47ms/step - loss: 0.3016 - accuracy: 0.9317 - val_loss: 0.3038 - val_accuracy: 0.9261\n",
      "Epoch 18/50\n",
      "1133/1133 [==============================] - 53s 47ms/step - loss: 0.3037 - accuracy: 0.9336 - val_loss: 0.3232 - val_accuracy: 0.9276\n",
      "Epoch 19/50\n",
      "1133/1133 [==============================] - 52s 46ms/step - loss: 0.3054 - accuracy: 0.9343 - val_loss: 0.3115 - val_accuracy: 0.9262\n",
      "Epoch 20/50\n",
      "1133/1133 [==============================] - 53s 47ms/step - loss: 0.2998 - accuracy: 0.9338 - val_loss: 0.3609 - val_accuracy: 0.9154\n",
      "Epoch 21/50\n",
      "1133/1133 [==============================] - 53s 47ms/step - loss: 0.3085 - accuracy: 0.9319 - val_loss: 0.3242 - val_accuracy: 0.9251\n",
      "Epoch 22/50\n",
      "1133/1133 [==============================] - 54s 48ms/step - loss: 0.2935 - accuracy: 0.9347 - val_loss: 0.3115 - val_accuracy: 0.9250\n",
      "Epoch 23/50\n",
      "1133/1133 [==============================] - 54s 47ms/step - loss: 0.3070 - accuracy: 0.9330 - val_loss: 0.3228 - val_accuracy: 0.9216\n",
      "Epoch 24/50\n",
      "1133/1133 [==============================] - 54s 48ms/step - loss: 0.3038 - accuracy: 0.9331 - val_loss: 0.3148 - val_accuracy: 0.9276\n",
      "Epoch 25/50\n",
      "1133/1133 [==============================] - 53s 47ms/step - loss: 0.3018 - accuracy: 0.9332 - val_loss: 0.3136 - val_accuracy: 0.9278\n",
      "Epoch 26/50\n",
      "1133/1133 [==============================] - 38s 34ms/step - loss: 0.3008 - accuracy: 0.9333 - val_loss: 0.3131 - val_accuracy: 0.9256\n",
      "Epoch 27/50\n",
      "1133/1133 [==============================] - 34s 30ms/step - loss: 0.3047 - accuracy: 0.9350 - val_loss: 0.3064 - val_accuracy: 0.9286\n",
      "Epoch 28/50\n",
      "1133/1133 [==============================] - 33s 29ms/step - loss: 0.3046 - accuracy: 0.9329 - val_loss: 0.3184 - val_accuracy: 0.9277\n",
      "Epoch 29/50\n",
      "1133/1133 [==============================] - 34s 30ms/step - loss: 0.3042 - accuracy: 0.9330 - val_loss: 0.3161 - val_accuracy: 0.9235\n",
      "Epoch 30/50\n",
      "1133/1133 [==============================] - 33s 29ms/step - loss: 0.3029 - accuracy: 0.9349 - val_loss: 0.3163 - val_accuracy: 0.9235\n",
      "Epoch 31/50\n",
      "1133/1133 [==============================] - 33s 29ms/step - loss: 0.3028 - accuracy: 0.9330 - val_loss: 0.3123 - val_accuracy: 0.9286\n",
      "Epoch 32/50\n",
      "1133/1133 [==============================] - 34s 30ms/step - loss: 0.3039 - accuracy: 0.9338 - val_loss: 0.3082 - val_accuracy: 0.9251\n",
      "Epoch 33/50\n",
      "1133/1133 [==============================] - 34s 30ms/step - loss: 0.3068 - accuracy: 0.9344 - val_loss: 0.3122 - val_accuracy: 0.9281\n",
      "Epoch 34/50\n",
      "1133/1133 [==============================] - 33s 29ms/step - loss: 0.2996 - accuracy: 0.9344 - val_loss: 0.3115 - val_accuracy: 0.9247\n",
      "Epoch 35/50\n",
      "1133/1133 [==============================] - 33s 29ms/step - loss: 0.3030 - accuracy: 0.9331 - val_loss: 0.3323 - val_accuracy: 0.9237\n",
      "Epoch 36/50\n",
      "1133/1133 [==============================] - 33s 29ms/step - loss: 0.2974 - accuracy: 0.9353 - val_loss: 0.3008 - val_accuracy: 0.9288\n",
      "Epoch 37/50\n",
      "1133/1133 [==============================] - 33s 29ms/step - loss: 0.2991 - accuracy: 0.9341 - val_loss: 0.3152 - val_accuracy: 0.9257\n",
      "Epoch 38/50\n",
      "1133/1133 [==============================] - 33s 29ms/step - loss: 0.3095 - accuracy: 0.9328 - val_loss: 0.3135 - val_accuracy: 0.9280\n",
      "Epoch 39/50\n",
      "1133/1133 [==============================] - 33s 29ms/step - loss: 0.3100 - accuracy: 0.9356 - val_loss: 0.3428 - val_accuracy: 0.9214\n",
      "Epoch 40/50\n",
      "1133/1133 [==============================] - 33s 29ms/step - loss: 0.3017 - accuracy: 0.9325 - val_loss: 0.3182 - val_accuracy: 0.9272\n",
      "Epoch 41/50\n",
      "1133/1133 [==============================] - 33s 29ms/step - loss: 0.3121 - accuracy: 0.9341 - val_loss: 0.3185 - val_accuracy: 0.9267\n",
      "Epoch 42/50\n",
      "1133/1133 [==============================] - 33s 29ms/step - loss: 0.3121 - accuracy: 0.9340 - val_loss: 0.3185 - val_accuracy: 0.9297\n",
      "Epoch 43/50\n",
      "1133/1133 [==============================] - 33s 29ms/step - loss: 0.2952 - accuracy: 0.9344 - val_loss: 0.3075 - val_accuracy: 0.9285\n",
      "Epoch 44/50\n",
      "1133/1133 [==============================] - 33s 29ms/step - loss: 0.2968 - accuracy: 0.9344 - val_loss: 0.3195 - val_accuracy: 0.9283\n",
      "Epoch 45/50\n",
      "1133/1133 [==============================] - 33s 29ms/step - loss: 0.3083 - accuracy: 0.9342 - val_loss: 0.3083 - val_accuracy: 0.9264\n",
      "Epoch 46/50\n",
      "1133/1133 [==============================] - 33s 29ms/step - loss: 0.2980 - accuracy: 0.9354 - val_loss: 0.3150 - val_accuracy: 0.9267\n",
      "Epoch 47/50\n",
      "1133/1133 [==============================] - 33s 29ms/step - loss: 0.3038 - accuracy: 0.9339 - val_loss: 0.3002 - val_accuracy: 0.9281\n",
      "Epoch 48/50\n",
      "1133/1133 [==============================] - 33s 29ms/step - loss: 0.2997 - accuracy: 0.9334 - val_loss: 0.2951 - val_accuracy: 0.9309\n",
      "Epoch 49/50\n",
      "1133/1133 [==============================] - 33s 29ms/step - loss: 0.2926 - accuracy: 0.9359 - val_loss: 0.3341 - val_accuracy: 0.9182\n",
      "Epoch 50/50\n",
      "1133/1133 [==============================] - 33s 29ms/step - loss: 0.3002 - accuracy: 0.9359 - val_loss: 0.2975 - val_accuracy: 0.9275\n"
     ]
    },
    {
     "data": {
      "text/plain": "<keras.callbacks.History at 0x22b3231efa0>"
     },
     "execution_count": 8,
     "metadata": {},
     "output_type": "execute_result"
    }
   ],
   "source": [
    "model.fit(X_train, y_train, batch_size=32,epochs=50, validation_data=(X_test, y_test))"
   ],
   "metadata": {
    "collapsed": false
   }
  },
  {
   "cell_type": "code",
   "execution_count": 9,
   "outputs": [],
   "source": [
    "model.save(\"difker_400e.h5\")"
   ],
   "metadata": {
    "collapsed": false
   }
  },
  {
   "cell_type": "code",
   "execution_count": 7,
   "outputs": [],
   "source": [
    "model.load_weights(\"difker_400e.h5\")"
   ],
   "metadata": {
    "collapsed": false
   }
  },
  {
   "cell_type": "code",
   "execution_count": null,
   "outputs": [
    {
     "name": "stdout",
     "output_type": "stream",
     "text": [
      "Epoch 1/600\n",
      "1133/1133 [==============================] - 60s 38ms/step - loss: 0.2852 - accuracy: 0.9322 - val_loss: 0.3056 - val_accuracy: 0.9310\n",
      "Epoch 2/600\n",
      "1133/1133 [==============================] - 35s 31ms/step - loss: 0.2954 - accuracy: 0.9341 - val_loss: 0.3031 - val_accuracy: 0.9236\n",
      "Epoch 3/600\n",
      "1133/1133 [==============================] - 34s 30ms/step - loss: 0.2952 - accuracy: 0.9345 - val_loss: 0.3045 - val_accuracy: 0.9288\n",
      "Epoch 4/600\n",
      "1133/1133 [==============================] - 33s 30ms/step - loss: 0.3041 - accuracy: 0.9350 - val_loss: 0.3093 - val_accuracy: 0.9241\n",
      "Epoch 5/600\n",
      "1133/1133 [==============================] - 34s 30ms/step - loss: 0.2991 - accuracy: 0.9345 - val_loss: 0.3060 - val_accuracy: 0.9286\n",
      "Epoch 6/600\n",
      "1133/1133 [==============================] - 34s 30ms/step - loss: 0.2981 - accuracy: 0.9346 - val_loss: 0.3241 - val_accuracy: 0.9259\n",
      "Epoch 7/600\n",
      "1133/1133 [==============================] - 34s 30ms/step - loss: 0.2978 - accuracy: 0.9347 - val_loss: 0.3023 - val_accuracy: 0.9287\n",
      "Epoch 8/600\n",
      "1133/1133 [==============================] - 34s 30ms/step - loss: 0.3010 - accuracy: 0.9352 - val_loss: 0.3081 - val_accuracy: 0.9328\n",
      "Epoch 9/600\n",
      "1133/1133 [==============================] - 34s 30ms/step - loss: 0.3027 - accuracy: 0.9343 - val_loss: 0.3042 - val_accuracy: 0.9310\n",
      "Epoch 10/600\n",
      "1133/1133 [==============================] - 33s 29ms/step - loss: 0.2988 - accuracy: 0.9354 - val_loss: 0.2989 - val_accuracy: 0.9294\n",
      "Epoch 11/600\n",
      "1133/1133 [==============================] - 34s 30ms/step - loss: 0.2997 - accuracy: 0.9338 - val_loss: 0.3265 - val_accuracy: 0.9294\n",
      "Epoch 12/600\n",
      "1133/1133 [==============================] - 34s 30ms/step - loss: 0.3017 - accuracy: 0.9346 - val_loss: 0.2990 - val_accuracy: 0.9286\n",
      "Epoch 13/600\n",
      "1133/1133 [==============================] - 34s 30ms/step - loss: 0.2941 - accuracy: 0.9351 - val_loss: 0.3150 - val_accuracy: 0.9271\n",
      "Epoch 14/600\n",
      "1133/1133 [==============================] - 33s 29ms/step - loss: 0.2985 - accuracy: 0.9351 - val_loss: 0.3118 - val_accuracy: 0.9321\n",
      "Epoch 15/600\n",
      "1133/1133 [==============================] - 34s 30ms/step - loss: 0.2926 - accuracy: 0.9353 - val_loss: 0.3227 - val_accuracy: 0.9271\n",
      "Epoch 16/600\n",
      "1133/1133 [==============================] - 34s 30ms/step - loss: 0.3006 - accuracy: 0.9359 - val_loss: 0.3142 - val_accuracy: 0.9271\n",
      "Epoch 17/600\n",
      "1133/1133 [==============================] - 33s 29ms/step - loss: 0.3038 - accuracy: 0.9344 - val_loss: 0.3122 - val_accuracy: 0.9303\n",
      "Epoch 18/600\n",
      "1133/1133 [==============================] - 33s 29ms/step - loss: 0.2935 - accuracy: 0.9354 - val_loss: 0.3235 - val_accuracy: 0.9304\n",
      "Epoch 19/600\n",
      "1133/1133 [==============================] - 33s 30ms/step - loss: 0.3052 - accuracy: 0.9350 - val_loss: 0.2957 - val_accuracy: 0.9342\n",
      "Epoch 20/600\n",
      "1133/1133 [==============================] - 34s 30ms/step - loss: 0.2973 - accuracy: 0.9355 - val_loss: 0.3034 - val_accuracy: 0.9290\n",
      "Epoch 21/600\n",
      "1133/1133 [==============================] - 33s 29ms/step - loss: 0.2917 - accuracy: 0.9358 - val_loss: 0.3052 - val_accuracy: 0.9302\n",
      "Epoch 22/600\n",
      "1133/1133 [==============================] - 33s 30ms/step - loss: 0.3005 - accuracy: 0.9376 - val_loss: 0.3261 - val_accuracy: 0.9254\n",
      "Epoch 23/600\n",
      "1133/1133 [==============================] - 34s 30ms/step - loss: 0.2936 - accuracy: 0.9358 - val_loss: 0.3137 - val_accuracy: 0.9260\n",
      "Epoch 24/600\n",
      "1133/1133 [==============================] - 34s 30ms/step - loss: 0.2959 - accuracy: 0.9365 - val_loss: 0.3178 - val_accuracy: 0.9273\n",
      "Epoch 25/600\n",
      "1133/1133 [==============================] - 33s 30ms/step - loss: 0.3006 - accuracy: 0.9341 - val_loss: 0.3259 - val_accuracy: 0.9268\n",
      "Epoch 26/600\n",
      "1133/1133 [==============================] - 34s 30ms/step - loss: 0.3093 - accuracy: 0.9355 - val_loss: 0.3041 - val_accuracy: 0.9275\n",
      "Epoch 27/600\n",
      "1133/1133 [==============================] - 34s 30ms/step - loss: 0.2939 - accuracy: 0.9356 - val_loss: 0.2987 - val_accuracy: 0.9313\n",
      "Epoch 28/600\n",
      "1133/1133 [==============================] - 34s 30ms/step - loss: 0.3001 - accuracy: 0.9349 - val_loss: 0.3099 - val_accuracy: 0.9287\n",
      "Epoch 29/600\n",
      "1133/1133 [==============================] - 33s 29ms/step - loss: 0.2941 - accuracy: 0.9329 - val_loss: 0.3024 - val_accuracy: 0.9244\n",
      "Epoch 30/600\n",
      "1133/1133 [==============================] - 33s 30ms/step - loss: 0.2982 - accuracy: 0.9340 - val_loss: 0.3378 - val_accuracy: 0.9133\n",
      "Epoch 31/600\n",
      "1133/1133 [==============================] - 34s 30ms/step - loss: 0.3009 - accuracy: 0.9355 - val_loss: 0.3208 - val_accuracy: 0.9292\n",
      "Epoch 32/600\n",
      "1133/1133 [==============================] - 33s 29ms/step - loss: 0.3031 - accuracy: 0.9368 - val_loss: 0.3104 - val_accuracy: 0.9285\n",
      "Epoch 33/600\n",
      "1133/1133 [==============================] - 33s 30ms/step - loss: 0.2948 - accuracy: 0.9368 - val_loss: 0.3109 - val_accuracy: 0.9270\n",
      "Epoch 34/600\n",
      "1133/1133 [==============================] - 34s 30ms/step - loss: 0.3008 - accuracy: 0.9341 - val_loss: 0.3295 - val_accuracy: 0.9269\n",
      "Epoch 35/600\n",
      "1133/1133 [==============================] - 34s 30ms/step - loss: 0.3050 - accuracy: 0.9368 - val_loss: 0.3239 - val_accuracy: 0.9266\n",
      "Epoch 36/600\n",
      "1133/1133 [==============================] - 33s 30ms/step - loss: 0.2965 - accuracy: 0.9368 - val_loss: 0.3129 - val_accuracy: 0.9267\n",
      "Epoch 37/600\n",
      "1133/1133 [==============================] - 34s 30ms/step - loss: 0.2977 - accuracy: 0.9348 - val_loss: 0.3113 - val_accuracy: 0.9257\n",
      "Epoch 38/600\n",
      "1133/1133 [==============================] - 33s 29ms/step - loss: 0.2963 - accuracy: 0.9364 - val_loss: 0.3074 - val_accuracy: 0.9317\n",
      "Epoch 39/600\n",
      "1133/1133 [==============================] - 34s 30ms/step - loss: 0.3037 - accuracy: 0.9372 - val_loss: 0.3118 - val_accuracy: 0.9273\n",
      "Epoch 40/600\n",
      "1133/1133 [==============================] - 34s 30ms/step - loss: 0.2963 - accuracy: 0.9360 - val_loss: 0.3348 - val_accuracy: 0.9234\n",
      "Epoch 41/600\n",
      "1133/1133 [==============================] - 34s 30ms/step - loss: 0.2996 - accuracy: 0.9348 - val_loss: 0.3079 - val_accuracy: 0.9281\n",
      "Epoch 42/600\n",
      "1133/1133 [==============================] - 33s 30ms/step - loss: 0.2980 - accuracy: 0.9363 - val_loss: 0.3148 - val_accuracy: 0.9273\n",
      "Epoch 43/600\n",
      "1133/1133 [==============================] - 33s 29ms/step - loss: 0.2998 - accuracy: 0.9365 - val_loss: 0.3198 - val_accuracy: 0.9279\n",
      "Epoch 44/600\n",
      "1133/1133 [==============================] - 34s 30ms/step - loss: 0.2972 - accuracy: 0.9352 - val_loss: 0.3170 - val_accuracy: 0.9281\n",
      "Epoch 45/600\n",
      "1133/1133 [==============================] - 33s 30ms/step - loss: 0.2958 - accuracy: 0.9393 - val_loss: 0.3227 - val_accuracy: 0.9239\n",
      "Epoch 46/600\n",
      "1133/1133 [==============================] - 34s 30ms/step - loss: 0.3000 - accuracy: 0.9344 - val_loss: 0.3169 - val_accuracy: 0.9222\n",
      "Epoch 47/600\n",
      "1133/1133 [==============================] - 33s 30ms/step - loss: 0.2896 - accuracy: 0.9359 - val_loss: 0.3028 - val_accuracy: 0.9293\n",
      "Epoch 48/600\n",
      "1133/1133 [==============================] - 34s 30ms/step - loss: 0.2974 - accuracy: 0.9346 - val_loss: 0.3105 - val_accuracy: 0.9307\n",
      "Epoch 49/600\n",
      "1133/1133 [==============================] - 33s 29ms/step - loss: 0.2990 - accuracy: 0.9354 - val_loss: 0.3392 - val_accuracy: 0.9237\n",
      "Epoch 50/600\n",
      "1133/1133 [==============================] - 33s 30ms/step - loss: 0.2935 - accuracy: 0.9384 - val_loss: 0.3151 - val_accuracy: 0.9272\n",
      "Epoch 51/600\n",
      "1133/1133 [==============================] - 33s 30ms/step - loss: 0.2959 - accuracy: 0.9376 - val_loss: 0.3089 - val_accuracy: 0.9282\n",
      "Epoch 52/600\n",
      "1133/1133 [==============================] - 33s 29ms/step - loss: 0.2849 - accuracy: 0.9371 - val_loss: 0.2918 - val_accuracy: 0.9266\n",
      "Epoch 53/600\n",
      "1133/1133 [==============================] - 34s 30ms/step - loss: 0.2969 - accuracy: 0.9354 - val_loss: 0.3029 - val_accuracy: 0.9286\n",
      "Epoch 54/600\n",
      "1133/1133 [==============================] - 34s 30ms/step - loss: 0.2896 - accuracy: 0.9351 - val_loss: 0.3043 - val_accuracy: 0.9280\n",
      "Epoch 55/600\n",
      "1133/1133 [==============================] - 34s 30ms/step - loss: 0.3009 - accuracy: 0.9346 - val_loss: 0.3108 - val_accuracy: 0.9296\n",
      "Epoch 56/600\n",
      "1133/1133 [==============================] - 33s 30ms/step - loss: 0.2944 - accuracy: 0.9382 - val_loss: 0.3203 - val_accuracy: 0.9251\n",
      "Epoch 57/600\n",
      "1133/1133 [==============================] - 34s 30ms/step - loss: 0.2991 - accuracy: 0.9340 - val_loss: 0.3392 - val_accuracy: 0.9237\n",
      "Epoch 58/600\n",
      "1133/1133 [==============================] - 34s 30ms/step - loss: 0.2965 - accuracy: 0.9377 - val_loss: 0.3183 - val_accuracy: 0.9282\n",
      "Epoch 59/600\n",
      "1133/1133 [==============================] - 33s 29ms/step - loss: 0.2976 - accuracy: 0.9370 - val_loss: 0.3254 - val_accuracy: 0.9281\n",
      "Epoch 60/600\n",
      "1133/1133 [==============================] - 33s 29ms/step - loss: 0.3020 - accuracy: 0.9363 - val_loss: 0.3064 - val_accuracy: 0.9306\n",
      "Epoch 61/600\n",
      "1133/1133 [==============================] - 33s 29ms/step - loss: 0.2956 - accuracy: 0.9370 - val_loss: 0.2957 - val_accuracy: 0.9309\n",
      "Epoch 62/600\n",
      "1133/1133 [==============================] - 34s 30ms/step - loss: 0.2882 - accuracy: 0.9406 - val_loss: 0.3186 - val_accuracy: 0.9297\n",
      "Epoch 63/600\n",
      "1133/1133 [==============================] - 33s 30ms/step - loss: 0.2991 - accuracy: 0.9356 - val_loss: 0.3100 - val_accuracy: 0.9286\n",
      "Epoch 64/600\n",
      "1133/1133 [==============================] - 34s 30ms/step - loss: 0.2889 - accuracy: 0.9372 - val_loss: 0.3018 - val_accuracy: 0.9277\n",
      "Epoch 65/600\n",
      "1133/1133 [==============================] - 34s 30ms/step - loss: 0.2906 - accuracy: 0.9368 - val_loss: 0.3055 - val_accuracy: 0.9289\n",
      "Epoch 66/600\n",
      "1133/1133 [==============================] - 33s 30ms/step - loss: 0.2983 - accuracy: 0.9349 - val_loss: 0.3234 - val_accuracy: 0.9267\n",
      "Epoch 67/600\n",
      "1133/1133 [==============================] - 33s 30ms/step - loss: 0.2984 - accuracy: 0.9368 - val_loss: 0.3311 - val_accuracy: 0.9222\n",
      "Epoch 68/600\n",
      "1133/1133 [==============================] - 34s 30ms/step - loss: 0.2959 - accuracy: 0.9373 - val_loss: 0.3005 - val_accuracy: 0.9315\n",
      "Epoch 69/600\n",
      "1133/1133 [==============================] - 33s 30ms/step - loss: 0.2953 - accuracy: 0.9376 - val_loss: 0.3102 - val_accuracy: 0.9250\n",
      "Epoch 70/600\n",
      "1133/1133 [==============================] - 33s 29ms/step - loss: 0.2997 - accuracy: 0.9361 - val_loss: 0.3240 - val_accuracy: 0.9294\n",
      "Epoch 71/600\n",
      "1133/1133 [==============================] - 33s 29ms/step - loss: 0.3017 - accuracy: 0.9355 - val_loss: 0.3201 - val_accuracy: 0.9272\n",
      "Epoch 72/600\n",
      "1133/1133 [==============================] - 33s 29ms/step - loss: 0.2928 - accuracy: 0.9375 - val_loss: 0.3271 - val_accuracy: 0.9273\n",
      "Epoch 73/600\n",
      "1133/1133 [==============================] - 33s 29ms/step - loss: 0.3006 - accuracy: 0.9359 - val_loss: 0.3111 - val_accuracy: 0.9293\n",
      "Epoch 74/600\n",
      "1133/1133 [==============================] - 34s 30ms/step - loss: 0.2939 - accuracy: 0.9379 - val_loss: 0.3163 - val_accuracy: 0.9261\n",
      "Epoch 75/600\n",
      "1133/1133 [==============================] - 33s 29ms/step - loss: 0.2928 - accuracy: 0.9391 - val_loss: 0.3136 - val_accuracy: 0.9286\n",
      "Epoch 76/600\n",
      "1133/1133 [==============================] - 33s 30ms/step - loss: 0.2963 - accuracy: 0.9383 - val_loss: 0.3244 - val_accuracy: 0.9243\n",
      "Epoch 77/600\n",
      "1133/1133 [==============================] - 33s 30ms/step - loss: 0.2936 - accuracy: 0.9376 - val_loss: 0.3103 - val_accuracy: 0.9301\n",
      "Epoch 78/600\n",
      "1133/1133 [==============================] - 33s 29ms/step - loss: 0.2926 - accuracy: 0.9359 - val_loss: 0.3295 - val_accuracy: 0.9251\n",
      "Epoch 79/600\n",
      "1133/1133 [==============================] - 34s 30ms/step - loss: 0.2975 - accuracy: 0.9374 - val_loss: 0.3158 - val_accuracy: 0.9306\n",
      "Epoch 80/600\n",
      "1133/1133 [==============================] - 33s 30ms/step - loss: 0.2990 - accuracy: 0.9370 - val_loss: 0.3215 - val_accuracy: 0.9259\n",
      "Epoch 81/600\n",
      "1133/1133 [==============================] - 34s 30ms/step - loss: 0.2972 - accuracy: 0.9377 - val_loss: 0.2929 - val_accuracy: 0.9297\n",
      "Epoch 82/600\n",
      "1133/1133 [==============================] - 33s 29ms/step - loss: 0.2869 - accuracy: 0.9379 - val_loss: 0.3213 - val_accuracy: 0.9278\n",
      "Epoch 83/600\n",
      "1133/1133 [==============================] - 33s 29ms/step - loss: 0.2887 - accuracy: 0.9387 - val_loss: 0.3206 - val_accuracy: 0.9227\n",
      "Epoch 84/600\n",
      "1133/1133 [==============================] - 33s 29ms/step - loss: 0.2953 - accuracy: 0.9387 - val_loss: 0.3169 - val_accuracy: 0.9282\n",
      "Epoch 85/600\n",
      "1133/1133 [==============================] - 33s 29ms/step - loss: 0.2950 - accuracy: 0.9370 - val_loss: 0.3162 - val_accuracy: 0.9267\n",
      "Epoch 86/600\n",
      "1133/1133 [==============================] - 34s 30ms/step - loss: 0.2950 - accuracy: 0.9375 - val_loss: 0.2905 - val_accuracy: 0.9304\n",
      "Epoch 87/600\n",
      "1133/1133 [==============================] - 33s 29ms/step - loss: 0.2964 - accuracy: 0.9384 - val_loss: 0.3383 - val_accuracy: 0.9297\n",
      "Epoch 88/600\n",
      "1133/1133 [==============================] - 33s 29ms/step - loss: 0.2925 - accuracy: 0.9384 - val_loss: 0.3022 - val_accuracy: 0.9301\n",
      "Epoch 89/600\n",
      "1133/1133 [==============================] - 33s 29ms/step - loss: 0.2912 - accuracy: 0.9365 - val_loss: 0.3263 - val_accuracy: 0.9272\n",
      "Epoch 90/600\n",
      "1133/1133 [==============================] - 33s 30ms/step - loss: 0.2978 - accuracy: 0.9359 - val_loss: 0.3117 - val_accuracy: 0.9293\n",
      "Epoch 91/600\n",
      "1133/1133 [==============================] - 34s 30ms/step - loss: 0.2965 - accuracy: 0.9386 - val_loss: 0.3222 - val_accuracy: 0.9277\n",
      "Epoch 92/600\n",
      " 683/1133 [=================>............] - ETA: 12s - loss: 0.2935 - accuracy: 0.9401"
     ]
    }
   ],
   "source": [
    "model.fit(X_train, y_train, batch_size=32,epochs=600, validation_data=(X_test, y_test))"
   ],
   "metadata": {
    "collapsed": false
   }
  },
  {
   "cell_type": "code",
   "execution_count": null,
   "outputs": [],
   "source": [
    "model.save(\"difker_1000e.h5\")"
   ],
   "metadata": {
    "collapsed": false
   }
  },
  {
   "cell_type": "code",
   "execution_count": 7,
   "outputs": [],
   "source": [
    "model.load_weights(\"difker_1000e.h5\")"
   ],
   "metadata": {
    "collapsed": false,
    "pycharm": {
     "name": "#%%m'd\n"
    }
   }
  },
  {
   "cell_type": "code",
   "execution_count": 8,
   "outputs": [
    {
     "name": "stdout",
     "output_type": "stream",
     "text": [
      "Epoch 1/10\n",
      "1133/1133 [==============================] - 44s 32ms/step - loss: 0.2587 - accuracy: 0.9469 - val_loss: 0.3051 - val_accuracy: 0.9341\n",
      "Epoch 2/10\n",
      "1133/1133 [==============================] - 35s 31ms/step - loss: 0.2689 - accuracy: 0.9471 - val_loss: 0.3029 - val_accuracy: 0.9332\n",
      "Epoch 3/10\n",
      "1133/1133 [==============================] - 33s 29ms/step - loss: 0.2714 - accuracy: 0.9480 - val_loss: 0.3109 - val_accuracy: 0.9336\n",
      "Epoch 4/10\n",
      "1133/1133 [==============================] - 33s 29ms/step - loss: 0.2832 - accuracy: 0.9480 - val_loss: 0.3019 - val_accuracy: 0.9325\n",
      "Epoch 5/10\n",
      "1133/1133 [==============================] - 33s 29ms/step - loss: 0.2779 - accuracy: 0.9498 - val_loss: 0.3240 - val_accuracy: 0.9329\n",
      "Epoch 6/10\n",
      "1133/1133 [==============================] - 33s 29ms/step - loss: 0.2871 - accuracy: 0.9482 - val_loss: 0.3163 - val_accuracy: 0.9319\n",
      "Epoch 7/10\n",
      "1133/1133 [==============================] - 33s 29ms/step - loss: 0.2785 - accuracy: 0.9475 - val_loss: 0.3180 - val_accuracy: 0.9340\n",
      "Epoch 8/10\n",
      "1133/1133 [==============================] - 33s 29ms/step - loss: 0.2826 - accuracy: 0.9482 - val_loss: 0.3182 - val_accuracy: 0.9326\n",
      "Epoch 9/10\n",
      "1133/1133 [==============================] - 33s 29ms/step - loss: 0.2828 - accuracy: 0.9489 - val_loss: 0.3194 - val_accuracy: 0.9308\n",
      "Epoch 10/10\n",
      "1133/1133 [==============================] - 33s 29ms/step - loss: 0.2758 - accuracy: 0.9484 - val_loss: 0.3114 - val_accuracy: 0.9307\n"
     ]
    },
    {
     "data": {
      "text/plain": "<keras.callbacks.History at 0x29ab4e67c40>"
     },
     "execution_count": 8,
     "metadata": {},
     "output_type": "execute_result"
    }
   ],
   "source": [
    "model.fit(X_train, y_train, batch_size=32,epochs=10, validation_data=(X_test, y_test))"
   ],
   "metadata": {
    "collapsed": false
   }
  },
  {
   "cell_type": "code",
   "execution_count": 9,
   "outputs": [],
   "source": [
    "model.save_weights(\"difker_1010e.h5\")"
   ],
   "metadata": {
    "collapsed": false
   }
  },
  {
   "cell_type": "code",
   "execution_count": 7,
   "outputs": [],
   "source": [
    "model.load_weights(\"difker_1010e.h5\")"
   ],
   "metadata": {
    "collapsed": false
   }
  },
  {
   "cell_type": "code",
   "execution_count": 8,
   "outputs": [
    {
     "name": "stdout",
     "output_type": "stream",
     "text": [
      "Epoch 1/90\n",
      "1133/1133 [==============================] - 34s 27ms/step - loss: 0.2576 - accuracy: 0.9451 - val_loss: 0.2988 - val_accuracy: 0.9293\n",
      "Epoch 2/90\n",
      "1133/1133 [==============================] - 30s 27ms/step - loss: 0.2770 - accuracy: 0.9466 - val_loss: 0.3282 - val_accuracy: 0.9299\n",
      "Epoch 3/90\n",
      "1133/1133 [==============================] - 30s 27ms/step - loss: 0.2841 - accuracy: 0.9478 - val_loss: 0.3217 - val_accuracy: 0.9293\n",
      "Epoch 4/90\n",
      "1133/1133 [==============================] - 30s 26ms/step - loss: 0.2784 - accuracy: 0.9477 - val_loss: 0.3250 - val_accuracy: 0.9291\n",
      "Epoch 5/90\n",
      "1133/1133 [==============================] - 30s 26ms/step - loss: 0.2770 - accuracy: 0.9474 - val_loss: 0.3183 - val_accuracy: 0.9307\n",
      "Epoch 6/90\n",
      "1133/1133 [==============================] - 29s 26ms/step - loss: 0.2826 - accuracy: 0.9493 - val_loss: 0.3502 - val_accuracy: 0.9273\n",
      "Epoch 7/90\n",
      "1133/1133 [==============================] - 30s 26ms/step - loss: 0.2912 - accuracy: 0.9462 - val_loss: 0.3304 - val_accuracy: 0.9312\n",
      "Epoch 8/90\n",
      "1133/1133 [==============================] - 30s 26ms/step - loss: 0.2804 - accuracy: 0.9464 - val_loss: 0.3255 - val_accuracy: 0.9306\n",
      "Epoch 9/90\n",
      "1133/1133 [==============================] - 30s 26ms/step - loss: 0.2841 - accuracy: 0.9492 - val_loss: 0.3305 - val_accuracy: 0.9314\n",
      "Epoch 10/90\n",
      "1133/1133 [==============================] - 30s 27ms/step - loss: 0.2865 - accuracy: 0.9468 - val_loss: 0.3047 - val_accuracy: 0.9332\n",
      "Epoch 11/90\n",
      "1133/1133 [==============================] - 30s 26ms/step - loss: 0.2807 - accuracy: 0.9506 - val_loss: 0.3175 - val_accuracy: 0.9314\n",
      "Epoch 12/90\n",
      "1133/1133 [==============================] - 30s 26ms/step - loss: 0.2880 - accuracy: 0.9477 - val_loss: 0.3478 - val_accuracy: 0.9312\n",
      "Epoch 13/90\n",
      "1133/1133 [==============================] - 30s 26ms/step - loss: 0.2943 - accuracy: 0.9481 - val_loss: 0.3166 - val_accuracy: 0.9349\n",
      "Epoch 14/90\n",
      "1133/1133 [==============================] - 30s 26ms/step - loss: 0.2854 - accuracy: 0.9471 - val_loss: 0.3323 - val_accuracy: 0.9336\n",
      "Epoch 15/90\n",
      "1133/1133 [==============================] - 30s 26ms/step - loss: 0.2774 - accuracy: 0.9482 - val_loss: 0.3177 - val_accuracy: 0.9312\n",
      "Epoch 16/90\n",
      "1133/1133 [==============================] - 29s 26ms/step - loss: 0.2880 - accuracy: 0.9483 - val_loss: 0.3265 - val_accuracy: 0.9300\n",
      "Epoch 17/90\n",
      "1133/1133 [==============================] - 30s 26ms/step - loss: 0.2838 - accuracy: 0.9474 - val_loss: 0.3182 - val_accuracy: 0.9290\n",
      "Epoch 18/90\n",
      "1133/1133 [==============================] - 30s 26ms/step - loss: 0.2747 - accuracy: 0.9485 - val_loss: 0.3120 - val_accuracy: 0.9323\n",
      "Epoch 19/90\n",
      "1133/1133 [==============================] - 30s 26ms/step - loss: 0.2913 - accuracy: 0.9473 - val_loss: 0.3246 - val_accuracy: 0.9318\n",
      "Epoch 20/90\n",
      "1133/1133 [==============================] - 30s 27ms/step - loss: 0.2780 - accuracy: 0.9509 - val_loss: 0.3130 - val_accuracy: 0.9325\n",
      "Epoch 21/90\n",
      "1133/1133 [==============================] - 30s 27ms/step - loss: 0.2810 - accuracy: 0.9474 - val_loss: 0.3208 - val_accuracy: 0.9323\n",
      "Epoch 22/90\n",
      "1133/1133 [==============================] - 30s 27ms/step - loss: 0.2829 - accuracy: 0.9486 - val_loss: 0.3082 - val_accuracy: 0.9349\n",
      "Epoch 23/90\n",
      "1133/1133 [==============================] - 30s 26ms/step - loss: 0.2868 - accuracy: 0.9472 - val_loss: 0.3158 - val_accuracy: 0.9326\n",
      "Epoch 24/90\n",
      "1133/1133 [==============================] - 30s 26ms/step - loss: 0.2858 - accuracy: 0.9481 - val_loss: 0.3045 - val_accuracy: 0.9304\n",
      "Epoch 25/90\n",
      "1133/1133 [==============================] - 30s 27ms/step - loss: 0.2850 - accuracy: 0.9475 - val_loss: 0.3148 - val_accuracy: 0.9324\n",
      "Epoch 26/90\n",
      "1133/1133 [==============================] - 30s 26ms/step - loss: 0.2842 - accuracy: 0.9479 - val_loss: 0.3389 - val_accuracy: 0.9292\n",
      "Epoch 27/90\n",
      "1133/1133 [==============================] - 30s 27ms/step - loss: 0.2847 - accuracy: 0.9492 - val_loss: 0.3292 - val_accuracy: 0.9326\n",
      "Epoch 28/90\n",
      "1133/1133 [==============================] - 30s 27ms/step - loss: 0.2801 - accuracy: 0.9492 - val_loss: 0.3176 - val_accuracy: 0.9332\n",
      "Epoch 29/90\n",
      "1133/1133 [==============================] - 30s 27ms/step - loss: 0.2832 - accuracy: 0.9485 - val_loss: 0.3228 - val_accuracy: 0.9301\n",
      "Epoch 30/90\n",
      "1133/1133 [==============================] - 30s 27ms/step - loss: 0.2734 - accuracy: 0.9492 - val_loss: 0.3186 - val_accuracy: 0.9317\n",
      "Epoch 31/90\n",
      "1133/1133 [==============================] - 30s 26ms/step - loss: 0.2865 - accuracy: 0.9474 - val_loss: 0.3290 - val_accuracy: 0.9340\n",
      "Epoch 32/90\n",
      "1133/1133 [==============================] - 30s 27ms/step - loss: 0.2870 - accuracy: 0.9486 - val_loss: 0.3138 - val_accuracy: 0.9341\n",
      "Epoch 33/90\n",
      "1133/1133 [==============================] - 30s 26ms/step - loss: 0.2845 - accuracy: 0.9510 - val_loss: 0.3352 - val_accuracy: 0.9277\n",
      "Epoch 34/90\n",
      "1133/1133 [==============================] - 30s 27ms/step - loss: 0.2914 - accuracy: 0.9479 - val_loss: 0.3221 - val_accuracy: 0.9298\n",
      "Epoch 35/90\n",
      "1133/1133 [==============================] - 30s 26ms/step - loss: 0.2808 - accuracy: 0.9499 - val_loss: 0.3235 - val_accuracy: 0.9319\n",
      "Epoch 36/90\n",
      "1133/1133 [==============================] - 30s 27ms/step - loss: 0.2805 - accuracy: 0.9488 - val_loss: 0.3943 - val_accuracy: 0.9197\n",
      "Epoch 37/90\n",
      "1133/1133 [==============================] - 30s 26ms/step - loss: 0.2848 - accuracy: 0.9487 - val_loss: 0.3333 - val_accuracy: 0.9261\n",
      "Epoch 38/90\n",
      "1133/1133 [==============================] - 30s 27ms/step - loss: 0.2760 - accuracy: 0.9484 - val_loss: 0.3069 - val_accuracy: 0.9324\n",
      "Epoch 39/90\n",
      "1133/1133 [==============================] - 30s 27ms/step - loss: 0.2787 - accuracy: 0.9494 - val_loss: 0.3194 - val_accuracy: 0.9325\n",
      "Epoch 40/90\n",
      "1133/1133 [==============================] - 30s 26ms/step - loss: 0.2820 - accuracy: 0.9476 - val_loss: 0.3236 - val_accuracy: 0.9331\n",
      "Epoch 41/90\n",
      "1133/1133 [==============================] - 30s 27ms/step - loss: 0.2787 - accuracy: 0.9473 - val_loss: 0.3122 - val_accuracy: 0.9351\n",
      "Epoch 42/90\n",
      "1133/1133 [==============================] - 30s 26ms/step - loss: 0.2847 - accuracy: 0.9476 - val_loss: 0.3139 - val_accuracy: 0.9345\n",
      "Epoch 43/90\n",
      "1133/1133 [==============================] - 30s 27ms/step - loss: 0.2802 - accuracy: 0.9487 - val_loss: 0.3061 - val_accuracy: 0.9335\n",
      "Epoch 44/90\n",
      "1133/1133 [==============================] - 30s 27ms/step - loss: 0.2836 - accuracy: 0.9489 - val_loss: 0.3118 - val_accuracy: 0.9313\n",
      "Epoch 45/90\n",
      "1133/1133 [==============================] - 30s 27ms/step - loss: 0.2831 - accuracy: 0.9483 - val_loss: 0.3126 - val_accuracy: 0.9333\n",
      "Epoch 46/90\n",
      "1133/1133 [==============================] - 30s 27ms/step - loss: 0.2707 - accuracy: 0.9487 - val_loss: 0.3080 - val_accuracy: 0.9312\n",
      "Epoch 47/90\n",
      "1133/1133 [==============================] - 30s 27ms/step - loss: 0.2843 - accuracy: 0.9490 - val_loss: 0.3234 - val_accuracy: 0.9329\n",
      "Epoch 48/90\n",
      "1133/1133 [==============================] - 30s 26ms/step - loss: 0.2890 - accuracy: 0.9464 - val_loss: 0.3184 - val_accuracy: 0.9324\n",
      "Epoch 49/90\n",
      "1133/1133 [==============================] - 30s 26ms/step - loss: 0.2847 - accuracy: 0.9487 - val_loss: 0.3306 - val_accuracy: 0.9302\n",
      "Epoch 50/90\n",
      "1133/1133 [==============================] - 30s 26ms/step - loss: 0.2737 - accuracy: 0.9495 - val_loss: 0.3090 - val_accuracy: 0.9330\n",
      "Epoch 51/90\n",
      "1133/1133 [==============================] - 30s 26ms/step - loss: 0.2813 - accuracy: 0.9482 - val_loss: 0.3092 - val_accuracy: 0.9353\n",
      "Epoch 52/90\n",
      "1133/1133 [==============================] - 30s 26ms/step - loss: 0.2843 - accuracy: 0.9485 - val_loss: 0.3397 - val_accuracy: 0.9335\n",
      "Epoch 53/90\n",
      "1133/1133 [==============================] - 30s 27ms/step - loss: 0.2819 - accuracy: 0.9481 - val_loss: 0.3220 - val_accuracy: 0.9306\n",
      "Epoch 54/90\n",
      "1133/1133 [==============================] - 30s 26ms/step - loss: 0.2808 - accuracy: 0.9479 - val_loss: 0.3173 - val_accuracy: 0.9334\n",
      "Epoch 55/90\n",
      "1133/1133 [==============================] - 30s 27ms/step - loss: 0.2782 - accuracy: 0.9495 - val_loss: 0.3190 - val_accuracy: 0.9335\n",
      "Epoch 56/90\n",
      "1133/1133 [==============================] - 30s 27ms/step - loss: 0.2916 - accuracy: 0.9492 - val_loss: 0.3410 - val_accuracy: 0.9317\n",
      "Epoch 57/90\n",
      "1133/1133 [==============================] - 30s 27ms/step - loss: 0.2793 - accuracy: 0.9490 - val_loss: 0.3118 - val_accuracy: 0.9326\n",
      "Epoch 58/90\n",
      "1133/1133 [==============================] - 30s 26ms/step - loss: 0.2830 - accuracy: 0.9485 - val_loss: 0.3118 - val_accuracy: 0.9340\n",
      "Epoch 59/90\n",
      "1133/1133 [==============================] - 30s 26ms/step - loss: 0.2797 - accuracy: 0.9486 - val_loss: 0.3195 - val_accuracy: 0.9335\n",
      "Epoch 60/90\n",
      "1133/1133 [==============================] - 30s 26ms/step - loss: 0.2804 - accuracy: 0.9478 - val_loss: 0.3444 - val_accuracy: 0.9296\n",
      "Epoch 61/90\n",
      "1133/1133 [==============================] - 29s 26ms/step - loss: 0.2835 - accuracy: 0.9480 - val_loss: 0.3187 - val_accuracy: 0.9328\n",
      "Epoch 62/90\n",
      "1133/1133 [==============================] - 30s 27ms/step - loss: 0.2805 - accuracy: 0.9499 - val_loss: 0.3129 - val_accuracy: 0.9326\n",
      "Epoch 63/90\n",
      "1133/1133 [==============================] - 30s 27ms/step - loss: 0.2778 - accuracy: 0.9502 - val_loss: 0.3170 - val_accuracy: 0.9309\n",
      "Epoch 64/90\n",
      "1133/1133 [==============================] - 30s 27ms/step - loss: 0.2741 - accuracy: 0.9510 - val_loss: 0.3291 - val_accuracy: 0.9302\n",
      "Epoch 65/90\n",
      "1133/1133 [==============================] - 30s 27ms/step - loss: 0.2870 - accuracy: 0.9479 - val_loss: 0.3252 - val_accuracy: 0.9294\n",
      "Epoch 66/90\n",
      "1133/1133 [==============================] - 30s 26ms/step - loss: 0.2889 - accuracy: 0.9492 - val_loss: 0.3224 - val_accuracy: 0.9319\n",
      "Epoch 67/90\n",
      "1133/1133 [==============================] - 30s 26ms/step - loss: 0.2800 - accuracy: 0.9493 - val_loss: 0.3236 - val_accuracy: 0.9277\n",
      "Epoch 68/90\n",
      "1133/1133 [==============================] - 30s 27ms/step - loss: 0.2872 - accuracy: 0.9492 - val_loss: 0.3336 - val_accuracy: 0.9282\n",
      "Epoch 69/90\n",
      "1133/1133 [==============================] - 30s 27ms/step - loss: 0.2845 - accuracy: 0.9469 - val_loss: 0.3186 - val_accuracy: 0.9306\n",
      "Epoch 70/90\n",
      "1133/1133 [==============================] - 30s 27ms/step - loss: 0.2742 - accuracy: 0.9504 - val_loss: 0.3071 - val_accuracy: 0.9302\n",
      "Epoch 71/90\n",
      "1133/1133 [==============================] - 30s 26ms/step - loss: 0.2738 - accuracy: 0.9501 - val_loss: 0.3411 - val_accuracy: 0.9280\n",
      "Epoch 72/90\n",
      "1133/1133 [==============================] - 30s 26ms/step - loss: 0.2875 - accuracy: 0.9475 - val_loss: 0.3051 - val_accuracy: 0.9315\n",
      "Epoch 73/90\n",
      "1133/1133 [==============================] - 30s 27ms/step - loss: 0.2798 - accuracy: 0.9487 - val_loss: 0.3317 - val_accuracy: 0.9311\n",
      "Epoch 74/90\n",
      "1133/1133 [==============================] - 30s 27ms/step - loss: 0.2806 - accuracy: 0.9498 - val_loss: 0.3191 - val_accuracy: 0.9332\n",
      "Epoch 75/90\n",
      "1133/1133 [==============================] - 30s 26ms/step - loss: 0.2805 - accuracy: 0.9497 - val_loss: 0.3053 - val_accuracy: 0.9306\n",
      "Epoch 76/90\n",
      "1133/1133 [==============================] - 30s 26ms/step - loss: 0.2800 - accuracy: 0.9490 - val_loss: 0.3110 - val_accuracy: 0.9328\n",
      "Epoch 77/90\n",
      "1133/1133 [==============================] - 30s 26ms/step - loss: 0.2812 - accuracy: 0.9492 - val_loss: 0.3203 - val_accuracy: 0.9307\n",
      "Epoch 78/90\n",
      "1133/1133 [==============================] - 30s 27ms/step - loss: 0.2774 - accuracy: 0.9502 - val_loss: 0.3109 - val_accuracy: 0.9312\n",
      "Epoch 79/90\n",
      "1133/1133 [==============================] - 30s 26ms/step - loss: 0.2828 - accuracy: 0.9504 - val_loss: 0.3324 - val_accuracy: 0.9307\n",
      "Epoch 80/90\n",
      "1133/1133 [==============================] - 30s 27ms/step - loss: 0.2790 - accuracy: 0.9497 - val_loss: 0.3249 - val_accuracy: 0.9309\n",
      "Epoch 81/90\n",
      "1133/1133 [==============================] - 30s 27ms/step - loss: 0.2673 - accuracy: 0.9502 - val_loss: 0.3328 - val_accuracy: 0.9323\n",
      "Epoch 82/90\n",
      "1133/1133 [==============================] - 30s 26ms/step - loss: 0.2869 - accuracy: 0.9473 - val_loss: 0.3150 - val_accuracy: 0.9341\n",
      "Epoch 83/90\n",
      "1133/1133 [==============================] - 30s 26ms/step - loss: 0.2829 - accuracy: 0.9508 - val_loss: 0.3205 - val_accuracy: 0.9299\n",
      "Epoch 84/90\n",
      "1133/1133 [==============================] - 30s 26ms/step - loss: 0.2801 - accuracy: 0.9495 - val_loss: 0.3172 - val_accuracy: 0.9354\n",
      "Epoch 85/90\n",
      "1133/1133 [==============================] - 30s 27ms/step - loss: 0.2815 - accuracy: 0.9493 - val_loss: 0.3315 - val_accuracy: 0.9309\n",
      "Epoch 86/90\n",
      "1133/1133 [==============================] - 30s 26ms/step - loss: 0.2736 - accuracy: 0.9505 - val_loss: 0.3063 - val_accuracy: 0.9345\n",
      "Epoch 87/90\n",
      "1133/1133 [==============================] - 29s 26ms/step - loss: 0.2743 - accuracy: 0.9503 - val_loss: 0.3173 - val_accuracy: 0.9338\n",
      "Epoch 88/90\n",
      "1133/1133 [==============================] - 30s 27ms/step - loss: 0.2780 - accuracy: 0.9500 - val_loss: 0.3201 - val_accuracy: 0.9300\n",
      "Epoch 89/90\n",
      "1133/1133 [==============================] - 30s 26ms/step - loss: 0.2787 - accuracy: 0.9493 - val_loss: 0.3360 - val_accuracy: 0.9308\n",
      "Epoch 90/90\n",
      "1133/1133 [==============================] - 30s 27ms/step - loss: 0.2846 - accuracy: 0.9491 - val_loss: 0.3183 - val_accuracy: 0.9340\n"
     ]
    },
    {
     "data": {
      "text/plain": "<keras.callbacks.History at 0x1983d8dfc40>"
     },
     "execution_count": 8,
     "metadata": {},
     "output_type": "execute_result"
    }
   ],
   "source": [
    "model.fit(X_train, y_train, batch_size=32,epochs=90, validation_data=(X_test, y_test))"
   ],
   "metadata": {
    "collapsed": false
   }
  },
  {
   "cell_type": "code",
   "execution_count": 9,
   "outputs": [],
   "source": [
    "model.save_weights(\"difker_1100e.h5\")"
   ],
   "metadata": {
    "collapsed": false
   }
  },
  {
   "cell_type": "code",
   "execution_count": 7,
   "outputs": [],
   "source": [
    "model.load_weights(\"difker_1100e.h5\")"
   ],
   "metadata": {
    "collapsed": false
   }
  },
  {
   "cell_type": "code",
   "execution_count": 8,
   "outputs": [
    {
     "name": "stdout",
     "output_type": "stream",
     "text": [
      "Epoch 1/100\n",
      "1133/1133 [==============================] - 35s 27ms/step - loss: 0.2555 - accuracy: 0.9459 - val_loss: 0.3016 - val_accuracy: 0.9308\n",
      "Epoch 2/100\n",
      "1133/1133 [==============================] - 31s 27ms/step - loss: 0.2755 - accuracy: 0.9460 - val_loss: 0.3116 - val_accuracy: 0.9338\n",
      "Epoch 3/100\n",
      "1133/1133 [==============================] - 31s 27ms/step - loss: 0.2802 - accuracy: 0.9497 - val_loss: 0.3169 - val_accuracy: 0.9351\n",
      "Epoch 4/100\n",
      "1133/1133 [==============================] - 31s 27ms/step - loss: 0.2820 - accuracy: 0.9476 - val_loss: 0.3181 - val_accuracy: 0.9329\n",
      "Epoch 5/100\n",
      "1133/1133 [==============================] - 31s 27ms/step - loss: 0.2868 - accuracy: 0.9481 - val_loss: 0.3342 - val_accuracy: 0.9304\n",
      "Epoch 6/100\n",
      "1133/1133 [==============================] - 32s 29ms/step - loss: 0.2813 - accuracy: 0.9511 - val_loss: 0.3253 - val_accuracy: 0.9330\n",
      "Epoch 7/100\n",
      "1133/1133 [==============================] - 31s 27ms/step - loss: 0.2839 - accuracy: 0.9493 - val_loss: 0.3259 - val_accuracy: 0.9279\n",
      "Epoch 8/100\n",
      "1133/1133 [==============================] - 31s 27ms/step - loss: 0.2807 - accuracy: 0.9489 - val_loss: 0.3195 - val_accuracy: 0.9311\n",
      "Epoch 9/100\n",
      "1133/1133 [==============================] - 31s 28ms/step - loss: 0.2817 - accuracy: 0.9506 - val_loss: 0.3328 - val_accuracy: 0.9307\n",
      "Epoch 10/100\n",
      "1133/1133 [==============================] - 31s 27ms/step - loss: 0.2857 - accuracy: 0.9482 - val_loss: 0.3290 - val_accuracy: 0.9357\n",
      "Epoch 11/100\n",
      "1133/1133 [==============================] - 31s 27ms/step - loss: 0.2837 - accuracy: 0.9494 - val_loss: 0.3276 - val_accuracy: 0.9353\n",
      "Epoch 12/100\n",
      "1133/1133 [==============================] - 31s 27ms/step - loss: 0.2852 - accuracy: 0.9488 - val_loss: 0.3267 - val_accuracy: 0.9319\n",
      "Epoch 13/100\n",
      "1133/1133 [==============================] - 30s 27ms/step - loss: 0.2827 - accuracy: 0.9501 - val_loss: 0.3300 - val_accuracy: 0.9317\n",
      "Epoch 14/100\n",
      "1133/1133 [==============================] - 31s 27ms/step - loss: 0.2848 - accuracy: 0.9476 - val_loss: 0.3145 - val_accuracy: 0.9336\n",
      "Epoch 15/100\n",
      "1133/1133 [==============================] - 30s 27ms/step - loss: 0.2880 - accuracy: 0.9493 - val_loss: 0.3117 - val_accuracy: 0.9311\n",
      "Epoch 16/100\n",
      "1133/1133 [==============================] - 31s 27ms/step - loss: 0.2776 - accuracy: 0.9490 - val_loss: 0.3056 - val_accuracy: 0.9353\n",
      "Epoch 17/100\n",
      "1133/1133 [==============================] - 30s 27ms/step - loss: 0.2800 - accuracy: 0.9478 - val_loss: 0.3255 - val_accuracy: 0.9310\n",
      "Epoch 18/100\n",
      "1133/1133 [==============================] - 31s 27ms/step - loss: 0.2869 - accuracy: 0.9481 - val_loss: 0.3148 - val_accuracy: 0.9307\n",
      "Epoch 19/100\n",
      "1133/1133 [==============================] - 31s 27ms/step - loss: 0.2772 - accuracy: 0.9507 - val_loss: 0.3258 - val_accuracy: 0.9300\n",
      "Epoch 20/100\n",
      "1133/1133 [==============================] - 31s 27ms/step - loss: 0.2838 - accuracy: 0.9482 - val_loss: 0.3221 - val_accuracy: 0.9317\n",
      "Epoch 21/100\n",
      "1133/1133 [==============================] - 31s 27ms/step - loss: 0.2744 - accuracy: 0.9502 - val_loss: 0.3066 - val_accuracy: 0.9340\n",
      "Epoch 22/100\n",
      "1133/1133 [==============================] - 31s 27ms/step - loss: 0.2845 - accuracy: 0.9489 - val_loss: 0.3163 - val_accuracy: 0.9306\n",
      "Epoch 23/100\n",
      "1133/1133 [==============================] - 31s 27ms/step - loss: 0.2808 - accuracy: 0.9507 - val_loss: 0.3498 - val_accuracy: 0.9309\n",
      "Epoch 24/100\n",
      "1133/1133 [==============================] - 31s 27ms/step - loss: 0.2977 - accuracy: 0.9506 - val_loss: 0.3205 - val_accuracy: 0.9333\n",
      "Epoch 25/100\n",
      "1133/1133 [==============================] - 31s 28ms/step - loss: 0.2765 - accuracy: 0.9503 - val_loss: 0.3082 - val_accuracy: 0.9317\n",
      "Epoch 26/100\n",
      "1133/1133 [==============================] - 31s 27ms/step - loss: 0.2797 - accuracy: 0.9496 - val_loss: 0.3105 - val_accuracy: 0.9343\n",
      "Epoch 27/100\n",
      "1133/1133 [==============================] - 31s 28ms/step - loss: 0.2775 - accuracy: 0.9495 - val_loss: 0.3269 - val_accuracy: 0.9346\n",
      "Epoch 28/100\n",
      "1133/1133 [==============================] - 30s 27ms/step - loss: 0.2814 - accuracy: 0.9501 - val_loss: 0.3229 - val_accuracy: 0.9345\n",
      "Epoch 29/100\n",
      "1133/1133 [==============================] - 31s 28ms/step - loss: 0.2793 - accuracy: 0.9508 - val_loss: 0.3149 - val_accuracy: 0.9318\n",
      "Epoch 30/100\n",
      "1133/1133 [==============================] - 31s 28ms/step - loss: 0.2775 - accuracy: 0.9499 - val_loss: 0.3405 - val_accuracy: 0.9267\n",
      "Epoch 31/100\n",
      "1133/1133 [==============================] - 31s 28ms/step - loss: 0.2872 - accuracy: 0.9493 - val_loss: 0.3393 - val_accuracy: 0.9282\n",
      "Epoch 32/100\n",
      "1133/1133 [==============================] - 31s 28ms/step - loss: 0.2865 - accuracy: 0.9500 - val_loss: 0.3166 - val_accuracy: 0.9307\n",
      "Epoch 33/100\n",
      "1133/1133 [==============================] - 31s 28ms/step - loss: 0.2742 - accuracy: 0.9495 - val_loss: 0.3282 - val_accuracy: 0.9336\n",
      "Epoch 34/100\n",
      "1133/1133 [==============================] - 31s 27ms/step - loss: 0.2808 - accuracy: 0.9502 - val_loss: 0.3256 - val_accuracy: 0.9312\n",
      "Epoch 35/100\n",
      " 618/1133 [===============>..............] - ETA: 12s - loss: 0.2817 - accuracy: 0.9501"
     ]
    }
   ],
   "source": [
    "model.fit(X_train, y_train, batch_size=32,epochs=100, validation_data=(X_test, y_test))"
   ],
   "metadata": {
    "collapsed": false
   }
  },
  {
   "cell_type": "code",
   "execution_count": 9,
   "outputs": [],
   "source": [
    "model.save_weights(\"difker_1200e.h5\")"
   ],
   "metadata": {
    "collapsed": false
   }
  },
  {
   "cell_type": "code",
   "execution_count": 7,
   "outputs": [],
   "source": [
    "model.load_weights(\"difker_1200e.h5\")"
   ],
   "metadata": {
    "collapsed": false
   }
  },
  {
   "cell_type": "code",
   "execution_count": null,
   "outputs": [
    {
     "name": "stdout",
     "output_type": "stream",
     "text": [
      "Epoch 1/600\n",
      "1133/1133 [==============================] - 35s 28ms/step - loss: 0.2569 - accuracy: 0.9479 - val_loss: 0.3506 - val_accuracy: 0.9288\n",
      "Epoch 2/600\n",
      "1133/1133 [==============================] - 31s 27ms/step - loss: 0.2752 - accuracy: 0.9486 - val_loss: 0.3194 - val_accuracy: 0.9335\n",
      "Epoch 3/600\n",
      "1133/1133 [==============================] - 31s 27ms/step - loss: 0.2756 - accuracy: 0.9506 - val_loss: 0.3181 - val_accuracy: 0.9328\n",
      "Epoch 4/600\n",
      "1133/1133 [==============================] - 31s 27ms/step - loss: 0.2717 - accuracy: 0.9517 - val_loss: 0.3234 - val_accuracy: 0.9282\n",
      "Epoch 5/600\n",
      "1133/1133 [==============================] - 31s 27ms/step - loss: 0.2801 - accuracy: 0.9507 - val_loss: 0.3195 - val_accuracy: 0.9340\n",
      "Epoch 6/600\n",
      "1133/1133 [==============================] - 31s 27ms/step - loss: 0.2767 - accuracy: 0.9506 - val_loss: 0.3144 - val_accuracy: 0.9340\n",
      "Epoch 7/600\n",
      "1133/1133 [==============================] - 31s 27ms/step - loss: 0.2680 - accuracy: 0.9497 - val_loss: 0.3208 - val_accuracy: 0.9329\n",
      "Epoch 8/600\n",
      "1133/1133 [==============================] - 30s 26ms/step - loss: 0.2838 - accuracy: 0.9494 - val_loss: 0.3176 - val_accuracy: 0.9347\n",
      "Epoch 9/600\n",
      "1133/1133 [==============================] - 30s 26ms/step - loss: 0.2838 - accuracy: 0.9498 - val_loss: 0.3293 - val_accuracy: 0.9332\n",
      "Epoch 10/600\n",
      "1133/1133 [==============================] - 29s 26ms/step - loss: 0.2729 - accuracy: 0.9525 - val_loss: 0.3326 - val_accuracy: 0.9343\n",
      "Epoch 11/600\n",
      "1133/1133 [==============================] - 30s 26ms/step - loss: 0.2748 - accuracy: 0.9505 - val_loss: 0.3250 - val_accuracy: 0.9277\n",
      "Epoch 12/600\n",
      "1133/1133 [==============================] - 29s 26ms/step - loss: 0.2807 - accuracy: 0.9498 - val_loss: 0.3279 - val_accuracy: 0.9339\n",
      "Epoch 13/600\n",
      "1133/1133 [==============================] - 30s 27ms/step - loss: 0.2849 - accuracy: 0.9508 - val_loss: 0.3342 - val_accuracy: 0.9330\n",
      "Epoch 14/600\n",
      "1133/1133 [==============================] - 30s 27ms/step - loss: 0.2708 - accuracy: 0.9516 - val_loss: 0.3260 - val_accuracy: 0.9338\n",
      "Epoch 15/600\n",
      "1133/1133 [==============================] - 30s 27ms/step - loss: 0.2832 - accuracy: 0.9508 - val_loss: 0.3288 - val_accuracy: 0.9296\n",
      "Epoch 16/600\n",
      "1133/1133 [==============================] - 29s 26ms/step - loss: 0.2801 - accuracy: 0.9519 - val_loss: 0.3209 - val_accuracy: 0.9343\n",
      "Epoch 17/600\n",
      "1133/1133 [==============================] - 30s 26ms/step - loss: 0.2807 - accuracy: 0.9531 - val_loss: 0.3138 - val_accuracy: 0.9349\n",
      "Epoch 18/600\n",
      "1133/1133 [==============================] - 29s 26ms/step - loss: 0.2792 - accuracy: 0.9510 - val_loss: 0.3206 - val_accuracy: 0.9330\n",
      "Epoch 19/600\n",
      "1133/1133 [==============================] - 29s 26ms/step - loss: 0.2828 - accuracy: 0.9498 - val_loss: 0.3481 - val_accuracy: 0.9333\n",
      "Epoch 20/600\n",
      "1133/1133 [==============================] - 30s 26ms/step - loss: 0.2858 - accuracy: 0.9522 - val_loss: 0.3145 - val_accuracy: 0.9336\n",
      "Epoch 21/600\n",
      "1133/1133 [==============================] - 32s 28ms/step - loss: 0.2776 - accuracy: 0.9503 - val_loss: 0.3269 - val_accuracy: 0.9331\n",
      "Epoch 22/600\n",
      "1133/1133 [==============================] - 30s 27ms/step - loss: 0.2789 - accuracy: 0.9490 - val_loss: 0.3278 - val_accuracy: 0.9334\n",
      "Epoch 23/600\n",
      "1133/1133 [==============================] - 29s 26ms/step - loss: 0.2795 - accuracy: 0.9503 - val_loss: 0.3261 - val_accuracy: 0.9336\n",
      "Epoch 24/600\n",
      "1133/1133 [==============================] - 30s 27ms/step - loss: 0.2801 - accuracy: 0.9512 - val_loss: 0.3125 - val_accuracy: 0.9340\n",
      "Epoch 25/600\n",
      "1133/1133 [==============================] - 30s 27ms/step - loss: 0.2705 - accuracy: 0.9503 - val_loss: 0.3119 - val_accuracy: 0.9335\n",
      "Epoch 26/600\n",
      "1133/1133 [==============================] - 30s 26ms/step - loss: 0.2807 - accuracy: 0.9524 - val_loss: 0.3271 - val_accuracy: 0.9249\n",
      "Epoch 27/600\n",
      "1133/1133 [==============================] - 30s 27ms/step - loss: 0.2791 - accuracy: 0.9505 - val_loss: 0.3153 - val_accuracy: 0.9294\n",
      "Epoch 28/600\n",
      "1133/1133 [==============================] - 30s 27ms/step - loss: 0.2790 - accuracy: 0.9512 - val_loss: 0.3289 - val_accuracy: 0.9331\n",
      "Epoch 29/600\n",
      "1133/1133 [==============================] - 30s 27ms/step - loss: 0.2760 - accuracy: 0.9508 - val_loss: 0.3085 - val_accuracy: 0.9354\n",
      "Epoch 30/600\n",
      " 267/1133 [======>.......................] - ETA: 21s - loss: 0.2698 - accuracy: 0.9532"
     ]
    }
   ],
   "source": [
    "model.fit(X_train, y_train, batch_size=32,epochs=600, validation_data=(X_test, y_test))"
   ],
   "metadata": {
    "collapsed": false
   }
  },
  {
   "cell_type": "code",
   "execution_count": null,
   "outputs": [],
   "source": [
    "model.save_weights(\"difker_1800e.h5\")"
   ],
   "metadata": {
    "collapsed": false
   }
  },
  {
   "cell_type": "code",
   "execution_count": 7,
   "outputs": [],
   "source": [
    "model.load_weights(\"difker_1800e.h5\")"
   ],
   "metadata": {
    "collapsed": false
   }
  },
  {
   "cell_type": "code",
   "execution_count": 8,
   "outputs": [
    {
     "name": "stdout",
     "output_type": "stream",
     "text": [
      "Epoch 1/10\n",
      "1133/1133 [==============================] - 41s 28ms/step - loss: 0.2426 - accuracy: 0.9514 - val_loss: 0.3365 - val_accuracy: 0.9324\n",
      "Epoch 2/10\n",
      "1133/1133 [==============================] - 30s 26ms/step - loss: 0.2765 - accuracy: 0.9512 - val_loss: 0.3310 - val_accuracy: 0.9354\n",
      "Epoch 3/10\n",
      "1133/1133 [==============================] - 30s 27ms/step - loss: 0.2780 - accuracy: 0.9532 - val_loss: 0.3176 - val_accuracy: 0.9317\n",
      "Epoch 4/10\n",
      "1133/1133 [==============================] - 30s 26ms/step - loss: 0.2650 - accuracy: 0.9545 - val_loss: 0.3254 - val_accuracy: 0.9336\n",
      "Epoch 5/10\n",
      "1133/1133 [==============================] - 30s 27ms/step - loss: 0.2733 - accuracy: 0.9536 - val_loss: 0.3385 - val_accuracy: 0.9320\n",
      "Epoch 6/10\n",
      "1133/1133 [==============================] - 30s 27ms/step - loss: 0.2834 - accuracy: 0.9535 - val_loss: 0.3340 - val_accuracy: 0.9341\n",
      "Epoch 7/10\n",
      "1133/1133 [==============================] - 30s 27ms/step - loss: 0.2694 - accuracy: 0.9544 - val_loss: 0.3357 - val_accuracy: 0.9304\n",
      "Epoch 8/10\n",
      "1133/1133 [==============================] - 30s 27ms/step - loss: 0.2728 - accuracy: 0.9543 - val_loss: 0.3080 - val_accuracy: 0.9311\n",
      "Epoch 9/10\n",
      "1133/1133 [==============================] - 30s 27ms/step - loss: 0.2663 - accuracy: 0.9536 - val_loss: 0.3273 - val_accuracy: 0.9345\n",
      "Epoch 10/10\n",
      "1133/1133 [==============================] - 30s 27ms/step - loss: 0.2727 - accuracy: 0.9553 - val_loss: 0.3295 - val_accuracy: 0.9311\n"
     ]
    },
    {
     "data": {
      "text/plain": "<keras.callbacks.History at 0x1a8b5bc73d0>"
     },
     "execution_count": 8,
     "metadata": {},
     "output_type": "execute_result"
    }
   ],
   "source": [
    "model.fit(X_train, y_train, batch_size=32,epochs=10, validation_data=(X_test, y_test))"
   ],
   "metadata": {
    "collapsed": false
   }
  },
  {
   "cell_type": "code",
   "execution_count": 9,
   "outputs": [],
   "source": [
    "model.save_weights(\"difker_1810e.h5\")"
   ],
   "metadata": {
    "collapsed": false
   }
  },
  {
   "cell_type": "code",
   "execution_count": 10,
   "outputs": [],
   "source": [
    "model.load_weights(\"difker_1810e.h5\")"
   ],
   "metadata": {
    "collapsed": false
   }
  },
  {
   "cell_type": "code",
   "execution_count": 11,
   "outputs": [
    {
     "name": "stdout",
     "output_type": "stream",
     "text": [
      "Epoch 1/90\n",
      "1133/1133 [==============================] - 31s 27ms/step - loss: 0.2792 - accuracy: 0.9548 - val_loss: 0.3234 - val_accuracy: 0.9313\n",
      "Epoch 2/90\n",
      "1133/1133 [==============================] - 30s 27ms/step - loss: 0.2761 - accuracy: 0.9544 - val_loss: 0.3406 - val_accuracy: 0.9334\n",
      "Epoch 3/90\n",
      "1133/1133 [==============================] - 31s 27ms/step - loss: 0.2744 - accuracy: 0.9542 - val_loss: 0.3058 - val_accuracy: 0.9359\n",
      "Epoch 4/90\n",
      "1133/1133 [==============================] - 30s 27ms/step - loss: 0.2739 - accuracy: 0.9553 - val_loss: 0.3244 - val_accuracy: 0.9341\n",
      "Epoch 5/90\n",
      "1133/1133 [==============================] - 30s 27ms/step - loss: 0.2760 - accuracy: 0.9553 - val_loss: 0.3311 - val_accuracy: 0.9362\n",
      "Epoch 6/90\n",
      "1133/1133 [==============================] - 30s 27ms/step - loss: 0.2742 - accuracy: 0.9548 - val_loss: 0.3313 - val_accuracy: 0.9320\n",
      "Epoch 7/90\n",
      "1133/1133 [==============================] - 31s 27ms/step - loss: 0.2766 - accuracy: 0.9541 - val_loss: 0.3247 - val_accuracy: 0.9341\n",
      "Epoch 8/90\n",
      "1133/1133 [==============================] - 30s 27ms/step - loss: 0.2736 - accuracy: 0.9541 - val_loss: 0.3261 - val_accuracy: 0.9314\n",
      "Epoch 9/90\n",
      "1133/1133 [==============================] - 31s 27ms/step - loss: 0.2778 - accuracy: 0.9543 - val_loss: 0.3339 - val_accuracy: 0.9352\n",
      "Epoch 10/90\n",
      "1133/1133 [==============================] - 31s 27ms/step - loss: 0.2835 - accuracy: 0.9536 - val_loss: 0.3307 - val_accuracy: 0.9360\n",
      "Epoch 11/90\n",
      "1133/1133 [==============================] - 30s 27ms/step - loss: 0.2811 - accuracy: 0.9553 - val_loss: 0.3620 - val_accuracy: 0.9255\n",
      "Epoch 12/90\n",
      "1133/1133 [==============================] - 30s 27ms/step - loss: 0.2709 - accuracy: 0.9551 - val_loss: 0.3078 - val_accuracy: 0.9370\n",
      "Epoch 13/90\n",
      "1133/1133 [==============================] - 31s 27ms/step - loss: 0.2791 - accuracy: 0.9546 - val_loss: 0.3385 - val_accuracy: 0.9351\n",
      "Epoch 14/90\n",
      "1133/1133 [==============================] - 30s 27ms/step - loss: 0.2674 - accuracy: 0.9543 - val_loss: 0.3112 - val_accuracy: 0.9343\n",
      "Epoch 15/90\n",
      "1133/1133 [==============================] - 30s 27ms/step - loss: 0.2705 - accuracy: 0.9553 - val_loss: 0.3361 - val_accuracy: 0.9311\n",
      "Epoch 16/90\n",
      "1133/1133 [==============================] - 31s 28ms/step - loss: 0.2737 - accuracy: 0.9542 - val_loss: 0.3365 - val_accuracy: 0.9341\n",
      "Epoch 17/90\n",
      "1133/1133 [==============================] - 33s 29ms/step - loss: 0.2780 - accuracy: 0.9544 - val_loss: 0.3259 - val_accuracy: 0.9288\n",
      "Epoch 18/90\n",
      "1133/1133 [==============================] - 32s 28ms/step - loss: 0.2796 - accuracy: 0.9548 - val_loss: 0.3545 - val_accuracy: 0.9322\n",
      "Epoch 19/90\n",
      "1133/1133 [==============================] - 33s 29ms/step - loss: 0.2789 - accuracy: 0.9535 - val_loss: 0.3280 - val_accuracy: 0.9311\n",
      "Epoch 20/90\n",
      "1133/1133 [==============================] - 33s 29ms/step - loss: 0.2899 - accuracy: 0.9536 - val_loss: 0.3361 - val_accuracy: 0.9351\n",
      "Epoch 21/90\n",
      "1133/1133 [==============================] - 33s 29ms/step - loss: 0.2873 - accuracy: 0.9537 - val_loss: 0.3262 - val_accuracy: 0.9333\n",
      "Epoch 22/90\n",
      "1133/1133 [==============================] - 32s 28ms/step - loss: 0.2802 - accuracy: 0.9560 - val_loss: 0.3269 - val_accuracy: 0.9342\n",
      "Epoch 23/90\n",
      "1133/1133 [==============================] - 32s 29ms/step - loss: 0.2631 - accuracy: 0.9556 - val_loss: 0.3094 - val_accuracy: 0.9343\n",
      "Epoch 24/90\n",
      "1133/1133 [==============================] - 33s 29ms/step - loss: 0.2772 - accuracy: 0.9554 - val_loss: 0.3515 - val_accuracy: 0.9324\n",
      "Epoch 25/90\n",
      "1133/1133 [==============================] - 33s 29ms/step - loss: 0.2827 - accuracy: 0.9535 - val_loss: 0.3357 - val_accuracy: 0.9253\n",
      "Epoch 26/90\n",
      "1133/1133 [==============================] - 32s 29ms/step - loss: 0.2771 - accuracy: 0.9542 - val_loss: 0.3306 - val_accuracy: 0.9374\n",
      "Epoch 27/90\n",
      "1133/1133 [==============================] - 32s 28ms/step - loss: 0.2730 - accuracy: 0.9544 - val_loss: 0.3357 - val_accuracy: 0.9321\n",
      "Epoch 28/90\n",
      "1133/1133 [==============================] - 38s 34ms/step - loss: 0.2796 - accuracy: 0.9559 - val_loss: 0.3172 - val_accuracy: 0.9323\n",
      "Epoch 29/90\n",
      "1133/1133 [==============================] - 51s 45ms/step - loss: 0.2752 - accuracy: 0.9551 - val_loss: 0.3138 - val_accuracy: 0.9352\n",
      "Epoch 30/90\n",
      "1133/1133 [==============================] - 33s 29ms/step - loss: 0.2769 - accuracy: 0.9552 - val_loss: 0.3645 - val_accuracy: 0.9330\n",
      "Epoch 31/90\n",
      "1133/1133 [==============================] - 33s 29ms/step - loss: 0.2754 - accuracy: 0.9549 - val_loss: 0.3135 - val_accuracy: 0.9333\n",
      "Epoch 32/90\n",
      "1133/1133 [==============================] - 32s 28ms/step - loss: 0.2630 - accuracy: 0.9558 - val_loss: 0.3098 - val_accuracy: 0.9318\n",
      "Epoch 33/90\n",
      "1133/1133 [==============================] - 33s 29ms/step - loss: 0.2721 - accuracy: 0.9537 - val_loss: 0.3286 - val_accuracy: 0.9324\n",
      "Epoch 34/90\n",
      "1133/1133 [==============================] - 32s 28ms/step - loss: 0.2709 - accuracy: 0.9536 - val_loss: 0.3370 - val_accuracy: 0.9320\n",
      "Epoch 35/90\n",
      "1133/1133 [==============================] - 32s 28ms/step - loss: 0.2721 - accuracy: 0.9530 - val_loss: 0.3295 - val_accuracy: 0.9332\n",
      "Epoch 36/90\n",
      "1133/1133 [==============================] - 33s 29ms/step - loss: 0.2823 - accuracy: 0.9554 - val_loss: 0.3238 - val_accuracy: 0.9323\n",
      "Epoch 37/90\n",
      "1133/1133 [==============================] - 32s 29ms/step - loss: 0.2793 - accuracy: 0.9549 - val_loss: 0.3254 - val_accuracy: 0.9340\n",
      "Epoch 38/90\n",
      "1133/1133 [==============================] - 33s 29ms/step - loss: 0.2768 - accuracy: 0.9538 - val_loss: 0.3376 - val_accuracy: 0.9291\n",
      "Epoch 39/90\n",
      "1133/1133 [==============================] - 33s 29ms/step - loss: 0.2843 - accuracy: 0.9527 - val_loss: 0.3294 - val_accuracy: 0.9311\n",
      "Epoch 40/90\n",
      "1133/1133 [==============================] - 32s 28ms/step - loss: 0.2730 - accuracy: 0.9558 - val_loss: 0.3241 - val_accuracy: 0.9333\n",
      "Epoch 41/90\n",
      "1133/1133 [==============================] - 32s 28ms/step - loss: 0.2762 - accuracy: 0.9564 - val_loss: 0.3179 - val_accuracy: 0.9336\n",
      "Epoch 42/90\n",
      "1133/1133 [==============================] - 32s 29ms/step - loss: 0.2751 - accuracy: 0.9551 - val_loss: 0.3253 - val_accuracy: 0.9322\n",
      "Epoch 43/90\n",
      "1133/1133 [==============================] - 32s 29ms/step - loss: 0.2804 - accuracy: 0.9532 - val_loss: 0.3254 - val_accuracy: 0.9320\n",
      "Epoch 44/90\n",
      "1133/1133 [==============================] - 33s 29ms/step - loss: 0.2795 - accuracy: 0.9538 - val_loss: 0.3255 - val_accuracy: 0.9326\n",
      "Epoch 45/90\n",
      "1133/1133 [==============================] - 33s 29ms/step - loss: 0.2759 - accuracy: 0.9520 - val_loss: 0.3349 - val_accuracy: 0.9308\n",
      "Epoch 46/90\n",
      "1133/1133 [==============================] - 32s 28ms/step - loss: 0.2686 - accuracy: 0.9558 - val_loss: 0.3184 - val_accuracy: 0.9319\n",
      "Epoch 47/90\n",
      "1133/1133 [==============================] - 32s 28ms/step - loss: 0.2711 - accuracy: 0.9554 - val_loss: 0.3283 - val_accuracy: 0.9313\n",
      "Epoch 48/90\n",
      "1133/1133 [==============================] - 32s 28ms/step - loss: 0.2783 - accuracy: 0.9548 - val_loss: 0.3573 - val_accuracy: 0.9283\n",
      "Epoch 49/90\n",
      "1133/1133 [==============================] - 32s 28ms/step - loss: 0.2759 - accuracy: 0.9541 - val_loss: 0.3447 - val_accuracy: 0.9334\n",
      "Epoch 50/90\n",
      "1133/1133 [==============================] - 32s 28ms/step - loss: 0.2777 - accuracy: 0.9546 - val_loss: 0.3431 - val_accuracy: 0.9328\n",
      "Epoch 51/90\n",
      "1133/1133 [==============================] - 33s 29ms/step - loss: 0.2761 - accuracy: 0.9534 - val_loss: 0.3057 - val_accuracy: 0.9323\n",
      "Epoch 52/90\n",
      "1133/1133 [==============================] - 32s 28ms/step - loss: 0.2804 - accuracy: 0.9540 - val_loss: 0.3358 - val_accuracy: 0.9323\n",
      "Epoch 53/90\n",
      "1133/1133 [==============================] - 32s 28ms/step - loss: 0.2776 - accuracy: 0.9547 - val_loss: 0.3223 - val_accuracy: 0.9320\n",
      "Epoch 54/90\n",
      "1133/1133 [==============================] - 32s 29ms/step - loss: 0.2808 - accuracy: 0.9535 - val_loss: 0.3704 - val_accuracy: 0.9324\n",
      "Epoch 55/90\n",
      "1117/1133 [============================>.] - ETA: 0s - loss: 0.2850 - accuracy: 0.9549"
     ]
    }
   ],
   "source": [
    "model.fit(X_train, y_train, batch_size=32,epochs=90, validation_data=(X_test, y_test))"
   ],
   "metadata": {
    "collapsed": false
   }
  },
  {
   "cell_type": "code",
   "execution_count": 12,
   "outputs": [],
   "source": [
    "model.save_weights(\"difker_1900e.h5\")"
   ],
   "metadata": {
    "collapsed": false
   }
  },
  {
   "cell_type": "code",
   "execution_count": 7,
   "outputs": [],
   "source": [
    "model.load_weights(\"difker_1900e.h5\")"
   ],
   "metadata": {
    "collapsed": false
   }
  },
  {
   "cell_type": "code",
   "execution_count": 8,
   "outputs": [
    {
     "name": "stdout",
     "output_type": "stream",
     "text": [
      "Epoch 1/100\n",
      "1133/1133 [==============================] - 36s 28ms/step - loss: 0.2520 - accuracy: 0.9504 - val_loss: 0.3119 - val_accuracy: 0.9346\n",
      "Epoch 2/100\n",
      "1133/1133 [==============================] - 30s 27ms/step - loss: 0.2648 - accuracy: 0.9544 - val_loss: 0.3296 - val_accuracy: 0.9285\n",
      "Epoch 3/100\n",
      "1133/1133 [==============================] - 31s 27ms/step - loss: 0.2750 - accuracy: 0.9529 - val_loss: 0.3328 - val_accuracy: 0.9329\n",
      "Epoch 4/100\n",
      "1133/1133 [==============================] - 31s 27ms/step - loss: 0.2760 - accuracy: 0.9555 - val_loss: 0.3254 - val_accuracy: 0.9267\n",
      "Epoch 5/100\n",
      "1133/1133 [==============================] - 31s 28ms/step - loss: 0.2687 - accuracy: 0.9550 - val_loss: 0.3148 - val_accuracy: 0.9360\n",
      "Epoch 6/100\n",
      "1133/1133 [==============================] - 31s 28ms/step - loss: 0.2721 - accuracy: 0.9533 - val_loss: 0.3231 - val_accuracy: 0.9352\n",
      "Epoch 7/100\n",
      "1133/1133 [==============================] - 31s 27ms/step - loss: 0.2816 - accuracy: 0.9534 - val_loss: 0.3820 - val_accuracy: 0.9326\n",
      "Epoch 8/100\n",
      "1133/1133 [==============================] - 31s 28ms/step - loss: 0.2788 - accuracy: 0.9559 - val_loss: 0.3338 - val_accuracy: 0.9332\n",
      "Epoch 9/100\n",
      "1133/1133 [==============================] - 31s 28ms/step - loss: 0.2811 - accuracy: 0.9533 - val_loss: 0.3382 - val_accuracy: 0.9321\n",
      "Epoch 10/100\n",
      "1133/1133 [==============================] - 31s 28ms/step - loss: 0.2718 - accuracy: 0.9552 - val_loss: 0.3308 - val_accuracy: 0.9351\n",
      "Epoch 11/100\n",
      "1133/1133 [==============================] - 31s 27ms/step - loss: 0.2696 - accuracy: 0.9556 - val_loss: 0.3264 - val_accuracy: 0.9332\n",
      "Epoch 12/100\n",
      "1133/1133 [==============================] - 31s 27ms/step - loss: 0.2689 - accuracy: 0.9550 - val_loss: 0.3511 - val_accuracy: 0.9339\n",
      "Epoch 13/100\n",
      "1133/1133 [==============================] - 31s 28ms/step - loss: 0.2720 - accuracy: 0.9551 - val_loss: 0.3316 - val_accuracy: 0.9343\n",
      "Epoch 14/100\n",
      "1133/1133 [==============================] - 31s 28ms/step - loss: 0.2831 - accuracy: 0.9548 - val_loss: 0.3370 - val_accuracy: 0.9329\n",
      "Epoch 15/100\n",
      "1133/1133 [==============================] - 31s 28ms/step - loss: 0.2824 - accuracy: 0.9544 - val_loss: 0.3431 - val_accuracy: 0.9292\n",
      "Epoch 16/100\n",
      "1133/1133 [==============================] - 31s 27ms/step - loss: 0.2781 - accuracy: 0.9539 - val_loss: 0.3191 - val_accuracy: 0.9331\n",
      "Epoch 17/100\n",
      "1133/1133 [==============================] - 31s 27ms/step - loss: 0.2646 - accuracy: 0.9560 - val_loss: 0.3398 - val_accuracy: 0.9338\n",
      "Epoch 18/100\n",
      "1133/1133 [==============================] - 30s 27ms/step - loss: 0.2781 - accuracy: 0.9540 - val_loss: 0.3543 - val_accuracy: 0.9336\n",
      "Epoch 19/100\n",
      "1133/1133 [==============================] - 29s 26ms/step - loss: 0.2737 - accuracy: 0.9545 - val_loss: 0.3564 - val_accuracy: 0.9322\n",
      "Epoch 20/100\n",
      "1133/1133 [==============================] - 29s 26ms/step - loss: 0.2716 - accuracy: 0.9536 - val_loss: 0.3188 - val_accuracy: 0.9323\n",
      "Epoch 21/100\n",
      "1133/1133 [==============================] - 29s 26ms/step - loss: 0.2682 - accuracy: 0.9547 - val_loss: 0.3183 - val_accuracy: 0.9350\n",
      "Epoch 22/100\n",
      "1133/1133 [==============================] - 30s 26ms/step - loss: 0.2752 - accuracy: 0.9553 - val_loss: 0.3287 - val_accuracy: 0.9361\n",
      "Epoch 23/100\n",
      "1133/1133 [==============================] - 30s 26ms/step - loss: 0.2769 - accuracy: 0.9542 - val_loss: 0.3383 - val_accuracy: 0.9299\n",
      "Epoch 24/100\n",
      "1133/1133 [==============================] - 29s 26ms/step - loss: 0.2767 - accuracy: 0.9553 - val_loss: 0.3511 - val_accuracy: 0.9332\n",
      "Epoch 25/100\n",
      "1133/1133 [==============================] - 29s 26ms/step - loss: 0.2694 - accuracy: 0.9544 - val_loss: 0.3176 - val_accuracy: 0.9330\n",
      "Epoch 26/100\n",
      "1133/1133 [==============================] - 29s 26ms/step - loss: 0.2764 - accuracy: 0.9539 - val_loss: 0.3269 - val_accuracy: 0.9371\n",
      "Epoch 27/100\n",
      "1133/1133 [==============================] - 29s 26ms/step - loss: 0.2786 - accuracy: 0.9556 - val_loss: 0.3266 - val_accuracy: 0.9330\n",
      "Epoch 28/100\n",
      "1133/1133 [==============================] - 30s 26ms/step - loss: 0.2771 - accuracy: 0.9545 - val_loss: 0.3655 - val_accuracy: 0.9302\n",
      "Epoch 29/100\n",
      "1133/1133 [==============================] - 31s 27ms/step - loss: 0.2816 - accuracy: 0.9543 - val_loss: 0.3157 - val_accuracy: 0.9322\n",
      "Epoch 30/100\n",
      "1133/1133 [==============================] - 29s 26ms/step - loss: 0.2699 - accuracy: 0.9571 - val_loss: 0.3338 - val_accuracy: 0.9320\n",
      "Epoch 31/100\n",
      "1133/1133 [==============================] - 29s 26ms/step - loss: 0.2687 - accuracy: 0.9561 - val_loss: 0.3344 - val_accuracy: 0.9261\n",
      "Epoch 32/100\n",
      "1133/1133 [==============================] - 29s 25ms/step - loss: 0.2740 - accuracy: 0.9552 - val_loss: 0.3262 - val_accuracy: 0.9349\n",
      "Epoch 33/100\n",
      "1133/1133 [==============================] - 29s 25ms/step - loss: 0.2701 - accuracy: 0.9565 - val_loss: 0.3281 - val_accuracy: 0.9342\n",
      "Epoch 34/100\n",
      "1133/1133 [==============================] - 29s 26ms/step - loss: 0.2687 - accuracy: 0.9558 - val_loss: 0.3272 - val_accuracy: 0.9255\n",
      "Epoch 35/100\n",
      "1133/1133 [==============================] - 30s 26ms/step - loss: 0.2692 - accuracy: 0.9556 - val_loss: 0.3231 - val_accuracy: 0.9279\n",
      "Epoch 36/100\n",
      "1133/1133 [==============================] - 30s 26ms/step - loss: 0.2744 - accuracy: 0.9550 - val_loss: 0.3305 - val_accuracy: 0.9336\n",
      "Epoch 37/100\n",
      "1133/1133 [==============================] - 30s 26ms/step - loss: 0.2745 - accuracy: 0.9544 - val_loss: 0.3406 - val_accuracy: 0.9340\n",
      "Epoch 38/100\n",
      "1133/1133 [==============================] - 29s 26ms/step - loss: 0.2729 - accuracy: 0.9567 - val_loss: 0.3382 - val_accuracy: 0.9321\n",
      "Epoch 39/100\n",
      "1133/1133 [==============================] - 30s 26ms/step - loss: 0.2788 - accuracy: 0.9542 - val_loss: 0.3347 - val_accuracy: 0.9288\n",
      "Epoch 40/100\n",
      "1133/1133 [==============================] - 29s 26ms/step - loss: 0.2796 - accuracy: 0.9544 - val_loss: 0.3371 - val_accuracy: 0.9350\n",
      "Epoch 41/100\n",
      "1133/1133 [==============================] - 30s 26ms/step - loss: 0.2747 - accuracy: 0.9548 - val_loss: 0.3426 - val_accuracy: 0.9350\n",
      "Epoch 42/100\n",
      "1133/1133 [==============================] - 30s 27ms/step - loss: 0.2813 - accuracy: 0.9545 - val_loss: 0.3243 - val_accuracy: 0.9310\n",
      "Epoch 43/100\n",
      "1133/1133 [==============================] - 30s 26ms/step - loss: 0.2789 - accuracy: 0.9530 - val_loss: 0.3288 - val_accuracy: 0.9334\n",
      "Epoch 44/100\n",
      "1133/1133 [==============================] - 30s 26ms/step - loss: 0.2703 - accuracy: 0.9556 - val_loss: 0.3230 - val_accuracy: 0.9343\n",
      "Epoch 45/100\n",
      "1133/1133 [==============================] - 29s 25ms/step - loss: 0.2758 - accuracy: 0.9557 - val_loss: 0.3240 - val_accuracy: 0.9326\n",
      "Epoch 46/100\n",
      "1133/1133 [==============================] - 29s 26ms/step - loss: 0.2701 - accuracy: 0.9561 - val_loss: 0.3130 - val_accuracy: 0.9330\n",
      "Epoch 47/100\n",
      "1133/1133 [==============================] - 30s 26ms/step - loss: 0.2764 - accuracy: 0.9556 - val_loss: 0.3162 - val_accuracy: 0.9321\n",
      "Epoch 48/100\n",
      "1133/1133 [==============================] - 29s 26ms/step - loss: 0.2755 - accuracy: 0.9529 - val_loss: 0.3121 - val_accuracy: 0.9292\n",
      "Epoch 49/100\n",
      "1133/1133 [==============================] - 29s 26ms/step - loss: 0.2752 - accuracy: 0.9536 - val_loss: 0.3827 - val_accuracy: 0.9330\n",
      "Epoch 50/100\n",
      "1133/1133 [==============================] - 29s 25ms/step - loss: 0.2806 - accuracy: 0.9558 - val_loss: 0.3188 - val_accuracy: 0.9314\n",
      "Epoch 51/100\n",
      "1133/1133 [==============================] - 29s 26ms/step - loss: 0.2738 - accuracy: 0.9550 - val_loss: 0.3445 - val_accuracy: 0.9317\n",
      "Epoch 52/100\n",
      "1133/1133 [==============================] - 29s 25ms/step - loss: 0.2760 - accuracy: 0.9538 - val_loss: 0.3255 - val_accuracy: 0.9346\n",
      "Epoch 53/100\n",
      "1133/1133 [==============================] - 29s 26ms/step - loss: 0.2773 - accuracy: 0.9555 - val_loss: 0.3344 - val_accuracy: 0.9322\n",
      "Epoch 54/100\n",
      "1133/1133 [==============================] - 29s 26ms/step - loss: 0.2876 - accuracy: 0.9540 - val_loss: 0.3321 - val_accuracy: 0.9306\n",
      "Epoch 55/100\n",
      "1133/1133 [==============================] - 29s 25ms/step - loss: 0.2806 - accuracy: 0.9533 - val_loss: 0.3212 - val_accuracy: 0.9349\n",
      "Epoch 56/100\n",
      "1133/1133 [==============================] - 30s 26ms/step - loss: 0.2834 - accuracy: 0.9553 - val_loss: 0.3442 - val_accuracy: 0.9321\n",
      "Epoch 57/100\n",
      "1133/1133 [==============================] - 28s 25ms/step - loss: 0.2847 - accuracy: 0.9540 - val_loss: 0.3507 - val_accuracy: 0.9338\n",
      "Epoch 58/100\n",
      "1133/1133 [==============================] - 29s 26ms/step - loss: 0.2823 - accuracy: 0.9555 - val_loss: 0.3306 - val_accuracy: 0.9329\n",
      "Epoch 59/100\n",
      "1133/1133 [==============================] - 29s 26ms/step - loss: 0.2692 - accuracy: 0.9566 - val_loss: 0.3353 - val_accuracy: 0.9317\n",
      "Epoch 60/100\n",
      "1133/1133 [==============================] - 28s 25ms/step - loss: 0.2741 - accuracy: 0.9552 - val_loss: 0.3338 - val_accuracy: 0.9289\n",
      "Epoch 61/100\n",
      "1133/1133 [==============================] - 29s 26ms/step - loss: 0.2707 - accuracy: 0.9551 - val_loss: 0.3349 - val_accuracy: 0.9350\n",
      "Epoch 62/100\n",
      "1133/1133 [==============================] - 29s 25ms/step - loss: 0.2656 - accuracy: 0.9557 - val_loss: 0.3263 - val_accuracy: 0.9345\n",
      "Epoch 63/100\n",
      "1133/1133 [==============================] - 29s 25ms/step - loss: 0.2873 - accuracy: 0.9550 - val_loss: 0.3296 - val_accuracy: 0.9336\n",
      "Epoch 64/100\n",
      "1133/1133 [==============================] - 30s 26ms/step - loss: 0.2752 - accuracy: 0.9561 - val_loss: 0.3273 - val_accuracy: 0.9289\n",
      "Epoch 65/100\n",
      "1133/1133 [==============================] - 29s 26ms/step - loss: 0.2661 - accuracy: 0.9546 - val_loss: 0.3118 - val_accuracy: 0.9338\n",
      "Epoch 66/100\n",
      "1133/1133 [==============================] - 29s 26ms/step - loss: 0.2754 - accuracy: 0.9547 - val_loss: 0.3446 - val_accuracy: 0.9334\n",
      "Epoch 67/100\n",
      "1133/1133 [==============================] - 29s 25ms/step - loss: 0.2808 - accuracy: 0.9549 - val_loss: 0.3570 - val_accuracy: 0.9331\n",
      "Epoch 68/100\n",
      "1133/1133 [==============================] - 29s 26ms/step - loss: 0.2913 - accuracy: 0.9537 - val_loss: 0.3635 - val_accuracy: 0.9288\n",
      "Epoch 69/100\n",
      "1133/1133 [==============================] - 29s 26ms/step - loss: 0.2706 - accuracy: 0.9552 - val_loss: 0.3359 - val_accuracy: 0.9344\n",
      "Epoch 70/100\n",
      "1133/1133 [==============================] - 29s 26ms/step - loss: 0.2726 - accuracy: 0.9570 - val_loss: 0.3568 - val_accuracy: 0.9345\n",
      "Epoch 71/100\n",
      "1133/1133 [==============================] - 29s 25ms/step - loss: 0.2790 - accuracy: 0.9547 - val_loss: 0.3393 - val_accuracy: 0.9328\n",
      "Epoch 72/100\n",
      "1133/1133 [==============================] - 29s 26ms/step - loss: 0.2721 - accuracy: 0.9543 - val_loss: 0.3402 - val_accuracy: 0.9302\n",
      "Epoch 73/100\n",
      "1133/1133 [==============================] - 29s 25ms/step - loss: 0.2857 - accuracy: 0.9550 - val_loss: 0.3225 - val_accuracy: 0.9328\n",
      "Epoch 74/100\n",
      "1133/1133 [==============================] - 29s 25ms/step - loss: 0.2816 - accuracy: 0.9537 - val_loss: 0.3208 - val_accuracy: 0.9373\n",
      "Epoch 75/100\n",
      "1133/1133 [==============================] - 31s 27ms/step - loss: 0.2763 - accuracy: 0.9556 - val_loss: 0.3376 - val_accuracy: 0.9350\n",
      "Epoch 76/100\n",
      "1133/1133 [==============================] - 29s 26ms/step - loss: 0.2886 - accuracy: 0.9543 - val_loss: 0.3334 - val_accuracy: 0.9266\n",
      "Epoch 77/100\n",
      "1133/1133 [==============================] - 29s 26ms/step - loss: 0.2792 - accuracy: 0.9562 - val_loss: 0.3307 - val_accuracy: 0.9338\n",
      "Epoch 78/100\n",
      "1133/1133 [==============================] - 29s 26ms/step - loss: 0.2841 - accuracy: 0.9535 - val_loss: 0.3350 - val_accuracy: 0.9333\n",
      "Epoch 79/100\n",
      "1133/1133 [==============================] - 29s 26ms/step - loss: 0.2773 - accuracy: 0.9564 - val_loss: 0.3448 - val_accuracy: 0.9311\n",
      "Epoch 80/100\n",
      "1133/1133 [==============================] - 28s 25ms/step - loss: 0.2763 - accuracy: 0.9553 - val_loss: 0.3342 - val_accuracy: 0.9341\n",
      "Epoch 81/100\n",
      "1133/1133 [==============================] - 29s 26ms/step - loss: 0.2788 - accuracy: 0.9531 - val_loss: 0.3273 - val_accuracy: 0.9332\n",
      "Epoch 82/100\n",
      "1133/1133 [==============================] - 28s 25ms/step - loss: 0.2710 - accuracy: 0.9545 - val_loss: 0.3265 - val_accuracy: 0.9347\n",
      "Epoch 83/100\n",
      "1133/1133 [==============================] - 29s 26ms/step - loss: 0.2802 - accuracy: 0.9565 - val_loss: 0.3437 - val_accuracy: 0.9328\n",
      "Epoch 84/100\n",
      "1133/1133 [==============================] - 29s 26ms/step - loss: 0.2759 - accuracy: 0.9551 - val_loss: 0.3268 - val_accuracy: 0.9346\n",
      "Epoch 85/100\n",
      "1133/1133 [==============================] - 29s 26ms/step - loss: 0.2700 - accuracy: 0.9556 - val_loss: 0.3091 - val_accuracy: 0.9368\n",
      "Epoch 86/100\n",
      "1133/1133 [==============================] - 30s 26ms/step - loss: 0.2649 - accuracy: 0.9558 - val_loss: 0.3278 - val_accuracy: 0.9357\n",
      "Epoch 87/100\n",
      "1133/1133 [==============================] - 28s 25ms/step - loss: 0.2749 - accuracy: 0.9541 - val_loss: 0.3342 - val_accuracy: 0.9352\n",
      "Epoch 88/100\n",
      "1133/1133 [==============================] - 29s 25ms/step - loss: 0.2738 - accuracy: 0.9563 - val_loss: 0.3375 - val_accuracy: 0.9313\n",
      "Epoch 89/100\n",
      "1133/1133 [==============================] - 29s 26ms/step - loss: 0.2805 - accuracy: 0.9548 - val_loss: 0.3242 - val_accuracy: 0.9326\n",
      "Epoch 90/100\n",
      "1133/1133 [==============================] - 29s 26ms/step - loss: 0.2715 - accuracy: 0.9561 - val_loss: 0.3443 - val_accuracy: 0.9346\n",
      "Epoch 91/100\n",
      "1133/1133 [==============================] - 28s 25ms/step - loss: 0.2721 - accuracy: 0.9542 - val_loss: 0.3232 - val_accuracy: 0.9330\n",
      "Epoch 92/100\n",
      "1133/1133 [==============================] - 29s 26ms/step - loss: 0.2766 - accuracy: 0.9567 - val_loss: 0.3185 - val_accuracy: 0.9344\n",
      "Epoch 93/100\n",
      "1133/1133 [==============================] - 29s 25ms/step - loss: 0.2725 - accuracy: 0.9554 - val_loss: 0.3183 - val_accuracy: 0.9339\n",
      "Epoch 94/100\n",
      "1133/1133 [==============================] - 29s 25ms/step - loss: 0.2752 - accuracy: 0.9546 - val_loss: 0.3272 - val_accuracy: 0.9347\n",
      "Epoch 95/100\n",
      "1133/1133 [==============================] - 29s 25ms/step - loss: 0.2738 - accuracy: 0.9564 - val_loss: 0.3619 - val_accuracy: 0.9344\n",
      "Epoch 96/100\n",
      "1133/1133 [==============================] - 29s 25ms/step - loss: 0.2694 - accuracy: 0.9542 - val_loss: 0.3258 - val_accuracy: 0.9325\n",
      "Epoch 97/100\n",
      "1133/1133 [==============================] - 29s 26ms/step - loss: 0.2814 - accuracy: 0.9566 - val_loss: 0.3450 - val_accuracy: 0.9302\n",
      "Epoch 98/100\n",
      "1133/1133 [==============================] - 80s 71ms/step - loss: 0.2825 - accuracy: 0.9553 - val_loss: 0.3363 - val_accuracy: 0.9340\n",
      "Epoch 99/100\n",
      "1133/1133 [==============================] - 84s 74ms/step - loss: 0.2768 - accuracy: 0.9553 - val_loss: 0.3210 - val_accuracy: 0.9329\n",
      "Epoch 100/100\n",
      "1133/1133 [==============================] - 82s 72ms/step - loss: 0.2740 - accuracy: 0.9545 - val_loss: 0.3149 - val_accuracy: 0.9329\n"
     ]
    },
    {
     "data": {
      "text/plain": "<keras.callbacks.History at 0x2abb20373d0>"
     },
     "execution_count": 8,
     "metadata": {},
     "output_type": "execute_result"
    }
   ],
   "source": [
    "model.fit(X_train, y_train, batch_size=32,epochs=100, validation_data=(X_test, y_test))"
   ],
   "metadata": {
    "collapsed": false
   }
  },
  {
   "cell_type": "code",
   "execution_count": 9,
   "outputs": [],
   "source": [
    "model.save_weights(\"difker_2000e.h5\")"
   ],
   "metadata": {
    "collapsed": false
   }
  },
  {
   "cell_type": "code",
   "execution_count": 15,
   "outputs": [],
   "source": [
    "model.load_weights(\"difker_2000e.h5\")"
   ],
   "metadata": {
    "collapsed": false
   }
  },
  {
   "cell_type": "code",
   "execution_count": 16,
   "outputs": [
    {
     "name": "stdout",
     "output_type": "stream",
     "text": [
      "Epoch 1/5\n",
      "567/567 [==============================] - 38s 65ms/step - loss: 0.2594 - accuracy: 0.9583 - val_loss: 0.2973 - val_accuracy: 0.9353\n",
      "Epoch 2/5\n",
      "567/567 [==============================] - 38s 66ms/step - loss: 0.2262 - accuracy: 0.9619 - val_loss: 0.2811 - val_accuracy: 0.9365\n",
      "Epoch 3/5\n",
      "567/567 [==============================] - 37s 65ms/step - loss: 0.2110 - accuracy: 0.9625 - val_loss: 0.2869 - val_accuracy: 0.9383\n",
      "Epoch 4/5\n",
      "567/567 [==============================] - 37s 65ms/step - loss: 0.2121 - accuracy: 0.9622 - val_loss: 0.2740 - val_accuracy: 0.9361\n",
      "Epoch 5/5\n",
      "567/567 [==============================] - 38s 68ms/step - loss: 0.2073 - accuracy: 0.9614 - val_loss: 0.3025 - val_accuracy: 0.9360\n"
     ]
    },
    {
     "data": {
      "text/plain": "<keras.callbacks.History at 0x296cc077580>"
     },
     "execution_count": 16,
     "metadata": {},
     "output_type": "execute_result"
    }
   ],
   "source": [
    "model.fit(X_train, y_train, batch_size=64,epochs=5, validation_data=(X_test, y_test))"
   ],
   "metadata": {
    "collapsed": false
   }
  },
  {
   "cell_type": "code",
   "execution_count": 9,
   "outputs": [],
   "source": [
    "model.save_weights(\"difker_2005e.h5\")"
   ],
   "metadata": {
    "collapsed": false
   }
  },
  {
   "cell_type": "code",
   "execution_count": 10,
   "outputs": [
    {
     "name": "stdout",
     "output_type": "stream",
     "text": [
      "Epoch 1/45\n",
      "284/284 [==============================] - 31s 100ms/step - loss: 0.2015 - accuracy: 0.9617 - val_loss: 0.2772 - val_accuracy: 0.9336\n",
      "Epoch 2/45\n",
      "284/284 [==============================] - 28s 98ms/step - loss: 0.2137 - accuracy: 0.9616 - val_loss: 0.2885 - val_accuracy: 0.9340\n",
      "Epoch 3/45\n",
      "284/284 [==============================] - 28s 100ms/step - loss: 0.2103 - accuracy: 0.9639 - val_loss: 0.2888 - val_accuracy: 0.9313\n",
      "Epoch 4/45\n",
      "284/284 [==============================] - 29s 101ms/step - loss: 0.2110 - accuracy: 0.9631 - val_loss: 0.2740 - val_accuracy: 0.9343\n",
      "Epoch 5/45\n",
      "284/284 [==============================] - 29s 101ms/step - loss: 0.2154 - accuracy: 0.9618 - val_loss: 0.2764 - val_accuracy: 0.9347\n",
      "Epoch 6/45\n",
      "284/284 [==============================] - 29s 102ms/step - loss: 0.2110 - accuracy: 0.9641 - val_loss: 0.2704 - val_accuracy: 0.9363\n",
      "Epoch 7/45\n",
      "284/284 [==============================] - 29s 101ms/step - loss: 0.2001 - accuracy: 0.9657 - val_loss: 0.2803 - val_accuracy: 0.9374\n",
      "Epoch 8/45\n",
      "284/284 [==============================] - 29s 103ms/step - loss: 0.1955 - accuracy: 0.9647 - val_loss: 0.2729 - val_accuracy: 0.9379\n",
      "Epoch 9/45\n",
      "284/284 [==============================] - 28s 100ms/step - loss: 0.1937 - accuracy: 0.9637 - val_loss: 0.2754 - val_accuracy: 0.9359\n",
      "Epoch 10/45\n",
      "284/284 [==============================] - 28s 99ms/step - loss: 0.1935 - accuracy: 0.9652 - val_loss: 0.2696 - val_accuracy: 0.9356\n",
      "Epoch 11/45\n",
      "284/284 [==============================] - 29s 101ms/step - loss: 0.2019 - accuracy: 0.9637 - val_loss: 0.2671 - val_accuracy: 0.9367\n",
      "Epoch 12/45\n",
      "284/284 [==============================] - 29s 102ms/step - loss: 0.1974 - accuracy: 0.9653 - val_loss: 0.2666 - val_accuracy: 0.9353\n",
      "Epoch 13/45\n",
      "284/284 [==============================] - 29s 101ms/step - loss: 0.1935 - accuracy: 0.9653 - val_loss: 0.2625 - val_accuracy: 0.9367\n",
      "Epoch 14/45\n",
      "284/284 [==============================] - 29s 101ms/step - loss: 0.2005 - accuracy: 0.9629 - val_loss: 0.2673 - val_accuracy: 0.9360\n",
      "Epoch 15/45\n",
      "284/284 [==============================] - 29s 103ms/step - loss: 0.1959 - accuracy: 0.9641 - val_loss: 0.2667 - val_accuracy: 0.9368\n",
      "Epoch 16/45\n",
      "284/284 [==============================] - 29s 101ms/step - loss: 0.2105 - accuracy: 0.9623 - val_loss: 0.2739 - val_accuracy: 0.9364\n",
      "Epoch 17/45\n",
      "284/284 [==============================] - 29s 101ms/step - loss: 0.1942 - accuracy: 0.9651 - val_loss: 0.2763 - val_accuracy: 0.9351\n",
      "Epoch 18/45\n",
      "284/284 [==============================] - 28s 99ms/step - loss: 0.1911 - accuracy: 0.9646 - val_loss: 0.2741 - val_accuracy: 0.9342\n",
      "Epoch 19/45\n",
      "284/284 [==============================] - 29s 102ms/step - loss: 0.1933 - accuracy: 0.9646 - val_loss: 0.2633 - val_accuracy: 0.9354\n",
      "Epoch 20/45\n",
      "284/284 [==============================] - 28s 100ms/step - loss: 0.1978 - accuracy: 0.9635 - val_loss: 0.2661 - val_accuracy: 0.9349\n",
      "Epoch 21/45\n",
      "284/284 [==============================] - 29s 100ms/step - loss: 0.1962 - accuracy: 0.9644 - val_loss: 0.2716 - val_accuracy: 0.9350\n",
      "Epoch 22/45\n",
      "284/284 [==============================] - 28s 99ms/step - loss: 0.1959 - accuracy: 0.9629 - val_loss: 0.2532 - val_accuracy: 0.9377\n",
      "Epoch 23/45\n",
      "284/284 [==============================] - 29s 102ms/step - loss: 0.1898 - accuracy: 0.9654 - val_loss: 0.2600 - val_accuracy: 0.9362\n",
      "Epoch 24/45\n",
      "284/284 [==============================] - 28s 98ms/step - loss: 0.1906 - accuracy: 0.9635 - val_loss: 0.2611 - val_accuracy: 0.9360\n",
      "Epoch 25/45\n",
      "284/284 [==============================] - 29s 101ms/step - loss: 0.2005 - accuracy: 0.9629 - val_loss: 0.3007 - val_accuracy: 0.9357\n",
      "Epoch 26/45\n",
      "284/284 [==============================] - 29s 102ms/step - loss: 0.1923 - accuracy: 0.9659 - val_loss: 0.2658 - val_accuracy: 0.9371\n",
      "Epoch 27/45\n",
      "284/284 [==============================] - 29s 101ms/step - loss: 0.1946 - accuracy: 0.9628 - val_loss: 0.2613 - val_accuracy: 0.9375\n",
      "Epoch 28/45\n",
      "284/284 [==============================] - 28s 99ms/step - loss: 0.1965 - accuracy: 0.9642 - val_loss: 0.2743 - val_accuracy: 0.9345\n",
      "Epoch 29/45\n",
      "284/284 [==============================] - 28s 99ms/step - loss: 0.1987 - accuracy: 0.9632 - val_loss: 0.2630 - val_accuracy: 0.9376\n",
      "Epoch 30/45\n",
      "284/284 [==============================] - 28s 100ms/step - loss: 0.1954 - accuracy: 0.9648 - val_loss: 0.2676 - val_accuracy: 0.9376\n",
      "Epoch 31/45\n",
      "284/284 [==============================] - 29s 103ms/step - loss: 0.1918 - accuracy: 0.9644 - val_loss: 0.2789 - val_accuracy: 0.9361\n",
      "Epoch 32/45\n",
      "284/284 [==============================] - 29s 101ms/step - loss: 0.1995 - accuracy: 0.9647 - val_loss: 0.2818 - val_accuracy: 0.9367\n",
      "Epoch 33/45\n",
      "284/284 [==============================] - 29s 101ms/step - loss: 0.1956 - accuracy: 0.9651 - val_loss: 0.2670 - val_accuracy: 0.9373\n",
      "Epoch 34/45\n",
      "284/284 [==============================] - 28s 99ms/step - loss: 0.1897 - accuracy: 0.9634 - val_loss: 0.2489 - val_accuracy: 0.9386\n",
      "Epoch 35/45\n",
      "284/284 [==============================] - 29s 104ms/step - loss: 0.1952 - accuracy: 0.9639 - val_loss: 0.2773 - val_accuracy: 0.9378\n",
      "Epoch 36/45\n",
      "284/284 [==============================] - 29s 102ms/step - loss: 0.2039 - accuracy: 0.9642 - val_loss: 0.2778 - val_accuracy: 0.9402\n",
      "Epoch 37/45\n",
      "284/284 [==============================] - 29s 102ms/step - loss: 0.1989 - accuracy: 0.9639 - val_loss: 0.2695 - val_accuracy: 0.9362\n",
      "Epoch 38/45\n",
      "284/284 [==============================] - 29s 103ms/step - loss: 0.2042 - accuracy: 0.9633 - val_loss: 0.2693 - val_accuracy: 0.9349\n",
      "Epoch 39/45\n",
      "284/284 [==============================] - 28s 99ms/step - loss: 0.2029 - accuracy: 0.9624 - val_loss: 0.2894 - val_accuracy: 0.9356\n",
      "Epoch 40/45\n",
      "284/284 [==============================] - 28s 99ms/step - loss: 0.1942 - accuracy: 0.9634 - val_loss: 0.2676 - val_accuracy: 0.9336\n",
      "Epoch 41/45\n",
      "284/284 [==============================] - 28s 97ms/step - loss: 0.1871 - accuracy: 0.9662 - val_loss: 0.2663 - val_accuracy: 0.9366\n",
      "Epoch 42/45\n",
      "284/284 [==============================] - 28s 99ms/step - loss: 0.2017 - accuracy: 0.9651 - val_loss: 0.2764 - val_accuracy: 0.9343\n",
      "Epoch 43/45\n",
      "284/284 [==============================] - 28s 98ms/step - loss: 0.2030 - accuracy: 0.9634 - val_loss: 0.2685 - val_accuracy: 0.9370\n",
      "Epoch 44/45\n",
      "284/284 [==============================] - 29s 101ms/step - loss: 0.1939 - accuracy: 0.9662 - val_loss: 0.2813 - val_accuracy: 0.9364\n",
      "Epoch 45/45\n",
      "284/284 [==============================] - 29s 101ms/step - loss: 0.1941 - accuracy: 0.9643 - val_loss: 0.2651 - val_accuracy: 0.9384\n"
     ]
    },
    {
     "data": {
      "text/plain": "<keras.callbacks.History at 0x23da77e49d0>"
     },
     "execution_count": 10,
     "metadata": {},
     "output_type": "execute_result"
    }
   ],
   "source": [
    "model.fit(X_train, y_train, batch_size=128,epochs=45, validation_data=(X_test, y_test))"
   ],
   "metadata": {
    "collapsed": false
   }
  },
  {
   "cell_type": "code",
   "execution_count": 12,
   "outputs": [],
   "source": [
    "model.save_weights(\"difker_2050e.h5\")"
   ],
   "metadata": {
    "collapsed": false
   }
  },
  {
   "cell_type": "code",
   "execution_count": null,
   "outputs": [
    {
     "name": "stdout",
     "output_type": "stream",
     "text": [
      "Epoch 1/150\n",
      "284/284 [==============================] - 29s 102ms/step - loss: 0.1917 - accuracy: 0.9631 - val_loss: 0.2604 - val_accuracy: 0.9378\n",
      "Epoch 2/150\n",
      "284/284 [==============================] - 29s 102ms/step - loss: 0.1948 - accuracy: 0.9658 - val_loss: 0.2705 - val_accuracy: 0.9355\n",
      "Epoch 3/150\n",
      "284/284 [==============================] - 29s 102ms/step - loss: 0.1920 - accuracy: 0.9651 - val_loss: 0.2649 - val_accuracy: 0.9385\n",
      "Epoch 4/150\n",
      "284/284 [==============================] - 28s 100ms/step - loss: 0.1924 - accuracy: 0.9638 - val_loss: 0.2736 - val_accuracy: 0.9362\n",
      "Epoch 5/150\n",
      "284/284 [==============================] - 29s 101ms/step - loss: 0.2047 - accuracy: 0.9619 - val_loss: 0.2783 - val_accuracy: 0.9360\n",
      "Epoch 6/150\n",
      "284/284 [==============================] - 29s 101ms/step - loss: 0.1985 - accuracy: 0.9647 - val_loss: 0.2794 - val_accuracy: 0.9351\n",
      "Epoch 7/150\n",
      "284/284 [==============================] - 29s 101ms/step - loss: 0.1978 - accuracy: 0.9647 - val_loss: 0.2718 - val_accuracy: 0.9351\n",
      "Epoch 8/150\n",
      "284/284 [==============================] - 28s 99ms/step - loss: 0.1962 - accuracy: 0.9644 - val_loss: 0.2784 - val_accuracy: 0.9351\n",
      "Epoch 9/150\n",
      "284/284 [==============================] - 29s 101ms/step - loss: 0.1929 - accuracy: 0.9638 - val_loss: 0.2701 - val_accuracy: 0.9334\n",
      "Epoch 10/150\n",
      "284/284 [==============================] - 29s 102ms/step - loss: 0.2001 - accuracy: 0.9645 - val_loss: 0.2745 - val_accuracy: 0.9344\n",
      "Epoch 11/150\n",
      "284/284 [==============================] - 29s 101ms/step - loss: 0.1926 - accuracy: 0.9651 - val_loss: 0.2808 - val_accuracy: 0.9357\n",
      "Epoch 12/150\n",
      "284/284 [==============================] - 29s 101ms/step - loss: 0.1927 - accuracy: 0.9659 - val_loss: 0.2806 - val_accuracy: 0.9344\n",
      "Epoch 13/150\n",
      "284/284 [==============================] - 29s 101ms/step - loss: 0.1971 - accuracy: 0.9649 - val_loss: 0.2743 - val_accuracy: 0.9353\n",
      "Epoch 14/150\n",
      "284/284 [==============================] - 29s 102ms/step - loss: 0.2149 - accuracy: 0.9606 - val_loss: 0.2745 - val_accuracy: 0.9382\n",
      "Epoch 15/150\n",
      "284/284 [==============================] - 28s 98ms/step - loss: 0.2157 - accuracy: 0.9610 - val_loss: 0.2718 - val_accuracy: 0.9373\n",
      "Epoch 16/150\n",
      "284/284 [==============================] - 28s 100ms/step - loss: 0.1952 - accuracy: 0.9659 - val_loss: 0.2723 - val_accuracy: 0.9364\n",
      "Epoch 17/150\n",
      "284/284 [==============================] - 29s 101ms/step - loss: 0.1932 - accuracy: 0.9655 - val_loss: 0.2718 - val_accuracy: 0.9340\n",
      "Epoch 18/150\n",
      "284/284 [==============================] - 29s 101ms/step - loss: 0.1816 - accuracy: 0.9656 - val_loss: 0.2611 - val_accuracy: 0.9360\n",
      "Epoch 19/150\n",
      "284/284 [==============================] - 29s 101ms/step - loss: 0.1921 - accuracy: 0.9666 - val_loss: 0.2751 - val_accuracy: 0.9384\n",
      "Epoch 20/150\n",
      "284/284 [==============================] - 28s 98ms/step - loss: 0.1953 - accuracy: 0.9664 - val_loss: 0.2678 - val_accuracy: 0.9378\n",
      "Epoch 21/150\n",
      "284/284 [==============================] - 29s 101ms/step - loss: 0.1941 - accuracy: 0.9644 - val_loss: 0.2853 - val_accuracy: 0.9350\n",
      "Epoch 22/150\n",
      "284/284 [==============================] - 28s 100ms/step - loss: 0.1921 - accuracy: 0.9661 - val_loss: 0.2812 - val_accuracy: 0.9371\n",
      "Epoch 23/150\n",
      "284/284 [==============================] - 28s 100ms/step - loss: 0.1896 - accuracy: 0.9664 - val_loss: 0.2794 - val_accuracy: 0.9356\n",
      "Epoch 24/150\n",
      "284/284 [==============================] - 29s 103ms/step - loss: 0.1874 - accuracy: 0.9652 - val_loss: 0.2761 - val_accuracy: 0.9374\n",
      "Epoch 25/150\n",
      "284/284 [==============================] - 28s 98ms/step - loss: 0.1952 - accuracy: 0.9644 - val_loss: 0.2578 - val_accuracy: 0.9328\n",
      "Epoch 26/150\n",
      "284/284 [==============================] - 28s 100ms/step - loss: 0.2003 - accuracy: 0.9650 - val_loss: 0.2731 - val_accuracy: 0.9341\n",
      "Epoch 27/150\n",
      "284/284 [==============================] - 28s 99ms/step - loss: 0.1944 - accuracy: 0.9640 - val_loss: 0.2555 - val_accuracy: 0.9322\n",
      "Epoch 28/150\n",
      "284/284 [==============================] - 28s 100ms/step - loss: 0.1951 - accuracy: 0.9641 - val_loss: 0.2763 - val_accuracy: 0.9359\n",
      "Epoch 29/150\n",
      "284/284 [==============================] - 29s 103ms/step - loss: 0.1947 - accuracy: 0.9664 - val_loss: 0.2610 - val_accuracy: 0.9353\n",
      "Epoch 30/150\n",
      "284/284 [==============================] - 28s 99ms/step - loss: 0.1920 - accuracy: 0.9654 - val_loss: 0.2631 - val_accuracy: 0.9350\n",
      "Epoch 31/150\n",
      "284/284 [==============================] - 29s 102ms/step - loss: 0.1987 - accuracy: 0.9643 - val_loss: 0.2715 - val_accuracy: 0.9339\n",
      "Epoch 32/150\n",
      "284/284 [==============================] - 28s 100ms/step - loss: 0.2003 - accuracy: 0.9646 - val_loss: 0.2768 - val_accuracy: 0.9388\n",
      "Epoch 33/150\n",
      "284/284 [==============================] - 28s 99ms/step - loss: 0.1991 - accuracy: 0.9646 - val_loss: 0.2717 - val_accuracy: 0.9340\n",
      "Epoch 34/150\n",
      "284/284 [==============================] - 28s 100ms/step - loss: 0.1979 - accuracy: 0.9646 - val_loss: 0.2844 - val_accuracy: 0.9335\n",
      "Epoch 35/150\n",
      "284/284 [==============================] - 28s 100ms/step - loss: 0.1883 - accuracy: 0.9662 - val_loss: 0.2575 - val_accuracy: 0.9352\n",
      "Epoch 36/150\n",
      "284/284 [==============================] - 28s 98ms/step - loss: 0.1938 - accuracy: 0.9642 - val_loss: 0.2645 - val_accuracy: 0.9350\n",
      "Epoch 37/150\n",
      "284/284 [==============================] - 29s 101ms/step - loss: 0.2053 - accuracy: 0.9639 - val_loss: 0.2735 - val_accuracy: 0.9374\n",
      "Epoch 38/150\n",
      "284/284 [==============================] - 29s 101ms/step - loss: 0.1981 - accuracy: 0.9655 - val_loss: 0.2592 - val_accuracy: 0.9389\n",
      "Epoch 39/150\n",
      "284/284 [==============================] - 28s 98ms/step - loss: 0.2045 - accuracy: 0.9662 - val_loss: 0.2742 - val_accuracy: 0.9361\n",
      "Epoch 40/150\n",
      "284/284 [==============================] - 29s 101ms/step - loss: 0.1927 - accuracy: 0.9662 - val_loss: 0.2673 - val_accuracy: 0.9375\n",
      "Epoch 41/150\n",
      "284/284 [==============================] - 29s 102ms/step - loss: 0.1927 - accuracy: 0.9648 - val_loss: 0.2593 - val_accuracy: 0.9368\n",
      "Epoch 42/150\n",
      "284/284 [==============================] - 29s 101ms/step - loss: 0.1889 - accuracy: 0.9647 - val_loss: 0.2659 - val_accuracy: 0.9355\n",
      "Epoch 43/150\n",
      "  4/284 [..............................] - ETA: 23s - loss: 0.1896 - accuracy: 0.9668"
     ]
    }
   ],
   "source": [
    "model.fit(X_train, y_train, batch_size=128,epochs=150, validation_data=(X_test, y_test))"
   ],
   "metadata": {
    "collapsed": false
   }
  },
  {
   "cell_type": "code",
   "execution_count": null,
   "outputs": [],
   "source": [
    "model.save_weights(\"difker_2200e.h5\")"
   ],
   "metadata": {
    "collapsed": false
   }
  },
  {
   "cell_type": "code",
   "execution_count": 7,
   "outputs": [],
   "source": [
    "model.load_weights(\"difker_2200e.h5\")"
   ],
   "metadata": {
    "collapsed": false
   }
  },
  {
   "cell_type": "code",
   "execution_count": 8,
   "outputs": [
    {
     "name": "stdout",
     "output_type": "stream",
     "text": [
      "Epoch 1/10\n",
      "284/284 [==============================] - 35s 105ms/step - loss: 0.1757 - accuracy: 0.9643 - val_loss: 0.2513 - val_accuracy: 0.9353\n",
      "Epoch 2/10\n",
      "284/284 [==============================] - 29s 104ms/step - loss: 0.1921 - accuracy: 0.9646 - val_loss: 0.2655 - val_accuracy: 0.9351\n",
      "Epoch 3/10\n",
      "284/284 [==============================] - 29s 103ms/step - loss: 0.1847 - accuracy: 0.9660 - val_loss: 0.2672 - val_accuracy: 0.9362\n",
      "Epoch 4/10\n",
      "284/284 [==============================] - 29s 102ms/step - loss: 0.1895 - accuracy: 0.9643 - val_loss: 0.2681 - val_accuracy: 0.9360\n",
      "Epoch 5/10\n",
      "284/284 [==============================] - 30s 106ms/step - loss: 0.1911 - accuracy: 0.9654 - val_loss: 0.2555 - val_accuracy: 0.9376\n",
      "Epoch 6/10\n",
      "284/284 [==============================] - 30s 106ms/step - loss: 0.1864 - accuracy: 0.9668 - val_loss: 0.2761 - val_accuracy: 0.9355\n",
      "Epoch 7/10\n",
      "284/284 [==============================] - 30s 105ms/step - loss: 0.1883 - accuracy: 0.9666 - val_loss: 0.2718 - val_accuracy: 0.9386\n",
      "Epoch 8/10\n",
      "284/284 [==============================] - 30s 106ms/step - loss: 0.1931 - accuracy: 0.9655 - val_loss: 0.2833 - val_accuracy: 0.9391\n",
      "Epoch 9/10\n",
      "284/284 [==============================] - 30s 105ms/step - loss: 0.1930 - accuracy: 0.9655 - val_loss: 0.2810 - val_accuracy: 0.9344\n",
      "Epoch 10/10\n",
      "284/284 [==============================] - 30s 107ms/step - loss: 0.1882 - accuracy: 0.9660 - val_loss: 0.2705 - val_accuracy: 0.9355\n"
     ]
    },
    {
     "data": {
      "text/plain": "<keras.callbacks.History at 0x253f8e183d0>"
     },
     "execution_count": 8,
     "metadata": {},
     "output_type": "execute_result"
    }
   ],
   "source": [
    "model.fit(X_train, y_train, batch_size=128,epochs=10, validation_data=(X_test, y_test))"
   ],
   "metadata": {
    "collapsed": false
   }
  },
  {
   "cell_type": "code",
   "execution_count": 9,
   "outputs": [],
   "source": [
    "model.save_weights(\"difker_2210e.h5\")"
   ],
   "metadata": {
    "collapsed": false
   }
  },
  {
   "cell_type": "code",
   "execution_count": 7,
   "outputs": [],
   "source": [
    "model.load_weights(\"difker_2210e.h5\")"
   ],
   "metadata": {
    "collapsed": false
   }
  },
  {
   "cell_type": "code",
   "execution_count": 8,
   "outputs": [
    {
     "name": "stdout",
     "output_type": "stream",
     "text": [
      "Epoch 1/790\n",
      "284/284 [==============================] - 34s 102ms/step - loss: 0.1706 - accuracy: 0.9632 - val_loss: 0.2458 - val_accuracy: 0.9353\n",
      "Epoch 2/790\n",
      "284/284 [==============================] - 28s 99ms/step - loss: 0.1832 - accuracy: 0.9640 - val_loss: 0.2686 - val_accuracy: 0.9359\n",
      "Epoch 3/790\n",
      "284/284 [==============================] - 29s 101ms/step - loss: 0.1869 - accuracy: 0.9648 - val_loss: 0.2570 - val_accuracy: 0.9352\n",
      "Epoch 4/790\n",
      "284/284 [==============================] - 28s 99ms/step - loss: 0.1947 - accuracy: 0.9647 - val_loss: 0.2792 - val_accuracy: 0.9364\n",
      "Epoch 5/790\n",
      "284/284 [==============================] - 29s 103ms/step - loss: 0.1941 - accuracy: 0.9659 - val_loss: 0.2653 - val_accuracy: 0.9351\n",
      "Epoch 6/790\n",
      "284/284 [==============================] - 29s 102ms/step - loss: 0.2009 - accuracy: 0.9652 - val_loss: 0.2702 - val_accuracy: 0.9353\n",
      "Epoch 7/790\n",
      "284/284 [==============================] - 27s 96ms/step - loss: 0.1907 - accuracy: 0.9659 - val_loss: 0.2529 - val_accuracy: 0.9363\n",
      "Epoch 8/790\n",
      "284/284 [==============================] - 28s 97ms/step - loss: 0.1861 - accuracy: 0.9667 - val_loss: 0.2669 - val_accuracy: 0.9363\n",
      "Epoch 9/790\n",
      "284/284 [==============================] - 27s 95ms/step - loss: 0.1999 - accuracy: 0.9652 - val_loss: 0.2685 - val_accuracy: 0.9357\n",
      "Epoch 10/790\n",
      "284/284 [==============================] - 28s 97ms/step - loss: 0.1982 - accuracy: 0.9653 - val_loss: 0.2875 - val_accuracy: 0.9345\n",
      "Epoch 11/790\n",
      "284/284 [==============================] - 27s 95ms/step - loss: 0.2031 - accuracy: 0.9636 - val_loss: 0.2681 - val_accuracy: 0.9393\n",
      "Epoch 12/790\n",
      "284/284 [==============================] - 28s 98ms/step - loss: 0.1940 - accuracy: 0.9652 - val_loss: 0.2838 - val_accuracy: 0.9356\n",
      "Epoch 13/790\n",
      "284/284 [==============================] - 28s 97ms/step - loss: 0.1914 - accuracy: 0.9662 - val_loss: 0.2721 - val_accuracy: 0.9339\n",
      "Epoch 14/790\n",
      "284/284 [==============================] - 27s 94ms/step - loss: 0.1893 - accuracy: 0.9680 - val_loss: 0.2829 - val_accuracy: 0.9368\n",
      "Epoch 15/790\n",
      "284/284 [==============================] - 28s 97ms/step - loss: 0.1923 - accuracy: 0.9666 - val_loss: 0.2698 - val_accuracy: 0.9364\n",
      "Epoch 16/790\n",
      "284/284 [==============================] - 28s 98ms/step - loss: 0.2022 - accuracy: 0.9643 - val_loss: 0.2773 - val_accuracy: 0.9366\n",
      "Epoch 17/790\n",
      "284/284 [==============================] - 28s 97ms/step - loss: 0.2038 - accuracy: 0.9654 - val_loss: 0.2706 - val_accuracy: 0.9362\n",
      "Epoch 18/790\n",
      "284/284 [==============================] - 28s 97ms/step - loss: 0.1959 - accuracy: 0.9673 - val_loss: 0.2671 - val_accuracy: 0.9375\n",
      "Epoch 19/790\n",
      "284/284 [==============================] - 28s 97ms/step - loss: 0.1946 - accuracy: 0.9656 - val_loss: 0.2697 - val_accuracy: 0.9388\n",
      "Epoch 20/790\n",
      "284/284 [==============================] - 27s 96ms/step - loss: 0.1911 - accuracy: 0.9664 - val_loss: 0.2690 - val_accuracy: 0.9371\n",
      "Epoch 21/790\n",
      "284/284 [==============================] - 28s 97ms/step - loss: 0.1933 - accuracy: 0.9658 - val_loss: 0.2628 - val_accuracy: 0.9349\n",
      "Epoch 22/790\n",
      "284/284 [==============================] - 28s 97ms/step - loss: 0.1872 - accuracy: 0.9671 - val_loss: 0.2658 - val_accuracy: 0.9363\n",
      "Epoch 23/790\n",
      "284/284 [==============================] - 27s 96ms/step - loss: 0.1957 - accuracy: 0.9659 - val_loss: 0.2708 - val_accuracy: 0.9364\n",
      "Epoch 24/790\n",
      "284/284 [==============================] - 27s 96ms/step - loss: 0.1936 - accuracy: 0.9656 - val_loss: 0.2615 - val_accuracy: 0.9377\n",
      "Epoch 25/790\n",
      "284/284 [==============================] - 28s 97ms/step - loss: 0.1933 - accuracy: 0.9646 - val_loss: 0.2919 - val_accuracy: 0.9349\n",
      "Epoch 26/790\n",
      "284/284 [==============================] - 27s 95ms/step - loss: 0.1886 - accuracy: 0.9667 - val_loss: 0.2727 - val_accuracy: 0.9381\n",
      "Epoch 27/790\n",
      "284/284 [==============================] - 28s 98ms/step - loss: 0.1891 - accuracy: 0.9667 - val_loss: 0.2812 - val_accuracy: 0.9366\n",
      "Epoch 28/790\n",
      "284/284 [==============================] - 28s 97ms/step - loss: 0.1995 - accuracy: 0.9646 - val_loss: 0.2771 - val_accuracy: 0.9338\n",
      "Epoch 29/790\n",
      "284/284 [==============================] - 28s 97ms/step - loss: 0.1903 - accuracy: 0.9670 - val_loss: 0.2871 - val_accuracy: 0.9402\n",
      "Epoch 30/790\n",
      "284/284 [==============================] - 28s 99ms/step - loss: 0.2024 - accuracy: 0.9650 - val_loss: 0.2751 - val_accuracy: 0.9371\n",
      "Epoch 31/790\n",
      "284/284 [==============================] - 28s 98ms/step - loss: 0.2015 - accuracy: 0.9659 - val_loss: 0.2677 - val_accuracy: 0.9366\n",
      "Epoch 32/790\n",
      "284/284 [==============================] - 27s 97ms/step - loss: 0.1934 - accuracy: 0.9651 - val_loss: 0.2785 - val_accuracy: 0.9368\n",
      "Epoch 33/790\n",
      "284/284 [==============================] - 29s 101ms/step - loss: 0.1935 - accuracy: 0.9659 - val_loss: 0.2749 - val_accuracy: 0.9361\n",
      "Epoch 34/790\n",
      "284/284 [==============================] - 28s 98ms/step - loss: 0.2047 - accuracy: 0.9634 - val_loss: 0.2813 - val_accuracy: 0.9323\n",
      "Epoch 35/790\n",
      "284/284 [==============================] - 28s 99ms/step - loss: 0.2070 - accuracy: 0.9637 - val_loss: 0.2778 - val_accuracy: 0.9374\n",
      "Epoch 36/790\n",
      "284/284 [==============================] - 28s 98ms/step - loss: 0.2105 - accuracy: 0.9648 - val_loss: 0.2672 - val_accuracy: 0.9357\n",
      "Epoch 37/790\n",
      "284/284 [==============================] - 28s 98ms/step - loss: 0.1992 - accuracy: 0.9655 - val_loss: 0.2722 - val_accuracy: 0.9364\n",
      "Epoch 38/790\n",
      "284/284 [==============================] - 28s 99ms/step - loss: 0.1877 - accuracy: 0.9673 - val_loss: 0.2723 - val_accuracy: 0.9355\n",
      "Epoch 39/790\n",
      "284/284 [==============================] - 28s 98ms/step - loss: 0.1935 - accuracy: 0.9654 - val_loss: 0.2721 - val_accuracy: 0.9389\n",
      "Epoch 40/790\n",
      "284/284 [==============================] - 27s 96ms/step - loss: 0.1958 - accuracy: 0.9661 - val_loss: 0.2683 - val_accuracy: 0.9360\n",
      "Epoch 41/790\n",
      "284/284 [==============================] - 30s 106ms/step - loss: 0.1908 - accuracy: 0.9659 - val_loss: 0.2597 - val_accuracy: 0.9366\n",
      "Epoch 42/790\n",
      "284/284 [==============================] - 29s 103ms/step - loss: 0.1933 - accuracy: 0.9649 - val_loss: 0.2583 - val_accuracy: 0.9357\n",
      "Epoch 43/790\n",
      "284/284 [==============================] - 30s 105ms/step - loss: 0.1859 - accuracy: 0.9664 - val_loss: 0.2656 - val_accuracy: 0.9381\n",
      "Epoch 44/790\n",
      "284/284 [==============================] - 29s 103ms/step - loss: 0.1936 - accuracy: 0.9662 - val_loss: 0.2709 - val_accuracy: 0.9378\n",
      "Epoch 45/790\n",
      "284/284 [==============================] - 29s 102ms/step - loss: 0.1934 - accuracy: 0.9656 - val_loss: 0.2777 - val_accuracy: 0.9361\n",
      "Epoch 46/790\n",
      "284/284 [==============================] - 29s 104ms/step - loss: 0.1999 - accuracy: 0.9641 - val_loss: 0.2779 - val_accuracy: 0.9370\n",
      "Epoch 47/790\n",
      "284/284 [==============================] - 29s 102ms/step - loss: 0.1920 - accuracy: 0.9654 - val_loss: 0.2689 - val_accuracy: 0.9385\n",
      "Epoch 48/790\n",
      "284/284 [==============================] - 28s 100ms/step - loss: 0.1974 - accuracy: 0.9665 - val_loss: 0.2826 - val_accuracy: 0.9355\n",
      "Epoch 49/790\n",
      "284/284 [==============================] - 28s 99ms/step - loss: 0.1879 - accuracy: 0.9654 - val_loss: 0.2614 - val_accuracy: 0.9368\n",
      "Epoch 50/790\n",
      "284/284 [==============================] - 28s 99ms/step - loss: 0.1972 - accuracy: 0.9660 - val_loss: 0.2795 - val_accuracy: 0.9360\n",
      "Epoch 51/790\n",
      "284/284 [==============================] - 28s 98ms/step - loss: 0.1978 - accuracy: 0.9663 - val_loss: 0.2833 - val_accuracy: 0.9351\n",
      "Epoch 52/790\n",
      "284/284 [==============================] - 28s 100ms/step - loss: 0.2084 - accuracy: 0.9659 - val_loss: 0.2658 - val_accuracy: 0.9366\n",
      "Epoch 53/790\n",
      "284/284 [==============================] - 29s 101ms/step - loss: 0.1944 - accuracy: 0.9660 - val_loss: 0.2625 - val_accuracy: 0.9351\n",
      "Epoch 54/790\n",
      "284/284 [==============================] - 28s 99ms/step - loss: 0.1982 - accuracy: 0.9668 - val_loss: 0.2702 - val_accuracy: 0.9357\n",
      "Epoch 55/790\n",
      "284/284 [==============================] - 28s 99ms/step - loss: 0.1927 - accuracy: 0.9660 - val_loss: 0.2559 - val_accuracy: 0.9373\n",
      "Epoch 56/790\n",
      "284/284 [==============================] - 28s 99ms/step - loss: 0.1940 - accuracy: 0.9657 - val_loss: 0.2599 - val_accuracy: 0.9360\n",
      "Epoch 57/790\n",
      "284/284 [==============================] - 28s 98ms/step - loss: 0.1948 - accuracy: 0.9670 - val_loss: 0.2714 - val_accuracy: 0.9384\n",
      "Epoch 58/790\n",
      "284/284 [==============================] - 27s 97ms/step - loss: 0.2017 - accuracy: 0.9655 - val_loss: 0.2740 - val_accuracy: 0.9363\n",
      "Epoch 59/790\n",
      "284/284 [==============================] - 27s 97ms/step - loss: 0.2006 - accuracy: 0.9659 - val_loss: 0.2642 - val_accuracy: 0.9374\n",
      "Epoch 60/790\n",
      "284/284 [==============================] - 28s 98ms/step - loss: 0.2035 - accuracy: 0.9652 - val_loss: 0.2643 - val_accuracy: 0.9382\n",
      "Epoch 61/790\n",
      "284/284 [==============================] - 28s 98ms/step - loss: 0.1974 - accuracy: 0.9648 - val_loss: 0.2695 - val_accuracy: 0.9365\n",
      "Epoch 62/790\n",
      "284/284 [==============================] - 28s 98ms/step - loss: 0.1960 - accuracy: 0.9663 - val_loss: 0.2711 - val_accuracy: 0.9381\n",
      "Epoch 63/790\n",
      "284/284 [==============================] - 27s 96ms/step - loss: 0.2025 - accuracy: 0.9658 - val_loss: 0.2790 - val_accuracy: 0.9352\n",
      "Epoch 64/790\n",
      "284/284 [==============================] - 27s 97ms/step - loss: 0.2042 - accuracy: 0.9651 - val_loss: 0.2833 - val_accuracy: 0.9377\n",
      "Epoch 65/790\n",
      "284/284 [==============================] - 28s 98ms/step - loss: 0.1930 - accuracy: 0.9658 - val_loss: 0.2602 - val_accuracy: 0.9384\n",
      "Epoch 66/790\n",
      "284/284 [==============================] - 27s 96ms/step - loss: 0.1909 - accuracy: 0.9659 - val_loss: 0.2741 - val_accuracy: 0.9349\n",
      "Epoch 67/790\n",
      "284/284 [==============================] - 27s 96ms/step - loss: 0.1898 - accuracy: 0.9652 - val_loss: 0.2623 - val_accuracy: 0.9394\n",
      "Epoch 68/790\n",
      "284/284 [==============================] - 28s 98ms/step - loss: 0.2008 - accuracy: 0.9666 - val_loss: 0.2699 - val_accuracy: 0.9362\n",
      "Epoch 69/790\n",
      "284/284 [==============================] - 27s 97ms/step - loss: 0.1971 - accuracy: 0.9651 - val_loss: 0.2635 - val_accuracy: 0.9370\n",
      "Epoch 70/790\n",
      "284/284 [==============================] - 28s 98ms/step - loss: 0.1992 - accuracy: 0.9664 - val_loss: 0.2718 - val_accuracy: 0.9351\n",
      "Epoch 71/790\n",
      "284/284 [==============================] - 29s 102ms/step - loss: 0.2001 - accuracy: 0.9640 - val_loss: 0.2832 - val_accuracy: 0.9362\n",
      "Epoch 72/790\n",
      "284/284 [==============================] - 27s 97ms/step - loss: 0.1914 - accuracy: 0.9682 - val_loss: 0.2688 - val_accuracy: 0.9341\n",
      "Epoch 73/790\n",
      "284/284 [==============================] - 28s 98ms/step - loss: 0.1998 - accuracy: 0.9644 - val_loss: 0.3011 - val_accuracy: 0.9346\n",
      "Epoch 74/790\n",
      "284/284 [==============================] - 28s 98ms/step - loss: 0.1960 - accuracy: 0.9660 - val_loss: 0.2681 - val_accuracy: 0.9395\n",
      "Epoch 75/790\n",
      "284/284 [==============================] - 27s 97ms/step - loss: 0.1960 - accuracy: 0.9657 - val_loss: 0.2676 - val_accuracy: 0.9381\n",
      "Epoch 76/790\n",
      "284/284 [==============================] - 27s 96ms/step - loss: 0.1895 - accuracy: 0.9652 - val_loss: 0.2672 - val_accuracy: 0.9353\n",
      "Epoch 77/790\n",
      "284/284 [==============================] - 27s 95ms/step - loss: 0.2033 - accuracy: 0.9642 - val_loss: 0.2884 - val_accuracy: 0.9339\n",
      "Epoch 78/790\n",
      "284/284 [==============================] - 28s 97ms/step - loss: 0.2093 - accuracy: 0.9670 - val_loss: 0.2894 - val_accuracy: 0.9344\n",
      "Epoch 79/790\n",
      "284/284 [==============================] - 27s 96ms/step - loss: 0.2084 - accuracy: 0.9662 - val_loss: 0.2930 - val_accuracy: 0.9373\n",
      "Epoch 80/790\n",
      "284/284 [==============================] - 28s 97ms/step - loss: 0.1930 - accuracy: 0.9656 - val_loss: 0.2857 - val_accuracy: 0.9334\n",
      "Epoch 81/790\n",
      "284/284 [==============================] - 27s 96ms/step - loss: 0.2024 - accuracy: 0.9660 - val_loss: 0.2716 - val_accuracy: 0.9375\n",
      "Epoch 82/790\n",
      "284/284 [==============================] - 28s 97ms/step - loss: 0.1915 - accuracy: 0.9654 - val_loss: 0.2637 - val_accuracy: 0.9378\n",
      "Epoch 83/790\n",
      "284/284 [==============================] - 28s 97ms/step - loss: 0.1944 - accuracy: 0.9666 - val_loss: 0.2594 - val_accuracy: 0.9368\n",
      "Epoch 84/790\n",
      "284/284 [==============================] - 27s 96ms/step - loss: 0.1935 - accuracy: 0.9665 - val_loss: 0.2586 - val_accuracy: 0.9355\n",
      "Epoch 85/790\n",
      "284/284 [==============================] - 27s 96ms/step - loss: 0.1922 - accuracy: 0.9669 - val_loss: 0.2808 - val_accuracy: 0.9384\n",
      "Epoch 86/790\n",
      "284/284 [==============================] - 27s 96ms/step - loss: 0.1974 - accuracy: 0.9671 - val_loss: 0.2652 - val_accuracy: 0.9335\n",
      "Epoch 87/790\n",
      "284/284 [==============================] - 28s 98ms/step - loss: 0.1918 - accuracy: 0.9659 - val_loss: 0.2751 - val_accuracy: 0.9365\n",
      "Epoch 88/790\n",
      "284/284 [==============================] - 28s 98ms/step - loss: 0.1968 - accuracy: 0.9661 - val_loss: 0.2701 - val_accuracy: 0.9394\n",
      "Epoch 89/790\n",
      "284/284 [==============================] - 29s 104ms/step - loss: 0.1921 - accuracy: 0.9661 - val_loss: 0.2705 - val_accuracy: 0.9376\n",
      "Epoch 90/790\n",
      "284/284 [==============================] - 28s 100ms/step - loss: 0.1964 - accuracy: 0.9645 - val_loss: 0.2819 - val_accuracy: 0.9363\n",
      "Epoch 91/790\n",
      "284/284 [==============================] - 29s 102ms/step - loss: 0.1896 - accuracy: 0.9662 - val_loss: 0.2563 - val_accuracy: 0.9377\n",
      "Epoch 92/790\n",
      "284/284 [==============================] - 28s 99ms/step - loss: 0.1911 - accuracy: 0.9667 - val_loss: 0.2696 - val_accuracy: 0.9397\n",
      "Epoch 93/790\n",
      "284/284 [==============================] - 29s 101ms/step - loss: 0.1935 - accuracy: 0.9662 - val_loss: 0.2622 - val_accuracy: 0.9332\n",
      "Epoch 94/790\n",
      "284/284 [==============================] - 29s 101ms/step - loss: 0.1987 - accuracy: 0.9648 - val_loss: 0.2721 - val_accuracy: 0.9375\n",
      "Epoch 95/790\n",
      "284/284 [==============================] - 29s 101ms/step - loss: 0.1915 - accuracy: 0.9665 - val_loss: 0.2661 - val_accuracy: 0.9400\n",
      "Epoch 96/790\n",
      "284/284 [==============================] - 29s 101ms/step - loss: 0.1903 - accuracy: 0.9672 - val_loss: 0.2554 - val_accuracy: 0.9379\n",
      "Epoch 97/790\n",
      "284/284 [==============================] - 29s 101ms/step - loss: 0.1955 - accuracy: 0.9659 - val_loss: 0.2847 - val_accuracy: 0.9345\n",
      "Epoch 98/790\n",
      "284/284 [==============================] - 28s 100ms/step - loss: 0.2009 - accuracy: 0.9662 - val_loss: 0.2716 - val_accuracy: 0.9365\n",
      "Epoch 99/790\n",
      "284/284 [==============================] - 28s 100ms/step - loss: 0.1962 - accuracy: 0.9667 - val_loss: 0.2696 - val_accuracy: 0.9372\n",
      "Epoch 100/790\n",
      "284/284 [==============================] - 29s 101ms/step - loss: 0.2021 - accuracy: 0.9660 - val_loss: 0.2713 - val_accuracy: 0.9388\n",
      "Epoch 101/790\n",
      "284/284 [==============================] - 28s 100ms/step - loss: 0.1974 - accuracy: 0.9656 - val_loss: 0.2696 - val_accuracy: 0.9357\n",
      "Epoch 102/790\n",
      "284/284 [==============================] - 28s 100ms/step - loss: 0.1927 - accuracy: 0.9649 - val_loss: 0.2690 - val_accuracy: 0.9364\n",
      "Epoch 103/790\n",
      "284/284 [==============================] - 29s 102ms/step - loss: 0.1953 - accuracy: 0.9659 - val_loss: 0.2685 - val_accuracy: 0.9378\n",
      "Epoch 104/790\n",
      "284/284 [==============================] - 28s 100ms/step - loss: 0.1973 - accuracy: 0.9647 - val_loss: 0.2578 - val_accuracy: 0.9388\n",
      "Epoch 105/790\n",
      "284/284 [==============================] - 29s 104ms/step - loss: 0.1926 - accuracy: 0.9660 - val_loss: 0.2784 - val_accuracy: 0.9361\n",
      "Epoch 106/790\n",
      "284/284 [==============================] - 29s 101ms/step - loss: 0.2018 - accuracy: 0.9656 - val_loss: 0.2692 - val_accuracy: 0.9371\n",
      "Epoch 107/790\n",
      "284/284 [==============================] - 29s 102ms/step - loss: 0.2017 - accuracy: 0.9642 - val_loss: 0.2749 - val_accuracy: 0.9349\n",
      "Epoch 108/790\n",
      "284/284 [==============================] - 29s 104ms/step - loss: 0.1914 - accuracy: 0.9671 - val_loss: 0.2757 - val_accuracy: 0.9351\n",
      "Epoch 109/790\n",
      "284/284 [==============================] - 29s 102ms/step - loss: 0.1996 - accuracy: 0.9661 - val_loss: 0.2741 - val_accuracy: 0.9391\n",
      "Epoch 110/790\n",
      "284/284 [==============================] - 28s 100ms/step - loss: 0.1979 - accuracy: 0.9662 - val_loss: 0.2592 - val_accuracy: 0.9402\n",
      "Epoch 111/790\n",
      "284/284 [==============================] - 29s 101ms/step - loss: 0.1943 - accuracy: 0.9674 - val_loss: 0.2659 - val_accuracy: 0.9396\n",
      "Epoch 112/790\n",
      "284/284 [==============================] - 28s 100ms/step - loss: 0.1994 - accuracy: 0.9656 - val_loss: 0.2667 - val_accuracy: 0.9356\n",
      "Epoch 113/790\n",
      "284/284 [==============================] - 29s 101ms/step - loss: 0.1943 - accuracy: 0.9651 - val_loss: 0.2676 - val_accuracy: 0.9363\n",
      "Epoch 114/790\n",
      "284/284 [==============================] - 29s 101ms/step - loss: 0.1969 - accuracy: 0.9661 - val_loss: 0.2718 - val_accuracy: 0.9346\n",
      "Epoch 115/790\n",
      "284/284 [==============================] - 29s 103ms/step - loss: 0.1936 - accuracy: 0.9663 - val_loss: 0.2721 - val_accuracy: 0.9350\n",
      "Epoch 116/790\n",
      "284/284 [==============================] - 29s 102ms/step - loss: 0.2004 - accuracy: 0.9646 - val_loss: 0.2663 - val_accuracy: 0.9345\n",
      "Epoch 117/790\n",
      "284/284 [==============================] - 29s 103ms/step - loss: 0.1982 - accuracy: 0.9659 - val_loss: 0.2708 - val_accuracy: 0.9359\n",
      "Epoch 118/790\n",
      "284/284 [==============================] - 29s 103ms/step - loss: 0.1975 - accuracy: 0.9654 - val_loss: 0.2662 - val_accuracy: 0.9336\n",
      "Epoch 119/790\n",
      "284/284 [==============================] - 29s 100ms/step - loss: 0.1974 - accuracy: 0.9656 - val_loss: 0.2706 - val_accuracy: 0.9376\n",
      "Epoch 120/790\n",
      "284/284 [==============================] - 28s 99ms/step - loss: 0.2031 - accuracy: 0.9644 - val_loss: 0.2647 - val_accuracy: 0.9364\n",
      "Epoch 121/790\n",
      "284/284 [==============================] - 29s 102ms/step - loss: 0.1998 - accuracy: 0.9649 - val_loss: 0.2722 - val_accuracy: 0.9372\n",
      "Epoch 122/790\n",
      "284/284 [==============================] - 27s 97ms/step - loss: 0.2028 - accuracy: 0.9658 - val_loss: 0.2721 - val_accuracy: 0.9359\n",
      "Epoch 123/790\n",
      "284/284 [==============================] - 28s 99ms/step - loss: 0.1896 - accuracy: 0.9673 - val_loss: 0.2698 - val_accuracy: 0.9366\n",
      "Epoch 124/790\n",
      "284/284 [==============================] - 29s 102ms/step - loss: 0.1931 - accuracy: 0.9664 - val_loss: 0.2737 - val_accuracy: 0.9360\n",
      "Epoch 125/790\n",
      "284/284 [==============================] - 29s 103ms/step - loss: 0.1948 - accuracy: 0.9647 - val_loss: 0.2657 - val_accuracy: 0.9357\n",
      "Epoch 126/790\n",
      "284/284 [==============================] - 29s 102ms/step - loss: 0.1960 - accuracy: 0.9671 - val_loss: 0.2791 - val_accuracy: 0.9378\n",
      "Epoch 127/790\n",
      "284/284 [==============================] - 28s 99ms/step - loss: 0.1892 - accuracy: 0.9668 - val_loss: 0.2646 - val_accuracy: 0.9375\n",
      "Epoch 128/790\n",
      "284/284 [==============================] - 28s 100ms/step - loss: 0.1937 - accuracy: 0.9661 - val_loss: 0.2811 - val_accuracy: 0.9384\n",
      "Epoch 129/790\n",
      "284/284 [==============================] - 30s 104ms/step - loss: 0.1995 - accuracy: 0.9651 - val_loss: 0.2644 - val_accuracy: 0.9370\n",
      "Epoch 130/790\n",
      "284/284 [==============================] - 29s 102ms/step - loss: 0.1981 - accuracy: 0.9667 - val_loss: 0.2704 - val_accuracy: 0.9368\n",
      "Epoch 131/790\n",
      "284/284 [==============================] - 29s 103ms/step - loss: 0.1963 - accuracy: 0.9658 - val_loss: 0.2648 - val_accuracy: 0.9382\n",
      "Epoch 132/790\n",
      "284/284 [==============================] - 28s 99ms/step - loss: 0.1929 - accuracy: 0.9660 - val_loss: 0.2853 - val_accuracy: 0.9365\n",
      "Epoch 133/790\n",
      "284/284 [==============================] - 28s 100ms/step - loss: 0.1937 - accuracy: 0.9666 - val_loss: 0.2788 - val_accuracy: 0.9340\n",
      "Epoch 134/790\n",
      "284/284 [==============================] - 29s 103ms/step - loss: 0.1952 - accuracy: 0.9662 - val_loss: 0.2690 - val_accuracy: 0.9371\n",
      "Epoch 135/790\n",
      "284/284 [==============================] - 29s 102ms/step - loss: 0.1954 - accuracy: 0.9659 - val_loss: 0.2670 - val_accuracy: 0.9356\n",
      "Epoch 136/790\n",
      "284/284 [==============================] - 29s 101ms/step - loss: 0.1965 - accuracy: 0.9661 - val_loss: 0.2779 - val_accuracy: 0.9363\n",
      "Epoch 137/790\n",
      "284/284 [==============================] - 29s 101ms/step - loss: 0.2099 - accuracy: 0.9655 - val_loss: 0.2857 - val_accuracy: 0.9372\n",
      "Epoch 138/790\n",
      "284/284 [==============================] - 29s 103ms/step - loss: 0.2029 - accuracy: 0.9657 - val_loss: 0.2643 - val_accuracy: 0.9404\n",
      "Epoch 139/790\n",
      "284/284 [==============================] - 29s 102ms/step - loss: 0.1960 - accuracy: 0.9668 - val_loss: 0.2698 - val_accuracy: 0.9361\n",
      "Epoch 140/790\n",
      "284/284 [==============================] - 29s 101ms/step - loss: 0.1997 - accuracy: 0.9649 - val_loss: 0.2748 - val_accuracy: 0.9349\n",
      "Epoch 141/790\n",
      "284/284 [==============================] - 29s 102ms/step - loss: 0.1980 - accuracy: 0.9660 - val_loss: 0.2690 - val_accuracy: 0.9383\n",
      "Epoch 142/790\n",
      "284/284 [==============================] - 28s 98ms/step - loss: 0.1965 - accuracy: 0.9647 - val_loss: 0.2673 - val_accuracy: 0.9392\n",
      "Epoch 143/790\n",
      "284/284 [==============================] - 29s 104ms/step - loss: 0.1987 - accuracy: 0.9649 - val_loss: 0.2680 - val_accuracy: 0.9368\n",
      "Epoch 144/790\n",
      "284/284 [==============================] - 29s 102ms/step - loss: 0.2021 - accuracy: 0.9657 - val_loss: 0.2869 - val_accuracy: 0.9378\n",
      "Epoch 145/790\n",
      "284/284 [==============================] - 29s 101ms/step - loss: 0.1958 - accuracy: 0.9664 - val_loss: 0.2872 - val_accuracy: 0.9395\n",
      "Epoch 146/790\n",
      "284/284 [==============================] - 29s 101ms/step - loss: 0.1957 - accuracy: 0.9652 - val_loss: 0.2688 - val_accuracy: 0.9372\n",
      "Epoch 147/790\n",
      "284/284 [==============================] - 29s 101ms/step - loss: 0.1957 - accuracy: 0.9664 - val_loss: 0.2765 - val_accuracy: 0.9379\n",
      "Epoch 148/790\n",
      "284/284 [==============================] - 28s 100ms/step - loss: 0.1959 - accuracy: 0.9675 - val_loss: 0.2728 - val_accuracy: 0.9370\n",
      "Epoch 149/790\n",
      "284/284 [==============================] - 28s 100ms/step - loss: 0.1937 - accuracy: 0.9660 - val_loss: 0.2847 - val_accuracy: 0.9371\n",
      "Epoch 150/790\n",
      "284/284 [==============================] - 29s 101ms/step - loss: 0.1905 - accuracy: 0.9658 - val_loss: 0.2672 - val_accuracy: 0.9374\n",
      "Epoch 151/790\n",
      "284/284 [==============================] - 28s 100ms/step - loss: 0.1964 - accuracy: 0.9653 - val_loss: 0.2907 - val_accuracy: 0.9371\n",
      "Epoch 152/790\n",
      "284/284 [==============================] - 28s 99ms/step - loss: 0.1975 - accuracy: 0.9648 - val_loss: 0.2667 - val_accuracy: 0.9383\n",
      "Epoch 153/790\n",
      "284/284 [==============================] - 29s 102ms/step - loss: 0.1977 - accuracy: 0.9654 - val_loss: 0.2719 - val_accuracy: 0.9363\n",
      "Epoch 154/790\n",
      "284/284 [==============================] - 29s 101ms/step - loss: 0.1980 - accuracy: 0.9658 - val_loss: 0.2742 - val_accuracy: 0.9339\n",
      "Epoch 155/790\n",
      "284/284 [==============================] - 29s 102ms/step - loss: 0.1952 - accuracy: 0.9654 - val_loss: 0.2705 - val_accuracy: 0.9362\n",
      "Epoch 156/790\n",
      "284/284 [==============================] - 29s 101ms/step - loss: 0.1969 - accuracy: 0.9646 - val_loss: 0.2646 - val_accuracy: 0.9387\n",
      "Epoch 157/790\n",
      "284/284 [==============================] - 28s 100ms/step - loss: 0.2026 - accuracy: 0.9644 - val_loss: 0.2622 - val_accuracy: 0.9374\n",
      "Epoch 158/790\n",
      "284/284 [==============================] - 28s 98ms/step - loss: 0.1917 - accuracy: 0.9660 - val_loss: 0.2798 - val_accuracy: 0.9357\n",
      "Epoch 159/790\n",
      "284/284 [==============================] - 29s 101ms/step - loss: 0.1973 - accuracy: 0.9663 - val_loss: 0.2638 - val_accuracy: 0.9361\n",
      "Epoch 160/790\n",
      "284/284 [==============================] - 29s 103ms/step - loss: 0.1934 - accuracy: 0.9665 - val_loss: 0.2678 - val_accuracy: 0.9355\n",
      "Epoch 161/790\n",
      "284/284 [==============================] - 28s 99ms/step - loss: 0.1980 - accuracy: 0.9656 - val_loss: 0.2740 - val_accuracy: 0.9365\n",
      "Epoch 162/790\n",
      "284/284 [==============================] - 28s 100ms/step - loss: 0.2055 - accuracy: 0.9638 - val_loss: 0.2715 - val_accuracy: 0.9376\n",
      "Epoch 163/790\n",
      "284/284 [==============================] - 28s 99ms/step - loss: 0.2026 - accuracy: 0.9672 - val_loss: 0.2744 - val_accuracy: 0.9374\n",
      "Epoch 164/790\n",
      "284/284 [==============================] - 28s 100ms/step - loss: 0.2060 - accuracy: 0.9658 - val_loss: 0.2764 - val_accuracy: 0.9387\n",
      "Epoch 165/790\n",
      "284/284 [==============================] - 29s 102ms/step - loss: 0.2034 - accuracy: 0.9659 - val_loss: 0.2739 - val_accuracy: 0.9366\n",
      "Epoch 166/790\n",
      "284/284 [==============================] - 29s 102ms/step - loss: 0.1938 - accuracy: 0.9670 - val_loss: 0.2780 - val_accuracy: 0.9385\n",
      "Epoch 167/790\n",
      "284/284 [==============================] - 29s 103ms/step - loss: 0.1967 - accuracy: 0.9672 - val_loss: 0.2612 - val_accuracy: 0.9395\n",
      "Epoch 168/790\n",
      "284/284 [==============================] - 29s 101ms/step - loss: 0.1950 - accuracy: 0.9679 - val_loss: 0.2832 - val_accuracy: 0.9367\n",
      "Epoch 169/790\n",
      "284/284 [==============================] - 29s 101ms/step - loss: 0.2038 - accuracy: 0.9640 - val_loss: 0.2637 - val_accuracy: 0.9366\n",
      "Epoch 170/790\n",
      "284/284 [==============================] - 29s 102ms/step - loss: 0.1906 - accuracy: 0.9652 - val_loss: 0.2646 - val_accuracy: 0.9382\n",
      "Epoch 171/790\n",
      "284/284 [==============================] - 29s 101ms/step - loss: 0.1978 - accuracy: 0.9659 - val_loss: 0.2971 - val_accuracy: 0.9355\n",
      "Epoch 172/790\n",
      "284/284 [==============================] - 28s 99ms/step - loss: 0.1927 - accuracy: 0.9674 - val_loss: 0.2841 - val_accuracy: 0.9373\n",
      "Epoch 173/790\n",
      "284/284 [==============================] - 29s 102ms/step - loss: 0.1970 - accuracy: 0.9669 - val_loss: 0.2802 - val_accuracy: 0.9374\n",
      "Epoch 174/790\n",
      "284/284 [==============================] - 29s 101ms/step - loss: 0.1945 - accuracy: 0.9666 - val_loss: 0.2908 - val_accuracy: 0.9370\n",
      "Epoch 175/790\n",
      "284/284 [==============================] - 29s 100ms/step - loss: 0.1922 - accuracy: 0.9660 - val_loss: 0.2679 - val_accuracy: 0.9362\n",
      "Epoch 176/790\n",
      "284/284 [==============================] - 29s 104ms/step - loss: 0.1938 - accuracy: 0.9662 - val_loss: 0.2669 - val_accuracy: 0.9366\n",
      "Epoch 177/790\n",
      "284/284 [==============================] - 29s 100ms/step - loss: 0.2015 - accuracy: 0.9658 - val_loss: 0.2667 - val_accuracy: 0.9366\n",
      "Epoch 178/790\n",
      "284/284 [==============================] - 29s 101ms/step - loss: 0.1931 - accuracy: 0.9659 - val_loss: 0.2898 - val_accuracy: 0.9377\n",
      "Epoch 179/790\n",
      "284/284 [==============================] - 28s 100ms/step - loss: 0.1949 - accuracy: 0.9658 - val_loss: 0.2701 - val_accuracy: 0.9385\n",
      "Epoch 180/790\n",
      "284/284 [==============================] - 28s 99ms/step - loss: 0.1952 - accuracy: 0.9674 - val_loss: 0.2827 - val_accuracy: 0.9405\n",
      "Epoch 181/790\n",
      "284/284 [==============================] - 29s 102ms/step - loss: 0.1937 - accuracy: 0.9664 - val_loss: 0.2715 - val_accuracy: 0.9382\n",
      "Epoch 182/790\n",
      "284/284 [==============================] - 29s 102ms/step - loss: 0.1850 - accuracy: 0.9681 - val_loss: 0.2641 - val_accuracy: 0.9361\n",
      "Epoch 183/790\n",
      "284/284 [==============================] - 28s 99ms/step - loss: 0.1908 - accuracy: 0.9667 - val_loss: 0.2657 - val_accuracy: 0.9370\n",
      "Epoch 184/790\n",
      "284/284 [==============================] - 28s 100ms/step - loss: 0.2041 - accuracy: 0.9660 - val_loss: 0.2861 - val_accuracy: 0.9383\n",
      "Epoch 185/790\n",
      "284/284 [==============================] - 29s 100ms/step - loss: 0.1943 - accuracy: 0.9661 - val_loss: 0.2652 - val_accuracy: 0.9376\n",
      "Epoch 186/790\n",
      "284/284 [==============================] - 28s 100ms/step - loss: 0.1982 - accuracy: 0.9666 - val_loss: 0.2790 - val_accuracy: 0.9341\n",
      "Epoch 187/790\n",
      "284/284 [==============================] - 29s 102ms/step - loss: 0.1949 - accuracy: 0.9678 - val_loss: 0.2768 - val_accuracy: 0.9346\n",
      "Epoch 188/790\n",
      "284/284 [==============================] - 29s 102ms/step - loss: 0.1978 - accuracy: 0.9664 - val_loss: 0.2798 - val_accuracy: 0.9374\n",
      "Epoch 189/790\n",
      "284/284 [==============================] - 29s 101ms/step - loss: 0.1955 - accuracy: 0.9665 - val_loss: 0.2844 - val_accuracy: 0.9357\n",
      "Epoch 190/790\n",
      "284/284 [==============================] - 29s 101ms/step - loss: 0.1937 - accuracy: 0.9670 - val_loss: 0.2808 - val_accuracy: 0.9384\n",
      "Epoch 191/790\n",
      "284/284 [==============================] - 28s 98ms/step - loss: 0.2048 - accuracy: 0.9658 - val_loss: 0.2889 - val_accuracy: 0.9351\n",
      "Epoch 192/790\n",
      "284/284 [==============================] - 29s 101ms/step - loss: 0.1967 - accuracy: 0.9666 - val_loss: 0.2836 - val_accuracy: 0.9363\n",
      "Epoch 193/790\n",
      "284/284 [==============================] - 29s 101ms/step - loss: 0.1959 - accuracy: 0.9657 - val_loss: 0.2860 - val_accuracy: 0.9384\n",
      "Epoch 194/790\n",
      "284/284 [==============================] - 29s 100ms/step - loss: 0.1962 - accuracy: 0.9650 - val_loss: 0.2733 - val_accuracy: 0.9373\n",
      "Epoch 195/790\n",
      "284/284 [==============================] - 29s 101ms/step - loss: 0.2014 - accuracy: 0.9657 - val_loss: 0.2790 - val_accuracy: 0.9363\n",
      "Epoch 196/790\n",
      "284/284 [==============================] - 29s 101ms/step - loss: 0.1942 - accuracy: 0.9666 - val_loss: 0.2640 - val_accuracy: 0.9400\n",
      "Epoch 197/790\n",
      "284/284 [==============================] - 28s 100ms/step - loss: 0.1894 - accuracy: 0.9668 - val_loss: 0.2528 - val_accuracy: 0.9365\n",
      "Epoch 198/790\n",
      "284/284 [==============================] - 28s 100ms/step - loss: 0.1868 - accuracy: 0.9655 - val_loss: 0.2628 - val_accuracy: 0.9385\n",
      "Epoch 199/790\n",
      "284/284 [==============================] - 29s 104ms/step - loss: 0.1948 - accuracy: 0.9667 - val_loss: 0.2831 - val_accuracy: 0.9366\n",
      "Epoch 200/790\n",
      "284/284 [==============================] - 29s 102ms/step - loss: 0.1845 - accuracy: 0.9678 - val_loss: 0.2688 - val_accuracy: 0.9381\n",
      "Epoch 201/790\n",
      "284/284 [==============================] - 29s 102ms/step - loss: 0.1946 - accuracy: 0.9652 - val_loss: 0.2823 - val_accuracy: 0.9360\n",
      "Epoch 202/790\n",
      "284/284 [==============================] - 29s 102ms/step - loss: 0.2011 - accuracy: 0.9645 - val_loss: 0.2858 - val_accuracy: 0.9370\n",
      "Epoch 203/790\n",
      "284/284 [==============================] - 29s 102ms/step - loss: 0.1969 - accuracy: 0.9646 - val_loss: 0.2708 - val_accuracy: 0.9346\n",
      "Epoch 204/790\n",
      "284/284 [==============================] - 29s 103ms/step - loss: 0.1931 - accuracy: 0.9665 - val_loss: 0.2705 - val_accuracy: 0.9381\n",
      "Epoch 205/790\n",
      "284/284 [==============================] - 28s 100ms/step - loss: 0.1907 - accuracy: 0.9668 - val_loss: 0.2691 - val_accuracy: 0.9366\n",
      "Epoch 206/790\n",
      "284/284 [==============================] - 28s 100ms/step - loss: 0.1953 - accuracy: 0.9660 - val_loss: 0.2678 - val_accuracy: 0.9365\n",
      "Epoch 207/790\n",
      "284/284 [==============================] - 28s 99ms/step - loss: 0.1876 - accuracy: 0.9672 - val_loss: 0.2780 - val_accuracy: 0.9365\n",
      "Epoch 208/790\n",
      "284/284 [==============================] - 29s 101ms/step - loss: 0.1944 - accuracy: 0.9666 - val_loss: 0.2603 - val_accuracy: 0.9373\n",
      "Epoch 209/790\n",
      "284/284 [==============================] - 29s 102ms/step - loss: 0.1905 - accuracy: 0.9662 - val_loss: 0.2775 - val_accuracy: 0.9363\n",
      "Epoch 210/790\n",
      "284/284 [==============================] - 29s 102ms/step - loss: 0.1971 - accuracy: 0.9659 - val_loss: 0.2773 - val_accuracy: 0.9341\n",
      "Epoch 211/790\n",
      "284/284 [==============================] - 29s 102ms/step - loss: 0.1885 - accuracy: 0.9659 - val_loss: 0.2586 - val_accuracy: 0.9366\n",
      "Epoch 212/790\n",
      "284/284 [==============================] - 30s 104ms/step - loss: 0.1965 - accuracy: 0.9652 - val_loss: 0.2849 - val_accuracy: 0.9359\n",
      "Epoch 213/790\n",
      "284/284 [==============================] - 28s 100ms/step - loss: 0.1968 - accuracy: 0.9660 - val_loss: 0.2609 - val_accuracy: 0.9375\n",
      "Epoch 214/790\n",
      "284/284 [==============================] - 29s 101ms/step - loss: 0.1997 - accuracy: 0.9667 - val_loss: 0.2763 - val_accuracy: 0.9357\n",
      "Epoch 215/790\n",
      "284/284 [==============================] - 28s 99ms/step - loss: 0.1932 - accuracy: 0.9662 - val_loss: 0.2567 - val_accuracy: 0.9353\n",
      "Epoch 216/790\n",
      "284/284 [==============================] - 29s 104ms/step - loss: 0.1937 - accuracy: 0.9659 - val_loss: 0.2842 - val_accuracy: 0.9350\n",
      "Epoch 217/790\n",
      "284/284 [==============================] - 29s 104ms/step - loss: 0.1976 - accuracy: 0.9667 - val_loss: 0.2761 - val_accuracy: 0.9371\n",
      "Epoch 218/790\n",
      "284/284 [==============================] - 29s 102ms/step - loss: 0.1943 - accuracy: 0.9664 - val_loss: 0.2697 - val_accuracy: 0.9383\n",
      "Epoch 219/790\n",
      "284/284 [==============================] - 30s 104ms/step - loss: 0.1899 - accuracy: 0.9662 - val_loss: 0.2936 - val_accuracy: 0.9353\n",
      "Epoch 220/790\n",
      "284/284 [==============================] - 29s 102ms/step - loss: 0.2073 - accuracy: 0.9652 - val_loss: 0.2868 - val_accuracy: 0.9356\n",
      "Epoch 221/790\n",
      "284/284 [==============================] - 28s 100ms/step - loss: 0.1972 - accuracy: 0.9657 - val_loss: 0.2727 - val_accuracy: 0.9356\n",
      "Epoch 222/790\n",
      "284/284 [==============================] - 28s 100ms/step - loss: 0.1966 - accuracy: 0.9664 - val_loss: 0.2859 - val_accuracy: 0.9361\n",
      "Epoch 223/790\n",
      "284/284 [==============================] - 29s 101ms/step - loss: 0.1926 - accuracy: 0.9662 - val_loss: 0.2691 - val_accuracy: 0.9356\n",
      "Epoch 224/790\n",
      "284/284 [==============================] - 28s 99ms/step - loss: 0.1911 - accuracy: 0.9651 - val_loss: 0.2657 - val_accuracy: 0.9362\n",
      "Epoch 225/790\n",
      "284/284 [==============================] - 29s 102ms/step - loss: 0.2005 - accuracy: 0.9679 - val_loss: 0.2939 - val_accuracy: 0.9328\n",
      "Epoch 226/790\n",
      "284/284 [==============================] - 29s 102ms/step - loss: 0.2034 - accuracy: 0.9656 - val_loss: 0.2781 - val_accuracy: 0.9363\n",
      "Epoch 227/790\n",
      "284/284 [==============================] - 28s 100ms/step - loss: 0.1893 - accuracy: 0.9671 - val_loss: 0.2697 - val_accuracy: 0.9353\n",
      "Epoch 228/790\n",
      "284/284 [==============================] - 29s 102ms/step - loss: 0.1955 - accuracy: 0.9650 - val_loss: 0.2689 - val_accuracy: 0.9366\n",
      "Epoch 229/790\n",
      "284/284 [==============================] - 29s 101ms/step - loss: 0.1974 - accuracy: 0.9660 - val_loss: 0.2862 - val_accuracy: 0.9344\n",
      "Epoch 230/790\n",
      "284/284 [==============================] - 29s 102ms/step - loss: 0.2012 - accuracy: 0.9657 - val_loss: 0.2982 - val_accuracy: 0.9342\n",
      "Epoch 231/790\n",
      "284/284 [==============================] - 29s 102ms/step - loss: 0.2012 - accuracy: 0.9659 - val_loss: 0.2880 - val_accuracy: 0.9361\n",
      "Epoch 232/790\n",
      "284/284 [==============================] - 29s 101ms/step - loss: 0.2022 - accuracy: 0.9648 - val_loss: 0.2853 - val_accuracy: 0.9364\n",
      "Epoch 233/790\n",
      "284/284 [==============================] - 29s 101ms/step - loss: 0.1983 - accuracy: 0.9664 - val_loss: 0.2632 - val_accuracy: 0.9362\n",
      "Epoch 234/790\n",
      "284/284 [==============================] - 30s 104ms/step - loss: 0.1914 - accuracy: 0.9659 - val_loss: 0.2599 - val_accuracy: 0.9378\n",
      "Epoch 235/790\n",
      "284/284 [==============================] - 29s 103ms/step - loss: 0.1904 - accuracy: 0.9655 - val_loss: 0.2670 - val_accuracy: 0.9357\n",
      "Epoch 236/790\n",
      "284/284 [==============================] - 29s 101ms/step - loss: 0.1968 - accuracy: 0.9661 - val_loss: 0.2811 - val_accuracy: 0.9346\n",
      "Epoch 237/790\n",
      "284/284 [==============================] - 29s 102ms/step - loss: 0.1898 - accuracy: 0.9674 - val_loss: 0.2774 - val_accuracy: 0.9359\n",
      "Epoch 238/790\n",
      "284/284 [==============================] - 29s 101ms/step - loss: 0.1971 - accuracy: 0.9660 - val_loss: 0.2687 - val_accuracy: 0.9382\n",
      "Epoch 239/790\n",
      "284/284 [==============================] - 29s 102ms/step - loss: 0.1951 - accuracy: 0.9659 - val_loss: 0.2769 - val_accuracy: 0.9349\n",
      "Epoch 240/790\n",
      "284/284 [==============================] - 29s 103ms/step - loss: 0.2003 - accuracy: 0.9665 - val_loss: 0.2783 - val_accuracy: 0.9371\n",
      "Epoch 241/790\n",
      "284/284 [==============================] - 29s 102ms/step - loss: 0.1979 - accuracy: 0.9665 - val_loss: 0.2909 - val_accuracy: 0.9379\n",
      "Epoch 242/790\n",
      "284/284 [==============================] - 29s 102ms/step - loss: 0.1922 - accuracy: 0.9674 - val_loss: 0.2739 - val_accuracy: 0.9374\n",
      "Epoch 243/790\n",
      "284/284 [==============================] - 29s 101ms/step - loss: 0.1982 - accuracy: 0.9671 - val_loss: 0.2736 - val_accuracy: 0.9375\n",
      "Epoch 244/790\n",
      "284/284 [==============================] - 29s 102ms/step - loss: 0.1969 - accuracy: 0.9671 - val_loss: 0.3016 - val_accuracy: 0.9366\n",
      "Epoch 245/790\n",
      "284/284 [==============================] - 29s 101ms/step - loss: 0.1967 - accuracy: 0.9661 - val_loss: 0.2833 - val_accuracy: 0.9338\n",
      "Epoch 246/790\n",
      "284/284 [==============================] - 29s 103ms/step - loss: 0.1910 - accuracy: 0.9665 - val_loss: 0.2770 - val_accuracy: 0.9364\n",
      "Epoch 247/790\n",
      "284/284 [==============================] - 29s 102ms/step - loss: 0.1927 - accuracy: 0.9653 - val_loss: 0.2824 - val_accuracy: 0.9339\n",
      "Epoch 248/790\n",
      "284/284 [==============================] - 29s 103ms/step - loss: 0.1846 - accuracy: 0.9684 - val_loss: 0.2659 - val_accuracy: 0.9373\n",
      "Epoch 249/790\n",
      "284/284 [==============================] - 29s 101ms/step - loss: 0.1898 - accuracy: 0.9645 - val_loss: 0.2786 - val_accuracy: 0.9357\n",
      "Epoch 250/790\n",
      "284/284 [==============================] - 29s 102ms/step - loss: 0.1989 - accuracy: 0.9654 - val_loss: 0.2724 - val_accuracy: 0.9363\n",
      "Epoch 251/790\n",
      "284/284 [==============================] - 29s 102ms/step - loss: 0.2004 - accuracy: 0.9668 - val_loss: 0.2782 - val_accuracy: 0.9363\n",
      "Epoch 252/790\n",
      "284/284 [==============================] - 29s 102ms/step - loss: 0.2106 - accuracy: 0.9650 - val_loss: 0.2724 - val_accuracy: 0.9356\n",
      "Epoch 253/790\n",
      "284/284 [==============================] - 29s 100ms/step - loss: 0.1936 - accuracy: 0.9670 - val_loss: 0.2812 - val_accuracy: 0.9353\n",
      "Epoch 254/790\n",
      "284/284 [==============================] - 29s 101ms/step - loss: 0.1987 - accuracy: 0.9669 - val_loss: 0.2734 - val_accuracy: 0.9376\n",
      "Epoch 255/790\n",
      "284/284 [==============================] - 29s 102ms/step - loss: 0.1932 - accuracy: 0.9671 - val_loss: 0.2823 - val_accuracy: 0.9376\n",
      "Epoch 256/790\n",
      "284/284 [==============================] - 29s 101ms/step - loss: 0.1988 - accuracy: 0.9654 - val_loss: 0.2711 - val_accuracy: 0.9365\n",
      "Epoch 257/790\n",
      "284/284 [==============================] - 29s 103ms/step - loss: 0.1865 - accuracy: 0.9676 - val_loss: 0.2701 - val_accuracy: 0.9355\n",
      "Epoch 258/790\n",
      "284/284 [==============================] - 29s 103ms/step - loss: 0.1946 - accuracy: 0.9665 - val_loss: 0.2890 - val_accuracy: 0.9345\n",
      "Epoch 259/790\n",
      "284/284 [==============================] - 29s 101ms/step - loss: 0.2018 - accuracy: 0.9663 - val_loss: 0.2773 - val_accuracy: 0.9347\n",
      "Epoch 260/790\n",
      "284/284 [==============================] - 29s 104ms/step - loss: 0.2016 - accuracy: 0.9655 - val_loss: 0.2850 - val_accuracy: 0.9376\n",
      "Epoch 261/790\n",
      "284/284 [==============================] - 28s 100ms/step - loss: 0.1961 - accuracy: 0.9657 - val_loss: 0.2750 - val_accuracy: 0.9356\n",
      "Epoch 262/790\n",
      "284/284 [==============================] - 29s 104ms/step - loss: 0.1966 - accuracy: 0.9657 - val_loss: 0.2690 - val_accuracy: 0.9357\n",
      "Epoch 263/790\n",
      "284/284 [==============================] - 29s 101ms/step - loss: 0.1904 - accuracy: 0.9672 - val_loss: 0.2753 - val_accuracy: 0.9370\n",
      "Epoch 264/790\n",
      "284/284 [==============================] - 29s 102ms/step - loss: 0.1944 - accuracy: 0.9664 - val_loss: 0.2790 - val_accuracy: 0.9368\n",
      "Epoch 265/790\n",
      "284/284 [==============================] - 29s 101ms/step - loss: 0.1975 - accuracy: 0.9657 - val_loss: 0.2877 - val_accuracy: 0.9388\n",
      "Epoch 266/790\n",
      "284/284 [==============================] - 29s 101ms/step - loss: 0.1988 - accuracy: 0.9658 - val_loss: 0.2753 - val_accuracy: 0.9335\n",
      "Epoch 267/790\n",
      "284/284 [==============================] - 29s 101ms/step - loss: 0.1951 - accuracy: 0.9659 - val_loss: 0.2795 - val_accuracy: 0.9365\n",
      "Epoch 268/790\n",
      "284/284 [==============================] - 29s 102ms/step - loss: 0.1932 - accuracy: 0.9670 - val_loss: 0.2649 - val_accuracy: 0.9354\n",
      "Epoch 269/790\n",
      "284/284 [==============================] - 29s 103ms/step - loss: 0.1917 - accuracy: 0.9670 - val_loss: 0.2705 - val_accuracy: 0.9353\n",
      "Epoch 270/790\n",
      "284/284 [==============================] - 30s 104ms/step - loss: 0.1948 - accuracy: 0.9667 - val_loss: 0.2645 - val_accuracy: 0.9373\n",
      "Epoch 271/790\n",
      "284/284 [==============================] - 29s 102ms/step - loss: 0.1958 - accuracy: 0.9666 - val_loss: 0.2855 - val_accuracy: 0.9349\n",
      "Epoch 272/790\n",
      "284/284 [==============================] - 29s 102ms/step - loss: 0.1946 - accuracy: 0.9668 - val_loss: 0.2873 - val_accuracy: 0.9361\n",
      "Epoch 273/790\n",
      "284/284 [==============================] - 29s 102ms/step - loss: 0.2079 - accuracy: 0.9641 - val_loss: 0.2803 - val_accuracy: 0.9384\n",
      "Epoch 274/790\n",
      "284/284 [==============================] - 28s 100ms/step - loss: 0.1960 - accuracy: 0.9677 - val_loss: 0.2737 - val_accuracy: 0.9383\n",
      "Epoch 275/790\n",
      "284/284 [==============================] - 29s 102ms/step - loss: 0.1934 - accuracy: 0.9685 - val_loss: 0.2910 - val_accuracy: 0.9363\n",
      "Epoch 276/790\n",
      "284/284 [==============================] - 28s 100ms/step - loss: 0.1897 - accuracy: 0.9684 - val_loss: 0.2852 - val_accuracy: 0.9361\n",
      "Epoch 277/790\n",
      "284/284 [==============================] - 29s 102ms/step - loss: 0.1963 - accuracy: 0.9656 - val_loss: 0.2788 - val_accuracy: 0.9352\n",
      "Epoch 278/790\n",
      "284/284 [==============================] - 29s 101ms/step - loss: 0.1992 - accuracy: 0.9659 - val_loss: 0.2772 - val_accuracy: 0.9356\n",
      "Epoch 279/790\n",
      "284/284 [==============================] - 29s 101ms/step - loss: 0.2035 - accuracy: 0.9661 - val_loss: 0.2777 - val_accuracy: 0.9346\n",
      "Epoch 280/790\n",
      "284/284 [==============================] - 29s 102ms/step - loss: 0.1975 - accuracy: 0.9672 - val_loss: 0.2732 - val_accuracy: 0.9326\n",
      "Epoch 281/790\n",
      "284/284 [==============================] - 28s 99ms/step - loss: 0.1940 - accuracy: 0.9652 - val_loss: 0.2764 - val_accuracy: 0.9351\n",
      "Epoch 282/790\n",
      "284/284 [==============================] - 29s 103ms/step - loss: 0.1986 - accuracy: 0.9677 - val_loss: 0.2723 - val_accuracy: 0.9376\n",
      "Epoch 283/790\n",
      "167/284 [================>.............] - ETA: 11s - loss: 0.1984 - accuracy: 0.9658"
     ]
    }
   ],
   "source": [
    "model.fit(X_train, y_train, batch_size=128,epochs=790, validation_data=(X_test, y_test))"
   ],
   "metadata": {
    "collapsed": false
   }
  },
  {
   "cell_type": "code",
   "execution_count": 9,
   "outputs": [],
   "source": [
    "model.save_weights(\"difker_3000e.h5\")"
   ],
   "metadata": {
    "collapsed": false
   }
  },
  {
   "cell_type": "code",
   "execution_count": 7,
   "outputs": [],
   "source": [
    "model.load_weights(\"difker_3000e.h5\")"
   ],
   "metadata": {
    "collapsed": false
   }
  },
  {
   "cell_type": "code",
   "execution_count": 8,
   "outputs": [
    {
     "name": "stdout",
     "output_type": "stream",
     "text": [
      "Epoch 1/10\n",
      "284/284 [==============================] - 33s 99ms/step - loss: 0.1727 - accuracy: 0.9661 - val_loss: 0.2540 - val_accuracy: 0.9362\n",
      "Epoch 2/10\n",
      "284/284 [==============================] - 28s 100ms/step - loss: 0.1727 - accuracy: 0.9686 - val_loss: 0.2542 - val_accuracy: 0.9355\n",
      "Epoch 3/10\n",
      "284/284 [==============================] - 29s 101ms/step - loss: 0.1791 - accuracy: 0.9680 - val_loss: 0.2588 - val_accuracy: 0.9396\n",
      "Epoch 4/10\n",
      "284/284 [==============================] - 29s 102ms/step - loss: 0.1854 - accuracy: 0.9664 - val_loss: 0.2701 - val_accuracy: 0.9365\n",
      "Epoch 5/10\n",
      "284/284 [==============================] - 29s 101ms/step - loss: 0.1939 - accuracy: 0.9679 - val_loss: 0.2901 - val_accuracy: 0.9354\n",
      "Epoch 6/10\n",
      "284/284 [==============================] - 29s 101ms/step - loss: 0.1897 - accuracy: 0.9678 - val_loss: 0.2683 - val_accuracy: 0.9363\n",
      "Epoch 7/10\n",
      "284/284 [==============================] - 29s 103ms/step - loss: 0.1939 - accuracy: 0.9676 - val_loss: 0.3019 - val_accuracy: 0.9340\n",
      "Epoch 8/10\n",
      "284/284 [==============================] - 28s 100ms/step - loss: 0.2016 - accuracy: 0.9682 - val_loss: 0.3029 - val_accuracy: 0.9344\n",
      "Epoch 9/10\n",
      "284/284 [==============================] - 29s 102ms/step - loss: 0.2037 - accuracy: 0.9647 - val_loss: 0.3052 - val_accuracy: 0.9332\n",
      "Epoch 10/10\n",
      "284/284 [==============================] - 29s 102ms/step - loss: 0.2007 - accuracy: 0.9678 - val_loss: 0.2881 - val_accuracy: 0.9342\n"
     ]
    },
    {
     "data": {
      "text/plain": "<keras.callbacks.History at 0x2023387a3d0>"
     },
     "execution_count": 8,
     "metadata": {},
     "output_type": "execute_result"
    }
   ],
   "source": [
    "model.fit(X_train, y_train, batch_size=128,epochs=10, validation_data=(X_test, y_test))"
   ],
   "metadata": {
    "collapsed": false
   }
  },
  {
   "cell_type": "code",
   "execution_count": 9,
   "outputs": [],
   "source": [
    "model.save_weights(\"difker_3010e.h5\")"
   ],
   "metadata": {
    "collapsed": false
   }
  },
  {
   "cell_type": "code",
   "execution_count": 2,
   "outputs": [],
   "source": [
    "def create_model():\n",
    "    inputl=Input(shape=(128,128,1))\n",
    "\n",
    "    x=Conv2D(96,(3,3),padding=\"same\")(inputl)\n",
    "    x=Activation(\"relu\")(x)\n",
    "    x=MaxPooling2D(pool_size=(2,2))(x)\n",
    "    x=Dropout(0.3)(x)\n",
    "\n",
    "    x=Conv2D(72,(3,3),padding=\"same\")(x)\n",
    "    x=Activation(\"relu\")(x)\n",
    "    x=MaxPooling2D(pool_size=(2,2))(x)\n",
    "    x=Dropout(0.3)(x)\n",
    "\n",
    "    x1=Conv2D(72,(3,3),padding=\"same\")(x)\n",
    "    x1=Activation(\"relu\")(x1)\n",
    "    x1=MaxPooling2D(pool_size=(2,2))(x1)\n",
    "    x1=Dropout(0.3)(x1)\n",
    "    x2=Conv2D(32,(5,5),padding=\"same\")(x)\n",
    "    x2=Activation(\"relu\")(x2)\n",
    "    x2=MaxPooling2D(pool_size=(2,2))(x2)\n",
    "    x2=Dropout(.3)(x2)\n",
    "    x3=Conv2D(32,(7,7),padding=\"same\")(x)\n",
    "    x3=Activation(\"relu\")(x3)\n",
    "    x3=MaxPooling2D(pool_size=(2,2))(x3)\n",
    "    x3=Dropout(0.3)(x3)\n",
    "\n",
    "    x=concatenate([x1,x2,x3],axis=3)\n",
    "\n",
    "    x=Flatten()(x)\n",
    "\n",
    "    x=Dense(84, activation=\"relu\",kernel_regularizer=regularizers.l2(l=0.001),bias_regularizer=regularizers.l2(l=0.001))(x)\n",
    "    x=Dropout(0.3)(x)\n",
    "    x=Dense(128, activation=\"relu\",kernel_regularizer=regularizers.l2(l=0.001),bias_regularizer=regularizers.l2(l=0.001))(x)\n",
    "    x=Dropout(0.5)(x)\n",
    "    x=Dense(128, activation=\"relu\",kernel_regularizer=regularizers.l2(l=0.001),bias_regularizer=regularizers.l2(l=0.001))(x)\n",
    "    x=Dropout(0.3)(x)\n",
    "    outputl=Dense(1,activation=\"sigmoid\")(x)\n",
    "    model=Model(inputs=inputl,outputs=outputl)\n",
    "    opt= tf.keras.optimizers.Adam(learning_rate=0.0002)\n",
    "    model.compile(loss=\"binary_crossentropy\",\n",
    "                  optimizer=opt,\n",
    "                  metrics=[\"accuracy\",tf.keras.metrics.AUC(name='auc'),tf.keras.metrics.Precision(name='precision'),tf.keras.metrics.Recall(name='recall')])\n",
    "    return model"
   ],
   "metadata": {
    "collapsed": false
   }
  },
  {
   "cell_type": "code",
   "execution_count": 3,
   "outputs": [],
   "source": [
    "model=create_model()"
   ],
   "metadata": {
    "collapsed": false
   }
  },
  {
   "cell_type": "code",
   "execution_count": 20,
   "outputs": [],
   "source": [
    "model.load_weights(\"difker_3010e.h5\")"
   ],
   "metadata": {
    "collapsed": false
   }
  },
  {
   "cell_type": "code",
   "execution_count": 21,
   "outputs": [
    {
     "name": "stdout",
     "output_type": "stream",
     "text": [
      "Epoch 1/10\n",
      "284/284 [==============================] - 30s 102ms/step - loss: 0.1581 - accuracy: 0.9717 - auc: 0.9954 - precision: 0.9754 - recall: 0.9672 - val_loss: 0.2626 - val_accuracy: 0.9363 - val_auc: 0.9820 - val_precision: 0.9375 - val_recall: 0.9356\n",
      "Epoch 2/10\n",
      "284/284 [==============================] - 29s 101ms/step - loss: 0.1436 - accuracy: 0.9732 - auc: 0.9959 - precision: 0.9740 - recall: 0.9717 - val_loss: 0.2465 - val_accuracy: 0.9389 - val_auc: 0.9829 - val_precision: 0.9433 - val_recall: 0.9348\n",
      "Epoch 3/10\n",
      "284/284 [==============================] - 29s 103ms/step - loss: 0.1365 - accuracy: 0.9740 - auc: 0.9964 - precision: 0.9765 - recall: 0.9709 - val_loss: 0.2423 - val_accuracy: 0.9393 - val_auc: 0.9827 - val_precision: 0.9451 - val_recall: 0.9335\n",
      "Epoch 4/10\n",
      "284/284 [==============================] - 29s 103ms/step - loss: 0.1320 - accuracy: 0.9744 - auc: 0.9964 - precision: 0.9772 - recall: 0.9709 - val_loss: 0.2374 - val_accuracy: 0.9374 - val_auc: 0.9829 - val_precision: 0.9473 - val_recall: 0.9271\n",
      "Epoch 5/10\n",
      "284/284 [==============================] - 29s 100ms/step - loss: 0.1270 - accuracy: 0.9758 - auc: 0.9965 - precision: 0.9784 - recall: 0.9726 - val_loss: 0.2322 - val_accuracy: 0.9366 - val_auc: 0.9832 - val_precision: 0.9381 - val_recall: 0.9356\n",
      "Epoch 6/10\n",
      "284/284 [==============================] - 29s 101ms/step - loss: 0.1219 - accuracy: 0.9763 - auc: 0.9968 - precision: 0.9779 - recall: 0.9741 - val_loss: 0.2314 - val_accuracy: 0.9364 - val_auc: 0.9831 - val_precision: 0.9410 - val_recall: 0.9319\n",
      "Epoch 7/10\n",
      "284/284 [==============================] - 29s 103ms/step - loss: 0.1180 - accuracy: 0.9775 - auc: 0.9970 - precision: 0.9791 - recall: 0.9754 - val_loss: 0.2373 - val_accuracy: 0.9379 - val_auc: 0.9830 - val_precision: 0.9396 - val_recall: 0.9367\n",
      "Epoch 8/10\n",
      "284/284 [==============================] - 29s 102ms/step - loss: 0.1174 - accuracy: 0.9768 - auc: 0.9970 - precision: 0.9778 - recall: 0.9754 - val_loss: 0.2275 - val_accuracy: 0.9384 - val_auc: 0.9831 - val_precision: 0.9420 - val_recall: 0.9350\n",
      "Epoch 9/10\n",
      "284/284 [==============================] - 29s 103ms/step - loss: 0.1134 - accuracy: 0.9779 - auc: 0.9972 - precision: 0.9785 - recall: 0.9769 - val_loss: 0.2342 - val_accuracy: 0.9392 - val_auc: 0.9828 - val_precision: 0.9433 - val_recall: 0.9352\n",
      "Epoch 10/10\n",
      "284/284 [==============================] - 29s 102ms/step - loss: 0.1108 - accuracy: 0.9778 - auc: 0.9973 - precision: 0.9783 - recall: 0.9768 - val_loss: 0.2330 - val_accuracy: 0.9400 - val_auc: 0.9825 - val_precision: 0.9506 - val_recall: 0.9291\n"
     ]
    },
    {
     "data": {
      "text/plain": "<keras.callbacks.History at 0x205a6cb8c10>"
     },
     "execution_count": 21,
     "metadata": {},
     "output_type": "execute_result"
    }
   ],
   "source": [
    "model.fit(X_train, y_train, batch_size=128,epochs=10, validation_data=(X_test, y_test))"
   ],
   "metadata": {
    "collapsed": false
   }
  },
  {
   "cell_type": "code",
   "execution_count": 22,
   "outputs": [],
   "source": [
    "model.save_weights(\"difker_3020e.h5\")"
   ],
   "metadata": {
    "collapsed": false
   }
  },
  {
   "cell_type": "code",
   "execution_count": 4,
   "outputs": [],
   "source": [
    "model.load_weights(\"difker_3020e.h5\")"
   ],
   "metadata": {
    "collapsed": false
   }
  },
  {
   "cell_type": "code",
   "execution_count": 5,
   "outputs": [],
   "source": [
    "model.save(\"difker_best.h5\")"
   ],
   "metadata": {
    "collapsed": false
   }
  },
  {
   "cell_type": "markdown",
   "source": [
    "# Data Augmentation\n",
    "Current model has reached the limit of its performance. so we try to improve it by using data augmentation."
   ],
   "metadata": {
    "collapsed": false
   }
  },
  {
   "cell_type": "code",
   "execution_count": 4,
   "outputs": [],
   "source": [
    "from keras.preprocessing.image import ImageDataGenerator\n",
    "datagen = ImageDataGenerator(\n",
    "    rotation_range=20,\n",
    "    vertical_flip=True,\n",
    "    horizontal_flip=True)"
   ],
   "metadata": {
    "collapsed": false
   }
  },
  {
   "cell_type": "markdown",
   "source": [
    "Although the data augmentation may not make our previous aeqt model better, it still has potential to improve our new model.\n",
    "ϱϱ3\n",
    "ktvpp:-/divhvb,clm-EdgArfavoq/c-eopgltvem-ahjciem-aolp"
   ],
   "metadata": {
    "collapsed": false
   }
  },
  {
   "cell_type": "code",
   "execution_count": 5,
   "outputs": [
    {
     "name": "stdout",
     "output_type": "stream",
     "text": [
      "(36228, 128, 128, 1)\n"
     ]
    }
   ],
   "source": [
    "X_train_gen = datagen.flow(X_train, batch_size=len(X_train), shuffle=False)\n",
    "\n",
    "X_train_aug = X_train_gen.next()\n",
    "\n",
    "print(X_train_aug.shape)"
   ],
   "metadata": {
    "collapsed": false
   }
  },
  {
   "cell_type": "code",
   "execution_count": 6,
   "outputs": [],
   "source": [
    "X_train_addaug=np.concatenate((X_train,X_train_aug),axis=0)\n",
    "y_train_addaug=np.concatenate((y_train,y_train),axis=0)"
   ],
   "metadata": {
    "collapsed": false
   }
  },
  {
   "cell_type": "code",
   "execution_count": 7,
   "outputs": [],
   "source": [
    "shuffler = np.random.permutation(len(X_train_addaug))\n",
    "X_train_addaug = X_train_addaug[shuffler]\n",
    "y_train_addaug = y_train_addaug[shuffler]"
   ],
   "metadata": {
    "collapsed": false
   }
  },
  {
   "cell_type": "code",
   "execution_count": 8,
   "outputs": [],
   "source": [
    "pickle_out = open(\"X_train_addaug\",\"wb\")\n",
    "pickle.dump(X_train_addaug, pickle_out)\n",
    "pickle_out.close()\n",
    "\n",
    "pickle_out = open(\"y_train_addaug\",\"wb\")\n",
    "pickle.dump(y_train_addaug, pickle_out)\n",
    "pickle_out.close()\n"
   ],
   "metadata": {
    "collapsed": false
   }
  },
  {
   "cell_type": "code",
   "execution_count": 9,
   "outputs": [
    {
     "data": {
      "text/plain": "(72456, 128, 128, 1)"
     },
     "execution_count": 9,
     "metadata": {},
     "output_type": "execute_result"
    }
   ],
   "source": [
    "X_train_addaug.shape"
   ],
   "metadata": {
    "collapsed": false
   }
  },
  {
   "cell_type": "code",
   "execution_count": 6,
   "outputs": [],
   "source": [
    "X_train1=pickle.load(open(\"X_train_addaug\",\"rb\"))\n",
    "y_train1=pickle.load(open(\"y_train_addaug\",\"rb\"))\n",
    "X_test1=pickle.load(open(\"X_test\",\"rb\"))\n",
    "y_test1=pickle.load(open(\"y_test\",\"rb\"))"
   ],
   "metadata": {
    "collapsed": false
   }
  },
  {
   "cell_type": "code",
   "execution_count": 7,
   "outputs": [],
   "source": [
    "X_test1=X_test1/255.0"
   ],
   "metadata": {
    "collapsed": false
   }
  },
  {
   "cell_type": "code",
   "execution_count": 7,
   "outputs": [],
   "source": [
    "model.load_weights(\"difker_3020e.h5\")"
   ],
   "metadata": {
    "collapsed": false
   }
  },
  {
   "cell_type": "code",
   "execution_count": 8,
   "outputs": [
    {
     "name": "stdout",
     "output_type": "stream",
     "text": [
      "Epoch 1/10\n",
      "567/567 [==============================] - 103s 105ms/step - loss: 0.3356 - accuracy: 0.8781 - auc: 0.9502 - precision: 0.8883 - recall: 0.8624 - val_loss: 0.2263 - val_accuracy: 0.9352 - val_auc: 0.9817 - val_precision: 0.9418 - val_recall: 0.9284\n",
      "Epoch 2/10\n",
      "567/567 [==============================] - 59s 104ms/step - loss: 0.3133 - accuracy: 0.8906 - auc: 0.9593 - precision: 0.8979 - recall: 0.8792 - val_loss: 0.2264 - val_accuracy: 0.9352 - val_auc: 0.9819 - val_precision: 0.9432 - val_recall: 0.9269\n",
      "Epoch 3/10\n",
      "567/567 [==============================] - 57s 101ms/step - loss: 0.3047 - accuracy: 0.8947 - auc: 0.9629 - precision: 0.9011 - recall: 0.8846 - val_loss: 0.2279 - val_accuracy: 0.9355 - val_auc: 0.9817 - val_precision: 0.9467 - val_recall: 0.9238\n",
      "Epoch 4/10\n",
      "567/567 [==============================] - 58s 102ms/step - loss: 0.3002 - accuracy: 0.8966 - auc: 0.9649 - precision: 0.9052 - recall: 0.8837 - val_loss: 0.2296 - val_accuracy: 0.9354 - val_auc: 0.9821 - val_precision: 0.9517 - val_recall: 0.9181\n",
      "Epoch 5/10\n",
      "567/567 [==============================] - 58s 102ms/step - loss: 0.2989 - accuracy: 0.8994 - auc: 0.9662 - precision: 0.9072 - recall: 0.8877 - val_loss: 0.2359 - val_accuracy: 0.9359 - val_auc: 0.9820 - val_precision: 0.9394 - val_recall: 0.9326\n",
      "Epoch 6/10\n",
      "567/567 [==============================] - 58s 103ms/step - loss: 0.2969 - accuracy: 0.9017 - auc: 0.9676 - precision: 0.9102 - recall: 0.8892 - val_loss: 0.2351 - val_accuracy: 0.9362 - val_auc: 0.9820 - val_precision: 0.9449 - val_recall: 0.9271\n",
      "Epoch 7/10\n",
      "567/567 [==============================] - 58s 102ms/step - loss: 0.2931 - accuracy: 0.9066 - auc: 0.9696 - precision: 0.9134 - recall: 0.8964 - val_loss: 0.2327 - val_accuracy: 0.9368 - val_auc: 0.9831 - val_precision: 0.9454 - val_recall: 0.9280\n",
      "Epoch 8/10\n",
      "567/567 [==============================] - 59s 105ms/step - loss: 0.2914 - accuracy: 0.9076 - auc: 0.9710 - precision: 0.9127 - recall: 0.8994 - val_loss: 0.2386 - val_accuracy: 0.9377 - val_auc: 0.9825 - val_precision: 0.9447 - val_recall: 0.9306\n",
      "Epoch 9/10\n",
      "567/567 [==============================] - 59s 103ms/step - loss: 0.2890 - accuracy: 0.9093 - auc: 0.9724 - precision: 0.9140 - recall: 0.9017 - val_loss: 0.2427 - val_accuracy: 0.9352 - val_auc: 0.9824 - val_precision: 0.9458 - val_recall: 0.9240\n",
      "Epoch 10/10\n",
      "567/567 [==============================] - 59s 103ms/step - loss: 0.2902 - accuracy: 0.9130 - auc: 0.9731 - precision: 0.9192 - recall: 0.9038 - val_loss: 0.2449 - val_accuracy: 0.9356 - val_auc: 0.9829 - val_precision: 0.9528 - val_recall: 0.9174\n"
     ]
    },
    {
     "data": {
      "text/plain": "<keras.callbacks.History at 0x23b49d89370>"
     },
     "execution_count": 8,
     "metadata": {},
     "output_type": "execute_result"
    }
   ],
   "source": [
    "model.fit(X_train1, y_train1, batch_size=128,epochs=10, validation_data=(X_test1, y_test1))"
   ],
   "metadata": {
    "collapsed": false
   }
  },
  {
   "cell_type": "code",
   "execution_count": 9,
   "outputs": [],
   "source": [
    "model.save_weights(\"difker_3030e.h5\")#not greater than 3020e"
   ],
   "metadata": {
    "collapsed": false
   }
  },
  {
   "cell_type": "code",
   "execution_count": 6,
   "outputs": [],
   "source": [
    "model.load_weights(\"difker_3030e.h5\")"
   ],
   "metadata": {
    "collapsed": false
   }
  },
  {
   "cell_type": "code",
   "execution_count": null,
   "outputs": [
    {
     "name": "stdout",
     "output_type": "stream",
     "text": [
      "Epoch 1/370\n",
      "567/567 [==============================] - 100s 104ms/step - loss: 0.2797 - accuracy: 0.9135 - auc: 0.9731 - precision: 0.9183 - recall: 0.9061 - val_loss: 0.2350 - val_accuracy: 0.9372 - val_auc: 0.9828 - val_precision: 0.9440 - val_recall: 0.9302\n",
      "Epoch 2/370\n",
      "567/567 [==============================] - 57s 100ms/step - loss: 0.2781 - accuracy: 0.9144 - auc: 0.9747 - precision: 0.9191 - recall: 0.9071 - val_loss: 0.2396 - val_accuracy: 0.9364 - val_auc: 0.9825 - val_precision: 0.9520 - val_recall: 0.9198\n",
      "Epoch 3/370\n",
      "567/567 [==============================] - 58s 102ms/step - loss: 0.2778 - accuracy: 0.9171 - auc: 0.9755 - precision: 0.9228 - recall: 0.9086 - val_loss: 0.2448 - val_accuracy: 0.9361 - val_auc: 0.9827 - val_precision: 0.9526 - val_recall: 0.9185\n",
      "Epoch 4/370\n",
      "567/567 [==============================] - 56s 98ms/step - loss: 0.2795 - accuracy: 0.9188 - auc: 0.9761 - precision: 0.9232 - recall: 0.9120 - val_loss: 0.2490 - val_accuracy: 0.9361 - val_auc: 0.9825 - val_precision: 0.9539 - val_recall: 0.9172\n",
      "Epoch 5/370\n",
      "567/567 [==============================] - 57s 101ms/step - loss: 0.2767 - accuracy: 0.9210 - auc: 0.9774 - precision: 0.9254 - recall: 0.9143 - val_loss: 0.2504 - val_accuracy: 0.9374 - val_auc: 0.9828 - val_precision: 0.9459 - val_recall: 0.9286\n",
      "Epoch 6/370\n",
      "567/567 [==============================] - 58s 103ms/step - loss: 0.2758 - accuracy: 0.9205 - auc: 0.9779 - precision: 0.9240 - recall: 0.9147 - val_loss: 0.2489 - val_accuracy: 0.9385 - val_auc: 0.9833 - val_precision: 0.9510 - val_recall: 0.9253\n",
      "Epoch 7/370\n",
      "567/567 [==============================] - 58s 102ms/step - loss: 0.2767 - accuracy: 0.9238 - auc: 0.9784 - precision: 0.9266 - recall: 0.9189 - val_loss: 0.2547 - val_accuracy: 0.9373 - val_auc: 0.9832 - val_precision: 0.9527 - val_recall: 0.9209\n",
      "Epoch 8/370\n",
      "567/567 [==============================] - 58s 102ms/step - loss: 0.2772 - accuracy: 0.9246 - auc: 0.9790 - precision: 0.9270 - recall: 0.9202 - val_loss: 0.2577 - val_accuracy: 0.9350 - val_auc: 0.9829 - val_precision: 0.9440 - val_recall: 0.9255\n",
      "Epoch 9/370\n",
      "567/567 [==============================] - 58s 102ms/step - loss: 0.2760 - accuracy: 0.9251 - auc: 0.9797 - precision: 0.9271 - recall: 0.9211 - val_loss: 0.2565 - val_accuracy: 0.9361 - val_auc: 0.9833 - val_precision: 0.9475 - val_recall: 0.9240\n",
      "Epoch 10/370\n",
      "567/567 [==============================] - 59s 103ms/step - loss: 0.2732 - accuracy: 0.9263 - auc: 0.9806 - precision: 0.9291 - recall: 0.9216 - val_loss: 0.2599 - val_accuracy: 0.9354 - val_auc: 0.9829 - val_precision: 0.9511 - val_recall: 0.9187\n",
      "Epoch 11/370\n",
      "567/567 [==============================] - 59s 103ms/step - loss: 0.2730 - accuracy: 0.9280 - auc: 0.9808 - precision: 0.9307 - recall: 0.9234 - val_loss: 0.2618 - val_accuracy: 0.9366 - val_auc: 0.9829 - val_precision: 0.9533 - val_recall: 0.9190\n",
      "Epoch 12/370\n",
      "567/567 [==============================] - 58s 103ms/step - loss: 0.2716 - accuracy: 0.9289 - auc: 0.9815 - precision: 0.9305 - recall: 0.9255 - val_loss: 0.2630 - val_accuracy: 0.9362 - val_auc: 0.9831 - val_precision: 0.9483 - val_recall: 0.9233\n",
      "Epoch 13/370\n",
      "567/567 [==============================] - 58s 102ms/step - loss: 0.2743 - accuracy: 0.9290 - auc: 0.9815 - precision: 0.9323 - recall: 0.9238 - val_loss: 0.2669 - val_accuracy: 0.9363 - val_auc: 0.9825 - val_precision: 0.9453 - val_recall: 0.9269\n",
      "Epoch 14/370\n",
      "567/567 [==============================] - 59s 104ms/step - loss: 0.2731 - accuracy: 0.9306 - auc: 0.9819 - precision: 0.9321 - recall: 0.9275 - val_loss: 0.2661 - val_accuracy: 0.9355 - val_auc: 0.9830 - val_precision: 0.9485 - val_recall: 0.9218\n",
      "Epoch 15/370\n",
      "567/567 [==============================] - 58s 103ms/step - loss: 0.2719 - accuracy: 0.9320 - auc: 0.9824 - precision: 0.9337 - recall: 0.9288 - val_loss: 0.2738 - val_accuracy: 0.9346 - val_auc: 0.9825 - val_precision: 0.9519 - val_recall: 0.9163\n",
      "Epoch 16/370\n",
      "567/567 [==============================] - 59s 103ms/step - loss: 0.2693 - accuracy: 0.9327 - auc: 0.9830 - precision: 0.9350 - recall: 0.9287 - val_loss: 0.2701 - val_accuracy: 0.9356 - val_auc: 0.9825 - val_precision: 0.9465 - val_recall: 0.9242\n",
      "Epoch 17/370\n",
      "567/567 [==============================] - 58s 103ms/step - loss: 0.2698 - accuracy: 0.9321 - auc: 0.9830 - precision: 0.9349 - recall: 0.9276 - val_loss: 0.2738 - val_accuracy: 0.9339 - val_auc: 0.9823 - val_precision: 0.9411 - val_recall: 0.9264\n",
      "Epoch 18/370\n",
      "567/567 [==============================] - 59s 104ms/step - loss: 0.2662 - accuracy: 0.9352 - auc: 0.9841 - precision: 0.9369 - recall: 0.9318 - val_loss: 0.2769 - val_accuracy: 0.9341 - val_auc: 0.9819 - val_precision: 0.9417 - val_recall: 0.9262\n",
      "Epoch 19/370\n",
      "567/567 [==============================] - 58s 103ms/step - loss: 0.2704 - accuracy: 0.9334 - auc: 0.9836 - precision: 0.9361 - recall: 0.9289 - val_loss: 0.2819 - val_accuracy: 0.9320 - val_auc: 0.9818 - val_precision: 0.9564 - val_recall: 0.9060\n",
      "Epoch 20/370\n",
      "567/567 [==============================] - 59s 104ms/step - loss: 0.2701 - accuracy: 0.9350 - auc: 0.9840 - precision: 0.9363 - recall: 0.9323 - val_loss: 0.2759 - val_accuracy: 0.9350 - val_auc: 0.9828 - val_precision: 0.9535 - val_recall: 0.9152\n",
      "Epoch 21/370\n",
      "567/567 [==============================] - 57s 101ms/step - loss: 0.2717 - accuracy: 0.9339 - auc: 0.9836 - precision: 0.9364 - recall: 0.9297 - val_loss: 0.2782 - val_accuracy: 0.9342 - val_auc: 0.9819 - val_precision: 0.9419 - val_recall: 0.9262\n",
      "Epoch 22/370\n",
      "567/567 [==============================] - 59s 104ms/step - loss: 0.2688 - accuracy: 0.9358 - auc: 0.9841 - precision: 0.9387 - recall: 0.9312 - val_loss: 0.2814 - val_accuracy: 0.9334 - val_auc: 0.9819 - val_precision: 0.9426 - val_recall: 0.9238\n",
      "Epoch 23/370\n",
      "567/567 [==============================] - 59s 105ms/step - loss: 0.2658 - accuracy: 0.9376 - auc: 0.9850 - precision: 0.9401 - recall: 0.9336 - val_loss: 0.2829 - val_accuracy: 0.9299 - val_auc: 0.9819 - val_precision: 0.9412 - val_recall: 0.9179\n",
      "Epoch 24/370\n",
      "567/567 [==============================] - 58s 102ms/step - loss: 0.2685 - accuracy: 0.9370 - auc: 0.9847 - precision: 0.9399 - recall: 0.9325 - val_loss: 0.2848 - val_accuracy: 0.9314 - val_auc: 0.9820 - val_precision: 0.9375 - val_recall: 0.9253\n",
      "Epoch 25/370\n",
      "567/567 [==============================] - 58s 103ms/step - loss: 0.2671 - accuracy: 0.9393 - auc: 0.9851 - precision: 0.9412 - recall: 0.9359 - val_loss: 0.2791 - val_accuracy: 0.9314 - val_auc: 0.9828 - val_precision: 0.9472 - val_recall: 0.9146\n",
      "Epoch 26/370\n",
      "567/567 [==============================] - 59s 103ms/step - loss: 0.2658 - accuracy: 0.9389 - auc: 0.9854 - precision: 0.9412 - recall: 0.9351 - val_loss: 0.2808 - val_accuracy: 0.9335 - val_auc: 0.9826 - val_precision: 0.9487 - val_recall: 0.9174\n",
      "Epoch 27/370\n",
      "567/567 [==============================] - 60s 105ms/step - loss: 0.2672 - accuracy: 0.9372 - auc: 0.9851 - precision: 0.9377 - recall: 0.9354 - val_loss: 0.2924 - val_accuracy: 0.9310 - val_auc: 0.9816 - val_precision: 0.9500 - val_recall: 0.9106\n",
      "Epoch 28/370\n",
      "567/567 [==============================] - 59s 104ms/step - loss: 0.2636 - accuracy: 0.9388 - auc: 0.9858 - precision: 0.9406 - recall: 0.9356 - val_loss: 0.2868 - val_accuracy: 0.9330 - val_auc: 0.9820 - val_precision: 0.9468 - val_recall: 0.9183\n",
      "Epoch 29/370\n",
      "567/567 [==============================] - 60s 106ms/step - loss: 0.2668 - accuracy: 0.9378 - auc: 0.9854 - precision: 0.9404 - recall: 0.9336 - val_loss: 0.2809 - val_accuracy: 0.9338 - val_auc: 0.9826 - val_precision: 0.9479 - val_recall: 0.9187\n",
      "Epoch 30/370\n",
      "567/567 [==============================] - 58s 103ms/step - loss: 0.2633 - accuracy: 0.9402 - auc: 0.9861 - precision: 0.9429 - recall: 0.9360 - val_loss: 0.2851 - val_accuracy: 0.9331 - val_auc: 0.9825 - val_precision: 0.9428 - val_recall: 0.9229\n",
      "Epoch 31/370\n",
      "567/567 [==============================] - 58s 103ms/step - loss: 0.2637 - accuracy: 0.9403 - auc: 0.9863 - precision: 0.9421 - recall: 0.9372 - val_loss: 0.2842 - val_accuracy: 0.9345 - val_auc: 0.9828 - val_precision: 0.9527 - val_recall: 0.9152\n",
      "Epoch 32/370\n",
      "567/567 [==============================] - 59s 104ms/step - loss: 0.2645 - accuracy: 0.9410 - auc: 0.9861 - precision: 0.9425 - recall: 0.9381 - val_loss: 0.2856 - val_accuracy: 0.9343 - val_auc: 0.9826 - val_precision: 0.9429 - val_recall: 0.9253\n",
      "Epoch 33/370\n",
      "567/567 [==============================] - 58s 103ms/step - loss: 0.2651 - accuracy: 0.9405 - auc: 0.9862 - precision: 0.9421 - recall: 0.9374 - val_loss: 0.2847 - val_accuracy: 0.9365 - val_auc: 0.9833 - val_precision: 0.9529 - val_recall: 0.9192\n",
      "Epoch 34/370\n",
      "567/567 [==============================] - 59s 104ms/step - loss: 0.2618 - accuracy: 0.9418 - auc: 0.9868 - precision: 0.9441 - recall: 0.9381 - val_loss: 0.2853 - val_accuracy: 0.9351 - val_auc: 0.9829 - val_precision: 0.9496 - val_recall: 0.9196\n",
      "Epoch 35/370\n",
      "567/567 [==============================] - 58s 103ms/step - loss: 0.2615 - accuracy: 0.9424 - auc: 0.9870 - precision: 0.9437 - recall: 0.9398 - val_loss: 0.2920 - val_accuracy: 0.9336 - val_auc: 0.9821 - val_precision: 0.9487 - val_recall: 0.9176\n",
      "Epoch 36/370\n",
      "567/567 [==============================] - 59s 105ms/step - loss: 0.2635 - accuracy: 0.9426 - auc: 0.9867 - precision: 0.9440 - recall: 0.9397 - val_loss: 0.2938 - val_accuracy: 0.9346 - val_auc: 0.9824 - val_precision: 0.9504 - val_recall: 0.9179\n",
      "Epoch 37/370\n",
      "567/567 [==============================] - 60s 105ms/step - loss: 0.2643 - accuracy: 0.9424 - auc: 0.9866 - precision: 0.9438 - recall: 0.9397 - val_loss: 0.2972 - val_accuracy: 0.9335 - val_auc: 0.9814 - val_precision: 0.9446 - val_recall: 0.9218\n",
      "Epoch 38/370\n",
      "567/567 [==============================] - 59s 103ms/step - loss: 0.2603 - accuracy: 0.9433 - auc: 0.9874 - precision: 0.9436 - recall: 0.9418 - val_loss: 0.2916 - val_accuracy: 0.9346 - val_auc: 0.9821 - val_precision: 0.9450 - val_recall: 0.9238\n",
      "Epoch 39/370\n",
      "567/567 [==============================] - 58s 103ms/step - loss: 0.2618 - accuracy: 0.9435 - auc: 0.9872 - precision: 0.9460 - recall: 0.9396 - val_loss: 0.2949 - val_accuracy: 0.9351 - val_auc: 0.9819 - val_precision: 0.9509 - val_recall: 0.9183\n",
      "Epoch 40/370\n",
      "567/567 [==============================] - 59s 104ms/step - loss: 0.2635 - accuracy: 0.9430 - auc: 0.9872 - precision: 0.9434 - recall: 0.9413 - val_loss: 0.2955 - val_accuracy: 0.9346 - val_auc: 0.9820 - val_precision: 0.9548 - val_recall: 0.9132\n",
      "Epoch 41/370\n",
      "567/567 [==============================] - 58s 102ms/step - loss: 0.2623 - accuracy: 0.9444 - auc: 0.9874 - precision: 0.9455 - recall: 0.9421 - val_loss: 0.2940 - val_accuracy: 0.9343 - val_auc: 0.9820 - val_precision: 0.9455 - val_recall: 0.9225\n",
      "Epoch 42/370\n",
      "567/567 [==============================] - 60s 105ms/step - loss: 0.2602 - accuracy: 0.9440 - auc: 0.9877 - precision: 0.9443 - recall: 0.9425 - val_loss: 0.2929 - val_accuracy: 0.9331 - val_auc: 0.9820 - val_precision: 0.9444 - val_recall: 0.9212\n",
      "Epoch 43/370\n",
      "567/567 [==============================] - 59s 104ms/step - loss: 0.2607 - accuracy: 0.9445 - auc: 0.9877 - precision: 0.9459 - recall: 0.9418 - val_loss: 0.2912 - val_accuracy: 0.9340 - val_auc: 0.9819 - val_precision: 0.9504 - val_recall: 0.9165\n",
      "Epoch 44/370\n",
      "567/567 [==============================] - 59s 103ms/step - loss: 0.2622 - accuracy: 0.9451 - auc: 0.9873 - precision: 0.9474 - recall: 0.9414 - val_loss: 0.2956 - val_accuracy: 0.9333 - val_auc: 0.9823 - val_precision: 0.9501 - val_recall: 0.9154\n",
      "Epoch 45/370\n",
      "567/567 [==============================] - 60s 106ms/step - loss: 0.2587 - accuracy: 0.9459 - auc: 0.9880 - precision: 0.9480 - recall: 0.9424 - val_loss: 0.3026 - val_accuracy: 0.9324 - val_auc: 0.9820 - val_precision: 0.9550 - val_recall: 0.9084\n",
      "Epoch 46/370\n",
      "567/567 [==============================] - 59s 104ms/step - loss: 0.2602 - accuracy: 0.9453 - auc: 0.9879 - precision: 0.9465 - recall: 0.9428 - val_loss: 0.2978 - val_accuracy: 0.9334 - val_auc: 0.9819 - val_precision: 0.9458 - val_recall: 0.9203\n",
      "Epoch 47/370\n",
      "567/567 [==============================] - 59s 104ms/step - loss: 0.2604 - accuracy: 0.9448 - auc: 0.9878 - precision: 0.9453 - recall: 0.9432 - val_loss: 0.2934 - val_accuracy: 0.9334 - val_auc: 0.9818 - val_precision: 0.9503 - val_recall: 0.9154\n",
      "Epoch 48/370\n",
      "567/567 [==============================] - 59s 104ms/step - loss: 0.2594 - accuracy: 0.9452 - auc: 0.9880 - precision: 0.9472 - recall: 0.9418 - val_loss: 0.2927 - val_accuracy: 0.9314 - val_auc: 0.9823 - val_precision: 0.9462 - val_recall: 0.9157\n",
      "Epoch 49/370\n",
      "567/567 [==============================] - 59s 105ms/step - loss: 0.2575 - accuracy: 0.9460 - auc: 0.9884 - precision: 0.9467 - recall: 0.9442 - val_loss: 0.2923 - val_accuracy: 0.9322 - val_auc: 0.9819 - val_precision: 0.9425 - val_recall: 0.9214\n",
      "Epoch 50/370\n",
      "567/567 [==============================] - 59s 104ms/step - loss: 0.2572 - accuracy: 0.9465 - auc: 0.9884 - precision: 0.9474 - recall: 0.9443 - val_loss: 0.2987 - val_accuracy: 0.9332 - val_auc: 0.9822 - val_precision: 0.9505 - val_recall: 0.9148\n",
      "Epoch 51/370\n",
      "567/567 [==============================] - 59s 104ms/step - loss: 0.2598 - accuracy: 0.9458 - auc: 0.9881 - precision: 0.9476 - recall: 0.9427 - val_loss: 0.3024 - val_accuracy: 0.9339 - val_auc: 0.9822 - val_precision: 0.9508 - val_recall: 0.9159\n",
      "Epoch 52/370\n",
      "567/567 [==============================] - 59s 104ms/step - loss: 0.2587 - accuracy: 0.9456 - auc: 0.9885 - precision: 0.9474 - recall: 0.9426 - val_loss: 0.2966 - val_accuracy: 0.9328 - val_auc: 0.9821 - val_precision: 0.9523 - val_recall: 0.9119\n",
      "Epoch 53/370\n",
      "567/567 [==============================] - 59s 104ms/step - loss: 0.2596 - accuracy: 0.9466 - auc: 0.9882 - precision: 0.9494 - recall: 0.9425 - val_loss: 0.3082 - val_accuracy: 0.9308 - val_auc: 0.9820 - val_precision: 0.9589 - val_recall: 0.9009\n",
      "Epoch 54/370\n",
      "567/567 [==============================] - 58s 103ms/step - loss: 0.2594 - accuracy: 0.9458 - auc: 0.9884 - precision: 0.9482 - recall: 0.9419 - val_loss: 0.2935 - val_accuracy: 0.9331 - val_auc: 0.9821 - val_precision: 0.9406 - val_recall: 0.9253\n",
      "Epoch 55/370\n",
      "567/567 [==============================] - 59s 105ms/step - loss: 0.2565 - accuracy: 0.9464 - auc: 0.9888 - precision: 0.9473 - recall: 0.9444 - val_loss: 0.2993 - val_accuracy: 0.9329 - val_auc: 0.9825 - val_precision: 0.9540 - val_recall: 0.9104\n",
      "Epoch 56/370\n",
      "567/567 [==============================] - 59s 104ms/step - loss: 0.2595 - accuracy: 0.9474 - auc: 0.9884 - precision: 0.9477 - recall: 0.9461 - val_loss: 0.2975 - val_accuracy: 0.9334 - val_auc: 0.9819 - val_precision: 0.9432 - val_recall: 0.9231\n",
      "Epoch 57/370\n",
      "567/567 [==============================] - 59s 104ms/step - loss: 0.2577 - accuracy: 0.9475 - auc: 0.9886 - precision: 0.9494 - recall: 0.9443 - val_loss: 0.2998 - val_accuracy: 0.9322 - val_auc: 0.9819 - val_precision: 0.9362 - val_recall: 0.9284\n",
      "Epoch 58/370\n",
      "567/567 [==============================] - 59s 104ms/step - loss: 0.2586 - accuracy: 0.9472 - auc: 0.9887 - precision: 0.9479 - recall: 0.9453 - val_loss: 0.3040 - val_accuracy: 0.9308 - val_auc: 0.9822 - val_precision: 0.9494 - val_recall: 0.9108\n",
      "Epoch 59/370\n",
      "567/567 [==============================] - 59s 104ms/step - loss: 0.2567 - accuracy: 0.9468 - auc: 0.9888 - precision: 0.9489 - recall: 0.9433 - val_loss: 0.3008 - val_accuracy: 0.9315 - val_auc: 0.9822 - val_precision: 0.9462 - val_recall: 0.9159\n",
      "Epoch 60/370\n",
      "567/567 [==============================] - 58s 103ms/step - loss: 0.2575 - accuracy: 0.9475 - auc: 0.9887 - precision: 0.9489 - recall: 0.9449 - val_loss: 0.2934 - val_accuracy: 0.9309 - val_auc: 0.9834 - val_precision: 0.9546 - val_recall: 0.9056\n",
      "Epoch 61/370\n",
      "567/567 [==============================] - 59s 103ms/step - loss: 0.2574 - accuracy: 0.9471 - auc: 0.9887 - precision: 0.9482 - recall: 0.9449 - val_loss: 0.2957 - val_accuracy: 0.9325 - val_auc: 0.9826 - val_precision: 0.9480 - val_recall: 0.9161\n",
      "Epoch 62/370\n",
      "567/567 [==============================] - 60s 105ms/step - loss: 0.2612 - accuracy: 0.9463 - auc: 0.9882 - precision: 0.9474 - recall: 0.9439 - val_loss: 0.2975 - val_accuracy: 0.9336 - val_auc: 0.9826 - val_precision: 0.9383 - val_recall: 0.9291\n",
      "Epoch 63/370\n",
      "567/567 [==============================] - 58s 103ms/step - loss: 0.2576 - accuracy: 0.9483 - auc: 0.9888 - precision: 0.9498 - recall: 0.9456 - val_loss: 0.2978 - val_accuracy: 0.9339 - val_auc: 0.9830 - val_precision: 0.9481 - val_recall: 0.9187\n",
      "Epoch 64/370\n",
      "567/567 [==============================] - 59s 104ms/step - loss: 0.2581 - accuracy: 0.9474 - auc: 0.9889 - precision: 0.9478 - recall: 0.9459 - val_loss: 0.2983 - val_accuracy: 0.9312 - val_auc: 0.9817 - val_precision: 0.9384 - val_recall: 0.9238\n",
      "Epoch 65/370\n",
      "567/567 [==============================] - 58s 102ms/step - loss: 0.2579 - accuracy: 0.9475 - auc: 0.9888 - precision: 0.9491 - recall: 0.9448 - val_loss: 0.2998 - val_accuracy: 0.9319 - val_auc: 0.9819 - val_precision: 0.9438 - val_recall: 0.9192\n",
      "Epoch 66/370\n",
      "567/567 [==============================] - 59s 104ms/step - loss: 0.2569 - accuracy: 0.9490 - auc: 0.9891 - precision: 0.9504 - recall: 0.9463 - val_loss: 0.2971 - val_accuracy: 0.9317 - val_auc: 0.9823 - val_precision: 0.9428 - val_recall: 0.9198\n",
      "Epoch 67/370\n",
      "567/567 [==============================] - 58s 103ms/step - loss: 0.2566 - accuracy: 0.9486 - auc: 0.9892 - precision: 0.9504 - recall: 0.9456 - val_loss: 0.3063 - val_accuracy: 0.9302 - val_auc: 0.9819 - val_precision: 0.9514 - val_recall: 0.9075\n",
      "Epoch 68/370\n",
      "567/567 [==============================] - 59s 104ms/step - loss: 0.2571 - accuracy: 0.9494 - auc: 0.9892 - precision: 0.9505 - recall: 0.9471 - val_loss: 0.3065 - val_accuracy: 0.9325 - val_auc: 0.9815 - val_precision: 0.9531 - val_recall: 0.9106\n",
      "Epoch 69/370\n",
      "567/567 [==============================] - 59s 104ms/step - loss: 0.2581 - accuracy: 0.9483 - auc: 0.9889 - precision: 0.9498 - recall: 0.9456 - val_loss: 0.3024 - val_accuracy: 0.9320 - val_auc: 0.9822 - val_precision: 0.9547 - val_recall: 0.9078\n",
      "Epoch 70/370\n",
      "567/567 [==============================] - 60s 105ms/step - loss: 0.2546 - accuracy: 0.9491 - auc: 0.9894 - precision: 0.9504 - recall: 0.9466 - val_loss: 0.3069 - val_accuracy: 0.9315 - val_auc: 0.9820 - val_precision: 0.9485 - val_recall: 0.9135\n",
      "Epoch 71/370\n",
      "567/567 [==============================] - 60s 105ms/step - loss: 0.2568 - accuracy: 0.9479 - auc: 0.9891 - precision: 0.9492 - recall: 0.9454 - val_loss: 0.3024 - val_accuracy: 0.9326 - val_auc: 0.9826 - val_precision: 0.9571 - val_recall: 0.9067\n",
      "Epoch 72/370\n",
      "567/567 [==============================] - 58s 103ms/step - loss: 0.2583 - accuracy: 0.9471 - auc: 0.9891 - precision: 0.9485 - recall: 0.9446 - val_loss: 0.2985 - val_accuracy: 0.9315 - val_auc: 0.9824 - val_precision: 0.9513 - val_recall: 0.9104\n",
      "Epoch 73/370\n",
      "567/567 [==============================] - 58s 103ms/step - loss: 0.2571 - accuracy: 0.9482 - auc: 0.9892 - precision: 0.9491 - recall: 0.9461 - val_loss: 0.3001 - val_accuracy: 0.9314 - val_auc: 0.9823 - val_precision: 0.9412 - val_recall: 0.9212\n",
      "Epoch 74/370\n",
      "567/567 [==============================] - 59s 104ms/step - loss: 0.2559 - accuracy: 0.9490 - auc: 0.9893 - precision: 0.9497 - recall: 0.9473 - val_loss: 0.3004 - val_accuracy: 0.9301 - val_auc: 0.9824 - val_precision: 0.9504 - val_recall: 0.9084\n",
      "Epoch 75/370\n",
      "567/567 [==============================] - 59s 104ms/step - loss: 0.2521 - accuracy: 0.9501 - auc: 0.9899 - precision: 0.9515 - recall: 0.9477 - val_loss: 0.3137 - val_accuracy: 0.9317 - val_auc: 0.9813 - val_precision: 0.9464 - val_recall: 0.9159\n",
      "Epoch 76/370\n",
      "567/567 [==============================] - 60s 105ms/step - loss: 0.2546 - accuracy: 0.9497 - auc: 0.9894 - precision: 0.9502 - recall: 0.9481 - val_loss: 0.3071 - val_accuracy: 0.9292 - val_auc: 0.9813 - val_precision: 0.9517 - val_recall: 0.9051\n",
      "Epoch 77/370\n",
      "567/567 [==============================] - 59s 105ms/step - loss: 0.2537 - accuracy: 0.9500 - auc: 0.9896 - precision: 0.9519 - recall: 0.9470 - val_loss: 0.3085 - val_accuracy: 0.9306 - val_auc: 0.9817 - val_precision: 0.9453 - val_recall: 0.9148\n",
      "Epoch 78/370\n",
      "567/567 [==============================] - 59s 104ms/step - loss: 0.2544 - accuracy: 0.9501 - auc: 0.9895 - precision: 0.9507 - recall: 0.9486 - val_loss: 0.3026 - val_accuracy: 0.9344 - val_auc: 0.9820 - val_precision: 0.9500 - val_recall: 0.9179\n",
      "Epoch 79/370\n",
      "567/567 [==============================] - 59s 105ms/step - loss: 0.2541 - accuracy: 0.9506 - auc: 0.9897 - precision: 0.9520 - recall: 0.9481 - val_loss: 0.3022 - val_accuracy: 0.9319 - val_auc: 0.9819 - val_precision: 0.9448 - val_recall: 0.9181\n",
      "Epoch 80/370\n",
      "567/567 [==============================] - 59s 103ms/step - loss: 0.2527 - accuracy: 0.9512 - auc: 0.9899 - precision: 0.9526 - recall: 0.9486 - val_loss: 0.3055 - val_accuracy: 0.9338 - val_auc: 0.9818 - val_precision: 0.9499 - val_recall: 0.9165\n",
      "Epoch 81/370\n",
      "567/567 [==============================] - 59s 105ms/step - loss: 0.2551 - accuracy: 0.9495 - auc: 0.9894 - precision: 0.9500 - recall: 0.9479 - val_loss: 0.3052 - val_accuracy: 0.9321 - val_auc: 0.9822 - val_precision: 0.9491 - val_recall: 0.9139\n",
      "Epoch 82/370\n",
      "567/567 [==============================] - 58s 103ms/step - loss: 0.2553 - accuracy: 0.9491 - auc: 0.9895 - precision: 0.9504 - recall: 0.9467 - val_loss: 0.3057 - val_accuracy: 0.9308 - val_auc: 0.9817 - val_precision: 0.9441 - val_recall: 0.9165\n",
      "Epoch 83/370\n",
      "567/567 [==============================] - 60s 106ms/step - loss: 0.2539 - accuracy: 0.9491 - auc: 0.9897 - precision: 0.9507 - recall: 0.9464 - val_loss: 0.3117 - val_accuracy: 0.9299 - val_auc: 0.9809 - val_precision: 0.9535 - val_recall: 0.9047\n",
      "Epoch 84/370\n",
      "567/567 [==============================] - 59s 105ms/step - loss: 0.2511 - accuracy: 0.9524 - auc: 0.9901 - precision: 0.9545 - recall: 0.9492 - val_loss: 0.3071 - val_accuracy: 0.9313 - val_auc: 0.9813 - val_precision: 0.9444 - val_recall: 0.9174\n",
      "Epoch 85/370\n",
      "567/567 [==============================] - 58s 102ms/step - loss: 0.2554 - accuracy: 0.9500 - auc: 0.9897 - precision: 0.9510 - recall: 0.9478 - val_loss: 0.3085 - val_accuracy: 0.9318 - val_auc: 0.9816 - val_precision: 0.9522 - val_recall: 0.9099\n",
      "Epoch 86/370\n",
      "567/567 [==============================] - 59s 103ms/step - loss: 0.2546 - accuracy: 0.9508 - auc: 0.9896 - precision: 0.9526 - recall: 0.9479 - val_loss: 0.3082 - val_accuracy: 0.9340 - val_auc: 0.9816 - val_precision: 0.9445 - val_recall: 0.9229\n",
      "Epoch 87/370\n",
      "567/567 [==============================] - 59s 104ms/step - loss: 0.2532 - accuracy: 0.9506 - auc: 0.9898 - precision: 0.9521 - recall: 0.9480 - val_loss: 0.3048 - val_accuracy: 0.9329 - val_auc: 0.9815 - val_precision: 0.9402 - val_recall: 0.9253\n",
      "Epoch 88/370\n",
      "567/567 [==============================] - 58s 103ms/step - loss: 0.2541 - accuracy: 0.9499 - auc: 0.9896 - precision: 0.9502 - recall: 0.9486 - val_loss: 0.3121 - val_accuracy: 0.9289 - val_auc: 0.9810 - val_precision: 0.9455 - val_recall: 0.9110\n",
      "Epoch 89/370\n",
      "567/567 [==============================] - 59s 104ms/step - loss: 0.2548 - accuracy: 0.9503 - auc: 0.9897 - precision: 0.9510 - recall: 0.9486 - val_loss: 0.3111 - val_accuracy: 0.9290 - val_auc: 0.9808 - val_precision: 0.9435 - val_recall: 0.9135\n",
      "Epoch 90/370\n",
      "567/567 [==============================] - 58s 103ms/step - loss: 0.2518 - accuracy: 0.9520 - auc: 0.9901 - precision: 0.9533 - recall: 0.9496 - val_loss: 0.3088 - val_accuracy: 0.9310 - val_auc: 0.9812 - val_precision: 0.9451 - val_recall: 0.9159\n",
      "Epoch 91/370\n",
      "567/567 [==============================] - 59s 103ms/step - loss: 0.2521 - accuracy: 0.9508 - auc: 0.9900 - precision: 0.9534 - recall: 0.9468 - val_loss: 0.3054 - val_accuracy: 0.9306 - val_auc: 0.9812 - val_precision: 0.9463 - val_recall: 0.9137\n",
      "Epoch 92/370\n",
      "567/567 [==============================] - 59s 104ms/step - loss: 0.2520 - accuracy: 0.9513 - auc: 0.9900 - precision: 0.9527 - recall: 0.9487 - val_loss: 0.3090 - val_accuracy: 0.9323 - val_auc: 0.9810 - val_precision: 0.9548 - val_recall: 0.9084\n",
      "Epoch 93/370\n",
      "567/567 [==============================] - 59s 104ms/step - loss: 0.2544 - accuracy: 0.9508 - auc: 0.9896 - precision: 0.9527 - recall: 0.9478 - val_loss: 0.3112 - val_accuracy: 0.9311 - val_auc: 0.9800 - val_precision: 0.9361 - val_recall: 0.9262\n",
      "Epoch 94/370\n",
      "567/567 [==============================] - 59s 105ms/step - loss: 0.2534 - accuracy: 0.9510 - auc: 0.9897 - precision: 0.9517 - recall: 0.9491 - val_loss: 0.3048 - val_accuracy: 0.9349 - val_auc: 0.9818 - val_precision: 0.9448 - val_recall: 0.9244\n",
      "Epoch 95/370\n",
      "567/567 [==============================] - 59s 104ms/step - loss: 0.2546 - accuracy: 0.9505 - auc: 0.9897 - precision: 0.9521 - recall: 0.9477 - val_loss: 0.3141 - val_accuracy: 0.9310 - val_auc: 0.9814 - val_precision: 0.9578 - val_recall: 0.9025\n",
      "Epoch 96/370\n",
      "567/567 [==============================] - 59s 104ms/step - loss: 0.2528 - accuracy: 0.9516 - auc: 0.9900 - precision: 0.9523 - recall: 0.9499 - val_loss: 0.3018 - val_accuracy: 0.9318 - val_auc: 0.9819 - val_precision: 0.9422 - val_recall: 0.9207\n",
      "Epoch 97/370\n",
      "567/567 [==============================] - 59s 104ms/step - loss: 0.2497 - accuracy: 0.9530 - auc: 0.9905 - precision: 0.9531 - recall: 0.9519 - val_loss: 0.3055 - val_accuracy: 0.9318 - val_auc: 0.9817 - val_precision: 0.9399 - val_recall: 0.9233\n",
      "Epoch 98/370\n",
      "567/567 [==============================] - 59s 104ms/step - loss: 0.2496 - accuracy: 0.9517 - auc: 0.9905 - precision: 0.9520 - recall: 0.9505 - val_loss: 0.3057 - val_accuracy: 0.9320 - val_auc: 0.9823 - val_precision: 0.9475 - val_recall: 0.9154\n",
      "Epoch 99/370\n",
      "567/567 [==============================] - 59s 104ms/step - loss: 0.2541 - accuracy: 0.9520 - auc: 0.9898 - precision: 0.9537 - recall: 0.9490 - val_loss: 0.3016 - val_accuracy: 0.9309 - val_auc: 0.9821 - val_precision: 0.9451 - val_recall: 0.9157\n",
      "Epoch 100/370\n",
      "567/567 [==============================] - 59s 104ms/step - loss: 0.2508 - accuracy: 0.9518 - auc: 0.9903 - precision: 0.9526 - recall: 0.9500 - val_loss: 0.3027 - val_accuracy: 0.9311 - val_auc: 0.9819 - val_precision: 0.9440 - val_recall: 0.9174\n",
      "Epoch 101/370\n",
      "567/567 [==============================] - 58s 103ms/step - loss: 0.2510 - accuracy: 0.9520 - auc: 0.9903 - precision: 0.9516 - recall: 0.9514 - val_loss: 0.3111 - val_accuracy: 0.9309 - val_auc: 0.9815 - val_precision: 0.9435 - val_recall: 0.9174\n",
      "Epoch 102/370\n",
      "567/567 [==============================] - 58s 103ms/step - loss: 0.2519 - accuracy: 0.9513 - auc: 0.9903 - precision: 0.9515 - recall: 0.9500 - val_loss: 0.3068 - val_accuracy: 0.9298 - val_auc: 0.9819 - val_precision: 0.9454 - val_recall: 0.9130\n",
      "Epoch 103/370\n",
      "567/567 [==============================] - 59s 104ms/step - loss: 0.2513 - accuracy: 0.9527 - auc: 0.9904 - precision: 0.9543 - recall: 0.9500 - val_loss: 0.3047 - val_accuracy: 0.9301 - val_auc: 0.9819 - val_precision: 0.9404 - val_recall: 0.9192\n",
      "Epoch 104/370\n",
      "567/567 [==============================] - 59s 103ms/step - loss: 0.2512 - accuracy: 0.9517 - auc: 0.9904 - precision: 0.9535 - recall: 0.9488 - val_loss: 0.3093 - val_accuracy: 0.9296 - val_auc: 0.9816 - val_precision: 0.9468 - val_recall: 0.9110\n",
      "Epoch 105/370\n",
      "567/567 [==============================] - 59s 104ms/step - loss: 0.2504 - accuracy: 0.9523 - auc: 0.9905 - precision: 0.9542 - recall: 0.9493 - val_loss: 0.3005 - val_accuracy: 0.9322 - val_auc: 0.9829 - val_precision: 0.9473 - val_recall: 0.9161\n",
      "Epoch 106/370\n",
      "567/567 [==============================] - 59s 103ms/step - loss: 0.2509 - accuracy: 0.9525 - auc: 0.9904 - precision: 0.9544 - recall: 0.9495 - val_loss: 0.3148 - val_accuracy: 0.9299 - val_auc: 0.9820 - val_precision: 0.9531 - val_recall: 0.9051\n",
      "Epoch 107/370\n",
      "567/567 [==============================] - 58s 103ms/step - loss: 0.2514 - accuracy: 0.9521 - auc: 0.9903 - precision: 0.9536 - recall: 0.9496 - val_loss: 0.3030 - val_accuracy: 0.9297 - val_auc: 0.9820 - val_precision: 0.9450 - val_recall: 0.9132\n",
      "Epoch 108/370\n",
      "567/567 [==============================] - 59s 104ms/step - loss: 0.2519 - accuracy: 0.9528 - auc: 0.9902 - precision: 0.9553 - recall: 0.9491 - val_loss: 0.3009 - val_accuracy: 0.9334 - val_auc: 0.9824 - val_precision: 0.9478 - val_recall: 0.9181\n",
      "Epoch 109/370\n",
      "567/567 [==============================] - 59s 104ms/step - loss: 0.2524 - accuracy: 0.9513 - auc: 0.9902 - precision: 0.9521 - recall: 0.9494 - val_loss: 0.3179 - val_accuracy: 0.9317 - val_auc: 0.9812 - val_precision: 0.9524 - val_recall: 0.9095\n",
      "Epoch 110/370\n",
      "567/567 [==============================] - 59s 104ms/step - loss: 0.2519 - accuracy: 0.9516 - auc: 0.9901 - precision: 0.9532 - recall: 0.9489 - val_loss: 0.3048 - val_accuracy: 0.9315 - val_auc: 0.9826 - val_precision: 0.9474 - val_recall: 0.9146\n",
      "Epoch 111/370\n",
      "567/567 [==============================] - 59s 104ms/step - loss: 0.2482 - accuracy: 0.9524 - auc: 0.9908 - precision: 0.9537 - recall: 0.9500 - val_loss: 0.3028 - val_accuracy: 0.9330 - val_auc: 0.9828 - val_precision: 0.9500 - val_recall: 0.9148\n",
      "Epoch 112/370\n",
      "567/567 [==============================] - 59s 103ms/step - loss: 0.2486 - accuracy: 0.9541 - auc: 0.9907 - precision: 0.9563 - recall: 0.9508 - val_loss: 0.2984 - val_accuracy: 0.9322 - val_auc: 0.9825 - val_precision: 0.9391 - val_recall: 0.9251\n",
      "Epoch 113/370\n",
      "567/567 [==============================] - 58s 103ms/step - loss: 0.2526 - accuracy: 0.9511 - auc: 0.9901 - precision: 0.9535 - recall: 0.9475 - val_loss: 0.3058 - val_accuracy: 0.9338 - val_auc: 0.9818 - val_precision: 0.9380 - val_recall: 0.9297\n",
      "Epoch 114/370\n",
      "567/567 [==============================] - 58s 103ms/step - loss: 0.2487 - accuracy: 0.9526 - auc: 0.9907 - precision: 0.9534 - recall: 0.9509 - val_loss: 0.3062 - val_accuracy: 0.9313 - val_auc: 0.9820 - val_precision: 0.9505 - val_recall: 0.9108\n",
      "Epoch 115/370\n",
      "567/567 [==============================] - 59s 104ms/step - loss: 0.2479 - accuracy: 0.9537 - auc: 0.9908 - precision: 0.9550 - recall: 0.9512 - val_loss: 0.3091 - val_accuracy: 0.9317 - val_auc: 0.9813 - val_precision: 0.9416 - val_recall: 0.9212\n",
      "Epoch 116/370\n",
      "567/567 [==============================] - 59s 104ms/step - loss: 0.2472 - accuracy: 0.9539 - auc: 0.9908 - precision: 0.9546 - recall: 0.9521 - val_loss: 0.3081 - val_accuracy: 0.9308 - val_auc: 0.9820 - val_precision: 0.9506 - val_recall: 0.9095\n",
      "Epoch 117/370\n",
      "567/567 [==============================] - 59s 103ms/step - loss: 0.2487 - accuracy: 0.9529 - auc: 0.9905 - precision: 0.9541 - recall: 0.9507 - val_loss: 0.3079 - val_accuracy: 0.9315 - val_auc: 0.9817 - val_precision: 0.9483 - val_recall: 0.9137\n",
      "Epoch 118/370\n",
      "567/567 [==============================] - 59s 105ms/step - loss: 0.2492 - accuracy: 0.9532 - auc: 0.9905 - precision: 0.9553 - recall: 0.9500 - val_loss: 0.3062 - val_accuracy: 0.9321 - val_auc: 0.9821 - val_precision: 0.9485 - val_recall: 0.9146\n",
      "Epoch 119/370\n",
      "567/567 [==============================] - 59s 104ms/step - loss: 0.2479 - accuracy: 0.9536 - auc: 0.9908 - precision: 0.9562 - recall: 0.9499 - val_loss: 0.3029 - val_accuracy: 0.9343 - val_auc: 0.9823 - val_precision: 0.9477 - val_recall: 0.9201\n",
      "Epoch 120/370\n",
      "567/567 [==============================] - 59s 104ms/step - loss: 0.2491 - accuracy: 0.9529 - auc: 0.9908 - precision: 0.9544 - recall: 0.9502 - val_loss: 0.3092 - val_accuracy: 0.9317 - val_auc: 0.9825 - val_precision: 0.9543 - val_recall: 0.9075\n",
      "Epoch 121/370\n",
      " 67/567 [==>...........................] - ETA: 48s - loss: 0.2411 - accuracy: 0.9572 - auc: 0.9918 - precision: 0.9602 - recall: 0.9528"
     ]
    }
   ],
   "source": [
    "model.fit(X_train1, y_train1, batch_size=128,epochs=370, validation_data=(X_test1, y_test1))"
   ],
   "metadata": {
    "collapsed": false
   }
  },
  {
   "cell_type": "code",
   "execution_count": null,
   "outputs": [],
   "source": [
    "model.save_weights(\"difker_3400e.h5\")"
   ],
   "metadata": {
    "collapsed": false
   }
  },
  {
   "cell_type": "code",
   "execution_count": 6,
   "outputs": [],
   "source": [
    "model.load_weights(\"difker_3400e.h5\")"
   ],
   "metadata": {
    "collapsed": false,
    "pycharm": {
     "name": "#%%mo'd\n"
    }
   }
  },
  {
   "cell_type": "code",
   "execution_count": 7,
   "outputs": [
    {
     "name": "stdout",
     "output_type": "stream",
     "text": [
      "Epoch 1/10\n",
      "567/567 [==============================] - 98s 102ms/step - loss: 0.2202 - accuracy: 0.9575 - auc: 0.9918 - precision: 0.9584 - recall: 0.9557 - val_loss: 0.2993 - val_accuracy: 0.9318 - val_auc: 0.9813 - val_precision: 0.9528 - val_recall: 0.9093\n",
      "Epoch 2/10\n",
      "567/567 [==============================] - 57s 100ms/step - loss: 0.2222 - accuracy: 0.9583 - auc: 0.9922 - precision: 0.9599 - recall: 0.9557 - val_loss: 0.3097 - val_accuracy: 0.9309 - val_auc: 0.9800 - val_precision: 0.9417 - val_recall: 0.9194\n",
      "Epoch 3/10\n",
      "567/567 [==============================] - 57s 101ms/step - loss: 0.2294 - accuracy: 0.9575 - auc: 0.9919 - precision: 0.9607 - recall: 0.9532 - val_loss: 0.3030 - val_accuracy: 0.9312 - val_auc: 0.9819 - val_precision: 0.9555 - val_recall: 0.9053\n",
      "Epoch 4/10\n",
      "567/567 [==============================] - 57s 100ms/step - loss: 0.2291 - accuracy: 0.9583 - auc: 0.9923 - precision: 0.9613 - recall: 0.9542 - val_loss: 0.3146 - val_accuracy: 0.9302 - val_auc: 0.9803 - val_precision: 0.9479 - val_recall: 0.9113\n",
      "Epoch 5/10\n",
      "567/567 [==============================] - 58s 102ms/step - loss: 0.2314 - accuracy: 0.9579 - auc: 0.9924 - precision: 0.9604 - recall: 0.9545 - val_loss: 0.3121 - val_accuracy: 0.9307 - val_auc: 0.9810 - val_precision: 0.9490 - val_recall: 0.9110\n",
      "Epoch 6/10\n",
      "567/567 [==============================] - 57s 100ms/step - loss: 0.2331 - accuracy: 0.9580 - auc: 0.9923 - precision: 0.9612 - recall: 0.9536 - val_loss: 0.3169 - val_accuracy: 0.9292 - val_auc: 0.9810 - val_precision: 0.9536 - val_recall: 0.9031\n",
      "Epoch 7/10\n",
      "567/567 [==============================] - 57s 100ms/step - loss: 0.2310 - accuracy: 0.9592 - auc: 0.9928 - precision: 0.9623 - recall: 0.9551 - val_loss: 0.3169 - val_accuracy: 0.9304 - val_auc: 0.9813 - val_precision: 0.9519 - val_recall: 0.9075\n",
      "Epoch 8/10\n",
      "567/567 [==============================] - 57s 100ms/step - loss: 0.2321 - accuracy: 0.9600 - auc: 0.9928 - precision: 0.9616 - recall: 0.9575 - val_loss: 0.3074 - val_accuracy: 0.9292 - val_auc: 0.9819 - val_precision: 0.9517 - val_recall: 0.9051\n",
      "Epoch 9/10\n",
      "567/567 [==============================] - 57s 100ms/step - loss: 0.2340 - accuracy: 0.9603 - auc: 0.9927 - precision: 0.9617 - recall: 0.9580 - val_loss: 0.3147 - val_accuracy: 0.9313 - val_auc: 0.9816 - val_precision: 0.9522 - val_recall: 0.9091\n",
      "Epoch 10/10\n",
      "567/567 [==============================] - 57s 101ms/step - loss: 0.2370 - accuracy: 0.9587 - auc: 0.9924 - precision: 0.9615 - recall: 0.9548 - val_loss: 0.3134 - val_accuracy: 0.9301 - val_auc: 0.9817 - val_precision: 0.9524 - val_recall: 0.9062\n"
     ]
    },
    {
     "data": {
      "text/plain": "<keras.callbacks.History at 0x1617a221d90>"
     },
     "execution_count": 7,
     "metadata": {},
     "output_type": "execute_result"
    }
   ],
   "source": [
    "model.fit(X_train1, y_train1, batch_size=128,epochs=10, validation_data=(X_test1, y_test1))"
   ],
   "metadata": {
    "collapsed": false
   }
  },
  {
   "cell_type": "code",
   "execution_count": 8,
   "outputs": [],
   "source": [
    "model.save_weights(\"difker_3410e.h5\")"
   ],
   "metadata": {
    "collapsed": false
   }
  },
  {
   "cell_type": "code",
   "execution_count": 8,
   "outputs": [],
   "source": [
    "model.load_weights(\"difker_3410e.h5\")"
   ],
   "metadata": {
    "collapsed": false
   }
  },
  {
   "cell_type": "code",
   "execution_count": 9,
   "outputs": [
    {
     "name": "stdout",
     "output_type": "stream",
     "text": [
      "Epoch 1/10\n",
      "1133/1133 [==============================] - 36s 28ms/step - loss: 0.1760 - accuracy: 0.9637 - auc: 0.9932 - precision: 0.9650 - recall: 0.9616 - val_loss: 0.2545 - val_accuracy: 0.9351 - val_auc: 0.9837 - val_precision: 0.9640 - val_recall: 0.9047\n",
      "Epoch 2/10\n",
      "1133/1133 [==============================] - 32s 28ms/step - loss: 0.1687 - accuracy: 0.9702 - auc: 0.9956 - precision: 0.9719 - recall: 0.9678 - val_loss: 0.2747 - val_accuracy: 0.9345 - val_auc: 0.9829 - val_precision: 0.9566 - val_recall: 0.9110\n",
      "Epoch 3/10\n",
      "1133/1133 [==============================] - 31s 28ms/step - loss: 0.1762 - accuracy: 0.9712 - auc: 0.9958 - precision: 0.9734 - recall: 0.9684 - val_loss: 0.2943 - val_accuracy: 0.9297 - val_auc: 0.9831 - val_precision: 0.9686 - val_recall: 0.8889\n",
      "Epoch 4/10\n",
      "1133/1133 [==============================] - 31s 28ms/step - loss: 0.1760 - accuracy: 0.9739 - auc: 0.9962 - precision: 0.9763 - recall: 0.9709 - val_loss: 0.2844 - val_accuracy: 0.9363 - val_auc: 0.9825 - val_precision: 0.9369 - val_recall: 0.9363\n",
      "Epoch 5/10\n",
      "1133/1133 [==============================] - 31s 27ms/step - loss: 0.1797 - accuracy: 0.9744 - auc: 0.9960 - precision: 0.9767 - recall: 0.9715 - val_loss: 0.2806 - val_accuracy: 0.9375 - val_auc: 0.9836 - val_precision: 0.9507 - val_recall: 0.9236\n",
      "Epoch 6/10\n",
      "1133/1133 [==============================] - 30s 27ms/step - loss: 0.1806 - accuracy: 0.9751 - auc: 0.9963 - precision: 0.9783 - recall: 0.9714 - val_loss: 0.2929 - val_accuracy: 0.9373 - val_auc: 0.9825 - val_precision: 0.9433 - val_recall: 0.9313\n",
      "Epoch 7/10\n",
      "1133/1133 [==============================] - 30s 27ms/step - loss: 0.1784 - accuracy: 0.9761 - auc: 0.9967 - precision: 0.9777 - recall: 0.9739 - val_loss: 0.2907 - val_accuracy: 0.9382 - val_auc: 0.9832 - val_precision: 0.9506 - val_recall: 0.9251\n",
      "Epoch 8/10\n",
      "1133/1133 [==============================] - 31s 27ms/step - loss: 0.1794 - accuracy: 0.9761 - auc: 0.9968 - precision: 0.9777 - recall: 0.9739 - val_loss: 0.3063 - val_accuracy: 0.9371 - val_auc: 0.9816 - val_precision: 0.9484 - val_recall: 0.9251\n",
      "Epoch 9/10\n",
      "1133/1133 [==============================] - 30s 27ms/step - loss: 0.1800 - accuracy: 0.9770 - auc: 0.9967 - precision: 0.9789 - recall: 0.9745 - val_loss: 0.2928 - val_accuracy: 0.9366 - val_auc: 0.9825 - val_precision: 0.9560 - val_recall: 0.9161\n",
      "Epoch 10/10\n",
      "1133/1133 [==============================] - 30s 27ms/step - loss: 0.1791 - accuracy: 0.9772 - auc: 0.9969 - precision: 0.9793 - recall: 0.9745 - val_loss: 0.2910 - val_accuracy: 0.9394 - val_auc: 0.9827 - val_precision: 0.9501 - val_recall: 0.9282\n"
     ]
    },
    {
     "data": {
      "text/plain": "<keras.callbacks.History at 0x210e5ae9160>"
     },
     "execution_count": 9,
     "metadata": {},
     "output_type": "execute_result"
    }
   ],
   "source": [
    "model.fit(X_train, y_train, batch_size=32,epochs=10, validation_data=(X_test, y_test))"
   ],
   "metadata": {
    "collapsed": false
   }
  },
  {
   "cell_type": "code",
   "execution_count": null,
   "outputs": [],
   "source": [
    "model.save_weights(\"difker_3420e.h5\")"
   ],
   "metadata": {
    "collapsed": false
   }
  }
 ],
 "metadata": {
  "kernelspec": {
   "display_name": "Python 3",
   "language": "python",
   "name": "python3"
  },
  "language_info": {
   "codemirror_mode": {
    "name": "ipython",
    "version": 2
   },
   "file_extension": ".py",
   "mimetype": "text/x-python",
   "name": "python",
   "nbconvert_exporter": "python",
   "pygments_lexer": "ipython2",
   "version": "2.7.6"
  }
 },
 "nbformat": 4,
 "nbformat_minor": 0
}
