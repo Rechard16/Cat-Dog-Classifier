{
 "cells": [
  {
   "cell_type": "markdown",
   "source": [
    "# SIFT+SVM"
   ],
   "metadata": {
    "collapsed": false
   }
  },
  {
   "cell_type": "code",
   "execution_count": 1,
   "outputs": [],
   "source": [
    "import cv2 as cv\n",
    "import numpy as np\n",
    "import matplotlib.pyplot as plt\n",
    "import os\n",
    "import glob\n",
    "import random\n",
    "import pickle\n",
    "from sklearn import svm\n",
    "from sklearn.model_selection import train_test_split\n",
    "from sklearn.metrics import accuracy_score\n",
    "from sklearn.metrics import confusion_matrix\n",
    "from sklearn.metrics import classification_report\n",
    "from sklearn.model_selection import GridSearchCV\n",
    "from sklearn.model_selection import cross_val_score\n",
    "from sklearn.model_selection import cross_val_predict\n",
    "from sklearn.metrics import *\n",
    "import pandas as pd\n",
    "import seaborn as sns\n",
    "from sklearn.decomposition import PCA\n",
    "from sklearn.preprocessing import normalize"
   ],
   "metadata": {
    "collapsed": false
   }
  },
  {
   "cell_type": "code",
   "execution_count": 2,
   "outputs": [],
   "source": [
    "X_train=pickle.load(open(\"X_train\",\"rb\"))[0:2000]\n",
    "X_test=pickle.load(open(\"X_test\",\"rb\"))[0:400]\n",
    "y_train=pickle.load(open(\"y_train\",\"rb\"))[0:2000]\n",
    "y_test=pickle.load(open(\"y_test\",\"rb\"))[0:400]"
   ],
   "metadata": {
    "collapsed": false
   }
  },
  {
   "cell_type": "code",
   "execution_count": 3,
   "outputs": [
    {
     "data": {
      "text/plain": "(2000, 128, 128, 1)"
     },
     "execution_count": 3,
     "metadata": {},
     "output_type": "execute_result"
    }
   ],
   "source": [
    "X_train.shape"
   ],
   "metadata": {
    "collapsed": false
   }
  },
  {
   "cell_type": "code",
   "execution_count": 4,
   "outputs": [],
   "source": [
    "sift = cv.SIFT_create()"
   ],
   "metadata": {
    "collapsed": false
   }
  },
  {
   "cell_type": "code",
   "execution_count": 5,
   "outputs": [
    {
     "name": "stdout",
     "output_type": "stream",
     "text": [
      "(297335, 128)\n",
      "(297335,)\n"
     ]
    }
   ],
   "source": [
    "X_train_descriptors = []\n",
    "y_train_labels = []\n",
    "for i in range(X_train.shape[0]):\n",
    "    image = X_train[i].astype(np.uint8)\n",
    "    keypoints, descriptors = sift.detectAndCompute(image, None)\n",
    "    if descriptors is None:\n",
    "        continue\n",
    "    descriptors /= np.sqrt(np.sum(descriptors**2, axis=1)).reshape(-1, 1)\n",
    "    X_train_descriptors.append(descriptors)\n",
    "    y_train_labels.append(np.repeat(y_train[i], len(keypoints)))\n",
    "X_train_descriptors = np.concatenate(X_train_descriptors, axis=0)\n",
    "y_train_labels = np.concatenate(y_train_labels, axis=0)\n",
    "\n",
    "print(X_train_descriptors.shape)\n",
    "print(y_train_labels.shape)\n",
    "\n",
    "pickle_out=open(\"X_train_descriptors\",\"wb\")\n",
    "pickle.dump(X_train_descriptors,pickle_out)\n",
    "pickle_out.close()\n",
    "\n",
    "pickle_out=open(\"y_train_labels\",\"wb\")\n",
    "pickle.dump(y_train_labels,pickle_out)\n",
    "pickle_out.close()\n"
   ],
   "metadata": {
    "collapsed": false
   }
  },
  {
   "cell_type": "code",
   "execution_count": 6,
   "outputs": [],
   "source": [
    "X_test_descriptors = []\n",
    "y_test_labels = []\n",
    "for i in range(X_test.shape[0]):\n",
    "    image = X_test[i].astype(np.uint8)\n",
    "    keypoints, descriptors = sift.detectAndCompute(image, None)\n",
    "    if descriptors is None:\n",
    "        continue\n",
    "    descriptors /= np.sqrt(np.sum(descriptors**2, axis=1)).reshape(-1, 1)\n",
    "    X_test_descriptors.append(descriptors)\n",
    "    y_test_labels.append(np.repeat(y_test[i], len(keypoints)))\n",
    "X_test_descriptors = np.concatenate(X_test_descriptors, axis=0)\n",
    "y_test_labels = np.concatenate(y_test_labels, axis=0)\n",
    "\n",
    "pickle_out=open(\"X_test_descriptors\",\"wb\")\n",
    "pickle.dump(X_test_descriptors,pickle_out)\n",
    "pickle_out.close()\n",
    "\n",
    "pickle_out=open(\"y_test_labels\",\"wb\")\n",
    "pickle.dump(y_test_labels,pickle_out)\n",
    "pickle_out.close()"
   ],
   "metadata": {
    "collapsed": false
   }
  },
  {
   "cell_type": "code",
   "execution_count": 7,
   "outputs": [],
   "source": [
    "#choose part to train\n",
    "shuffle_index = np.random.permutation(X_train_descriptors.shape[0])\n",
    "X_train_descriptors=X_train_descriptors[shuffle_index]\n",
    "y_train_labels=y_train_labels[shuffle_index]\n",
    "X_train_descriptors=X_train_descriptors[0:10000]\n",
    "y_train_labels=y_train_labels[0:10000]"
   ],
   "metadata": {
    "collapsed": false
   }
  },
  {
   "cell_type": "code",
   "execution_count": 8,
   "outputs": [
    {
     "data": {
      "text/plain": "(10000, 128)"
     },
     "execution_count": 8,
     "metadata": {},
     "output_type": "execute_result"
    }
   ],
   "source": [
    "X_train_descriptors.shape"
   ],
   "metadata": {
    "collapsed": false
   }
  },
  {
   "cell_type": "code",
   "execution_count": 10,
   "outputs": [],
   "source": [
    "def sv(ker,C):\n",
    "    clf = svm.SVC(kernel=ker,C=C)\n",
    "    para={}\n",
    "    clf.fit(X_train_descriptors, y_train_labels)\n",
    "    y_pred = clf.predict(X_test_descriptors)\n",
    "    print(\"Accuracy:\",accuracy_score(y_test_labels, y_pred))\n",
    "    print(\"Precision:\",precision_score(y_test_labels, y_pred,average='weighted'))\n",
    "    print(\"Recall:\",recall_score(y_test_labels, y_pred,average='weighted'))\n",
    "    print(\"F1:\",f1_score(y_test_labels, y_pred,average='weighted'))\n",
    "    print(\"Confusion Matrix:\")\n",
    "    print(confusion_matrix(y_test_labels, y_pred))\n",
    "    print(\"Classification Report:\")\n",
    "    print(classification_report(y_test_labels, y_pred))\n",
    "    para['acc']=accuracy_score(y_test_labels, y_pred)\n",
    "    para['pre']=precision_score(y_test_labels, y_pred,average='weighted')\n",
    "    para['rec']=recall_score(y_test_labels, y_pred,average='weighted')\n",
    "    para['f1']=f1_score(y_test_labels, y_pred,average='weighted')\n",
    "    para['cm']=confusion_matrix(y_test_labels, y_pred)\n",
    "    para['cr']=classification_report(y_test_labels, y_pred)\n",
    "    return para"
   ],
   "metadata": {
    "collapsed": false
   }
  },
  {
   "cell_type": "code",
   "execution_count": 11,
   "outputs": [
    {
     "name": "stdout",
     "output_type": "stream",
     "text": [
      "Accuracy: 0.5110897953688746\n",
      "Precision: 0.26121277893019806\n",
      "Recall: 0.5110897953688746\n",
      "F1: 0.34572767247949415\n",
      "Confusion Matrix:\n",
      "[[30371     0]\n",
      " [29053     0]]\n",
      "Classification Report:\n",
      "              precision    recall  f1-score   support\n",
      "\n",
      "           0       0.51      1.00      0.68     30371\n",
      "           1       0.00      0.00      0.00     29053\n",
      "\n",
      "    accuracy                           0.51     59424\n",
      "   macro avg       0.26      0.50      0.34     59424\n",
      "weighted avg       0.26      0.51      0.35     59424\n",
      "\n"
     ]
    },
    {
     "name": "stderr",
     "output_type": "stream",
     "text": [
      "D:\\anaconda\\envs\\gpu\\lib\\site-packages\\sklearn\\metrics\\_classification.py:1344: UndefinedMetricWarning: Precision is ill-defined and being set to 0.0 in labels with no predicted samples. Use `zero_division` parameter to control this behavior.\n",
      "  _warn_prf(average, modifier, msg_start, len(result))\n",
      "D:\\anaconda\\envs\\gpu\\lib\\site-packages\\sklearn\\metrics\\_classification.py:1344: UndefinedMetricWarning: Precision and F-score are ill-defined and being set to 0.0 in labels with no predicted samples. Use `zero_division` parameter to control this behavior.\n",
      "  _warn_prf(average, modifier, msg_start, len(result))\n",
      "D:\\anaconda\\envs\\gpu\\lib\\site-packages\\sklearn\\metrics\\_classification.py:1344: UndefinedMetricWarning: Precision and F-score are ill-defined and being set to 0.0 in labels with no predicted samples. Use `zero_division` parameter to control this behavior.\n",
      "  _warn_prf(average, modifier, msg_start, len(result))\n",
      "D:\\anaconda\\envs\\gpu\\lib\\site-packages\\sklearn\\metrics\\_classification.py:1344: UndefinedMetricWarning: Precision and F-score are ill-defined and being set to 0.0 in labels with no predicted samples. Use `zero_division` parameter to control this behavior.\n",
      "  _warn_prf(average, modifier, msg_start, len(result))\n",
      "D:\\anaconda\\envs\\gpu\\lib\\site-packages\\sklearn\\metrics\\_classification.py:1344: UndefinedMetricWarning: Precision is ill-defined and being set to 0.0 in labels with no predicted samples. Use `zero_division` parameter to control this behavior.\n",
      "  _warn_prf(average, modifier, msg_start, len(result))\n",
      "D:\\anaconda\\envs\\gpu\\lib\\site-packages\\sklearn\\metrics\\_classification.py:1344: UndefinedMetricWarning: Precision and F-score are ill-defined and being set to 0.0 in labels with no predicted samples. Use `zero_division` parameter to control this behavior.\n",
      "  _warn_prf(average, modifier, msg_start, len(result))\n",
      "D:\\anaconda\\envs\\gpu\\lib\\site-packages\\sklearn\\metrics\\_classification.py:1344: UndefinedMetricWarning: Precision and F-score are ill-defined and being set to 0.0 in labels with no predicted samples. Use `zero_division` parameter to control this behavior.\n",
      "  _warn_prf(average, modifier, msg_start, len(result))\n",
      "D:\\anaconda\\envs\\gpu\\lib\\site-packages\\sklearn\\metrics\\_classification.py:1344: UndefinedMetricWarning: Precision and F-score are ill-defined and being set to 0.0 in labels with no predicted samples. Use `zero_division` parameter to control this behavior.\n",
      "  _warn_prf(average, modifier, msg_start, len(result))\n"
     ]
    }
   ],
   "source": [
    "sl001=sv('linear',0.01)"
   ],
   "metadata": {
    "collapsed": false
   }
  },
  {
   "cell_type": "code",
   "execution_count": 12,
   "outputs": [
    {
     "name": "stdout",
     "output_type": "stream",
     "text": [
      "Accuracy: 0.5225329833064082\n",
      "Precision: 0.5230043538981372\n",
      "Recall: 0.5225329833064082\n",
      "F1: 0.48739067490822935\n",
      "Confusion Matrix:\n",
      "[[23618  6753]\n",
      " [21620  7433]]\n",
      "Classification Report:\n",
      "              precision    recall  f1-score   support\n",
      "\n",
      "           0       0.52      0.78      0.62     30371\n",
      "           1       0.52      0.26      0.34     29053\n",
      "\n",
      "    accuracy                           0.52     59424\n",
      "   macro avg       0.52      0.52      0.48     59424\n",
      "weighted avg       0.52      0.52      0.49     59424\n",
      "\n"
     ]
    }
   ],
   "source": [
    "sl01=sv('linear',0.1)"
   ],
   "metadata": {
    "collapsed": false
   }
  },
  {
   "cell_type": "code",
   "execution_count": 13,
   "outputs": [
    {
     "name": "stdout",
     "output_type": "stream",
     "text": [
      "Accuracy: 0.5214391491653204\n",
      "Precision: 0.5200623294984749\n",
      "Recall: 0.5214391491653204\n",
      "F1: 0.5144028515189734\n",
      "Confusion Matrix:\n",
      "[[19409 10962]\n",
      " [17476 11577]]\n",
      "Classification Report:\n",
      "              precision    recall  f1-score   support\n",
      "\n",
      "           0       0.53      0.64      0.58     30371\n",
      "           1       0.51      0.40      0.45     29053\n",
      "\n",
      "    accuracy                           0.52     59424\n",
      "   macro avg       0.52      0.52      0.51     59424\n",
      "weighted avg       0.52      0.52      0.51     59424\n",
      "\n"
     ]
    }
   ],
   "source": [
    "sl1=sv('linear',1)"
   ],
   "metadata": {
    "collapsed": false
   }
  },
  {
   "cell_type": "code",
   "execution_count": 14,
   "outputs": [
    {
     "name": "stdout",
     "output_type": "stream",
     "text": [
      "Accuracy: 0.5180398492191707\n",
      "Precision: 0.5170015839204603\n",
      "Recall: 0.5180398492191707\n",
      "F1: 0.5156768672653333\n",
      "Confusion Matrix:\n",
      "[[17821 12550]\n",
      " [16090 12963]]\n",
      "Classification Report:\n",
      "              precision    recall  f1-score   support\n",
      "\n",
      "           0       0.53      0.59      0.55     30371\n",
      "           1       0.51      0.45      0.48     29053\n",
      "\n",
      "    accuracy                           0.52     59424\n",
      "   macro avg       0.52      0.52      0.51     59424\n",
      "weighted avg       0.52      0.52      0.52     59424\n",
      "\n"
     ]
    }
   ],
   "source": [
    "sl10=sv('linear',10)"
   ],
   "metadata": {
    "collapsed": false
   }
  },
  {
   "cell_type": "code",
   "execution_count": 15,
   "outputs": [
    {
     "name": "stdout",
     "output_type": "stream",
     "text": [
      "Accuracy: 0.5174845180398492\n",
      "Precision: 0.5165640086333088\n",
      "Recall: 0.5174845180398492\n",
      "F1: 0.5156878440577966\n",
      "Confusion Matrix:\n",
      "[[17543 12828]\n",
      " [15845 13208]]\n",
      "Classification Report:\n",
      "              precision    recall  f1-score   support\n",
      "\n",
      "           0       0.53      0.58      0.55     30371\n",
      "           1       0.51      0.45      0.48     29053\n",
      "\n",
      "    accuracy                           0.52     59424\n",
      "   macro avg       0.52      0.52      0.51     59424\n",
      "weighted avg       0.52      0.52      0.52     59424\n",
      "\n"
     ]
    }
   ],
   "source": [
    "sl100=sv('linear',100)"
   ],
   "metadata": {
    "collapsed": false
   }
  },
  {
   "cell_type": "code",
   "execution_count": 16,
   "outputs": [
    {
     "name": "stdout",
     "output_type": "stream",
     "text": [
      "Accuracy: 0.5110897953688746\n",
      "Precision: 0.26121277893019806\n",
      "Recall: 0.5110897953688746\n",
      "F1: 0.34572767247949415\n",
      "Confusion Matrix:\n",
      "[[30371     0]\n",
      " [29053     0]]\n",
      "Classification Report:\n",
      "              precision    recall  f1-score   support\n",
      "\n",
      "           0       0.51      1.00      0.68     30371\n",
      "           1       0.00      0.00      0.00     29053\n",
      "\n",
      "    accuracy                           0.51     59424\n",
      "   macro avg       0.26      0.50      0.34     59424\n",
      "weighted avg       0.26      0.51      0.35     59424\n",
      "\n"
     ]
    },
    {
     "name": "stderr",
     "output_type": "stream",
     "text": [
      "D:\\anaconda\\envs\\gpu\\lib\\site-packages\\sklearn\\metrics\\_classification.py:1344: UndefinedMetricWarning: Precision is ill-defined and being set to 0.0 in labels with no predicted samples. Use `zero_division` parameter to control this behavior.\n",
      "  _warn_prf(average, modifier, msg_start, len(result))\n",
      "D:\\anaconda\\envs\\gpu\\lib\\site-packages\\sklearn\\metrics\\_classification.py:1344: UndefinedMetricWarning: Precision and F-score are ill-defined and being set to 0.0 in labels with no predicted samples. Use `zero_division` parameter to control this behavior.\n",
      "  _warn_prf(average, modifier, msg_start, len(result))\n",
      "D:\\anaconda\\envs\\gpu\\lib\\site-packages\\sklearn\\metrics\\_classification.py:1344: UndefinedMetricWarning: Precision and F-score are ill-defined and being set to 0.0 in labels with no predicted samples. Use `zero_division` parameter to control this behavior.\n",
      "  _warn_prf(average, modifier, msg_start, len(result))\n",
      "D:\\anaconda\\envs\\gpu\\lib\\site-packages\\sklearn\\metrics\\_classification.py:1344: UndefinedMetricWarning: Precision and F-score are ill-defined and being set to 0.0 in labels with no predicted samples. Use `zero_division` parameter to control this behavior.\n",
      "  _warn_prf(average, modifier, msg_start, len(result))\n",
      "D:\\anaconda\\envs\\gpu\\lib\\site-packages\\sklearn\\metrics\\_classification.py:1344: UndefinedMetricWarning: Precision is ill-defined and being set to 0.0 in labels with no predicted samples. Use `zero_division` parameter to control this behavior.\n",
      "  _warn_prf(average, modifier, msg_start, len(result))\n",
      "D:\\anaconda\\envs\\gpu\\lib\\site-packages\\sklearn\\metrics\\_classification.py:1344: UndefinedMetricWarning: Precision and F-score are ill-defined and being set to 0.0 in labels with no predicted samples. Use `zero_division` parameter to control this behavior.\n",
      "  _warn_prf(average, modifier, msg_start, len(result))\n",
      "D:\\anaconda\\envs\\gpu\\lib\\site-packages\\sklearn\\metrics\\_classification.py:1344: UndefinedMetricWarning: Precision and F-score are ill-defined and being set to 0.0 in labels with no predicted samples. Use `zero_division` parameter to control this behavior.\n",
      "  _warn_prf(average, modifier, msg_start, len(result))\n",
      "D:\\anaconda\\envs\\gpu\\lib\\site-packages\\sklearn\\metrics\\_classification.py:1344: UndefinedMetricWarning: Precision and F-score are ill-defined and being set to 0.0 in labels with no predicted samples. Use `zero_division` parameter to control this behavior.\n",
      "  _warn_prf(average, modifier, msg_start, len(result))\n"
     ]
    }
   ],
   "source": [
    "sr001=sv('rbf',0.01)"
   ],
   "metadata": {
    "collapsed": false
   }
  },
  {
   "cell_type": "code",
   "execution_count": 17,
   "outputs": [
    {
     "name": "stdout",
     "output_type": "stream",
     "text": [
      "Accuracy: 0.5237614431879375\n",
      "Precision: 0.5293047862846002\n",
      "Recall: 0.5237614431879375\n",
      "F1: 0.4636601590821773\n",
      "Confusion Matrix:\n",
      "[[25805  4566]\n",
      " [23734  5319]]\n",
      "Classification Report:\n",
      "              precision    recall  f1-score   support\n",
      "\n",
      "           0       0.52      0.85      0.65     30371\n",
      "           1       0.54      0.18      0.27     29053\n",
      "\n",
      "    accuracy                           0.52     59424\n",
      "   macro avg       0.53      0.52      0.46     59424\n",
      "weighted avg       0.53      0.52      0.46     59424\n",
      "\n"
     ]
    }
   ],
   "source": [
    "sr01=sv('rbf',0.1)"
   ],
   "metadata": {
    "collapsed": false
   }
  },
  {
   "cell_type": "code",
   "execution_count": 18,
   "outputs": [
    {
     "name": "stdout",
     "output_type": "stream",
     "text": [
      "Accuracy: 0.5361974959612278\n",
      "Precision: 0.5354681517067794\n",
      "Recall: 0.5361974959612278\n",
      "F1: 0.533868491321027\n",
      "Confusion Matrix:\n",
      "[[18385 11986]\n",
      " [15575 13478]]\n",
      "Classification Report:\n",
      "              precision    recall  f1-score   support\n",
      "\n",
      "           0       0.54      0.61      0.57     30371\n",
      "           1       0.53      0.46      0.49     29053\n",
      "\n",
      "    accuracy                           0.54     59424\n",
      "   macro avg       0.54      0.53      0.53     59424\n",
      "weighted avg       0.54      0.54      0.53     59424\n",
      "\n"
     ]
    }
   ],
   "source": [
    "sr1=sv('rbf',1)"
   ],
   "metadata": {
    "collapsed": false
   }
  },
  {
   "cell_type": "code",
   "execution_count": 19,
   "outputs": [
    {
     "name": "stdout",
     "output_type": "stream",
     "text": [
      "Accuracy: 0.5204294561120086\n",
      "Precision: 0.5203198980822449\n",
      "Recall: 0.5204294561120086\n",
      "F1: 0.5203603370521186\n",
      "Confusion Matrix:\n",
      "[[16278 14093]\n",
      " [14405 14648]]\n",
      "Classification Report:\n",
      "              precision    recall  f1-score   support\n",
      "\n",
      "           0       0.53      0.54      0.53     30371\n",
      "           1       0.51      0.50      0.51     29053\n",
      "\n",
      "    accuracy                           0.52     59424\n",
      "   macro avg       0.52      0.52      0.52     59424\n",
      "weighted avg       0.52      0.52      0.52     59424\n",
      "\n"
     ]
    }
   ],
   "source": [
    "sr10=sv('rbf',10)"
   ],
   "metadata": {
    "collapsed": false
   }
  },
  {
   "cell_type": "code",
   "execution_count": 20,
   "outputs": [
    {
     "name": "stdout",
     "output_type": "stream",
     "text": [
      "Accuracy: 0.5180903338718363\n",
      "Precision: 0.5179622974032118\n",
      "Recall: 0.5180903338718363\n",
      "F1: 0.518006991878429\n",
      "Confusion Matrix:\n",
      "[[16234 14137]\n",
      " [14500 14553]]\n",
      "Classification Report:\n",
      "              precision    recall  f1-score   support\n",
      "\n",
      "           0       0.53      0.53      0.53     30371\n",
      "           1       0.51      0.50      0.50     29053\n",
      "\n",
      "    accuracy                           0.52     59424\n",
      "   macro avg       0.52      0.52      0.52     59424\n",
      "weighted avg       0.52      0.52      0.52     59424\n",
      "\n"
     ]
    }
   ],
   "source": [
    "sr100=sv('rbf',100)"
   ],
   "metadata": {
    "collapsed": false
   }
  },
  {
   "cell_type": "code",
   "execution_count": 21,
   "outputs": [
    {
     "name": "stdout",
     "output_type": "stream",
     "text": [
      "Accuracy: 0.5126379913839526\n",
      "Precision: 0.5296387244531768\n",
      "Recall: 0.5126379913839526\n",
      "F1: 0.36157931326247145\n",
      "Confusion Matrix:\n",
      "[[29938   433]\n",
      " [28528   525]]\n",
      "Classification Report:\n",
      "              precision    recall  f1-score   support\n",
      "\n",
      "           0       0.51      0.99      0.67     30371\n",
      "           1       0.55      0.02      0.03     29053\n",
      "\n",
      "    accuracy                           0.51     59424\n",
      "   macro avg       0.53      0.50      0.35     59424\n",
      "weighted avg       0.53      0.51      0.36     59424\n",
      "\n"
     ]
    }
   ],
   "source": [
    "sp001=sv('poly',0.01)"
   ],
   "metadata": {
    "collapsed": false
   }
  },
  {
   "cell_type": "code",
   "execution_count": 22,
   "outputs": [
    {
     "name": "stdout",
     "output_type": "stream",
     "text": [
      "Accuracy: 0.5343127355950458\n",
      "Precision: 0.533892018666212\n",
      "Recall: 0.5343127355950458\n",
      "F1: 0.5250841467637604\n",
      "Confusion Matrix:\n",
      "[[20353 10018]\n",
      " [17655 11398]]\n",
      "Classification Report:\n",
      "              precision    recall  f1-score   support\n",
      "\n",
      "           0       0.54      0.67      0.60     30371\n",
      "           1       0.53      0.39      0.45     29053\n",
      "\n",
      "    accuracy                           0.53     59424\n",
      "   macro avg       0.53      0.53      0.52     59424\n",
      "weighted avg       0.53      0.53      0.53     59424\n",
      "\n"
     ]
    }
   ],
   "source": [
    "sp01=sv('poly',0.1)"
   ],
   "metadata": {
    "collapsed": false
   }
  },
  {
   "cell_type": "code",
   "execution_count": 23,
   "outputs": [
    {
     "name": "stdout",
     "output_type": "stream",
     "text": [
      "Accuracy: 0.5274636510500808\n",
      "Precision: 0.527185580003824\n",
      "Recall: 0.5274636510500808\n",
      "F1: 0.5272167243149758\n",
      "Confusion Matrix:\n",
      "[[16756 13615]\n",
      " [14465 14588]]\n",
      "Classification Report:\n",
      "              precision    recall  f1-score   support\n",
      "\n",
      "           0       0.54      0.55      0.54     30371\n",
      "           1       0.52      0.50      0.51     29053\n",
      "\n",
      "    accuracy                           0.53     59424\n",
      "   macro avg       0.53      0.53      0.53     59424\n",
      "weighted avg       0.53      0.53      0.53     59424\n",
      "\n"
     ]
    }
   ],
   "source": [
    "sp1=sv('poly',1)"
   ],
   "metadata": {
    "collapsed": false
   }
  },
  {
   "cell_type": "code",
   "execution_count": 24,
   "outputs": [
    {
     "name": "stdout",
     "output_type": "stream",
     "text": [
      "Accuracy: 0.5181071620893914\n",
      "Precision: 0.5181426248906245\n",
      "Recall: 0.5181071620893914\n",
      "F1: 0.5181234849287653\n",
      "Confusion Matrix:\n",
      "[[16004 14367]\n",
      " [14269 14784]]\n",
      "Classification Report:\n",
      "              precision    recall  f1-score   support\n",
      "\n",
      "           0       0.53      0.53      0.53     30371\n",
      "           1       0.51      0.51      0.51     29053\n",
      "\n",
      "    accuracy                           0.52     59424\n",
      "   macro avg       0.52      0.52      0.52     59424\n",
      "weighted avg       0.52      0.52      0.52     59424\n",
      "\n"
     ]
    }
   ],
   "source": [
    "sp10=sv('poly',10)"
   ],
   "metadata": {
    "collapsed": false
   }
  },
  {
   "cell_type": "code",
   "execution_count": 25,
   "outputs": [
    {
     "name": "stdout",
     "output_type": "stream",
     "text": [
      "Accuracy: 0.5147751750134626\n",
      "Precision: 0.5147477266602655\n",
      "Recall: 0.5147751750134625\n",
      "F1: 0.5147606092023672\n",
      "Confusion Matrix:\n",
      "[[15992 14379]\n",
      " [14455 14598]]\n",
      "Classification Report:\n",
      "              precision    recall  f1-score   support\n",
      "\n",
      "           0       0.53      0.53      0.53     30371\n",
      "           1       0.50      0.50      0.50     29053\n",
      "\n",
      "    accuracy                           0.51     59424\n",
      "   macro avg       0.51      0.51      0.51     59424\n",
      "weighted avg       0.51      0.51      0.51     59424\n",
      "\n"
     ]
    }
   ],
   "source": [
    "sp100=sv('poly',100)"
   ],
   "metadata": {
    "collapsed": false
   }
  },
  {
   "cell_type": "code",
   "execution_count": 26,
   "outputs": [
    {
     "name": "stdout",
     "output_type": "stream",
     "text": [
      "Accuracy: 0.5110897953688746\n",
      "Precision: 0.26121277893019806\n",
      "Recall: 0.5110897953688746\n",
      "F1: 0.34572767247949415\n",
      "Confusion Matrix:\n",
      "[[30371     0]\n",
      " [29053     0]]\n",
      "Classification Report:\n",
      "              precision    recall  f1-score   support\n",
      "\n",
      "           0       0.51      1.00      0.68     30371\n",
      "           1       0.00      0.00      0.00     29053\n",
      "\n",
      "    accuracy                           0.51     59424\n",
      "   macro avg       0.26      0.50      0.34     59424\n",
      "weighted avg       0.26      0.51      0.35     59424\n",
      "\n"
     ]
    },
    {
     "name": "stderr",
     "output_type": "stream",
     "text": [
      "D:\\anaconda\\envs\\gpu\\lib\\site-packages\\sklearn\\metrics\\_classification.py:1344: UndefinedMetricWarning: Precision is ill-defined and being set to 0.0 in labels with no predicted samples. Use `zero_division` parameter to control this behavior.\n",
      "  _warn_prf(average, modifier, msg_start, len(result))\n",
      "D:\\anaconda\\envs\\gpu\\lib\\site-packages\\sklearn\\metrics\\_classification.py:1344: UndefinedMetricWarning: Precision and F-score are ill-defined and being set to 0.0 in labels with no predicted samples. Use `zero_division` parameter to control this behavior.\n",
      "  _warn_prf(average, modifier, msg_start, len(result))\n",
      "D:\\anaconda\\envs\\gpu\\lib\\site-packages\\sklearn\\metrics\\_classification.py:1344: UndefinedMetricWarning: Precision and F-score are ill-defined and being set to 0.0 in labels with no predicted samples. Use `zero_division` parameter to control this behavior.\n",
      "  _warn_prf(average, modifier, msg_start, len(result))\n",
      "D:\\anaconda\\envs\\gpu\\lib\\site-packages\\sklearn\\metrics\\_classification.py:1344: UndefinedMetricWarning: Precision and F-score are ill-defined and being set to 0.0 in labels with no predicted samples. Use `zero_division` parameter to control this behavior.\n",
      "  _warn_prf(average, modifier, msg_start, len(result))\n",
      "D:\\anaconda\\envs\\gpu\\lib\\site-packages\\sklearn\\metrics\\_classification.py:1344: UndefinedMetricWarning: Precision is ill-defined and being set to 0.0 in labels with no predicted samples. Use `zero_division` parameter to control this behavior.\n",
      "  _warn_prf(average, modifier, msg_start, len(result))\n",
      "D:\\anaconda\\envs\\gpu\\lib\\site-packages\\sklearn\\metrics\\_classification.py:1344: UndefinedMetricWarning: Precision and F-score are ill-defined and being set to 0.0 in labels with no predicted samples. Use `zero_division` parameter to control this behavior.\n",
      "  _warn_prf(average, modifier, msg_start, len(result))\n",
      "D:\\anaconda\\envs\\gpu\\lib\\site-packages\\sklearn\\metrics\\_classification.py:1344: UndefinedMetricWarning: Precision and F-score are ill-defined and being set to 0.0 in labels with no predicted samples. Use `zero_division` parameter to control this behavior.\n",
      "  _warn_prf(average, modifier, msg_start, len(result))\n",
      "D:\\anaconda\\envs\\gpu\\lib\\site-packages\\sklearn\\metrics\\_classification.py:1344: UndefinedMetricWarning: Precision and F-score are ill-defined and being set to 0.0 in labels with no predicted samples. Use `zero_division` parameter to control this behavior.\n",
      "  _warn_prf(average, modifier, msg_start, len(result))\n"
     ]
    }
   ],
   "source": [
    "sg001=sv('sigmoid',0.01)"
   ],
   "metadata": {
    "collapsed": false
   }
  },
  {
   "cell_type": "code",
   "execution_count": 27,
   "outputs": [
    {
     "name": "stdout",
     "output_type": "stream",
     "text": [
      "Accuracy: 0.5167945611200861\n",
      "Precision: 0.5151734834608573\n",
      "Recall: 0.5167945611200861\n",
      "F1: 0.5099154324759652\n",
      "Confusion Matrix:\n",
      "[[19215 11156]\n",
      " [17558 11495]]\n",
      "Classification Report:\n",
      "              precision    recall  f1-score   support\n",
      "\n",
      "           0       0.52      0.63      0.57     30371\n",
      "           1       0.51      0.40      0.44     29053\n",
      "\n",
      "    accuracy                           0.52     59424\n",
      "   macro avg       0.52      0.51      0.51     59424\n",
      "weighted avg       0.52      0.52      0.51     59424\n",
      "\n"
     ]
    }
   ],
   "source": [
    "sg01=sv('sigmoid',0.1)"
   ],
   "metadata": {
    "collapsed": false
   }
  },
  {
   "cell_type": "code",
   "execution_count": 28,
   "outputs": [
    {
     "name": "stdout",
     "output_type": "stream",
     "text": [
      "Accuracy: 0.49634827679052235\n",
      "Precision: 0.49610741171520467\n",
      "Recall: 0.49634827679052235\n",
      "F1: 0.4961712039794959\n",
      "Confusion Matrix:\n",
      "[[15724 14647]\n",
      " [15282 13771]]\n",
      "Classification Report:\n",
      "              precision    recall  f1-score   support\n",
      "\n",
      "           0       0.51      0.52      0.51     30371\n",
      "           1       0.48      0.47      0.48     29053\n",
      "\n",
      "    accuracy                           0.50     59424\n",
      "   macro avg       0.50      0.50      0.50     59424\n",
      "weighted avg       0.50      0.50      0.50     59424\n",
      "\n"
     ]
    }
   ],
   "source": [
    "sg1=sv('sigmoid',1)"
   ],
   "metadata": {
    "collapsed": false
   }
  },
  {
   "cell_type": "code",
   "execution_count": 29,
   "outputs": [
    {
     "name": "stdout",
     "output_type": "stream",
     "text": [
      "Accuracy: 0.4992763866451265\n",
      "Precision: 0.4994395824574509\n",
      "Recall: 0.4992763866451265\n",
      "F1: 0.4993309909801134\n",
      "Confusion Matrix:\n",
      "[[15275 15096]\n",
      " [14659 14394]]\n",
      "Classification Report:\n",
      "              precision    recall  f1-score   support\n",
      "\n",
      "           0       0.51      0.50      0.51     30371\n",
      "           1       0.49      0.50      0.49     29053\n",
      "\n",
      "    accuracy                           0.50     59424\n",
      "   macro avg       0.50      0.50      0.50     59424\n",
      "weighted avg       0.50      0.50      0.50     59424\n",
      "\n"
     ]
    }
   ],
   "source": [
    "sg10=sv('sigmoid',10)"
   ],
   "metadata": {
    "collapsed": false
   }
  },
  {
   "cell_type": "code",
   "execution_count": 30,
   "outputs": [
    {
     "name": "stdout",
     "output_type": "stream",
     "text": [
      "Accuracy: 0.5001346257404415\n",
      "Precision: 0.5002831720670742\n",
      "Recall: 0.5001346257404415\n",
      "F1: 0.5001864704324055\n",
      "Confusion Matrix:\n",
      "[[15320 15051]\n",
      " [14653 14400]]\n",
      "Classification Report:\n",
      "              precision    recall  f1-score   support\n",
      "\n",
      "           0       0.51      0.50      0.51     30371\n",
      "           1       0.49      0.50      0.49     29053\n",
      "\n",
      "    accuracy                           0.50     59424\n",
      "   macro avg       0.50      0.50      0.50     59424\n",
      "weighted avg       0.50      0.50      0.50     59424\n",
      "\n"
     ]
    }
   ],
   "source": [
    "sg100=sv('sigmoid',100)"
   ],
   "metadata": {
    "collapsed": false
   }
  },
  {
   "cell_type": "code",
   "execution_count": 31,
   "outputs": [],
   "source": [
    "svm_res=[[sl001,sl01,sl1,sl10,sl100],[sr001,sr01,sr1,sr10,sr100],[sp001,sp01,sp1,sp10,sp100],[sg001,sg01,sg1,sg10,sg100]]\n",
    "pickle_out=open(\"svm_res\",\"wb\")\n",
    "pickle.dump(svm_res,pickle_out)\n",
    "pickle_out.close()"
   ],
   "metadata": {
    "collapsed": false
   }
  },
  {
   "cell_type": "markdown",
   "source": [
    "Using SIFT features as input to SVM directly, cannot get a good result.\n",
    "Most of kernels and C values are not better than random guess."
   ],
   "metadata": {
    "collapsed": false
   }
  },
  {
   "cell_type": "code",
   "execution_count": null,
   "outputs": [],
   "source": [],
   "metadata": {
    "collapsed": false
   }
  }
 ],
 "metadata": {
  "kernelspec": {
   "display_name": "Python 3",
   "language": "python",
   "name": "python3"
  },
  "language_info": {
   "codemirror_mode": {
    "name": "ipython",
    "version": 2
   },
   "file_extension": ".py",
   "mimetype": "text/x-python",
   "name": "python",
   "nbconvert_exporter": "python",
   "pygments_lexer": "ipython2",
   "version": "2.7.6"
  }
 },
 "nbformat": 4,
 "nbformat_minor": 0
}
