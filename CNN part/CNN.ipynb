{
 "cells": [
  {
   "cell_type": "code",
   "execution_count": 1,
   "id": "014d3953",
   "metadata": {},
   "outputs": [],
   "source": [
    "import tensorflow as tf\n",
    "from tensorflow.keras.models import Sequential \n",
    "from tensorflow.keras.layers import Dense, Dropout, Activation, Flatten, Conv2D, MaxPooling2D\n",
    "from tensorflow.keras import regularizers\n",
    "from tensorflow.keras.utils import plot_model\n",
    "import pickle\n",
    "import numpy as np"
   ]
  },
  {
   "cell_type": "code",
   "execution_count": 2,
   "id": "17eb882d",
   "metadata": {},
   "outputs": [],
   "source": [
    "X_train= pickle.load(open(\"X_train\",\"rb\"))\n",
    "y_train= pickle.load(open(\"y_train\",\"rb\"))\n",
    "X_test= pickle.load(open(\"X_test\",\"rb\"))\n",
    "y_test= pickle.load(open(\"y_test\",\"rb\"))"
   ]
  },
  {
   "cell_type": "markdown",
   "id": "814cbf07",
   "metadata": {},
   "source": [
    "We want to normalise the data. In the grayscale image is min is 0 and max is 255."
   ]
  },
  {
   "cell_type": "code",
   "execution_count": 3,
   "id": "46fa9621",
   "metadata": {},
   "outputs": [],
   "source": [
    "X_train=X_train/255.0\n",
    "X_test=X_test/255.0"
   ]
  },
  {
   "cell_type": "code",
   "execution_count": 4,
   "outputs": [
    {
     "data": {
      "text/plain": "(9057, 128, 128, 1)"
     },
     "execution_count": 4,
     "metadata": {},
     "output_type": "execute_result"
    }
   ],
   "source": [
    "X_test.shape"
   ],
   "metadata": {
    "collapsed": false
   }
  },
  {
   "cell_type": "code",
   "execution_count": 4,
   "id": "3398e7e7",
   "metadata": {},
   "outputs": [],
   "source": [
    "model = Sequential()\n",
    "\n",
    "#3 layers\n",
    "\n",
    "model.add(Conv2D(96,(3,3),input_shape= X_train.shape[1:],padding=\"same\"))\n",
    "model.add(Activation(\"relu\"))\n",
    "model.add(MaxPooling2D(pool_size=(2,2)))\n",
    "model.add(Dropout(0.3))\n",
    "\n",
    "model.add(Conv2D(72,(3,3)))\n",
    "model.add(Activation(\"relu\"))\n",
    "model.add(MaxPooling2D(pool_size=(2,2),padding=\"same\"))\n",
    "model.add(Dropout(0.3))\n",
    "\n",
    "model.add(Conv2D(64,(3,3)))\n",
    "model.add(Activation(\"relu\"))\n",
    "model.add(MaxPooling2D(pool_size=(2,2),padding=\"same\"))\n",
    "model.add(Dropout(0.3))\n",
    "\n",
    "model.add(Flatten())\n",
    "#model.add(Dense(64,Activation=\"relu\"))\n",
    "model.add(Dense(84, activation=\"relu\",kernel_regularizer=regularizers.l2(l=0.001),bias_regularizer=regularizers.l2(l=0.001)))\n",
    "model.add(Dropout(0.3))\n",
    "model.add(Dense(128, activation=\"relu\",kernel_regularizer=regularizers.l2(l=0.001),bias_regularizer=regularizers.l2(l=0.001)))\n",
    "model.add(Dropout(0.3))\n",
    "model.add(Dense(128, activation=\"relu\",kernel_regularizer=regularizers.l2(l=0.001),bias_regularizer=regularizers.l2(l=0.001)))\n",
    "model.add(Dropout(0.1))\n",
    "\n",
    "#output \n",
    "model.add(Dense(1,activation=\"sigmoid\"))\n",
    "\n",
    "model.compile(loss=\"binary_crossentropy\", \n",
    "              optimizer='adam', \n",
    "              metrics=[\"accuracy\"])\n"
   ]
  },
  {
   "cell_type": "code",
   "execution_count": 5,
   "id": "55881d3f",
   "metadata": {},
   "outputs": [
    {
     "name": "stdout",
     "output_type": "stream",
     "text": [
      "('You must install pydot (`pip install pydot`) and install graphviz (see instructions at https://graphviz.gitlab.io/download/) ', 'for plot_model/model_to_dot to work.')\n"
     ]
    }
   ],
   "source": [
    "plot_model(model, to_file='model.png', show_shapes=True)"
   ]
  },
  {
   "cell_type": "markdown",
   "id": "2ee61e92",
   "metadata": {},
   "source": [
    "Resize vs no resize"
   ]
  },
  {
   "cell_type": "code",
   "execution_count": 6,
   "id": "35602502",
   "metadata": {},
   "outputs": [
    {
     "name": "stdout",
     "output_type": "stream",
     "text": [
      "Epoch 1/45\n",
      "1133/1133 [==============================] - 31s 24ms/step - loss: 0.7199 - accuracy: 0.5629 - val_loss: 0.6558 - val_accuracy: 0.6602\n",
      "Epoch 2/45\n",
      "1133/1133 [==============================] - 27s 24ms/step - loss: 0.6450 - accuracy: 0.6718 - val_loss: 0.5880 - val_accuracy: 0.7309\n",
      "Epoch 3/45\n",
      "1133/1133 [==============================] - 27s 24ms/step - loss: 0.6034 - accuracy: 0.7241 - val_loss: 0.5609 - val_accuracy: 0.7632\n",
      "Epoch 4/45\n",
      "1133/1133 [==============================] - 26s 23ms/step - loss: 0.5702 - accuracy: 0.7503 - val_loss: 0.5093 - val_accuracy: 0.7849\n",
      "Epoch 5/45\n",
      "1133/1133 [==============================] - 27s 24ms/step - loss: 0.5464 - accuracy: 0.7686 - val_loss: 0.5396 - val_accuracy: 0.7699\n",
      "Epoch 6/45\n",
      "1133/1133 [==============================] - 27s 24ms/step - loss: 0.5320 - accuracy: 0.7786 - val_loss: 0.5020 - val_accuracy: 0.7949\n",
      "Epoch 7/45\n",
      "1133/1133 [==============================] - 27s 24ms/step - loss: 0.5285 - accuracy: 0.7843 - val_loss: 0.4761 - val_accuracy: 0.8126\n",
      "Epoch 8/45\n",
      "1133/1133 [==============================] - 27s 23ms/step - loss: 0.5128 - accuracy: 0.7943 - val_loss: 0.4635 - val_accuracy: 0.8231\n",
      "Epoch 9/45\n",
      "1133/1133 [==============================] - 26s 23ms/step - loss: 0.5078 - accuracy: 0.8019 - val_loss: 0.4716 - val_accuracy: 0.8214\n",
      "Epoch 10/45\n",
      "1133/1133 [==============================] - 27s 24ms/step - loss: 0.5021 - accuracy: 0.8054 - val_loss: 0.4600 - val_accuracy: 0.8252\n",
      "Epoch 11/45\n",
      "1133/1133 [==============================] - 27s 24ms/step - loss: 0.4905 - accuracy: 0.8141 - val_loss: 0.4610 - val_accuracy: 0.8290\n",
      "Epoch 12/45\n",
      "1133/1133 [==============================] - 26s 23ms/step - loss: 0.4850 - accuracy: 0.8171 - val_loss: 0.4482 - val_accuracy: 0.8311\n",
      "Epoch 13/45\n",
      "1133/1133 [==============================] - 26s 23ms/step - loss: 0.4819 - accuracy: 0.8231 - val_loss: 0.4608 - val_accuracy: 0.8296\n",
      "Epoch 14/45\n",
      "1133/1133 [==============================] - 27s 23ms/step - loss: 0.4835 - accuracy: 0.8226 - val_loss: 0.4322 - val_accuracy: 0.8466\n",
      "Epoch 15/45\n",
      "1133/1133 [==============================] - 27s 24ms/step - loss: 0.4781 - accuracy: 0.8284 - val_loss: 0.4721 - val_accuracy: 0.8247\n",
      "Epoch 16/45\n",
      "1133/1133 [==============================] - 27s 24ms/step - loss: 0.4694 - accuracy: 0.8318 - val_loss: 0.4291 - val_accuracy: 0.8553\n",
      "Epoch 17/45\n",
      "1133/1133 [==============================] - 27s 24ms/step - loss: 0.4673 - accuracy: 0.8360 - val_loss: 0.4774 - val_accuracy: 0.8252\n",
      "Epoch 18/45\n",
      "1133/1133 [==============================] - 27s 24ms/step - loss: 0.4572 - accuracy: 0.8378 - val_loss: 0.4231 - val_accuracy: 0.8538\n",
      "Epoch 19/45\n",
      "1133/1133 [==============================] - 27s 24ms/step - loss: 0.4614 - accuracy: 0.8370 - val_loss: 0.4061 - val_accuracy: 0.8580\n",
      "Epoch 20/45\n",
      "1133/1133 [==============================] - 27s 24ms/step - loss: 0.4555 - accuracy: 0.8426 - val_loss: 0.4331 - val_accuracy: 0.8632\n",
      "Epoch 21/45\n",
      "1133/1133 [==============================] - 27s 24ms/step - loss: 0.4611 - accuracy: 0.8410 - val_loss: 0.4251 - val_accuracy: 0.8577\n",
      "Epoch 22/45\n",
      "1133/1133 [==============================] - 27s 24ms/step - loss: 0.4504 - accuracy: 0.8479 - val_loss: 0.4456 - val_accuracy: 0.8430\n",
      "Epoch 23/45\n",
      "1133/1133 [==============================] - 27s 23ms/step - loss: 0.4481 - accuracy: 0.8499 - val_loss: 0.4141 - val_accuracy: 0.8652\n",
      "Epoch 24/45\n",
      "1133/1133 [==============================] - 27s 23ms/step - loss: 0.4383 - accuracy: 0.8509 - val_loss: 0.3944 - val_accuracy: 0.8673\n",
      "Epoch 25/45\n",
      "1133/1133 [==============================] - 27s 24ms/step - loss: 0.4355 - accuracy: 0.8531 - val_loss: 0.4173 - val_accuracy: 0.8593\n",
      "Epoch 26/45\n",
      "1133/1133 [==============================] - 27s 23ms/step - loss: 0.4303 - accuracy: 0.8524 - val_loss: 0.3835 - val_accuracy: 0.8734\n",
      "Epoch 27/45\n",
      "1133/1133 [==============================] - 27s 24ms/step - loss: 0.4288 - accuracy: 0.8580 - val_loss: 0.4218 - val_accuracy: 0.8603\n",
      "Epoch 28/45\n",
      "1133/1133 [==============================] - 26s 23ms/step - loss: 0.4344 - accuracy: 0.8555 - val_loss: 0.4157 - val_accuracy: 0.8679\n",
      "Epoch 29/45\n",
      "1133/1133 [==============================] - 27s 24ms/step - loss: 0.4296 - accuracy: 0.8581 - val_loss: 0.3945 - val_accuracy: 0.8750\n",
      "Epoch 30/45\n",
      "1133/1133 [==============================] - 27s 24ms/step - loss: 0.4287 - accuracy: 0.8594 - val_loss: 0.4088 - val_accuracy: 0.8634\n",
      "Epoch 31/45\n",
      "1133/1133 [==============================] - 27s 24ms/step - loss: 0.4163 - accuracy: 0.8623 - val_loss: 0.3944 - val_accuracy: 0.8755\n",
      "Epoch 32/45\n",
      "1133/1133 [==============================] - 26s 23ms/step - loss: 0.4246 - accuracy: 0.8605 - val_loss: 0.4255 - val_accuracy: 0.8507\n",
      "Epoch 33/45\n",
      "1133/1133 [==============================] - 27s 24ms/step - loss: 0.4229 - accuracy: 0.8607 - val_loss: 0.3930 - val_accuracy: 0.8790\n",
      "Epoch 34/45\n",
      "1133/1133 [==============================] - 27s 24ms/step - loss: 0.4218 - accuracy: 0.8641 - val_loss: 0.4016 - val_accuracy: 0.8684\n",
      "Epoch 35/45\n",
      "1133/1133 [==============================] - 27s 24ms/step - loss: 0.4233 - accuracy: 0.8627 - val_loss: 0.3741 - val_accuracy: 0.8767\n",
      "Epoch 36/45\n",
      "1133/1133 [==============================] - 26s 23ms/step - loss: 0.4227 - accuracy: 0.8629 - val_loss: 0.4026 - val_accuracy: 0.8641\n",
      "Epoch 37/45\n",
      "1133/1133 [==============================] - 27s 24ms/step - loss: 0.4240 - accuracy: 0.8636 - val_loss: 0.3877 - val_accuracy: 0.8787\n",
      "Epoch 38/45\n",
      "1133/1133 [==============================] - 27s 24ms/step - loss: 0.4135 - accuracy: 0.8686 - val_loss: 0.3800 - val_accuracy: 0.8746\n",
      "Epoch 39/45\n",
      "1133/1133 [==============================] - 27s 24ms/step - loss: 0.4167 - accuracy: 0.8668 - val_loss: 0.3841 - val_accuracy: 0.8863\n",
      "Epoch 40/45\n",
      "1133/1133 [==============================] - 27s 24ms/step - loss: 0.4163 - accuracy: 0.8697 - val_loss: 0.3698 - val_accuracy: 0.8858\n",
      "Epoch 41/45\n",
      "1133/1133 [==============================] - 27s 24ms/step - loss: 0.4143 - accuracy: 0.8681 - val_loss: 0.3884 - val_accuracy: 0.8838\n",
      "Epoch 42/45\n",
      "1133/1133 [==============================] - 27s 24ms/step - loss: 0.4109 - accuracy: 0.8707 - val_loss: 0.4076 - val_accuracy: 0.8822\n",
      "Epoch 43/45\n",
      "1133/1133 [==============================] - 27s 24ms/step - loss: 0.4110 - accuracy: 0.8717 - val_loss: 0.3797 - val_accuracy: 0.8837\n",
      "Epoch 44/45\n",
      "1133/1133 [==============================] - 27s 24ms/step - loss: 0.4059 - accuracy: 0.8725 - val_loss: 0.4090 - val_accuracy: 0.8768\n",
      "Epoch 45/45\n",
      "1133/1133 [==============================] - 27s 24ms/step - loss: 0.4073 - accuracy: 0.8751 - val_loss: 0.3781 - val_accuracy: 0.8899\n"
     ]
    },
    {
     "data": {
      "text/plain": "<keras.callbacks.History at 0x1e132287b20>"
     },
     "execution_count": 6,
     "metadata": {},
     "output_type": "execute_result"
    }
   ],
   "source": [
    "model.fit(X_train, y_train, batch_size=32,epochs=45, validation_data=(X_test, y_test))"
   ]
  },
  {
   "cell_type": "code",
   "execution_count": 7,
   "id": "46ca0c5a",
   "metadata": {},
   "outputs": [],
   "source": [
    "model.save('naive_CNN_model_45e.h5')"
   ]
  },
  {
   "cell_type": "code",
   "execution_count": 8,
   "id": "d7c7ff66",
   "metadata": {},
   "outputs": [
    {
     "name": "stdout",
     "output_type": "stream",
     "text": [
      "Epoch 1/5\n",
      "1133/1133 [==============================] - 27s 24ms/step - loss: 0.4130 - accuracy: 0.8728 - val_loss: 0.3810 - val_accuracy: 0.8838\n",
      "Epoch 2/5\n",
      "1133/1133 [==============================] - 27s 24ms/step - loss: 0.3982 - accuracy: 0.8752 - val_loss: 0.3703 - val_accuracy: 0.8862\n",
      "Epoch 3/5\n",
      "1133/1133 [==============================] - 27s 24ms/step - loss: 0.4103 - accuracy: 0.8713 - val_loss: 0.3853 - val_accuracy: 0.8837\n",
      "Epoch 4/5\n",
      "1133/1133 [==============================] - 27s 24ms/step - loss: 0.4031 - accuracy: 0.8748 - val_loss: 0.3654 - val_accuracy: 0.8868\n",
      "Epoch 5/5\n",
      "1133/1133 [==============================] - 27s 24ms/step - loss: 0.4002 - accuracy: 0.8742 - val_loss: 0.3628 - val_accuracy: 0.8949\n"
     ]
    },
    {
     "data": {
      "text/plain": "<keras.callbacks.History at 0x1e0a569bdc0>"
     },
     "execution_count": 8,
     "metadata": {},
     "output_type": "execute_result"
    }
   ],
   "source": [
    "model.fit(X_train, y_train, batch_size=32,epochs=5, validation_data=(X_test, y_test))"
   ]
  },
  {
   "cell_type": "code",
   "execution_count": 9,
   "outputs": [],
   "source": [
    "model.save('naive_CNN_model_50e.h5')"
   ],
   "metadata": {
    "collapsed": false
   }
  },
  {
   "cell_type": "code",
   "execution_count": 11,
   "outputs": [
    {
     "name": "stdout",
     "output_type": "stream",
     "text": [
      "Epoch 1/10\n",
      "1133/1133 [==============================] - 27s 24ms/step - loss: 0.4071 - accuracy: 0.8754 - val_loss: 0.3775 - val_accuracy: 0.8895\n",
      "Epoch 2/10\n",
      "1133/1133 [==============================] - 27s 23ms/step - loss: 0.4104 - accuracy: 0.8774 - val_loss: 0.3771 - val_accuracy: 0.8813\n",
      "Epoch 3/10\n",
      "1133/1133 [==============================] - 27s 24ms/step - loss: 0.3959 - accuracy: 0.8775 - val_loss: 0.3886 - val_accuracy: 0.8742\n",
      "Epoch 4/10\n",
      "1133/1133 [==============================] - 27s 23ms/step - loss: 0.4003 - accuracy: 0.8787 - val_loss: 0.3617 - val_accuracy: 0.8963\n",
      "Epoch 5/10\n",
      "1133/1133 [==============================] - 27s 24ms/step - loss: 0.4041 - accuracy: 0.8774 - val_loss: 0.3636 - val_accuracy: 0.8883\n",
      "Epoch 6/10\n",
      "1133/1133 [==============================] - 27s 24ms/step - loss: 0.4026 - accuracy: 0.8792 - val_loss: 0.3874 - val_accuracy: 0.8896\n",
      "Epoch 7/10\n",
      "1133/1133 [==============================] - 26s 23ms/step - loss: 0.4013 - accuracy: 0.8798 - val_loss: 0.3647 - val_accuracy: 0.8876\n",
      "Epoch 8/10\n",
      "1133/1133 [==============================] - 27s 24ms/step - loss: 0.3971 - accuracy: 0.8801 - val_loss: 0.3671 - val_accuracy: 0.8927\n",
      "Epoch 9/10\n",
      "1133/1133 [==============================] - 27s 24ms/step - loss: 0.4007 - accuracy: 0.8812 - val_loss: 0.3728 - val_accuracy: 0.8938\n",
      "Epoch 10/10\n",
      "1133/1133 [==============================] - 27s 24ms/step - loss: 0.3935 - accuracy: 0.8807 - val_loss: 0.3748 - val_accuracy: 0.8908\n"
     ]
    },
    {
     "data": {
      "text/plain": "<keras.callbacks.History at 0x1e1325906a0>"
     },
     "execution_count": 11,
     "metadata": {},
     "output_type": "execute_result"
    }
   ],
   "source": [
    "model.fit(X_train, y_train, batch_size=32,epochs=10, validation_data=(X_test, y_test))"
   ],
   "metadata": {
    "collapsed": false
   }
  },
  {
   "cell_type": "code",
   "execution_count": 12,
   "outputs": [],
   "source": [
    "model.save('naive_CNN_model_60e.h5')"
   ],
   "metadata": {
    "collapsed": false
   }
  },
  {
   "cell_type": "code",
   "execution_count": 13,
   "outputs": [
    {
     "name": "stdout",
     "output_type": "stream",
     "text": [
      "Epoch 1/10\n",
      "1133/1133 [==============================] - 27s 24ms/step - loss: 0.3986 - accuracy: 0.8815 - val_loss: 0.3596 - val_accuracy: 0.8937\n",
      "Epoch 2/10\n",
      "1133/1133 [==============================] - 26s 23ms/step - loss: 0.3929 - accuracy: 0.8842 - val_loss: 0.3624 - val_accuracy: 0.8954\n",
      "Epoch 3/10\n",
      "1133/1133 [==============================] - 27s 24ms/step - loss: 0.3933 - accuracy: 0.8837 - val_loss: 0.3911 - val_accuracy: 0.8891\n",
      "Epoch 4/10\n",
      "1133/1133 [==============================] - 27s 24ms/step - loss: 0.3967 - accuracy: 0.8835 - val_loss: 0.3670 - val_accuracy: 0.8900\n",
      "Epoch 5/10\n",
      "1133/1133 [==============================] - 27s 24ms/step - loss: 0.3927 - accuracy: 0.8840 - val_loss: 0.3833 - val_accuracy: 0.8910\n",
      "Epoch 6/10\n",
      "1133/1133 [==============================] - 27s 24ms/step - loss: 0.3920 - accuracy: 0.8846 - val_loss: 0.3606 - val_accuracy: 0.8983\n",
      "Epoch 7/10\n",
      "1133/1133 [==============================] - 27s 24ms/step - loss: 0.3899 - accuracy: 0.8867 - val_loss: 0.3913 - val_accuracy: 0.8787\n",
      "Epoch 8/10\n",
      "1133/1133 [==============================] - 27s 24ms/step - loss: 0.3929 - accuracy: 0.8850 - val_loss: 0.3528 - val_accuracy: 0.8971\n",
      "Epoch 9/10\n",
      "1133/1133 [==============================] - 27s 24ms/step - loss: 0.3910 - accuracy: 0.8866 - val_loss: 0.3596 - val_accuracy: 0.8971\n",
      "Epoch 10/10\n",
      "1133/1133 [==============================] - 27s 24ms/step - loss: 0.3906 - accuracy: 0.8862 - val_loss: 0.3737 - val_accuracy: 0.8919\n"
     ]
    },
    {
     "data": {
      "text/plain": "<keras.callbacks.History at 0x1e13260f760>"
     },
     "execution_count": 13,
     "metadata": {},
     "output_type": "execute_result"
    }
   ],
   "source": [
    "model.fit(X_train, y_train, batch_size=32,epochs=10, validation_data=(X_test, y_test))"
   ],
   "metadata": {
    "collapsed": false
   }
  },
  {
   "cell_type": "code",
   "execution_count": 14,
   "outputs": [],
   "source": [
    "model.save('naive_CNN_model_70e.h5')"
   ],
   "metadata": {
    "collapsed": false
   }
  },
  {
   "cell_type": "code",
   "execution_count": 15,
   "outputs": [
    {
     "name": "stdout",
     "output_type": "stream",
     "text": [
      "Epoch 1/10\n",
      "1133/1133 [==============================] - 27s 24ms/step - loss: 0.3931 - accuracy: 0.8851 - val_loss: 0.3697 - val_accuracy: 0.8986\n",
      "Epoch 2/10\n",
      "1133/1133 [==============================] - 27s 24ms/step - loss: 0.3913 - accuracy: 0.8851 - val_loss: 0.3856 - val_accuracy: 0.8805\n",
      "Epoch 3/10\n",
      "1133/1133 [==============================] - 27s 24ms/step - loss: 0.3938 - accuracy: 0.8865 - val_loss: 0.3746 - val_accuracy: 0.8907\n",
      "Epoch 4/10\n",
      "1133/1133 [==============================] - 27s 24ms/step - loss: 0.3870 - accuracy: 0.8879 - val_loss: 0.3691 - val_accuracy: 0.8939\n",
      "Epoch 5/10\n",
      "1133/1133 [==============================] - 27s 24ms/step - loss: 0.3863 - accuracy: 0.8866 - val_loss: 0.3501 - val_accuracy: 0.9005\n",
      "Epoch 6/10\n",
      "1133/1133 [==============================] - 27s 24ms/step - loss: 0.3820 - accuracy: 0.8908 - val_loss: 0.3511 - val_accuracy: 0.9041\n",
      "Epoch 7/10\n",
      "1133/1133 [==============================] - 26s 23ms/step - loss: 0.3928 - accuracy: 0.8878 - val_loss: 0.3666 - val_accuracy: 0.9001\n",
      "Epoch 8/10\n",
      "1133/1133 [==============================] - 27s 24ms/step - loss: 0.3853 - accuracy: 0.8886 - val_loss: 0.3787 - val_accuracy: 0.8895\n",
      "Epoch 9/10\n",
      "1133/1133 [==============================] - 27s 24ms/step - loss: 0.3883 - accuracy: 0.8899 - val_loss: 0.3605 - val_accuracy: 0.9006\n",
      "Epoch 10/10\n",
      "1133/1133 [==============================] - 27s 24ms/step - loss: 0.3875 - accuracy: 0.8901 - val_loss: 0.3528 - val_accuracy: 0.9020\n"
     ]
    },
    {
     "data": {
      "text/plain": "<keras.callbacks.History at 0x1e1325e8cd0>"
     },
     "execution_count": 15,
     "metadata": {},
     "output_type": "execute_result"
    }
   ],
   "source": [
    "model.fit(X_train, y_train, batch_size=32,epochs=10, validation_data=(X_test, y_test))"
   ],
   "metadata": {
    "collapsed": false
   }
  },
  {
   "cell_type": "code",
   "execution_count": 16,
   "outputs": [],
   "source": [
    "model.save('naive_CNN_model_80e.h5')"
   ],
   "metadata": {
    "collapsed": false
   }
  },
  {
   "cell_type": "code",
   "execution_count": 6,
   "outputs": [],
   "source": [
    "model.load_weights('naive_CNN_model_80e.h5')"
   ],
   "metadata": {
    "collapsed": false
   }
  },
  {
   "cell_type": "code",
   "execution_count": 7,
   "outputs": [
    {
     "name": "stdout",
     "output_type": "stream",
     "text": [
      "Epoch 1/10\n",
      "1133/1133 [==============================] - 31s 24ms/step - loss: 0.3794 - accuracy: 0.8884 - val_loss: 0.3585 - val_accuracy: 0.9020\n",
      "Epoch 2/10\n",
      "1133/1133 [==============================] - 27s 24ms/step - loss: 0.3737 - accuracy: 0.8913 - val_loss: 0.3569 - val_accuracy: 0.8985\n",
      "Epoch 3/10\n",
      "1133/1133 [==============================] - 27s 24ms/step - loss: 0.3761 - accuracy: 0.8926 - val_loss: 0.3520 - val_accuracy: 0.8941\n",
      "Epoch 4/10\n",
      "1133/1133 [==============================] - 27s 24ms/step - loss: 0.3813 - accuracy: 0.8918 - val_loss: 0.3467 - val_accuracy: 0.8990\n",
      "Epoch 5/10\n",
      "1133/1133 [==============================] - 27s 24ms/step - loss: 0.3752 - accuracy: 0.8912 - val_loss: 0.3448 - val_accuracy: 0.9043\n",
      "Epoch 6/10\n",
      "1133/1133 [==============================] - 27s 24ms/step - loss: 0.3763 - accuracy: 0.8928 - val_loss: 0.3392 - val_accuracy: 0.9047\n",
      "Epoch 7/10\n",
      "1133/1133 [==============================] - 27s 24ms/step - loss: 0.3775 - accuracy: 0.8921 - val_loss: 0.3524 - val_accuracy: 0.8990\n",
      "Epoch 8/10\n",
      "1133/1133 [==============================] - 27s 24ms/step - loss: 0.3803 - accuracy: 0.8889 - val_loss: 0.3368 - val_accuracy: 0.9038\n",
      "Epoch 9/10\n",
      "1133/1133 [==============================] - 27s 24ms/step - loss: 0.3771 - accuracy: 0.8944 - val_loss: 0.3788 - val_accuracy: 0.9015\n",
      "Epoch 10/10\n",
      "1133/1133 [==============================] - 27s 24ms/step - loss: 0.3853 - accuracy: 0.8917 - val_loss: 0.3644 - val_accuracy: 0.8991\n"
     ]
    },
    {
     "data": {
      "text/plain": "<keras.callbacks.History at 0x230b4dcbe80>"
     },
     "execution_count": 7,
     "metadata": {},
     "output_type": "execute_result"
    }
   ],
   "source": [
    "model.fit(X_train, y_train, batch_size=32,epochs=10, validation_data=(X_test, y_test))"
   ],
   "metadata": {
    "collapsed": false
   }
  },
  {
   "cell_type": "code",
   "execution_count": 8,
   "outputs": [],
   "source": [
    "model.save('naive_CNN_model_90e.h5')"
   ],
   "metadata": {
    "collapsed": false
   }
  },
  {
   "cell_type": "code",
   "execution_count": 9,
   "outputs": [
    {
     "name": "stdout",
     "output_type": "stream",
     "text": [
      "Epoch 1/10\n",
      "1133/1133 [==============================] - 28s 25ms/step - loss: 0.3779 - accuracy: 0.8940 - val_loss: 0.3752 - val_accuracy: 0.8961\n",
      "Epoch 2/10\n",
      "1133/1133 [==============================] - 27s 24ms/step - loss: 0.3778 - accuracy: 0.8937 - val_loss: 0.3595 - val_accuracy: 0.8994\n",
      "Epoch 3/10\n",
      "1133/1133 [==============================] - 26s 23ms/step - loss: 0.3729 - accuracy: 0.8935 - val_loss: 0.3450 - val_accuracy: 0.9006\n",
      "Epoch 4/10\n",
      "1133/1133 [==============================] - 27s 24ms/step - loss: 0.3768 - accuracy: 0.8952 - val_loss: 0.3746 - val_accuracy: 0.8922\n",
      "Epoch 5/10\n",
      "1133/1133 [==============================] - 26s 23ms/step - loss: 0.3794 - accuracy: 0.8933 - val_loss: 0.3601 - val_accuracy: 0.9003\n",
      "Epoch 6/10\n",
      "1133/1133 [==============================] - 27s 23ms/step - loss: 0.3844 - accuracy: 0.8927 - val_loss: 0.3555 - val_accuracy: 0.9077\n",
      "Epoch 7/10\n",
      "1133/1133 [==============================] - 26s 23ms/step - loss: 0.3789 - accuracy: 0.8944 - val_loss: 0.3557 - val_accuracy: 0.9014\n",
      "Epoch 8/10\n",
      "1133/1133 [==============================] - 27s 24ms/step - loss: 0.3764 - accuracy: 0.8964 - val_loss: 0.3575 - val_accuracy: 0.9003\n",
      "Epoch 9/10\n",
      "1133/1133 [==============================] - 27s 24ms/step - loss: 0.3764 - accuracy: 0.8951 - val_loss: 0.3481 - val_accuracy: 0.9045\n",
      "Epoch 10/10\n",
      "1133/1133 [==============================] - 27s 24ms/step - loss: 0.3781 - accuracy: 0.8957 - val_loss: 0.3507 - val_accuracy: 0.9048\n"
     ]
    },
    {
     "data": {
      "text/plain": "<keras.callbacks.History at 0x23028ea58e0>"
     },
     "execution_count": 9,
     "metadata": {},
     "output_type": "execute_result"
    }
   ],
   "source": [
    "model.fit(X_train, y_train, batch_size=32,epochs=10, validation_data=(X_test, y_test))"
   ],
   "metadata": {
    "collapsed": false
   }
  },
  {
   "cell_type": "code",
   "execution_count": 10,
   "outputs": [],
   "source": [
    "model.save('naive_CNN_model_100e.h5')"
   ],
   "metadata": {
    "collapsed": false
   }
  },
  {
   "cell_type": "code",
   "execution_count": null,
   "outputs": [
    {
     "name": "stdout",
     "output_type": "stream",
     "text": [
      "Epoch 1/10\n",
      "1133/1133 [==============================] - 27s 24ms/step - loss: 0.3727 - accuracy: 0.8959 - val_loss: 0.3431 - val_accuracy: 0.9063\n",
      "Epoch 2/10\n",
      " 138/1133 [==>...........................] - ETA: 21s - loss: 0.3441 - accuracy: 0.9081"
     ]
    }
   ],
   "source": [
    "model.fit(X_train, y_train, batch_size=32,epochs=10, validation_data=(X_test, y_test))"
   ],
   "metadata": {
    "collapsed": false,
    "pycharm": {
     "is_executing": true
    }
   }
  },
  {
   "cell_type": "code",
   "execution_count": null,
   "outputs": [],
   "source": [
    "model.save('naive_CNN_model_110e.h5')"
   ],
   "metadata": {
    "collapsed": false,
    "pycharm": {
     "is_executing": true
    }
   }
  },
  {
   "cell_type": "code",
   "execution_count": 5,
   "outputs": [],
   "source": [
    "model.load_weights('naive_CNN_model_110e.h5')"
   ],
   "metadata": {
    "collapsed": false
   }
  },
  {
   "cell_type": "code",
   "execution_count": 6,
   "outputs": [
    {
     "name": "stdout",
     "output_type": "stream",
     "text": [
      "Epoch 1/10\n",
      "1133/1133 [==============================] - 31s 24ms/step - loss: 0.3655 - accuracy: 0.8967 - val_loss: 0.3452 - val_accuracy: 0.9048\n",
      "Epoch 2/10\n",
      "1133/1133 [==============================] - 27s 23ms/step - loss: 0.3643 - accuracy: 0.8974 - val_loss: 0.3416 - val_accuracy: 0.9077\n",
      "Epoch 3/10\n",
      "1133/1133 [==============================] - 26s 23ms/step - loss: 0.3599 - accuracy: 0.8992 - val_loss: 0.3571 - val_accuracy: 0.9006\n",
      "Epoch 4/10\n",
      "1133/1133 [==============================] - 26s 23ms/step - loss: 0.3653 - accuracy: 0.8979 - val_loss: 0.3619 - val_accuracy: 0.8982\n",
      "Epoch 5/10\n",
      "1133/1133 [==============================] - 27s 23ms/step - loss: 0.3776 - accuracy: 0.8965 - val_loss: 0.3614 - val_accuracy: 0.9042\n",
      "Epoch 6/10\n",
      "1133/1133 [==============================] - 27s 24ms/step - loss: 0.3688 - accuracy: 0.8976 - val_loss: 0.3393 - val_accuracy: 0.9097\n",
      "Epoch 7/10\n",
      "1133/1133 [==============================] - 27s 24ms/step - loss: 0.3704 - accuracy: 0.8974 - val_loss: 0.3569 - val_accuracy: 0.9037\n",
      "Epoch 8/10\n",
      "1133/1133 [==============================] - 27s 24ms/step - loss: 0.3705 - accuracy: 0.8983 - val_loss: 0.3601 - val_accuracy: 0.9057\n",
      "Epoch 9/10\n",
      "1133/1133 [==============================] - 27s 24ms/step - loss: 0.3615 - accuracy: 0.8997 - val_loss: 0.3398 - val_accuracy: 0.9039\n",
      "Epoch 10/10\n",
      "1133/1133 [==============================] - 27s 24ms/step - loss: 0.3634 - accuracy: 0.9004 - val_loss: 0.3343 - val_accuracy: 0.9094\n"
     ]
    },
    {
     "data": {
      "text/plain": "<keras.callbacks.History at 0x20f69305100>"
     },
     "execution_count": 6,
     "metadata": {},
     "output_type": "execute_result"
    }
   ],
   "source": [
    "model.fit(X_train, y_train, batch_size=32,epochs=10, validation_data=(X_test, y_test))"
   ],
   "metadata": {
    "collapsed": false
   }
  },
  {
   "cell_type": "code",
   "execution_count": 7,
   "outputs": [],
   "source": [
    "model.save('naive_CNN_model_120e.h5')"
   ],
   "metadata": {
    "collapsed": false
   }
  },
  {
   "cell_type": "code",
   "execution_count": 8,
   "outputs": [
    {
     "name": "stdout",
     "output_type": "stream",
     "text": [
      "Epoch 1/10\n",
      "1133/1133 [==============================] - 27s 24ms/step - loss: 0.3677 - accuracy: 0.8972 - val_loss: 0.3539 - val_accuracy: 0.9077\n",
      "Epoch 2/10\n",
      "1133/1133 [==============================] - 27s 24ms/step - loss: 0.3685 - accuracy: 0.8989 - val_loss: 0.3416 - val_accuracy: 0.9066\n",
      "Epoch 3/10\n",
      "1133/1133 [==============================] - 27s 24ms/step - loss: 0.3656 - accuracy: 0.8992 - val_loss: 0.3400 - val_accuracy: 0.9113\n",
      "Epoch 4/10\n",
      "1133/1133 [==============================] - 27s 24ms/step - loss: 0.3694 - accuracy: 0.8988 - val_loss: 0.3447 - val_accuracy: 0.9092\n",
      "Epoch 5/10\n",
      "1133/1133 [==============================] - 27s 24ms/step - loss: 0.3682 - accuracy: 0.9006 - val_loss: 0.3468 - val_accuracy: 0.9056\n",
      "Epoch 6/10\n",
      "1133/1133 [==============================] - 27s 24ms/step - loss: 0.3744 - accuracy: 0.8993 - val_loss: 0.3405 - val_accuracy: 0.9105\n",
      "Epoch 7/10\n",
      "1133/1133 [==============================] - 27s 24ms/step - loss: 0.3679 - accuracy: 0.9009 - val_loss: 0.3310 - val_accuracy: 0.9109\n",
      "Epoch 8/10\n",
      "1133/1133 [==============================] - 27s 24ms/step - loss: 0.3638 - accuracy: 0.9016 - val_loss: 0.3574 - val_accuracy: 0.8990\n",
      "Epoch 9/10\n",
      "1133/1133 [==============================] - 27s 24ms/step - loss: 0.3628 - accuracy: 0.8999 - val_loss: 0.3665 - val_accuracy: 0.8997\n",
      "Epoch 10/10\n",
      "1133/1133 [==============================] - 27s 24ms/step - loss: 0.3685 - accuracy: 0.9003 - val_loss: 0.3459 - val_accuracy: 0.9085\n"
     ]
    },
    {
     "data": {
      "text/plain": "<keras.callbacks.History at 0x20f6aace340>"
     },
     "execution_count": 8,
     "metadata": {},
     "output_type": "execute_result"
    }
   ],
   "source": [
    "model.fit(X_train, y_train, batch_size=32,epochs=10, validation_data=(X_test, y_test))"
   ],
   "metadata": {
    "collapsed": false
   }
  },
  {
   "cell_type": "code",
   "execution_count": 9,
   "outputs": [],
   "source": [
    "model.save('naive_CNN_model_130e.h5')"
   ],
   "metadata": {
    "collapsed": false
   }
  },
  {
   "cell_type": "code",
   "execution_count": 10,
   "outputs": [
    {
     "name": "stdout",
     "output_type": "stream",
     "text": [
      "Epoch 1/10\n",
      "1133/1133 [==============================] - 28s 24ms/step - loss: 0.3636 - accuracy: 0.9007 - val_loss: 0.3457 - val_accuracy: 0.9078\n",
      "Epoch 2/10\n",
      "1133/1133 [==============================] - 27s 24ms/step - loss: 0.3645 - accuracy: 0.9009 - val_loss: 0.3332 - val_accuracy: 0.9095\n",
      "Epoch 3/10\n",
      "1133/1133 [==============================] - 27s 24ms/step - loss: 0.3572 - accuracy: 0.9028 - val_loss: 0.3380 - val_accuracy: 0.9096\n",
      "Epoch 4/10\n",
      "1133/1133 [==============================] - 27s 24ms/step - loss: 0.3632 - accuracy: 0.9001 - val_loss: 0.3528 - val_accuracy: 0.9085\n",
      "Epoch 5/10\n",
      "1133/1133 [==============================] - 27s 23ms/step - loss: 0.3618 - accuracy: 0.9024 - val_loss: 0.3398 - val_accuracy: 0.9111\n",
      "Epoch 6/10\n",
      "1133/1133 [==============================] - 27s 24ms/step - loss: 0.3634 - accuracy: 0.9030 - val_loss: 0.3381 - val_accuracy: 0.9091\n",
      "Epoch 7/10\n",
      "1133/1133 [==============================] - 28s 24ms/step - loss: 0.3609 - accuracy: 0.9029 - val_loss: 0.3433 - val_accuracy: 0.9079\n",
      "Epoch 8/10\n",
      "1133/1133 [==============================] - 27s 24ms/step - loss: 0.3615 - accuracy: 0.9015 - val_loss: 0.3359 - val_accuracy: 0.9118\n",
      "Epoch 9/10\n",
      "1133/1133 [==============================] - 27s 24ms/step - loss: 0.3634 - accuracy: 0.9005 - val_loss: 0.3362 - val_accuracy: 0.9134\n",
      "Epoch 10/10\n",
      "1133/1133 [==============================] - 27s 24ms/step - loss: 0.3650 - accuracy: 0.9018 - val_loss: 0.3535 - val_accuracy: 0.9124\n"
     ]
    },
    {
     "data": {
      "text/plain": "<keras.callbacks.History at 0x20f6ab6ef10>"
     },
     "execution_count": 10,
     "metadata": {},
     "output_type": "execute_result"
    }
   ],
   "source": [
    "model.fit(X_train, y_train, batch_size=32,epochs=10, validation_data=(X_test, y_test))"
   ],
   "metadata": {
    "collapsed": false
   }
  },
  {
   "cell_type": "code",
   "execution_count": 11,
   "outputs": [],
   "source": [
    "model.save('naive_CNN_model_140e.h5')"
   ],
   "metadata": {
    "collapsed": false
   }
  },
  {
   "cell_type": "code",
   "execution_count": 13,
   "outputs": [
    {
     "name": "stdout",
     "output_type": "stream",
     "text": [
      "Epoch 1/10\n",
      "1133/1133 [==============================] - 27s 24ms/step - loss: 0.3619 - accuracy: 0.9047 - val_loss: 0.3385 - val_accuracy: 0.9085\n",
      "Epoch 2/10\n",
      "1133/1133 [==============================] - 27s 24ms/step - loss: 0.3598 - accuracy: 0.9047 - val_loss: 0.3529 - val_accuracy: 0.9078\n",
      "Epoch 3/10\n",
      "1133/1133 [==============================] - 27s 24ms/step - loss: 0.3660 - accuracy: 0.9018 - val_loss: 0.3266 - val_accuracy: 0.9129\n",
      "Epoch 4/10\n",
      "1133/1133 [==============================] - 27s 24ms/step - loss: 0.3584 - accuracy: 0.9024 - val_loss: 0.3220 - val_accuracy: 0.9142\n",
      "Epoch 5/10\n",
      "1133/1133 [==============================] - 27s 24ms/step - loss: 0.3680 - accuracy: 0.9012 - val_loss: 0.3636 - val_accuracy: 0.9026\n",
      "Epoch 6/10\n",
      "1133/1133 [==============================] - 27s 24ms/step - loss: 0.3591 - accuracy: 0.9051 - val_loss: 0.3385 - val_accuracy: 0.9111\n",
      "Epoch 7/10\n",
      "1133/1133 [==============================] - 26s 23ms/step - loss: 0.3535 - accuracy: 0.9044 - val_loss: 0.3312 - val_accuracy: 0.9147\n",
      "Epoch 8/10\n",
      "1133/1133 [==============================] - 27s 24ms/step - loss: 0.3517 - accuracy: 0.9053 - val_loss: 0.3719 - val_accuracy: 0.8974\n",
      "Epoch 9/10\n",
      "1133/1133 [==============================] - 27s 24ms/step - loss: 0.3667 - accuracy: 0.9047 - val_loss: 0.3460 - val_accuracy: 0.9114\n",
      "Epoch 10/10\n",
      "1133/1133 [==============================] - 27s 24ms/step - loss: 0.3587 - accuracy: 0.9058 - val_loss: 0.3388 - val_accuracy: 0.9128\n"
     ]
    },
    {
     "data": {
      "text/plain": "<keras.callbacks.History at 0x214a0b05820>"
     },
     "execution_count": 13,
     "metadata": {},
     "output_type": "execute_result"
    }
   ],
   "source": [
    "model.fit(X_train, y_train, batch_size=32,epochs=10, validation_data=(X_test, y_test))"
   ],
   "metadata": {
    "collapsed": false
   }
  },
  {
   "cell_type": "code",
   "execution_count": 14,
   "outputs": [],
   "source": [
    "model.save('naive_CNN_model_150e.h5')"
   ],
   "metadata": {
    "collapsed": false
   }
  },
  {
   "cell_type": "code",
   "execution_count": 15,
   "outputs": [
    {
     "name": "stdout",
     "output_type": "stream",
     "text": [
      "Epoch 1/10\n",
      "1133/1133 [==============================] - 27s 24ms/step - loss: 0.3582 - accuracy: 0.9057 - val_loss: 0.3554 - val_accuracy: 0.8990\n",
      "Epoch 2/10\n",
      "1133/1133 [==============================] - 27s 24ms/step - loss: 0.3573 - accuracy: 0.9045 - val_loss: 0.3335 - val_accuracy: 0.9132\n",
      "Epoch 3/10\n",
      "1133/1133 [==============================] - 27s 24ms/step - loss: 0.3599 - accuracy: 0.9023 - val_loss: 0.3376 - val_accuracy: 0.9098\n",
      "Epoch 4/10\n",
      "1133/1133 [==============================] - 27s 24ms/step - loss: 0.3600 - accuracy: 0.9040 - val_loss: 0.3384 - val_accuracy: 0.9145\n",
      "Epoch 5/10\n",
      "1133/1133 [==============================] - 27s 24ms/step - loss: 0.3578 - accuracy: 0.9042 - val_loss: 0.3394 - val_accuracy: 0.9070\n",
      "Epoch 6/10\n",
      "1133/1133 [==============================] - 26s 23ms/step - loss: 0.3631 - accuracy: 0.9043 - val_loss: 0.3465 - val_accuracy: 0.9142\n",
      "Epoch 7/10\n",
      "1133/1133 [==============================] - 27s 24ms/step - loss: 0.3534 - accuracy: 0.9054 - val_loss: 0.3276 - val_accuracy: 0.9129\n",
      "Epoch 8/10\n",
      "1133/1133 [==============================] - 27s 23ms/step - loss: 0.3557 - accuracy: 0.9053 - val_loss: 0.3379 - val_accuracy: 0.9116\n",
      "Epoch 9/10\n",
      "1133/1133 [==============================] - 27s 24ms/step - loss: 0.3508 - accuracy: 0.9068 - val_loss: 0.3372 - val_accuracy: 0.9113\n",
      "Epoch 10/10\n",
      "1133/1133 [==============================] - 27s 24ms/step - loss: 0.3538 - accuracy: 0.9054 - val_loss: 0.3244 - val_accuracy: 0.9145\n"
     ]
    },
    {
     "data": {
      "text/plain": "<keras.callbacks.History at 0x214ab219400>"
     },
     "execution_count": 15,
     "metadata": {},
     "output_type": "execute_result"
    }
   ],
   "source": [
    "model.fit(X_train, y_train, batch_size=32,epochs=10, validation_data=(X_test, y_test))"
   ],
   "metadata": {
    "collapsed": false
   }
  },
  {
   "cell_type": "code",
   "execution_count": 16,
   "outputs": [],
   "source": [
    "model.save('naive_CNN_model_160e.h5')"
   ],
   "metadata": {
    "collapsed": false
   }
  },
  {
   "cell_type": "code",
   "execution_count": 17,
   "outputs": [
    {
     "name": "stdout",
     "output_type": "stream",
     "text": [
      "Epoch 1/10\n",
      "1133/1133 [==============================] - 27s 24ms/step - loss: 0.3558 - accuracy: 0.9060 - val_loss: 0.3334 - val_accuracy: 0.9108\n",
      "Epoch 2/10\n",
      "1133/1133 [==============================] - 27s 24ms/step - loss: 0.3536 - accuracy: 0.9050 - val_loss: 0.3602 - val_accuracy: 0.9071\n",
      "Epoch 3/10\n",
      "1133/1133 [==============================] - 27s 24ms/step - loss: 0.3526 - accuracy: 0.9062 - val_loss: 0.3391 - val_accuracy: 0.9132\n",
      "Epoch 4/10\n",
      "1133/1133 [==============================] - 27s 24ms/step - loss: 0.3603 - accuracy: 0.9065 - val_loss: 0.3454 - val_accuracy: 0.9046\n",
      "Epoch 5/10\n",
      "1133/1133 [==============================] - 27s 24ms/step - loss: 0.3480 - accuracy: 0.9067 - val_loss: 0.3514 - val_accuracy: 0.9118\n",
      "Epoch 6/10\n",
      "1133/1133 [==============================] - 27s 24ms/step - loss: 0.3516 - accuracy: 0.9052 - val_loss: 0.3200 - val_accuracy: 0.9140\n",
      "Epoch 7/10\n",
      "1133/1133 [==============================] - 27s 24ms/step - loss: 0.3512 - accuracy: 0.9060 - val_loss: 0.3407 - val_accuracy: 0.9095\n",
      "Epoch 8/10\n",
      "1133/1133 [==============================] - 27s 24ms/step - loss: 0.3612 - accuracy: 0.9053 - val_loss: 0.3303 - val_accuracy: 0.9161\n",
      "Epoch 9/10\n",
      "1133/1133 [==============================] - 27s 24ms/step - loss: 0.3583 - accuracy: 0.9056 - val_loss: 0.3457 - val_accuracy: 0.9150\n",
      "Epoch 10/10\n",
      "1133/1133 [==============================] - 27s 24ms/step - loss: 0.3512 - accuracy: 0.9071 - val_loss: 0.3267 - val_accuracy: 0.9142\n"
     ]
    },
    {
     "data": {
      "text/plain": "<keras.callbacks.History at 0x214ab1fd7f0>"
     },
     "execution_count": 17,
     "metadata": {},
     "output_type": "execute_result"
    }
   ],
   "source": [
    "model.fit(X_train, y_train, batch_size=32,epochs=10, validation_data=(X_test, y_test))"
   ],
   "metadata": {
    "collapsed": false
   }
  },
  {
   "cell_type": "code",
   "execution_count": 18,
   "outputs": [],
   "source": [
    "model.save('naive_CNN_model_170e.h5')"
   ],
   "metadata": {
    "collapsed": false
   }
  },
  {
   "cell_type": "code",
   "execution_count": null,
   "outputs": [],
   "source": [],
   "metadata": {
    "collapsed": false
   }
  }
 ],
 "metadata": {
  "kernelspec": {
   "display_name": "Python 3 (ipykernel)",
   "language": "python",
   "name": "python3"
  },
  "language_info": {
   "codemirror_mode": {
    "name": "ipython",
    "version": 3
   },
   "file_extension": ".py",
   "mimetype": "text/x-python",
   "name": "python",
   "nbconvert_exporter": "python",
   "pygments_lexer": "ipython3",
   "version": "3.9.16"
  }
 },
 "nbformat": 4,
 "nbformat_minor": 5
}
